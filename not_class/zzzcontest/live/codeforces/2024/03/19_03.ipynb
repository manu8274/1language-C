{
 "cells": [
  {
   "cell_type": "code",
   "execution_count": 11,
   "metadata": {},
   "outputs": [
    {
     "name": "stdout",
     "output_type": "stream",
     "text": [
      "3\n"
     ]
    }
   ],
   "source": [
    "for _ in range(int(input())):\n",
    "    a,b,c=map(int,input().split())\n",
    "    ans=b//3 + a\n",
    "    b=b%3\n",
    "    if(b==1):\n",
    "        if(c>=2):\n",
    "            c=c-2\n",
    "            ans+=1\n",
    "        else:\n",
    "            print(-1)\n",
    "            continue\n",
    "    elif(b==2):\n",
    "        if(c>=1):\n",
    "            c=c-1\n",
    "            ans+=1\n",
    "        else:\n",
    "            print(-1)\n",
    "            continue\n",
    "    if(c<=3 and c>0):\n",
    "        c=1\n",
    "    else:\n",
    "        c=c//3 if c%3==0 else c//3+1\n",
    "    print(ans+c)"
   ]
  },
  {
   "cell_type": "code",
   "execution_count": null,
   "metadata": {},
   "outputs": [],
   "source": [
    "for _ in range(int(input())):\n",
    "    a,b,m=map(int,input().split())\n",
    "    print(m//a + m//b +2)"
   ]
  },
  {
   "cell_type": "code",
   "execution_count": 159,
   "metadata": {},
   "outputs": [
    {
     "name": "stdout",
     "output_type": "stream",
     "text": [
      "3.0 2.0\n",
      "ans= 4\n",
      "4\n"
     ]
    }
   ],
   "source": [
    "for _ in range(int(input())):\n",
    "    n=int(input())\n",
    "    # n=6\n",
    "    s=input()\n",
    "    # s=\"011001\"\n",
    "    mn=n\n",
    "    ans=-1\n",
    "    d=0\n",
    "    if(s.count(\"0\")==n):\n",
    "        print(n)\n",
    "        continue\n",
    "    # elif(s.count(\"1\")==n):\n",
    "    #     print(0)\n",
    "    #     continue\n",
    "    for i in range(n):\n",
    "        if(s[i]==\"0\"):\n",
    "            d+=1\n",
    "        # print(i+1,\"before: \",d,end=\" \")\n",
    "        x=s[i+1:].count(\"1\")\n",
    "        # print(\"after : \",x)\n",
    "        if(d>=(i+1)/2 and x>=(n-i-1)/2):\n",
    "            if(abs(n/2 - ans) >abs(n/2 - i-1)):\n",
    "                print(abs(n/2 - ans),abs(n/2 - i-1))\n",
    "                ans=i+1\n",
    "            print(\"ans=\",ans)\n",
    "    print(ans)"
   ]
  },
  {
   "cell_type": "code",
   "execution_count": 158,
   "metadata": {},
   "outputs": [
    {
     "name": "stdout",
     "output_type": "stream",
     "text": [
      "0\n"
     ]
    }
   ],
   "source": [
    "for _ in range(int(input())):\n",
    "    n = int(input())\n",
    "    s = input()\n",
    "    cnt1 = s.count('1')\n",
    "    cnt0 = 0\n",
    "    res = -1\n",
    "    for i in range(n + 1):\n",
    "        if cnt0 >= (i + 1) // 2 and cnt1 >= (n - i + 1) // 2:\n",
    "            if abs(n / 2 - i) < abs(n / 2 - res):\n",
    "                res = i\n",
    "        if i < n:\n",
    "            if s[i] == '0':\n",
    "                cnt0 += 1\n",
    "            else:\n",
    "                cnt1 -= 1\n",
    "    print(res)"
   ]
  },
  {
   "cell_type": "code",
   "execution_count": null,
   "metadata": {},
   "outputs": [],
   "source": [
    "11000\n",
    "n=5\n"
   ]
  }
 ],
 "metadata": {
  "kernelspec": {
   "display_name": "Python 3",
   "language": "python",
   "name": "python3"
  },
  "language_info": {
   "codemirror_mode": {
    "name": "ipython",
    "version": 3
   },
   "file_extension": ".py",
   "mimetype": "text/x-python",
   "name": "python",
   "nbconvert_exporter": "python",
   "pygments_lexer": "ipython3",
   "version": "3.10.4"
  }
 },
 "nbformat": 4,
 "nbformat_minor": 2
}
