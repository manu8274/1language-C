{
 "cells": [
  {
   "cell_type": "code",
   "execution_count": 15,
   "metadata": {},
   "outputs": [
    {
     "name": "stdout",
     "output_type": "stream",
     "text": [
      "5\n"
     ]
    }
   ],
   "source": [
    "n,L,R=map(int,input().split())\n",
    "a=list(map(int,input().split()))\n",
    "min=0\n",
    "c=0\n",
    "x=0\n",
    "for i in range(n):\n",
    "    if(i!=n-1):\n",
    "        if(a[i]<=R):\n",
    "            x+=1\n",
    "            if(a[i]<L):\n",
    "                min+=1\n",
    "        else:\n",
    "            c+=x*(x+1)//2  - min\n",
    "            min=0\n",
    "            x=0\n",
    "    else:\n",
    "        if(a[i]<=R and a[i]>=L):\n",
    "            c+=(x+1)*(x+2)//2  - min\n",
    "        elif(a[i]<L):\n",
    "            c+=(x+1)*(x+2)//2  - min-1\n",
    "        elif(a[i]>R):\n",
    "            c+=x*(x+1)//2 -min\n",
    "print (c)"
   ]
  },
  {
   "cell_type": "code",
   "execution_count": null,
   "metadata": {},
   "outputs": [],
   "source": []
  }
 ],
 "metadata": {
  "kernelspec": {
   "display_name": "Python 3",
   "language": "python",
   "name": "python3"
  },
  "language_info": {
   "codemirror_mode": {
    "name": "ipython",
    "version": 3
   },
   "file_extension": ".py",
   "mimetype": "text/x-python",
   "name": "python",
   "nbconvert_exporter": "python",
   "pygments_lexer": "ipython3",
   "version": "3.10.4"
  }
 },
 "nbformat": 4,
 "nbformat_minor": 2
}
