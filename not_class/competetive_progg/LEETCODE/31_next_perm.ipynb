{
 "cells": [
  {
   "cell_type": "code",
   "execution_count": null,
   "metadata": {},
   "outputs": [],
   "source": [
    "lst=[5,4,7,5,3,2]\n",
    "# lst=[1,2,3]\n",
    "n=len(lst)\n",
    "flag=False\n",
    "br=0\n",
    "for i in range(1,n):\n",
    "    if(lst[-i]>lst[-i-1]):\n",
    "        flag=True\n",
    "        amin=lst[-i-1]\n",
    "        x=-i\n",
    "        amin=lst[-i]-lst[-i-1]\n",
    "        for j in range(1,i+1):\n",
    "            if(lst[-j]>lst[-i-1]):\n",
    "                if(lst[-j]-lst[-i-1]<amin):\n",
    "                    amin=lst[-j]-lst[-i-1]\n",
    "                    x=-j\n",
    "                    print(x)\n",
    "        lst[x],lst[-i-1]=lst[-i-1],lst[x]\n",
    "        br=n-i-1\n",
    "        break\n",
    "if(flag==True):\n",
    "    l1=lst[br+1:]\n",
    "    l1.sort()\n",
    "    lst[br+1:]=l1\n",
    "if(flag==False):\n",
    "    lst=lst[::-1]\n",
    "print(lst)"
   ]
  }
 ],
 "metadata": {
  "language_info": {
   "name": "python"
  }
 },
 "nbformat": 4,
 "nbformat_minor": 2
}
