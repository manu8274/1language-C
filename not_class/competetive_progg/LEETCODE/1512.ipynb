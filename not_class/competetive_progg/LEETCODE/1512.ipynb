{
 "cells": [
  {
   "cell_type": "code",
   "execution_count": 15,
   "metadata": {},
   "outputs": [
    {
     "name": "stdout",
     "output_type": "stream",
     "text": [
      "4.0\n"
     ]
    }
   ],
   "source": [
    "nums=[1,2,3,1,1,3]\n",
    "# nums=[1,1,1,1]\n",
    "c=0\n",
    "lst=[]\n",
    "for i in nums:\n",
    "    v=nums.count(i)\n",
    "    if(v==2 and i not in lst):\n",
    "        c+=1\n",
    "        lst.append(i)\n",
    "    elif(v>2 and i not in lst):\n",
    "        c+=(v*(v-1))/2\n",
    "        lst.append(i)\n",
    "return int(c)"
   ]
  },
  {
   "cell_type": "code",
   "execution_count": 23,
   "metadata": {},
   "outputs": [
    {
     "name": "stdout",
     "output_type": "stream",
     "text": [
      "GWHIN\n"
     ]
    }
   ],
   "source": [
    "x=121\n",
    "if(str(x)==str(x)[::-1]):\n",
    "    print(\"GWHIN\")"
   ]
  },
  {
   "cell_type": "code",
   "execution_count": null,
   "metadata": {},
   "outputs": [],
   "source": [
    "s=\"LVIII\"\n",
    "c=0\n",
    "for i in s[::-1]:\n",
    "    if(i=='I'):\n",
    "        c+=1\n",
    "    elif(i=='V'):\n",
    "        c+=5\n",
    "    elif(i=='X'):\n",
    "        c+=10\n",
    "    elif(i=='L'):\n",
    "        c+=50\n",
    "    elif(i=='C'):\n",
    "        c+=100\n",
    "    elif(i=='D'):\n",
    "        c+=500\n",
    "    elif(i=='M'):\n",
    "        c+=1000\n",
    "return c"
   ]
  },
  {
   "cell_type": "code",
   "execution_count": 59,
   "metadata": {},
   "outputs": [],
   "source": [
    "s = \"b\"\n",
    "for i in range(len(s)):\n",
    "    for j in range(i+1,len(s)):\n",
    "        if(s[i:j+1]==s[j:i-1:-1]):\n",
    "            print(s[i:j+1])"
   ]
  },
  {
   "cell_type": "code",
   "execution_count": 60,
   "metadata": {},
   "outputs": [
    {
     "name": "stdout",
     "output_type": "stream",
     "text": [
      "ef;bsd\n"
     ]
    }
   ],
   "source": [
    "s='b'\n",
    "if(s==s[::-1]):\n",
    "    print(\"ef;bsd\")"
   ]
  },
  {
   "cell_type": "code",
   "execution_count": null,
   "metadata": {},
   "outputs": [],
   "source": []
  },
  {
   "cell_type": "code",
   "execution_count": null,
   "metadata": {},
   "outputs": [],
   "source": []
  }
 ],
 "metadata": {
  "kernelspec": {
   "display_name": "Python 3",
   "language": "python",
   "name": "python3"
  },
  "language_info": {
   "codemirror_mode": {
    "name": "ipython",
    "version": 3
   },
   "file_extension": ".py",
   "mimetype": "text/x-python",
   "name": "python",
   "nbconvert_exporter": "python",
   "pygments_lexer": "ipython3",
   "version": "3.11.5"
  },
  "orig_nbformat": 4
 },
 "nbformat": 4,
 "nbformat_minor": 2
}
