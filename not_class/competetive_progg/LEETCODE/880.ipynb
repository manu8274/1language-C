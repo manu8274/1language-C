{
 "cells": [
  {
   "cell_type": "code",
   "execution_count": 2,
   "metadata": {},
   "outputs": [
    {
     "name": "stdout",
     "output_type": "stream",
     "text": [
      "l\n"
     ]
    }
   ],
   "source": [
    "s=\"leet2code3\"\n",
    "k=10\n",
    "r=\"\"\n",
    "rl=0\n",
    "i=0\n",
    "while(True):\n",
    "    if(s[i].isdigit()):\n",
    "        rl=rl*int(s[i])\n",
    "    else:\n",
    "        rl+=1\n",
    "        r+=s[i]\n",
    "    if(rl>=k):\n",
    "        k=rl%k\n",
    "        print(r[k])\n",
    "        break\n",
    "    i+=1\n",
    "\n",
    "l\n",
    "le\n",
    "lee\n",
    "leet\n",
    "leetc\n",
    "leetco"
   ]
  },
  {
   "cell_type": "code",
   "execution_count": 6,
   "metadata": {},
   "outputs": [
    {
     "name": "stdout",
     "output_type": "stream",
     "text": [
      "m\n"
     ]
    }
   ],
   "source": [
    "def selfd(s:str,k:int):\n",
    "    length = 0\n",
    "    i = 0\n",
    "\n",
    "    while length < k:\n",
    "        if s[i].isdigit():\n",
    "            length *= int(s[i])\n",
    "        else:\n",
    "            length += 1\n",
    "        i += 1\n",
    "\n",
    "    for j in range(i-1, -1, -1):\n",
    "        char = s[j]\n",
    "        if char.isdigit():\n",
    "            length //= int(char)\n",
    "            k %= length\n",
    "        else:\n",
    "            if k == 0 or k == length:\n",
    "                return(char)\n",
    "        length -= 1\n",
    "\n",
    "s=\"cpmxv8ewnfk3xxcilcmm68d2ygc88daomywc3imncfjgtwj8nrxjtwhiem5nzqnicxzo248g52y72v3yujqpvqcssrofd99lkovg\"\n",
    "k=480551547\n",
    "print(selfd(s,k))"
   ]
  },
  {
   "cell_type": "code",
   "execution_count": null,
   "metadata": {},
   "outputs": [],
   "source": []
  }
 ],
 "metadata": {
  "kernelspec": {
   "display_name": "Python 3",
   "language": "python",
   "name": "python3"
  },
  "language_info": {
   "codemirror_mode": {
    "name": "ipython",
    "version": 3
   },
   "file_extension": ".py",
   "mimetype": "text/x-python",
   "name": "python",
   "nbconvert_exporter": "python",
   "pygments_lexer": "ipython3",
   "version": "3.11.5"
  },
  "orig_nbformat": 4
 },
 "nbformat": 4,
 "nbformat_minor": 2
}
