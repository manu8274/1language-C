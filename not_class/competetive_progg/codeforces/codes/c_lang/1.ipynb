{
 "cells": [
  {
   "cell_type": "code",
   "execution_count": 4,
   "metadata": {},
   "outputs": [
    {
     "name": "stdout",
     "output_type": "stream",
     "text": [
      ">\n"
     ]
    }
   ],
   "source": [
    "import math\n",
    "t=int(input())\n",
    "for i in range(0,t):\n",
    "    s1=input().split()\n",
    "    x1=int(s1[0])\n",
    "    p1=int(s1[1])\n",
    "    s2=input().split()\n",
    "    x2=int(s2[0])\n",
    "    p2=int(s2[1])\n",
    "    if(x1==x2):\n",
    "        if(p1==p2):\n",
    "            print(\"=\")\n",
    "        elif(p1>p2):\n",
    "            print(\">\")\n",
    "        else:\n",
    "            print(\"<\")\n",
    "    elif(x1>x2):\n",
    "         l1=len(str(x1))-len(str(x2))\n",
    "         if(p2-p1>l1):\n",
    "             print(\"<\")\n",
    "         elif(p2-p1<l1):\n",
    "             print(\">\")\n",
    "         else:\n",
    "             l1=float(l1)\n",
    "             if(x1>(x2*pow(10,l1))):\n",
    "                 print(\">\")\n",
    "             elif((x1<(x2*pow(10,l1)))):\n",
    "                 print(\"<\")\n",
    "             else:\n",
    "                 print(\"=\")\n",
    "    else:#x2>x1\n",
    "         l2=len(str(x2))-len(str(x1))\n",
    "         if(p1-p2>l2):\n",
    "              print(\">\")\n",
    "         elif(p1-p2<l2):\n",
    "              print(\"<\")\n",
    "         else:\n",
    "             l2=float(l2)\n",
    "             if(x2>(x1*pow(10,l2))):\n",
    "                 print(\"<\")\n",
    "             elif(x2<(x1*pow(10,l2))):\n",
    "                 print(\">\")\n",
    "             else:\n",
    "                 print(\"=\")"
   ]
  }
 ],
 "metadata": {
  "kernelspec": {
   "display_name": "Python 3",
   "language": "python",
   "name": "python3"
  },
  "language_info": {
   "codemirror_mode": {
    "name": "ipython",
    "version": 3
   },
   "file_extension": ".py",
   "mimetype": "text/x-python",
   "name": "python",
   "nbconvert_exporter": "python",
   "pygments_lexer": "ipython3",
   "version": "3.11.4"
  },
  "orig_nbformat": 4
 },
 "nbformat": 4,
 "nbformat_minor": 2
}
