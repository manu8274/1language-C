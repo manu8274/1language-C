{
 "cells": [
  {
   "cell_type": "code",
   "execution_count": 9,
   "metadata": {},
   "outputs": [
    {
     "name": "stdout",
     "output_type": "stream",
     "text": [
      "3\n"
     ]
    }
   ],
   "source": [
    "t=int(input())\n",
    "for i in range(t):\n",
    "    n=int(input())\n",
    "    lst=[int(x) for x in input().split()]\n",
    "    mn=min(lst)\n",
    "    mx=max(lst)\n",
    "    xmn=lst.index(mn)+1\n",
    "    xmx=lst.index(mx)+1\n",
    "    if(xmx-xmn<0):\n",
    "        d=-1*(xmx-xmn)\n",
    "    else:\n",
    "        d=xmx-xmn\n",
    "    if(n-xmn+1<xmn):\n",
    "        xmn=n-xmn +1\n",
    "    if(n-xmx+1<xmx):\n",
    "        xmx=n-xmx+1\n",
    "    z=xmx\n",
    "    if(xmx>xmn):\n",
    "        z=xmn\n",
    "    if(d+z>xmn+xmx):\n",
    "        print(xmx+xmn)\n",
    "    elif(d+z==xmx+xmn):\n",
    "        print(d+z)\n",
    "    else:\n",
    "        print(d+z)\n"
   ]
  },
  {
   "cell_type": "code",
   "execution_count": null,
   "metadata": {},
   "outputs": [],
   "source": []
  }
 ],
 "metadata": {
  "kernelspec": {
   "display_name": "Python 3",
   "language": "python",
   "name": "python3"
  },
  "language_info": {
   "codemirror_mode": {
    "name": "ipython",
    "version": 3
   },
   "file_extension": ".py",
   "mimetype": "text/x-python",
   "name": "python",
   "nbconvert_exporter": "python",
   "pygments_lexer": "ipython3",
   "version": "3.11.4"
  },
  "orig_nbformat": 4
 },
 "nbformat": 4,
 "nbformat_minor": 2
}
