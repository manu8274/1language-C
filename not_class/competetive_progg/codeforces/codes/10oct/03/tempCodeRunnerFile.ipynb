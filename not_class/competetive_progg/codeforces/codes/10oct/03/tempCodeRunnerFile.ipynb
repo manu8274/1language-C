a,b,n=map(int,input().split())
x=0
flag=True
a=a*10
for j in range(10):
    z=a+j
    if(z%b==0):
        a=z
        x+=1
        break
    if(j==9):
        flag=False
if(not flag):
    print(-1)
else:
    print(a*pow(10,n-x))