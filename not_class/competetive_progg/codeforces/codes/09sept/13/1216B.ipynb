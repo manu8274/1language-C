{
 "cells": [
  {
   "cell_type": "code",
   "execution_count": 7,
   "metadata": {},
   "outputs": [
    {
     "name": "stdout",
     "output_type": "stream",
     "text": [
      "64\n",
      "1 2 3 4\n"
     ]
    }
   ],
   "source": [
    "n=int(input())\n",
    "lst=[int(x) for x in input().split()]\n",
    "maxcount=1\n",
    "i=lst.index(max(lst))\n",
    "lst[i]=0\n",
    "lsti=[i+1]\n",
    "j=1\n",
    "while(max(lst)>0):\n",
    "    m=max(lst)\n",
    "    i=lst.index(m)\n",
    "    maxcount+=m*j +1\n",
    "    j+=1\n",
    "    lsti.append(i+1)\n",
    "    lst[i]=0\n",
    "print(maxcount)\n",
    "print(*(lsti))"
   ]
  },
  {
   "cell_type": "code",
   "execution_count": 3,
   "metadata": {},
   "outputs": [
    {
     "name": "stdout",
     "output_type": "stream",
     "text": [
      "2\n",
      "2\n",
      "2\n",
      "1\n"
     ]
    }
   ],
   "source": [
    "lst=[1,2,2,2]\n",
    "while(lst):\n",
    "    print(max(lst))\n",
    "    lst.pop(lst.index(max(lst)))"
   ]
  },
  {
   "cell_type": "code",
   "execution_count": 2,
   "metadata": {},
   "outputs": [
    {
     "name": "stdout",
     "output_type": "stream",
     "text": [
      "1\n"
     ]
    }
   ],
   "source": [
    "print(i)"
   ]
  },
  {
   "cell_type": "code",
   "execution_count": null,
   "metadata": {},
   "outputs": [],
   "source": []
  }
 ],
 "metadata": {
  "kernelspec": {
   "display_name": "Python 3",
   "language": "python",
   "name": "python3"
  },
  "language_info": {
   "codemirror_mode": {
    "name": "ipython",
    "version": 3
   },
   "file_extension": ".py",
   "mimetype": "text/x-python",
   "name": "python",
   "nbconvert_exporter": "python",
   "pygments_lexer": "ipython3",
   "version": "3.11.5"
  },
  "orig_nbformat": 4
 },
 "nbformat": 4,
 "nbformat_minor": 2
}
