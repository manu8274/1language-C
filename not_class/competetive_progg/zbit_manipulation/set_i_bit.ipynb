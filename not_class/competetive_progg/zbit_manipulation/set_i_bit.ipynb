{
 "cells": [
  {
   "cell_type": "code",
   "execution_count": 4,
   "metadata": {},
   "outputs": [
    {
     "name": "stdout",
     "output_type": "stream",
     "text": [
      "a= 1101\n",
      "15\n",
      "with set bit a= 1111\n"
     ]
    }
   ],
   "source": [
    "def binaryprint(x):\n",
    "    y=x\n",
    "    z=\"\"\n",
    "    while(y>0):\n",
    "        z=z+str(y%2)\n",
    "        y=y//2\n",
    "    print(z[::-1])\n",
    "    \n",
    "a,i=map(int,input().split())\n",
    "print(\"a=\",end=\" \")\n",
    "binaryprint(a)\n",
    "k=(1<<i)\n",
    "print(a|k)\n",
    "print(\"with set bit a=\",end=\" \")\n",
    "binaryprint(a|k)"
   ]
  },
  {
   "cell_type": "code",
   "execution_count": 8,
   "metadata": {},
   "outputs": [
    {
     "name": "stdout",
     "output_type": "stream",
     "text": [
      "a= 1111\n",
      "15\n",
      "with set bit a= 1111\n",
      "with reset bit a= 1110\n"
     ]
    }
   ],
   "source": [
    "def binaryprint(x):\n",
    "    y=x\n",
    "    z=\"\"\n",
    "    while(y>0):\n",
    "        z=z+str(y%2)\n",
    "        y=y//2\n",
    "    print(z[::-1])\n",
    "    \n",
    "a,i1,i2=map(int,input().split())\n",
    "print(\"a=\",end=\" \")\n",
    "binaryprint(a)\n",
    "k=(1<<i1)\n",
    "print(a|k)\n",
    "print(\"with set bit a=\",end=\" \")\n",
    "binaryprint(a|k)\n",
    "k=(1<<i2)\n",
    "print(\"with reset bit a=\",end=\" \")\n",
    "binaryprint(~(~a|k))\n"
   ]
  },
  {
   "cell_type": "code",
   "execution_count": 11,
   "metadata": {},
   "outputs": [
    {
     "name": "stdout",
     "output_type": "stream",
     "text": [
      "reluvcad\n"
     ]
    }
   ],
   "source": []
  },
  {
   "cell_type": "code",
   "execution_count": null,
   "metadata": {},
   "outputs": [],
   "source": []
  }
 ],
 "metadata": {
  "kernelspec": {
   "display_name": "Python 3",
   "language": "python",
   "name": "python3"
  },
  "language_info": {
   "codemirror_mode": {
    "name": "ipython",
    "version": 3
   },
   "file_extension": ".py",
   "mimetype": "text/x-python",
   "name": "python",
   "nbconvert_exporter": "python",
   "pygments_lexer": "ipython3",
   "version": "3.10.4"
  }
 },
 "nbformat": 4,
 "nbformat_minor": 2
}
