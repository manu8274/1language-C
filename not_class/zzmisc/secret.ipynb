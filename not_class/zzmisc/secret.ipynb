{
 "cells": [
  {
   "cell_type": "code",
   "execution_count": 13,
   "metadata": {},
   "outputs": [
    {
     "name": "stdout",
     "output_type": "stream",
     "text": [
      "dict :  {10: 1, 78: 1, 98: 1, 18: 1, 23: 1}\n",
      "set :  {98, 10, 78, 18, 23}\n",
      "set :  {98, 18, 23, 10, 78}\n",
      "[98, 18, 23, 10, 78]\n"
     ]
    }
   ],
   "source": [
    "def makingmap(lst):\n",
    "    d={}\n",
    "    for i in lst:\n",
    "        if i not in d:\n",
    "            d[i]=1\n",
    "        else:\n",
    "            d[i]+=1\n",
    "    return d\n",
    "\n",
    "def mansort(lst):\n",
    "    d=makingmap(lst)\n",
    "    s=set(lst)\n",
    "    sortedlst=[]\n",
    "    for i in s:\n",
    "        sortedlst.extend([i]*d[i])\n",
    "    return sortedlst\n",
    "\n",
    "lst=list(map(int,input().split()))\n",
    "l=mansort(lst)\n",
    "print(l)"
   ]
  },
  {
   "cell_type": "code",
   "execution_count": null,
   "metadata": {},
   "outputs": [],
   "source": []
  }
 ],
 "metadata": {
  "kernelspec": {
   "display_name": "Python 3",
   "language": "python",
   "name": "python3"
  },
  "language_info": {
   "codemirror_mode": {
    "name": "ipython",
    "version": 3
   },
   "file_extension": ".py",
   "mimetype": "text/x-python",
   "name": "python",
   "nbconvert_exporter": "python",
   "pygments_lexer": "ipython3",
   "version": "3.10.4"
  }
 },
 "nbformat": 4,
 "nbformat_minor": 2
}
