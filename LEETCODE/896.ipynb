{
 "cells": [
  {
   "cell_type": "code",
   "execution_count": 1,
   "metadata": {},
   "outputs": [
    {
     "name": "stdout",
     "output_type": "stream",
     "text": [
      "True\n"
     ]
    }
   ],
   "source": [
    "nums=[7,7,6,4]\n",
    "x=-1\n",
    "y=-1\n",
    "for i in range(len(nums)):\n",
    "    if(i==len(nums)-1):\n",
    "        print(True)\n",
    "    elif((nums[i]>nums[i+1])):\n",
    "        y=i\n",
    "        break\n",
    "    elif(nums[i]<nums[i+1]):\n",
    "        x=i\n",
    "        break\n",
    "        \n",
    "if(x+1):\n",
    "    for i in range(x,len(nums)-1):\n",
    "        if(nums[i]>nums[i+1]):\n",
    "            print (False)\n",
    "elif(y+1):\n",
    "    for i in range(y,len(nums)-1):\n",
    "        if(nums[i]<nums[i+1]):\n",
    "            print (False)\n",
    "else:\n",
    "    print (True)\n",
    "print (True)"
   ]
  },
  {
   "cell_type": "code",
   "execution_count": null,
   "metadata": {},
   "outputs": [],
   "source": []
  }
 ],
 "metadata": {
  "kernelspec": {
   "display_name": "Python 3",
   "language": "python",
   "name": "python3"
  },
  "language_info": {
   "codemirror_mode": {
    "name": "ipython",
    "version": 3
   },
   "file_extension": ".py",
   "mimetype": "text/x-python",
   "name": "python",
   "nbconvert_exporter": "python",
   "pygments_lexer": "ipython3",
   "version": "3.11.5"
  },
  "orig_nbformat": 4
 },
 "nbformat": 4,
 "nbformat_minor": 2
}
