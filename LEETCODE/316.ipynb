{
 "cells": [
  {
   "cell_type": "code",
   "execution_count": 14,
   "metadata": {},
   "outputs": [
    {
     "name": "stdout",
     "output_type": "stream",
     "text": [
      "abcd\n"
     ]
    }
   ],
   "source": [
    "s=\"cbacdcbc\"\n",
    "c=\"\"\n",
    "for i in s:\n",
    "    if( i not in c):\n",
    "        c+=i\n",
    "l=list(map(str,c))\n",
    "l.sort()\n",
    "x=''\n",
    "for i in l:\n",
    "    x+=i\n",
    "print(x)"
   ]
  },
  {
   "cell_type": "code",
   "execution_count": 18,
   "metadata": {},
   "outputs": [
    {
     "ename": "TypeError",
     "evalue": "'str' object cannot be interpreted as an integer",
     "output_type": "error",
     "traceback": [
      "\u001b[1;31m---------------------------------------------------------------------------\u001b[0m",
      "\u001b[1;31mTypeError\u001b[0m                                 Traceback (most recent call last)",
      "\u001b[1;32mc:\\Users\\manu1\\Desktop\\1language-C\\1language-C\\LEETCODE\\316.ipynb Cell 2\u001b[0m line \u001b[0;36m1\n\u001b[0;32m     <a href='vscode-notebook-cell:/c%3A/Users/manu1/Desktop/1language-C/1language-C/LEETCODE/316.ipynb#W1sZmlsZQ%3D%3D?line=13'>14</a>\u001b[0m             \u001b[39mwhile\u001b[39;00m(c[x]\u001b[39m>\u001b[39mi):\n\u001b[0;32m     <a href='vscode-notebook-cell:/c%3A/Users/manu1/Desktop/1language-C/1language-C/LEETCODE/316.ipynb#W1sZmlsZQ%3D%3D?line=14'>15</a>\u001b[0m                 x\u001b[39m-\u001b[39m\u001b[39m=\u001b[39m\u001b[39m1\u001b[39m\n\u001b[1;32m---> <a href='vscode-notebook-cell:/c%3A/Users/manu1/Desktop/1language-C/1language-C/LEETCODE/316.ipynb#W1sZmlsZQ%3D%3D?line=15'>16</a>\u001b[0m             c\u001b[39m.\u001b[39;49minsert(i,x\u001b[39m+\u001b[39;49m\u001b[39m1\u001b[39;49m)\n\u001b[0;32m     <a href='vscode-notebook-cell:/c%3A/Users/manu1/Desktop/1language-C/1language-C/LEETCODE/316.ipynb#W1sZmlsZQ%3D%3D?line=16'>17</a>\u001b[0m x\u001b[39m=\u001b[39m\u001b[39m'\u001b[39m\u001b[39m'\u001b[39m\n\u001b[0;32m     <a href='vscode-notebook-cell:/c%3A/Users/manu1/Desktop/1language-C/1language-C/LEETCODE/316.ipynb#W1sZmlsZQ%3D%3D?line=17'>18</a>\u001b[0m \u001b[39mfor\u001b[39;00m i \u001b[39min\u001b[39;00m c:\n",
      "\u001b[1;31mTypeError\u001b[0m: 'str' object cannot be interpreted as an integer"
     ]
    }
   ],
   "source": [
    "s = \"cbacdcbc\"\n",
    "c=[s[0]]\n",
    "for i in s:\n",
    "    if(i not in c):\n",
    "        if(c[-1]<i and i in s[s.index(i)+1:]):\n",
    "            c.insert(i,-2)\n",
    "        else:\n",
    "            c.append(i)\n",
    "    else:\n",
    "        if(c[-1]<i and i in s[s.index(i)+1:]):\n",
    "            c.append(i)\n",
    "        else:\n",
    "            x=-1\n",
    "            while(c[x]>i):\n",
    "                x-=1\n",
    "            c.insert(i,x+1)\n",
    "x=''\n",
    "for i in c:\n",
    "    x+=i\n",
    "print(x)"
   ]
  },
  {
   "cell_type": "code",
   "execution_count": null,
   "metadata": {},
   "outputs": [],
   "source": []
  }
 ],
 "metadata": {
  "kernelspec": {
   "display_name": "Python 3",
   "language": "python",
   "name": "python3"
  },
  "language_info": {
   "codemirror_mode": {
    "name": "ipython",
    "version": 3
   },
   "file_extension": ".py",
   "mimetype": "text/x-python",
   "name": "python",
   "nbconvert_exporter": "python",
   "pygments_lexer": "ipython3",
   "version": "3.11.5"
  },
  "orig_nbformat": 4
 },
 "nbformat": 4,
 "nbformat_minor": 2
}
