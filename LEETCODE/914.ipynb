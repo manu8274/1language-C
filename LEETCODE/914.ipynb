{
 "cells": [
  {
   "cell_type": "code",
   "execution_count": 2,
   "metadata": {},
   "outputs": [
    {
     "name": "stdout",
     "output_type": "stream",
     "text": [
      "True\n"
     ]
    }
   ],
   "source": [
    "arr=[0,3,2,1]\n",
    "x=arr.index(max(arr))\n",
    "bool=True\n",
    "\n",
    "for i in range(x):\n",
    "    if(arr[i]>=arr[i+1]):\n",
    "        bool=False\n",
    "        break\n",
    "for i in range(x,len(arr)-1):\n",
    "    if(arr[i]<=arr[i+1]):\n",
    "        bool=False\n",
    "        break\n",
    "print(bool)"
   ]
  },
  {
   "cell_type": "code",
   "execution_count": null,
   "metadata": {},
   "outputs": [],
   "source": []
  }
 ],
 "metadata": {
  "kernelspec": {
   "display_name": "Python 3",
   "language": "python",
   "name": "python3"
  },
  "language_info": {
   "codemirror_mode": {
    "name": "ipython",
    "version": 3
   },
   "file_extension": ".py",
   "mimetype": "text/x-python",
   "name": "python",
   "nbconvert_exporter": "python",
   "pygments_lexer": "ipython3",
   "version": "3.11.5"
  },
  "orig_nbformat": 4
 },
 "nbformat": 4,
 "nbformat_minor": 2
}
