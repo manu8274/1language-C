{
 "cells": [
  {
   "cell_type": "code",
   "execution_count": 14,
   "metadata": {},
   "outputs": [
    {
     "name": "stdout",
     "output_type": "stream",
     "text": [
      "\" fl \"\n"
     ]
    }
   ],
   "source": [
    "strs = [\"flower\",\"flow\",\"flight\"]\n",
    "# strs=[\"dog\",\"racecar\",\"car\"]\n",
    "x=\"\"\n",
    "flag=True\n",
    "p=0\n",
    "y=strs[0]\n",
    "while(flag):\n",
    "    for i in range(1,len(strs)):\n",
    "        if(strs[i][p]!=y[p]):\n",
    "            flag=False\n",
    "            break\n",
    "    if(flag):\n",
    "        x+=y[p]\n",
    "    p+=1\n",
    "if(len(x)>0):\n",
    "    print(\"\\\"\",x,\"\\\"\")\n",
    "else:\n",
    "    print(\"\\\"\\\"\")"
   ]
  },
  {
   "cell_type": "code",
   "execution_count": 4,
   "metadata": {},
   "outputs": [
    {
     "name": "stdout",
     "output_type": "stream",
     "text": [
      "0\n",
      "1\n",
      "2\n",
      "3\n",
      "4\n",
      "5\n",
      "jtftj\n"
     ]
    }
   ],
   "source": [
    "flag=True\n",
    "for i in range(10):\n",
    "    print(i)\n",
    "    if(i==5):\n",
    "        flag=False\n",
    "        break\n",
    "if(not flag):\n",
    "    print(\"jtftj\")"
   ]
  },
  {
   "cell_type": "code",
   "execution_count": 16,
   "metadata": {},
   "outputs": [
    {
     "name": "stdout",
     "output_type": "stream",
     "text": [
      "[-1, 1, 2, 2, 3, 3, 3]\n"
     ]
    }
   ],
   "source": [
    "nums1=[-1,0,0,3,3,3,0,0,0]\n",
    "nums2=[1,2,2]\n",
    "nums1.extend(nums2)\n",
    "i=0\n",
    "while(i<len(nums1)):\n",
    "    if(nums1[i]==0):\n",
    "        nums1.remove(0)\n",
    "        i=i-1\n",
    "    i+=1\n",
    "nums1.sort()\n",
    "print(nums1)"
   ]
  },
  {
   "cell_type": "code",
   "execution_count": null,
   "metadata": {},
   "outputs": [],
   "source": []
  }
 ],
 "metadata": {
  "kernelspec": {
   "display_name": "Python 3",
   "language": "python",
   "name": "python3"
  },
  "language_info": {
   "codemirror_mode": {
    "name": "ipython",
    "version": 3
   },
   "file_extension": ".py",
   "mimetype": "text/x-python",
   "name": "python",
   "nbconvert_exporter": "python",
   "pygments_lexer": "ipython3",
   "version": "3.11.5"
  },
  "orig_nbformat": 4
 },
 "nbformat": 4,
 "nbformat_minor": 2
}
