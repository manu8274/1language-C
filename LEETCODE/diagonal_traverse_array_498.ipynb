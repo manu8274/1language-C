{
 "cells": [
  {
   "cell_type": "code",
   "execution_count": 101,
   "metadata": {},
   "outputs": [
    {
     "name": "stdout",
     "output_type": "stream",
     "text": [
      "1 2 3 4\n",
      "1 2\n"
     ]
    }
   ],
   "source": [
    "#mat=[[1,2,3],[4,5,6],[7,8,9]]\n",
    "mat=[[1,2],[3,4]]\n",
    "c=len(mat[0])\n",
    "r=len(mat)\n",
    "top=0\n",
    "bottom=r-1\n",
    "left=0\n",
    "right=c-1\n",
    "arr=[]\n",
    "if(right==0):\n",
    "    for i in range(bottom+1):\n",
    "            arr.append(mat[i][left])\n",
    "elif(bottom==0):\n",
    "    for i in range(right+1):\n",
    "            arr.append(mat[top][i])\n",
    "else:\n",
    "    arr.append(mat[top][left])\n",
    "    left+=1 \n",
    "    while(top<=bottom and left<=right):\n",
    "        while(left>=0 and top<=bottom and left<=right and top>=0):\n",
    "            arr.append(mat[top][left])\n",
    "            left-=1\n",
    "            top+=1\n",
    "        left+=1\n",
    "        if(top>bottom):\n",
    "            top-=1\n",
    "            left+=1\n",
    "        while(top>=0 and top<=bottom and left<=right and left+1>=0):\n",
    "            arr.append(mat[top][left])\n",
    "            top-=1\n",
    "            left+=1\n",
    "        top+=1\n",
    "        if(left>right):\n",
    "            left-=1\n",
    "            top+=1\n",
    "print(*(arr))\n",
    "mat=mat[0]\n",
    "print(*(mat))"
   ]
  }
 ],
 "metadata": {
  "kernelspec": {
   "display_name": "Python 3",
   "language": "python",
   "name": "python3"
  },
  "language_info": {
   "codemirror_mode": {
    "name": "ipython",
    "version": 3
   },
   "file_extension": ".py",
   "mimetype": "text/x-python",
   "name": "python",
   "nbconvert_exporter": "python",
   "pygments_lexer": "ipython3",
   "version": "3.11.5"
  },
  "orig_nbformat": 4
 },
 "nbformat": 4,
 "nbformat_minor": 2
}
