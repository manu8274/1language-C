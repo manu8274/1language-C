{
 "cells": [
  {
   "cell_type": "code",
   "execution_count": 2,
   "metadata": {},
   "outputs": [
    {
     "name": "stdout",
     "output_type": "stream",
     "text": [
      "7\n",
      "1\n",
      "0\n",
      "5\n",
      "6\n",
      "53\n",
      "115\n"
     ]
    }
   ],
   "source": [
    "#1573A\n",
    "for _ in range(int(input())):\n",
    "    n=int(input())\n",
    "    s=input()\n",
    "    sum=0\n",
    "    if '0' not in s:\n",
    "        sum=len(s)-1\n",
    "        for i in s:\n",
    "            sum=sum+int(i)\n",
    "    elif (s.count(\"0\")==n):\n",
    "        sum=0\n",
    "    elif (s.count(\"0\")==n-1 and s[-1]!=\"0\"):\n",
    "        for i in s:\n",
    "            if (i!=\"0\"):\n",
    "                sum=int(i)\n",
    "    elif (s[-1]==\"0\"):\n",
    "        c=0\n",
    "        for i in s:\n",
    "            i=int(i)\n",
    "            if(i!=0):\n",
    "                sum+=i\n",
    "                c+=1\n",
    "        sum+=c\n",
    "    elif (s[-1]!=\"0\"):\n",
    "        c=-1\n",
    "        for i in s:\n",
    "            i=int(i)\n",
    "            if(i!=0):\n",
    "                sum+=i\n",
    "                c+=1\n",
    "        sum+=c\n",
    "    print(sum)\n",
    "        "
   ]
  },
  {
   "cell_type": "code",
   "execution_count": 8,
   "metadata": {},
   "outputs": [
    {
     "name": "stdout",
     "output_type": "stream",
     "text": [
      "YES\n"
     ]
    }
   ],
   "source": [
    "#1418A\n",
    "for _ in range(int(input())):\n",
    "    lst=[int(x) for x in input().split()]\n",
    "    x,y=lst[0],lst[1]\n",
    "    s=input()\n",
    "    if(x>=0 and y>=0):\n",
    "        if(s.count('U')>=y and s.count('R')>=x):\n",
    "            print(\"YES\")\n",
    "        else:\n",
    "            print(\"NO\")\n",
    "    elif(x>=0 and y<=0):\n",
    "        y=-1*y\n",
    "        if(s.count('D')>=y and s.count('R')>=x):\n",
    "            print(\"YES\")\n",
    "        else:\n",
    "            print(\"NO\")\n",
    "    elif(x<=0 and y>=0):\n",
    "        x=-1*x\n",
    "        if(s.count('U')>=y and s.count('L')>=x):\n",
    "            print(\"YES\")\n",
    "        else:\n",
    "            print(\"NO\")\n",
    "    elif(x<=0 and y<=0):\n",
    "        x=-1*x\n",
    "        y=-1*y\n",
    "        if(s.count('D')>=y and s.count('L')>=x):\n",
    "            print(\"YES\")\n",
    "        else:\n",
    "            print(\"NO\")"
   ]
  },
  {
   "cell_type": "code",
   "execution_count": 15,
   "metadata": {},
   "outputs": [
    {
     "name": "stdout",
     "output_type": "stream",
     "text": [
      "by\n",
      "\n"
     ]
    }
   ],
   "source": [
    "# 1480A\n",
    "for _ in range(int(input())):\n",
    "    s=input()\n",
    "    s1=''\n",
    "    for i in range(len(s)):\n",
    "        if(i%2==0):\n",
    "            if(s[i]!='a'):\n",
    "                print(\"a\",end=\"\")\n",
    "            else:\n",
    "                print(\"b\",end=\"\")\n",
    "        else:\n",
    "            if(s[i]!='z'):\n",
    "                print(\"z\",end=\"\")\n",
    "            else:\n",
    "                print(\"y\",end=\"\")\n",
    "    print(\"\\n\")"
   ]
  },
  {
   "cell_type": "code",
   "execution_count": 20,
   "metadata": {},
   "outputs": [
    {
     "name": "stdout",
     "output_type": "stream",
     "text": [
      "2 1 \n",
      "\n",
      "3 4 5 1 2 \n",
      "\n"
     ]
    }
   ],
   "source": [
    "#1454A\n",
    "for _ in range(int(input())):\n",
    "    n=int(input())\n",
    "    lst=[int(x) for x in range(1,n+1)]\n",
    "    lst1=lst[n//2:] + lst[:n//2]\n",
    "    for i in lst1:\n",
    "        print(i,end=\" \")\n",
    "    print(\"\\n\")"
   ]
  },
  {
   "cell_type": "code",
   "execution_count": 89,
   "metadata": {},
   "outputs": [
    {
     "name": "stdout",
     "output_type": "stream",
     "text": [
      "100\n"
     ]
    }
   ],
   "source": [
    "#1857B\n",
    "import math\n",
    "for _ in range(int(input())):\n",
    "    n=int(input())\n",
    "    n1=n\n",
    "    max=0\n",
    "    for i in range(0,len(str(n1))):\n",
    "        if(max<n):\n",
    "            max=n\n",
    "        n=n*pow(10,-i-1)\n",
    "        if(2*n==int(2*n) and n!=int(n)):\n",
    "            n=n+0.5\n",
    "        n=round(n)\n",
    "        n=n*pow(10,i+1)\n",
    "    if(max<n):\n",
    "        max=n\n",
    "    print(max)"
   ]
  },
  {
   "cell_type": "code",
   "execution_count": 8,
   "metadata": {},
   "outputs": [
    {
     "name": "stdout",
     "output_type": "stream",
     "text": [
      "0\n"
     ]
    }
   ],
   "source": [
    "#1857B\n",
    "for _ in range(int(input())):\n",
    "    s=input()\n",
    "    x=0\n",
    "    if(s[0]>='5'):\n",
    "        x=10*pow(10,len(s)-1)\n",
    "    else:\n",
    "        for i in range(len(s)):\n",
    "            if (int(s[i])>=5):\n",
    "                if(int(s[i-1])<4):\n",
    "                    x=int(s[i-1])+1\n",
    "                    x=x*pow(10,len(s)-(i+1))\n",
    "                    break\n",
    "                else:\n",
    "                    s=str(int(s[:i-1])+1)\n",
    "                    for j in s:\n",
    "                        \n",
    "    print(x)"
   ]
  },
  {
   "cell_type": "code",
   "execution_count": 29,
   "metadata": {},
   "outputs": [],
   "source": [
    "#1512A\n",
    "for _ in range(int(input())):\n",
    "    x=int(input())\n",
    "    lst=[]\n",
    "    for i in range(x):\n",
    "        a=[x for x in input().split()]\n",
    "        lst.append(a)\n",
    "    "
   ]
  },
  {
   "cell_type": "code",
   "execution_count": 31,
   "metadata": {},
   "outputs": [
    {
     "name": "stdout",
     "output_type": "stream",
     "text": [
      "- - - * \n",
      "\n",
      "- - - - \n",
      "\n",
      "- - - - \n",
      "\n",
      "* - - - \n",
      "\n"
     ]
    }
   ],
   "source": [
    "for i in range(4):\n",
    "    for j in range(4):\n",
    "        print(lst[i][j],end=\" \")\n",
    "    print(\"\\n\")\n"
   ]
  },
  {
   "cell_type": "code",
   "execution_count": 32,
   "metadata": {},
   "outputs": [
    {
     "name": "stdout",
     "output_type": "stream",
     "text": [
      "[['-', '-', '-', '*'], ['-', '-', '-', '-'], ['-', '-', '-', '-'], ['*', '-', '-', '-']]\n"
     ]
    }
   ],
   "source": [
    "print(lst)"
   ]
  },
  {
   "cell_type": "code",
   "execution_count": null,
   "metadata": {},
   "outputs": [],
   "source": []
  }
 ],
 "metadata": {
  "kernelspec": {
   "display_name": "Python 3",
   "language": "python",
   "name": "python3"
  },
  "language_info": {
   "codemirror_mode": {
    "name": "ipython",
    "version": 3
   },
   "file_extension": ".py",
   "mimetype": "text/x-python",
   "name": "python",
   "nbconvert_exporter": "python",
   "pygments_lexer": "ipython3",
   "version": "3.11.5"
  },
  "orig_nbformat": 4
 },
 "nbformat": 4,
 "nbformat_minor": 2
}
