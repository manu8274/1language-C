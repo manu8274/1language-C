{
 "cells": [
  {
   "cell_type": "code",
   "execution_count": 2,
   "metadata": {},
   "outputs": [
    {
     "name": "stdout",
     "output_type": "stream",
     "text": [
      "0\n",
      "3\n",
      "2\n",
      "92\n",
      "87654322\n",
      "9150\n"
     ]
    }
   ],
   "source": [
    "for _ in range(int(input())):\n",
    "    lst=[int(f) for f in input().split()]\n",
    "    a,b=lst[0],lst[1]\n",
    "    if(a==b):\n",
    "        print(0)\n",
    "    elif(a>b):\n",
    "        z=a-b\n",
    "        if(z%10==0):\n",
    "            print(z//10)\n",
    "        else:\n",
    "            print((z//10)+1)\n",
    "    else:\n",
    "        z=b-a\n",
    "        if(z%10==0):\n",
    "            print(z//10)\n",
    "        else:\n",
    "            print((z//10)+1)"
   ]
  },
  {
   "cell_type": "code",
   "execution_count": null,
   "metadata": {},
   "outputs": [],
   "source": []
  }
 ],
 "metadata": {
  "kernelspec": {
   "display_name": "Python 3",
   "language": "python",
   "name": "python3"
  },
  "language_info": {
   "codemirror_mode": {
    "name": "ipython",
    "version": 3
   },
   "file_extension": ".py",
   "mimetype": "text/x-python",
   "name": "python",
   "nbconvert_exporter": "python",
   "pygments_lexer": "ipython3",
   "version": "3.11.5"
  },
  "orig_nbformat": 4
 },
 "nbformat": 4,
 "nbformat_minor": 2
}
