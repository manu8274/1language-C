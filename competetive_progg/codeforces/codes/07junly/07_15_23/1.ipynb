{
 "cells": [
  {
   "cell_type": "code",
   "execution_count": 9,
   "metadata": {},
   "outputs": [
    {
     "name": "stdout",
     "output_type": "stream",
     "text": [
      "10\n",
      "10\n",
      "00"
     ]
    }
   ],
   "source": [
    "#61A mathfast\n",
    "n1=input()\n",
    "n2=input()\n",
    "for i in range(0,len(n1)):\n",
    "    if ((n1[i]==\"0\" and n2[i]==\"0\") or (n1[i]==\"1\" and n2[i]==\"1\")):\n",
    "        print(0,end=\"\")\n",
    "    else:\n",
    "        print(1,end=\"\")"
   ]
  },
  {
   "cell_type": "code",
   "execution_count": null,
   "metadata": {},
   "outputs": [],
   "source": []
  }
 ],
 "metadata": {
  "kernelspec": {
   "display_name": "Python 3",
   "language": "python",
   "name": "python3"
  },
  "language_info": {
   "codemirror_mode": {
    "name": "ipython",
    "version": 3
   },
   "file_extension": ".py",
   "mimetype": "text/x-python",
   "name": "python",
   "nbconvert_exporter": "python",
   "pygments_lexer": "ipython3",
   "version": "3.11.4"
  },
  "orig_nbformat": 4
 },
 "nbformat": 4,
 "nbformat_minor": 2
}
