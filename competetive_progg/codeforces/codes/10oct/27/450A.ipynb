{
 "cells": [
  {
   "cell_type": "code",
   "execution_count": 3,
   "metadata": {},
   "outputs": [
    {
     "name": "stdout",
     "output_type": "stream",
     "text": [
      "4\n"
     ]
    }
   ],
   "source": [
    "n,m=map(int,input().split())\n",
    "lst=list(map(int,input().split()))\n",
    "k=0\n",
    "c=1\n",
    "index=0\n",
    "for i in lst:\n",
    "    if(i%m>0):\n",
    "        x=i//m\n",
    "        if(x>=k):\n",
    "            index=c\n",
    "            k=x\n",
    "    else:\n",
    "        x=i//m -1\n",
    "        if(x>=k):\n",
    "            index=c\n",
    "            k=x\n",
    "    c+=1\n",
    "print(index)"
   ]
  },
  {
   "cell_type": "code",
   "execution_count": null,
   "metadata": {},
   "outputs": [],
   "source": []
  }
 ],
 "metadata": {
  "kernelspec": {
   "display_name": "Python 3",
   "language": "python",
   "name": "python3"
  },
  "language_info": {
   "codemirror_mode": {
    "name": "ipython",
    "version": 3
   },
   "file_extension": ".py",
   "mimetype": "text/x-python",
   "name": "python",
   "nbconvert_exporter": "python",
   "pygments_lexer": "ipython3",
   "version": "3.10.4"
  }
 },
 "nbformat": 4,
 "nbformat_minor": 2
}
