{
 "cells": [
  {
   "cell_type": "code",
   "execution_count": null,
   "metadata": {},
   "outputs": [],
   "source": [
    "for _ in range(int(input())):\n",
    "    l,r,k=map(int,input().split())\n",
    "    lst=[int(x) for x in (l,r+1)]\n",
    "    x=len([x for x in lst if x%2!=0])\n",
    "\n",
    "    if(l==r):\n",
    "        if(l!=1):\n",
    "            print(\"YES\")\n",
    "        else:\n",
    "            print(\"NO\")\n",
    "    elif(k>=l-r+1):\n",
    "        print(\"YES\")\n",
    "    elif(k>=x):\n",
    "        print(\"YES\")\n",
    "    elif():"
   ]
  }
 ],
 "metadata": {
  "language_info": {
   "name": "python"
  },
  "orig_nbformat": 4
 },
 "nbformat": 4,
 "nbformat_minor": 2
}
