{
 "cells": [
  {
   "cell_type": "code",
   "execution_count": 10,
   "metadata": {},
   "outputs": [
    {
     "name": "stdout",
     "output_type": "stream",
     "text": [
      "NO\n"
     ]
    }
   ],
   "source": [
    "for _ in range(int(input())):\n",
    "    n=int(input())\n",
    "    a=input()\n",
    "    b=input()\n",
    "    c=input()\n",
    "    count=0\n",
    "    for i in range(n):\n",
    "        if(a[i]==c[i] or b[i]==c[i]):\n",
    "            count+=1\n",
    "    if(count==n):\n",
    "        print(\"NO\")\n",
    "    else:\n",
    "        print(\"YES\")"
   ]
  },
  {
   "cell_type": "code",
   "execution_count": 16,
   "metadata": {},
   "outputs": [
    {
     "name": "stdout",
     "output_type": "stream",
     "text": [
      "35\n"
     ]
    }
   ],
   "source": [
    "for _ in range(int(input())):\n",
    "    n=int(input())\n",
    "    lst=[2**int(i) for i in input().split()]\n",
    "    if(n<=2):\n",
    "        print(0)\n",
    "        continue\n",
    "    if(n==3):\n",
    "        if(city[0]==city[1] or city[1]==city[2] or city[0]==city[2] or city[0]==city[1]==city[2]):\n",
    "            print(1)\n",
    "            continue\n",
    "    if(city.count(lst[0])==n):\n",
    "        print((n*(n-1)*(n-2))//6)\n",
    "        continue\n",
    "    x=0\n",
    "    for i in set(lst):\n",
    "        if(lst.count(i)>=2):\n",
    "            x+=lst.count(i)\n",
    "    print(x)"
   ]
  },
  {
   "cell_type": "code",
   "execution_count": 52,
   "metadata": {},
   "outputs": [
    {
     "name": "stdout",
     "output_type": "stream",
     "text": [
      "4\n"
     ]
    }
   ],
   "source": [
    "for _ in range(int(input())):\n",
    "    n=int(input())\n",
    "    lst=list(map(int,input().split()))\n",
    "    m=int(input())\n",
    "    for __ in range(m):\n",
    "        x,y=map(int,input().split())\n",
    "        mc=0\n",
    "        if(x<y):\n",
    "            x=x-1\n",
    "            for i in range(x,y-1):\n",
    "                if(i==0):\n",
    "                    mc+=1\n",
    "                else:\n",
    "                    if(abs(lst[i]-lst[i-1])>abs(lst[i+1]-lst[i])):\n",
    "                        mc+=1\n",
    "                    else:\n",
    "                        mc+=abs(lst[i+1]-lst[i])\n",
    "        if(y<x):\n",
    "            x=x-1\n",
    "            y=y-1\n",
    "            for i in range(x,y,-1):\n",
    "                if(i==n-1):\n",
    "                    mc+=1\n",
    "                else:\n",
    "                    if(abs(lst[i-1]-lst[i])<abs(lst[i+1]-lst[i])):\n",
    "                        mc+=1\n",
    "                    else:\n",
    "                        mc+=abs(lst[i-1]-lst[i])\n",
    "        print(mc)"
   ]
  },
  {
   "cell_type": "code",
   "execution_count": null,
   "metadata": {},
   "outputs": [],
   "source": []
  }
 ],
 "metadata": {
  "kernelspec": {
   "display_name": "Python 3",
   "language": "python",
   "name": "python3"
  },
  "language_info": {
   "codemirror_mode": {
    "name": "ipython",
    "version": 3
   },
   "file_extension": ".py",
   "mimetype": "text/x-python",
   "name": "python",
   "nbconvert_exporter": "python",
   "pygments_lexer": "ipython3",
   "version": "3.10.4"
  }
 },
 "nbformat": 4,
 "nbformat_minor": 2
}
