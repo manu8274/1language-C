{
 "cells": [
  {
   "cell_type": "code",
   "execution_count": 17,
   "metadata": {},
   "outputs": [
    {
     "name": "stdout",
     "output_type": "stream",
     "text": [
      "3\n",
      "2\n",
      "0\n"
     ]
    }
   ],
   "source": [
    "for _ in range(int(input())):\n",
    "    n=int(input())\n",
    "    lst1=[int(x) for x in input().split()]\n",
    "    x=0\n",
    "    if(lst1.index(min(lst1))!=0):\n",
    "        x=1\n",
    "    for i in lst1:\n",
    "        y=lst1.count(i)\n",
    "        if(y>1):\n",
    "            x=x + y//2\n",
    "        lst1.remove(i)\n",
    "    print(x)"
   ]
  },
  {
   "cell_type": "code",
   "execution_count": 14,
   "metadata": {},
   "outputs": [
    {
     "name": "stdout",
     "output_type": "stream",
     "text": [
      "0\n"
     ]
    }
   ],
   "source": [
    "print(lst.count(5))"
   ]
  },
  {
   "cell_type": "code",
   "execution_count": 8,
   "metadata": {},
   "outputs": [
    {
     "name": "stdout",
     "output_type": "stream",
     "text": [
      "[1, 1, 2, 2, 2]\n"
     ]
    }
   ],
   "source": [
    "lst=[int(x) for x in input().split()]\n",
    "print(lst)"
   ]
  },
  {
   "cell_type": "code",
   "execution_count": 68,
   "metadata": {},
   "outputs": [
    {
     "name": "stdout",
     "output_type": "stream",
     "text": [
      "51\n",
      "512\n",
      "52\n",
      "53\n",
      "53\n"
     ]
    }
   ],
   "source": [
    "def isprime(n):\n",
    "    n1=int(n**0.5)\n",
    "    for i in range(2,n1):\n",
    "        if(n%i==0):\n",
    "            return False\n",
    "        else:\n",
    "            if(i==n1-1):\n",
    "                return True\n",
    "for _ in range(int(input())):\n",
    "    t=input()\n",
    "    t1=int(t)\n",
    "    x=t1//100000000\n",
    "    y=0\n",
    "    flag=True\n",
    "    for i in range(1,10):\n",
    "        if(flag and x!=i):\n",
    "            y=x\n",
    "            for j in range(i,10):\n",
    "                z=t.index(str(j))\n",
    "                if(j!=x):\n",
    "                    y=y*10 + int(j)\n",
    "                    if(isprime(y)):\n",
    "                        print(y)\n",
    "                        flag=False\n",
    "                        break\n",
    "                if(str(j+1) in t[z:]):\n",
    "                    continue\n",
    "                else:\n",
    "                    break"
   ]
  },
  {
   "cell_type": "code",
   "execution_count": 52,
   "metadata": {},
   "outputs": [
    {
     "name": "stdout",
     "output_type": "stream",
     "text": [
      "3\n"
     ]
    }
   ],
   "source": []
  }
 ],
 "metadata": {
  "kernelspec": {
   "display_name": "Python 3",
   "language": "python",
   "name": "python3"
  },
  "language_info": {
   "codemirror_mode": {
    "name": "ipython",
    "version": 3
   },
   "file_extension": ".py",
   "mimetype": "text/x-python",
   "name": "python",
   "nbconvert_exporter": "python",
   "pygments_lexer": "ipython3",
   "version": "3.11.5"
  },
  "orig_nbformat": 4
 },
 "nbformat": 4,
 "nbformat_minor": 2
}
