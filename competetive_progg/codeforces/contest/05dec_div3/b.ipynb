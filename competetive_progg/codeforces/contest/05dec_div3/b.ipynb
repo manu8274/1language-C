{
 "cells": [
  {
   "cell_type": "code",
   "execution_count": 67,
   "metadata": {},
   "outputs": [
    {
     "name": "stdout",
     "output_type": "stream",
     "text": [
      "ity\n"
     ]
    }
   ],
   "source": [
    "for _ in range(int(input())):\n",
    "    s=list(input())\n",
    "    u=0\n",
    "    l=0\n",
    "    for i in range(len(s)-1,-1,-1):\n",
    "        if(s[i]=='B'):\n",
    "            s[i]=0\n",
    "            u+=1\n",
    "        elif(s[i]=='b'):\n",
    "            l+=1\n",
    "            s[i]=0\n",
    "        elif(s[i]>='a' and s[i]<='z'):\n",
    "            if(l>0):\n",
    "                s[i]=0\n",
    "                l-=1\n",
    "        elif(s[i]>='A' and s[i]<='Z'):\n",
    "            if(u>0):\n",
    "                s[i]=0\n",
    "                u-=1\n",
    "    t=\"\"\n",
    "    for i in s:\n",
    "        if(i!=0):\n",
    "            t+=i\n",
    "    print(t)"
   ]
  }
 ],
 "metadata": {
  "kernelspec": {
   "display_name": "Python 3",
   "language": "python",
   "name": "python3"
  },
  "language_info": {
   "codemirror_mode": {
    "name": "ipython",
    "version": 3
   },
   "file_extension": ".py",
   "mimetype": "text/x-python",
   "name": "python",
   "nbconvert_exporter": "python",
   "pygments_lexer": "ipython3",
   "version": "3.10.4"
  }
 },
 "nbformat": 4,
 "nbformat_minor": 2
}
