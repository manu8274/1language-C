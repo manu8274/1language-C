{
 "cells": [
  {
   "cell_type": "code",
   "execution_count": 16,
   "metadata": {},
   "outputs": [
    {
     "name": "stdout",
     "output_type": "stream",
     "text": [
      "2\n"
     ]
    }
   ],
   "source": [
    "def fun1(s):\n",
    "    i=0\n",
    "    t=[]\n",
    "    ti=0\n",
    "    while(i<len(s)):\n",
    "        if(i+1<len(s)):\n",
    "            if s[i]!=s[i+1]:\n",
    "                i+=1\n",
    "            else:\n",
    "                if(len(t)==0):\n",
    "                    t.append(s[i])\n",
    "                else:\n",
    "                    if(t[-1]==s[i]):\n",
    "                        t.append(s[i])\n",
    "                    else:\n",
    "                        t.pop()\n",
    "        else:\n",
    "            if(len(t)==0):\n",
    "                t.append(s[-1])\n",
    "            else:\n",
    "                if(t[-1]==s[-1]):\n",
    "                    t.append(s[i])\n",
    "                else:\n",
    "                    t.pop()\n",
    "        i+=1\n",
    "    return len(t)\n",
    "\n",
    "for _ in range(int(input())):\n",
    "    n=int(input())\n",
    "    s=list(input())\n",
    "    print(fun1(s))"
   ]
  },
  {
   "cell_type": "code",
   "execution_count": 18,
   "metadata": {},
   "outputs": [
    {
     "name": "stdout",
     "output_type": "stream",
     "text": [
      "7\n"
     ]
    }
   ],
   "source": [
    "for _ in range(int(input())):\n",
    "    x = int(input())\n",
    "    l = list(input())\n",
    "    checker = [0 for i in range(26)]\n",
    "    for j in l:\n",
    "        checker[97 - ord(j)] +=1\n",
    "    a = max(checker)\n",
    "    print(max(x%2,2*a-x))"
   ]
  },
  {
   "cell_type": "code",
   "execution_count": null,
   "metadata": {},
   "outputs": [],
   "source": []
  }
 ],
 "metadata": {
  "kernelspec": {
   "display_name": "Python 3",
   "language": "python",
   "name": "python3"
  },
  "language_info": {
   "codemirror_mode": {
    "name": "ipython",
    "version": 3
   },
   "file_extension": ".py",
   "mimetype": "text/x-python",
   "name": "python",
   "nbconvert_exporter": "python",
   "pygments_lexer": "ipython3",
   "version": "3.10.4"
  }
 },
 "nbformat": 4,
 "nbformat_minor": 2
}
