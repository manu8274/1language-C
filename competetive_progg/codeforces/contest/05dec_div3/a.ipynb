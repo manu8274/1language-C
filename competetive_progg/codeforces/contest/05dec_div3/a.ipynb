{
 "cells": [
  {
   "cell_type": "code",
   "execution_count": 2,
   "metadata": {},
   "outputs": [
    {
     "name": "stdout",
     "output_type": "stream",
     "text": [
      "d1\n",
      "d2\n",
      "d3\n",
      "d4\n",
      "d6\n",
      "d7\n",
      "d8\n",
      "a5\n",
      "b5\n",
      "c5\n",
      "e5\n",
      "f5\n",
      "g5\n",
      "h5\n"
     ]
    }
   ],
   "source": [
    "for _ in range(int(input())):\n",
    "    n=input()\n",
    "    b=int(n[1])\n",
    "    for i in range(1,9):\n",
    "        if(i!=b):\n",
    "            print(n[0] + str(i))\n",
    "    b=ord(n[0])\n",
    "    for i in range(97,105):\n",
    "        if(b!=i):\n",
    "            print(chr(i) + n[1])"
   ]
  },
  {
   "cell_type": "code",
   "execution_count": 1,
   "metadata": {},
   "outputs": [
    {
     "name": "stdout",
     "output_type": "stream",
     "text": [
      "104\n"
     ]
    }
   ],
   "source": [
    "print(ord(\"h\"))"
   ]
  },
  {
   "cell_type": "code",
   "execution_count": null,
   "metadata": {},
   "outputs": [],
   "source": []
  }
 ],
 "metadata": {
  "kernelspec": {
   "display_name": "Python 3",
   "language": "python",
   "name": "python3"
  },
  "language_info": {
   "codemirror_mode": {
    "name": "ipython",
    "version": 3
   },
   "file_extension": ".py",
   "mimetype": "text/x-python",
   "name": "python",
   "nbconvert_exporter": "python",
   "pygments_lexer": "ipython3",
   "version": "3.10.4"
  }
 },
 "nbformat": 4,
 "nbformat_minor": 2
}
