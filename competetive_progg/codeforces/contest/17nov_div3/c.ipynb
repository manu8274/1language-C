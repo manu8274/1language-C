{
 "cells": [
  {
   "cell_type": "code",
   "execution_count": 12,
   "metadata": {},
   "outputs": [
    {
     "name": "stdout",
     "output_type": "stream",
     "text": [
      "val= -1 i =  0 true\n",
      "m= -1\n",
      "val= 4 i =  1 true\n",
      "m= 3\n",
      "val= -1 i =  2 true\n",
      "m= 3\n",
      "val= 0 i =  3 true\n",
      "m= 3\n",
      "val= 5 i =  4 true\n",
      "m= 7\n",
      "m= 7\n",
      "7\n"
     ]
    }
   ],
   "source": [
    "for _ in range(int(input())):\n",
    "    n=int(input())\n",
    "    lst=list(map(int,input().split()))\n",
    "    s=0\n",
    "    m=float (\"-inf\")\n",
    "    for i in range(n):\n",
    "        if(i==n-1):\n",
    "            s+=lst[i]\n",
    "        else:\n",
    "            if((lst[i]&1)!=(lst[i+1]&1)):\n",
    "                print(\"val=\",lst[i],\"i = \",i,\"true\")\n",
    "                s+=lst[i]\n",
    "            else:\n",
    "                print(\"val=\",lst[i],\"i = \",i,\"False\")\n",
    "                s+=lst[i]\n",
    "                m=max(m,s)\n",
    "                s=0\n",
    "        m=max(m,s)\n",
    "        print(\"m=\",m)\n",
    "    print(m)"
   ]
  }
 ],
 "metadata": {
  "kernelspec": {
   "display_name": "Python 3",
   "language": "python",
   "name": "python3"
  },
  "language_info": {
   "codemirror_mode": {
    "name": "ipython",
    "version": 3
   },
   "file_extension": ".py",
   "mimetype": "text/x-python",
   "name": "python",
   "nbconvert_exporter": "python",
   "pygments_lexer": "ipython3",
   "version": "3.10.4"
  }
 },
 "nbformat": 4,
 "nbformat_minor": 2
}
