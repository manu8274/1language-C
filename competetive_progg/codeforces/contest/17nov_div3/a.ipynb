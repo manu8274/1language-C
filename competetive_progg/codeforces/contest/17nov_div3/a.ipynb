{
 "cells": [
  {
   "cell_type": "code",
   "execution_count": null,
   "metadata": {},
   "outputs": [],
   "source": [
    "for _ in range(int(input())):\n",
    "    n=int(input())\n",
    "    if(n%3==0):\n",
    "        print(\"Second\")\n",
    "    else:\n",
    "        print(\"First\")"
   ]
  }
 ],
 "metadata": {
  "language_info": {
   "name": "python"
  }
 },
 "nbformat": 4,
 "nbformat_minor": 2
}
