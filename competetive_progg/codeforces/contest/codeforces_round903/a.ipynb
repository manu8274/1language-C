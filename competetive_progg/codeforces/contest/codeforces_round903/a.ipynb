{
 "cells": [
  {
   "cell_type": "code",
   "execution_count": 7,
   "metadata": {},
   "outputs": [
    {
     "name": "stdout",
     "output_type": "stream",
     "text": [
      "1\n"
     ]
    }
   ],
   "source": [
    "for i in range(int(input())):\n",
    "    n,m=map(int,input().split())\n",
    "    x=input()\n",
    "    s=input()\n",
    "    c=0\n",
    "    flag=True\n",
    "    while(s not in x):\n",
    "        if(c>5):\n",
    "            flag=False\n",
    "            break\n",
    "        x+=x\n",
    "        c+=1\n",
    "    if(not flag):\n",
    "        print(-1)\n",
    "    else:\n",
    "        print(c)"
   ]
  },
  {
   "cell_type": "code",
   "execution_count": null,
   "metadata": {},
   "outputs": [],
   "source": [
    "babb\n",
    "bbb"
   ]
  }
 ],
 "metadata": {
  "kernelspec": {
   "display_name": "Python 3",
   "language": "python",
   "name": "python3"
  },
  "language_info": {
   "codemirror_mode": {
    "name": "ipython",
    "version": 3
   },
   "file_extension": ".py",
   "mimetype": "text/x-python",
   "name": "python",
   "nbconvert_exporter": "python",
   "pygments_lexer": "ipython3",
   "version": "3.10.4"
  }
 },
 "nbformat": 4,
 "nbformat_minor": 2
}
