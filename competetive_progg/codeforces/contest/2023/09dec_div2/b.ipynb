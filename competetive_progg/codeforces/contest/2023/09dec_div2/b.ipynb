{
 "cells": [
  {
   "cell_type": "code",
   "execution_count": 2,
   "metadata": {},
   "outputs": [
    {
     "name": "stdout",
     "output_type": "stream",
     "text": [
      "4 4 4 4 4 "
     ]
    }
   ],
   "source": [
    "for _ in range(int(input())):\n",
    "    n=int(input())\n",
    "    lst=list(map(int,input().split()))\n",
    "    d={}\n",
    "    lst1=lst.copy()\n",
    "    lst.sort()\n",
    "    sum1=sum(lst1)\n",
    "    for i in range(1,n+1):\n",
    "        if(i==1):\n",
    "            d[lst[-i]]=n-1\n",
    "        else:\n",
    "            sum1-=lst[-i+1]\n",
    "            if(lst[-i] not in d):\n",
    "                if(sum1>=lst[-i+1]):\n",
    "                    d[lst[-i]]=d[lst[-i+1]]\n",
    "                else:\n",
    "                    d[lst[-i]]=n-i\n",
    "    for i in lst1:\n",
    "        print(d[i],end=\" \")"
   ]
  },
  {
   "cell_type": "code",
   "execution_count": null,
   "metadata": {},
   "outputs": [],
   "source": []
  }
 ],
 "metadata": {
  "kernelspec": {
   "display_name": "Python 3",
   "language": "python",
   "name": "python3"
  },
  "language_info": {
   "codemirror_mode": {
    "name": "ipython",
    "version": 3
   },
   "file_extension": ".py",
   "mimetype": "text/x-python",
   "name": "python",
   "nbconvert_exporter": "python",
   "pygments_lexer": "ipython3",
   "version": "3.10.4"
  }
 },
 "nbformat": 4,
 "nbformat_minor": 2
}
