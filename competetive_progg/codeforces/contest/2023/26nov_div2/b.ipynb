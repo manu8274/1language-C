{
 "cells": [
  {
   "cell_type": "code",
   "execution_count": 5,
   "metadata": {},
   "outputs": [
    {
     "name": "stdout",
     "output_type": "stream",
     "text": [
      "1 1 1\n",
      "0 1 0\n",
      "1 0 0\n"
     ]
    }
   ],
   "source": [
    "for _ in range(int(input())):\n",
    "    a,b,c=map(int,input().split())\n",
    "    if(a%2==0 and b%2==0 and c%2==0) or (a%2!=0 and b%2!=0 and c%2!=0):\n",
    "        print(1,1,1)\n",
    "    elif(a%2!=0 and b%2==0 and c%2==0) or (a%2==0 and b%2!=0 and c%2!=0):\n",
    "        print(1,0,0)\n",
    "    elif((a%2==0 and b%2!=0 and c%2==0) or (a%2!=0 and b%2==0 and c%2!=0)):\n",
    "        print(0,1,0)\n",
    "    elif(a%2==0 and b%2==0 and c%2!=0) or (a%2!=0 and b%2!=0 and c%2==0):\n",
    "        print(0,0,1)"
   ]
  }
 ],
 "metadata": {
  "kernelspec": {
   "display_name": "Python 3",
   "language": "python",
   "name": "python3"
  },
  "language_info": {
   "codemirror_mode": {
    "name": "ipython",
    "version": 3
   },
   "file_extension": ".py",
   "mimetype": "text/x-python",
   "name": "python",
   "nbconvert_exporter": "python",
   "pygments_lexer": "ipython3",
   "version": "3.10.4"
  }
 },
 "nbformat": 4,
 "nbformat_minor": 2
}
