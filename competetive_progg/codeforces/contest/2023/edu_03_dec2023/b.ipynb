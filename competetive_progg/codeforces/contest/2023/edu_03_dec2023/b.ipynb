{
 "cells": [
  {
   "cell_type": "code",
   "execution_count": 34,
   "metadata": {},
   "outputs": [
    {
     "ename": "ValueError",
     "evalue": "not enough values to unpack (expected 4, got 0)",
     "output_type": "error",
     "traceback": [
      "\u001b[1;31m---------------------------------------------------------------------------\u001b[0m",
      "\u001b[1;31mValueError\u001b[0m                                Traceback (most recent call last)",
      "\u001b[1;32mc:\\Users\\manu1\\Desktop\\1language-C\\1language-C\\competetive_progg\\codeforces\\contest\\edu_03_dec2023\\b.ipynb Cell 1\u001b[0m line \u001b[0;36m3\n\u001b[0;32m     <a href='vscode-notebook-cell:/c%3A/Users/manu1/Desktop/1language-C/1language-C/competetive_progg/codeforces/contest/edu_03_dec2023/b.ipynb#W0sZmlsZQ%3D%3D?line=29'>30</a>\u001b[0m             \u001b[39mreturn\u001b[39;00m n\u001b[39m-\u001b[39m(f\u001b[39m+\u001b[39mg)\n\u001b[0;32m     <a href='vscode-notebook-cell:/c%3A/Users/manu1/Desktop/1language-C/1language-C/competetive_progg/codeforces/contest/edu_03_dec2023/b.ipynb#W0sZmlsZQ%3D%3D?line=31'>32</a>\u001b[0m \u001b[39mfor\u001b[39;00m _ \u001b[39min\u001b[39;00m \u001b[39mrange\u001b[39m(\u001b[39mint\u001b[39m(\u001b[39minput\u001b[39m())):\n\u001b[1;32m---> <a href='vscode-notebook-cell:/c%3A/Users/manu1/Desktop/1language-C/1language-C/competetive_progg/codeforces/contest/edu_03_dec2023/b.ipynb#W0sZmlsZQ%3D%3D?line=32'>33</a>\u001b[0m     n,p,l,t\u001b[39m=\u001b[39m\u001b[39mmap\u001b[39m(\u001b[39mint\u001b[39m,\u001b[39minput\u001b[39m()\u001b[39m.\u001b[39msplit())\n\u001b[0;32m     <a href='vscode-notebook-cell:/c%3A/Users/manu1/Desktop/1language-C/1language-C/competetive_progg/codeforces/contest/edu_03_dec2023/b.ipynb#W0sZmlsZQ%3D%3D?line=33'>34</a>\u001b[0m     \u001b[39mprint\u001b[39m(fun1(n,p,l,t))\n",
      "\u001b[1;31mValueError\u001b[0m: not enough values to unpack (expected 4, got 0)"
     ]
    }
   ],
   "source": [
    "import math\n",
    "def fun1(n,p,l,t):\n",
    "    if(n==1):\n",
    "        return(0)\n",
    "    else:\n",
    "        x=0\n",
    "        x=math.ceil(n/7)\n",
    "        f=math.ceil(x/2)\n",
    "        if(x*t + l* f) ==p:\n",
    "            return n-f\n",
    "        elif(p<(x*t + l* f)):\n",
    "            # for i in range(1,f):\n",
    "                # if(x%2==0):\n",
    "                #     if((x+1)*(t-i) +l*(f-i)>p or (x+1)*(t-i-1) +l*(f-i)>p):\n",
    "                #         if((x+1)*(t-2*i) +l*(f-2*i)>p or (x+1)*(t-2*i-1) +l*(f-2*i)>p):\n",
    "                #             continue\n",
    "                #         else:\n",
    "                #             return n-(f-i)\n",
    "                # else:\n",
    "                #     if((x-1)*(t-i) +l*(f-i)>p or (x-1)*(t-i-1) +l*(f-i)>p):\n",
    "                #         if((x-1)*(t-2*i) +l*(f-2*i)>p or (x-1)*(t-2*i-1) +l*(f-2*i)>p):\n",
    "                #             continue\n",
    "                #         else:\n",
    "                #             return n-(f-i)\n",
    "            return math.ceil(n-p/2*t+l)\n",
    "        else:\n",
    "            g=(p-(x*t + l* f))//l if(p-(x*t + l* f))%l==0 else (p-(x*t + l* f))//l +1\n",
    "            return n-(f+g)\n",
    "\n",
    "for _ in range(int(input())):\n",
    "    n,p,l,t=map(int,input().split())\n",
    "    print(fun1(n,p,l,t))"
   ]
  },
  {
   "cell_type": "code",
   "execution_count": 23,
   "metadata": {},
   "outputs": [
    {
     "name": "stdout",
     "output_type": "stream",
     "text": [
      "14\n"
     ]
    }
   ],
   "source": [
    "tc = int(input())\n",
    "import math\n",
    "for _ in range(tc):\n",
    " \n",
    "    n, p, l, t = map(int, input().split())\n",
    " \n",
    "    weeks = math.ceil(n/7)\n",
    " \n",
    "    plessons = math.ceil(weeks/2)\n",
    "    ptsleftbcpracticals = p-plessons*l-weeks*t\n",
    "    if(ptsleftbcpracticals<=0):\n",
    "        print(n-(math.ceil(p/(l+2*t))))\n",
    "    else:\n",
    "        print(n-(plessons+math.ceil(ptsleftbcpracticals/l)))"
   ]
  },
  {
   "cell_type": "code",
   "execution_count": 12,
   "metadata": {},
   "outputs": [
    {
     "name": "stdout",
     "output_type": "stream",
     "text": [
      "2\n"
     ]
    }
   ],
   "source": [
    "import math\n",
    "print(math.ceil(4/2))"
   ]
  },
  {
   "cell_type": "code",
   "execution_count": null,
   "metadata": {},
   "outputs": [],
   "source": []
  }
 ],
 "metadata": {
  "kernelspec": {
   "display_name": "Python 3",
   "language": "python",
   "name": "python3"
  },
  "language_info": {
   "codemirror_mode": {
    "name": "ipython",
    "version": 3
   },
   "file_extension": ".py",
   "mimetype": "text/x-python",
   "name": "python",
   "nbconvert_exporter": "python",
   "pygments_lexer": "ipython3",
   "version": "3.10.4"
  }
 },
 "nbformat": 4,
 "nbformat_minor": 2
}
