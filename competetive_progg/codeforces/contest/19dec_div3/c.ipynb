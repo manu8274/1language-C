{
 "cells": [
  {
   "cell_type": "code",
   "execution_count": null,
   "metadata": {},
   "outputs": [],
   "source": [
    "for _ in range(int(input())):\n",
    "    n=int(input())\n",
    "    lst1=list(map(int,input().split()))\n",
    "    lst2=list(map(int,input().split()))\n",
    "    lst3=list(map(int,input().split()))\n",
    "    \n",
    "    if(lst1.index(max(lst1))!=lst2.index(max(lst2))and lst2.index(max(lst2))!=lst3.index(max(lst3)) and lst1.index(max(lst1))!=lst3.index(max(lst3))):\n",
    "        print(max(lst1)+max(lst2)+max(lst3))\n",
    "    else:\n",
    "        lst1sort=lst1.sort()\n",
    "        lst2sort=lst2.sort()\n",
    "        lst3sort=lst3.sort()\n",
    "        "
   ]
  },
  {
   "cell_type": "code",
   "execution_count": 6,
   "metadata": {},
   "outputs": [
    {
     "name": "stdout",
     "output_type": "stream",
     "text": [
      "True\n"
     ]
    }
   ],
   "source": [
    "print(1!=2==2)"
   ]
  },
  {
   "cell_type": "code",
   "execution_count": 12,
   "metadata": {},
   "outputs": [
    {
     "name": "stdout",
     "output_type": "stream",
     "text": [
      "True\n",
      "9\n"
     ]
    }
   ],
   "source": [
    "d={4:[2,5],1:3,2:3}\n",
    "d1={5:[1,5],1:3,2:3}\n",
    "print(d[max(d)]!=d1[max(d1)])\n"
   ]
  },
  {
   "cell_type": "code",
   "execution_count": null,
   "metadata": {},
   "outputs": [],
   "source": []
  }
 ],
 "metadata": {
  "kernelspec": {
   "display_name": "Python 3",
   "language": "python",
   "name": "python3"
  },
  "language_info": {
   "codemirror_mode": {
    "name": "ipython",
    "version": 3
   },
   "file_extension": ".py",
   "mimetype": "text/x-python",
   "name": "python",
   "nbconvert_exporter": "python",
   "pygments_lexer": "ipython3",
   "version": "3.10.4"
  }
 },
 "nbformat": 4,
 "nbformat_minor": 2
}
