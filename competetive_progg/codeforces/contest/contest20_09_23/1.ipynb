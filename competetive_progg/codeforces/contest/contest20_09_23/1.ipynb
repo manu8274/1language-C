{
 "cells": [
  {
   "cell_type": "code",
   "execution_count": null,
   "metadata": {},
   "outputs": [],
   "source": [
    "for i in range(int(input())):\n",
    "    s=input()\n",
    "    if(s[0]=='a' or s[1]=='b' or s[2]=='c'):\n",
    "        print(\"YES\")\n",
    "    else:\n",
    "        print(\"NO\")"
   ]
  },
  {
   "cell_type": "code",
   "execution_count": 2,
   "metadata": {},
   "outputs": [
    {
     "name": "stdout",
     "output_type": "stream",
     "text": [
      "16\n"
     ]
    }
   ],
   "source": [
    "for i in range(int(input())):\n",
    "    n=int(input())\n",
    "    lst=list(map(int,input().split()))\n",
    "    mni=lst.index(min(lst))\n",
    "    lst[mni]+=1\n",
    "    a=1\n",
    "    for i in lst:\n",
    "        a=a*i\n",
    "    print(a)"
   ]
  },
  {
   "cell_type": "code",
   "execution_count": null,
   "metadata": {},
   "outputs": [],
   "source": [
    "for i in range(int(input())):\n",
    "    lst=[]\n",
    "    for i in range(10):\n",
    "        lst1=[x for x in input()]\n",
    "        lst.append(lst1)\n",
    "    \n",
    "    p=0\n",
    "\n",
    "    for i in range(10):\n",
    "        for j in range(10):\n",
    "            if(lst[i][j]=='X'):\n",
    "                if(i==0 or i==9 or j==0 or j==9):\n",
    "                    p+=1\n",
    "                elif(i==1 or i==8 or j==1 or j==8):\n",
    "                    p+=2\n",
    "                elif(i==2 or i==7 or j==2 or j==7):\n",
    "                    p+=3\n",
    "                elif(i==3 or i==6 or j==3 or j==6):\n",
    "                    p+=4\n",
    "                elif(i==4 or i==5 or j==4 or j==5):\n",
    "                    p+=5\n",
    "    print(p)     "
   ]
  },
  {
   "cell_type": "code",
   "execution_count": 2,
   "metadata": {},
   "outputs": [
    {
     "name": "stdout",
     "output_type": "stream",
     "text": [
      "2\n"
     ]
    }
   ],
   "source": [
    "for i in range(int(input())):\n",
    "    n,k=map(int,input().split())\n",
    "    s=input()\n",
    "    op=0\n",
    "    if(\"B\" in s):\n",
    "        bi=s.index('B')\n",
    "        while(s.count(\"B\")!=0):\n",
    "            s=s[bi+k:]\n",
    "            if(\"B\" in s):\n",
    "                bi=s.index('B')\n",
    "            op+=1\n",
    "    print(op)"
   ]
  },
  {
   "cell_type": "code",
   "execution_count": 3,
   "metadata": {},
   "outputs": [
    {
     "name": "stdout",
     "output_type": "stream",
     "text": [
      "2\n"
     ]
    }
   ],
   "source": [
    "for i in range(int(input())):\n",
    "    n,k=map(int,input().split())\n",
    "    s=input()\n",
    "    op=0\n",
    "    while(True):\n",
    "        bi=s.index('B')\n",
    "        s=s[bi+k:]\n",
    "        op+=1\n",
    "        if(\"B\" not in s):\n",
    "            break\n",
    "    print(op)"
   ]
  },
  {
   "cell_type": "code",
   "execution_count": null,
   "metadata": {},
   "outputs": [],
   "source": [
    "for i in range(int(input())):\n",
    "    n,k=map(int,input().split())\n",
    "    s=input()\n",
    "    op=0\n",
    "    i=0\n",
    "    while(i<n):\n",
    "        if(s[i]==\"B\"):\n",
    "            op+=1\n",
    "            i+=k\n",
    "        else:\n",
    "            i+=1\n",
    "    print(op)"
   ]
  },
  {
   "cell_type": "code",
   "execution_count": 5,
   "metadata": {},
   "outputs": [
    {
     "name": "stdout",
     "output_type": "stream",
     "text": [
      "2\n"
     ]
    }
   ],
   "source": [
    "for _ in range(int(input())):\n",
    "    s=input()\n",
    "    c=0\n",
    "    \n",
    "    print(c)"
   ]
  },
  {
   "cell_type": "code",
   "execution_count": 1,
   "metadata": {},
   "outputs": [
    {
     "name": "stdout",
     "output_type": "stream",
     "text": [
      "yzcdef 1\n"
     ]
    }
   ],
   "source": []
  },
  {
   "cell_type": "code",
   "execution_count": null,
   "metadata": {},
   "outputs": [],
   "source": []
  }
 ],
 "metadata": {
  "kernelspec": {
   "display_name": "Python 3",
   "language": "python",
   "name": "python3"
  },
  "language_info": {
   "codemirror_mode": {
    "name": "ipython",
    "version": 3
   },
   "file_extension": ".py",
   "mimetype": "text/x-python",
   "name": "python",
   "nbconvert_exporter": "python",
   "pygments_lexer": "ipython3",
   "version": "3.11.5"
  },
  "orig_nbformat": 4
 },
 "nbformat": 4,
 "nbformat_minor": 2
}
