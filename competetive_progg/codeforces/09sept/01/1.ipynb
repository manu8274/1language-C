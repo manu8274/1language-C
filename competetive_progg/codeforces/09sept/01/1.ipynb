{
 "cells": [
  {
   "cell_type": "code",
   "execution_count": 13,
   "metadata": {},
   "outputs": [
    {
     "name": "stdout",
     "output_type": "stream",
     "text": [
      "12\n",
      "33\n",
      "75\n"
     ]
    }
   ],
   "source": [
    "def gcd(a,b):\n",
    "    if(b!=0):\n",
    "        return (gcd(b,a%b))\n",
    "    else:\n",
    "        return a\n",
    "for _ in range(int(input())):\n",
    "    t=int(input())\n",
    "    sum1=sum(list(map(int,str(t))))\n",
    "    x=gcd(t,sum1)\n",
    "    while x==1:\n",
    "        t=t+1\n",
    "        sum1=sum(list(map(int,str(t))))\n",
    "        x=gcd(t,sum1)\n",
    "    print(t)"
   ]
  },
  {
   "cell_type": "code",
   "execution_count": 7,
   "metadata": {},
   "outputs": [],
   "source": [
    "x=int(input())\n",
    "y=list(map(int,str(x)))"
   ]
  },
  {
   "cell_type": "code",
   "execution_count": 10,
   "metadata": {},
   "outputs": [
    {
     "name": "stdout",
     "output_type": "stream",
     "text": [
      "[1, 2, 3]\n",
      "6\n"
     ]
    }
   ],
   "source": [
    "print(y)\n",
    "print(sum(y))"
   ]
  },
  {
   "cell_type": "code",
   "execution_count": null,
   "metadata": {},
   "outputs": [],
   "source": []
  }
 ],
 "metadata": {
  "kernelspec": {
   "display_name": "Python 3",
   "language": "python",
   "name": "python3"
  },
  "language_info": {
   "codemirror_mode": {
    "name": "ipython",
    "version": 3
   },
   "file_extension": ".py",
   "mimetype": "text/x-python",
   "name": "python",
   "nbconvert_exporter": "python",
   "pygments_lexer": "ipython3",
   "version": "3.11.5"
  },
  "orig_nbformat": 4
 },
 "nbformat": 4,
 "nbformat_minor": 2
}
