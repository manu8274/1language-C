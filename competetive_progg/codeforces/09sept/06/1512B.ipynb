{
 "cells": [
  {
   "cell_type": "code",
   "execution_count": 6,
   "metadata": {},
   "outputs": [
    {
     "name": "stdout",
     "output_type": "stream",
     "text": [
      "*.*\n",
      "...\n",
      "*.*\n"
     ]
    }
   ],
   "source": [
    "for _ in range(int(input())):\n",
    "    n=int(input())\n",
    "    lst=[]\n",
    "    x1,y1=0,0\n",
    "    x2,y2=0,0\n",
    "    c=0\n",
    "    for i in range(n):\n",
    "        lst1=list(map(str,input()))\n",
    "        if(lst1.count('*')==1 and c==0):\n",
    "            x1=i\n",
    "            y1=lst1.index('*')\n",
    "            c+=1\n",
    "        elif(lst1.count('*')==1 and c==1):\n",
    "            x2=i\n",
    "            y2=lst1.index('*')\n",
    "        elif(lst1.count('*')==2):\n",
    "            x1=x2=i\n",
    "            y1=lst1.index('*')\n",
    "            lst1[y1]='.'\n",
    "            y2=lst1.index('*')\n",
    "            lst1[y1]='*'\n",
    "        lst.append(lst1)\n",
    "    if(x1==x2):\n",
    "        if(x1==n-1):\n",
    "            lst[0][y1],lst[0][y2]='*','*'\n",
    "        else:\n",
    "            lst[n-1][y1],lst[n-1][y2]='*','*'\n",
    "    elif(y1==y2):\n",
    "        if(y1==n-1):\n",
    "            lst[x1][0],lst[x2][0]='*','*'\n",
    "        else:\n",
    "            lst[x1][n-1],lst[x2][n-1]='*','*'\n",
    "    else:\n",
    "        lst[x2][y1]='*'\n",
    "        lst[x1][y2]='*'\n",
    "    for i in range(n):\n",
    "        for j in range(n):\n",
    "            print(lst[i][j],end=\"\")\n",
    "        print()"
   ]
  },
  {
   "cell_type": "code",
   "execution_count": 4,
   "metadata": {},
   "outputs": [
    {
     "name": "stdout",
     "output_type": "stream",
     "text": [
      "[['*', '.', '*']]\n"
     ]
    }
   ],
   "source": [
    "print(lst)"
   ]
  },
  {
   "cell_type": "code",
   "execution_count": 48,
   "metadata": {},
   "outputs": [
    {
     "name": "stdout",
     "output_type": "stream",
     "text": [
      "0\n"
     ]
    }
   ],
   "source": [
    "lst=[1,2,3,1]\n",
    "print(lst.index(1))"
   ]
  },
  {
   "cell_type": "code",
   "execution_count": null,
   "metadata": {},
   "outputs": [],
   "source": []
  },
  {
   "cell_type": "code",
   "execution_count": null,
   "metadata": {},
   "outputs": [],
   "source": []
  }
 ],
 "metadata": {
  "kernelspec": {
   "display_name": "Python 3",
   "language": "python",
   "name": "python3"
  },
  "language_info": {
   "codemirror_mode": {
    "name": "ipython",
    "version": 3
   },
   "file_extension": ".py",
   "mimetype": "text/x-python",
   "name": "python",
   "nbconvert_exporter": "python",
   "pygments_lexer": "ipython3",
   "version": "3.11.5"
  },
  "orig_nbformat": 4
 },
 "nbformat": 4,
 "nbformat_minor": 2
}
