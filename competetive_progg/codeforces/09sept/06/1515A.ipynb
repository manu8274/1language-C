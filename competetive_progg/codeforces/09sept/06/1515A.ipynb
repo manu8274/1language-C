{
 "cells": [
  {
   "cell_type": "code",
   "execution_count": 6,
   "metadata": {},
   "outputs": [
    {
     "name": "stdout",
     "output_type": "stream",
     "text": [
      "YES\n",
      "2 3 1\n"
     ]
    }
   ],
   "source": [
    "for _ in range(int(input())):\n",
    "    n,x=map(int,input().split())\n",
    "    lst=list(map(int,input().split()))\n",
    "    lst1=[]\n",
    "    sum1=0\n",
    "    sum2=sum(lst)\n",
    "    temp=0\n",
    "    templ=[]\n",
    "    if(sum2==x):\n",
    "        print(\"NO\")\n",
    "    else:\n",
    "        for i in range(n):\n",
    "            sum1+=lst[i]\n",
    "            if(sum1!=x):\n",
    "                lst1.append(lst[i])\n",
    "            else:\n",
    "                sum1-=lst[i]\n",
    "                templ.append(lst[i])\n",
    "                temp+=1\n",
    "        if(temp):\n",
    "            lst1.extend(templ)\n",
    "        print(\"YES\")\n",
    "        print(*(lst1))"
   ]
  },
  {
   "cell_type": "code",
   "execution_count": 5,
   "metadata": {},
   "outputs": [
    {
     "name": "stdout",
     "output_type": "stream",
     "text": [
      "1\n"
     ]
    }
   ],
   "source": [
    "print(temp)"
   ]
  },
  {
   "cell_type": "code",
   "execution_count": null,
   "metadata": {},
   "outputs": [],
   "source": [
    "3 2 1 "
   ]
  }
 ],
 "metadata": {
  "kernelspec": {
   "display_name": "Python 3",
   "language": "python",
   "name": "python3"
  },
  "language_info": {
   "codemirror_mode": {
    "name": "ipython",
    "version": 3
   },
   "file_extension": ".py",
   "mimetype": "text/x-python",
   "name": "python",
   "nbconvert_exporter": "python",
   "pygments_lexer": "ipython3",
   "version": "3.11.5"
  },
  "orig_nbformat": 4
 },
 "nbformat": 4,
 "nbformat_minor": 2
}
