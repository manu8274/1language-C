{
 "cells": [
  {
   "cell_type": "code",
   "execution_count": null,
   "metadata": {},
   "outputs": [],
   "source": [
    "for _ in range(int(input())):\n",
    "    a,b,c=map(int,input().split())\n",
    "    mn=min(a,b)\n",
    "    if(mn==1):\n",
    "        z=b-mn\n",
    "        print(c+z)\n",
    "    elif(mn*2>b and mn%2==0):\n",
    "        z=b-mn\n",
    "        print(c+z)\n",
    "    elif()"
   ]
  }
 ],
 "metadata": {
  "language_info": {
   "name": "python"
  },
  "orig_nbformat": 4
 },
 "nbformat": 4,
 "nbformat_minor": 2
}
