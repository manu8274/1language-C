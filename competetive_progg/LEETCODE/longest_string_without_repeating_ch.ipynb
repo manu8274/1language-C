{
 "cells": [
  {
   "cell_type": "code",
   "execution_count": 15,
   "metadata": {},
   "outputs": [
    {
     "name": "stdout",
     "output_type": "stream",
     "text": [
      "2 upto  d\n",
      "3\n"
     ]
    }
   ],
   "source": [
    "s=input()\n",
    "c=''\n",
    "count=0\n",
    "maxc=0\n",
    "for i in s:\n",
    "    if(i in c):\n",
    "        x=c.index(i)\n",
    "        c=c[x+1:]\n",
    "        c+=i\n",
    "        count=len(c)\n",
    "    else:\n",
    "        c+=i\n",
    "        count+=1\n",
    "        maxc=count  if(count>maxc) else maxc\n",
    "print(maxc)"
   ]
  },
  {
   "cell_type": "code",
   "execution_count": null,
   "metadata": {},
   "outputs": [],
   "source": [
    "dvdf abcabcd"
   ]
  }
 ],
 "metadata": {
  "kernelspec": {
   "display_name": "Python 3",
   "language": "python",
   "name": "python3"
  },
  "language_info": {
   "codemirror_mode": {
    "name": "ipython",
    "version": 3
   },
   "file_extension": ".py",
   "mimetype": "text/x-python",
   "name": "python",
   "nbconvert_exporter": "python",
   "pygments_lexer": "ipython3",
   "version": "3.11.5"
  },
  "orig_nbformat": 4
 },
 "nbformat": 4,
 "nbformat_minor": 2
}
