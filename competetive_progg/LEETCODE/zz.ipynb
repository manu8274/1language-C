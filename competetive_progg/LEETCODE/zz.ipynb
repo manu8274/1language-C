{
 "cells": [
  {
   "cell_type": "code",
   "execution_count": 4,
   "metadata": {},
   "outputs": [
    {
     "name": "stdout",
     "output_type": "stream",
     "text": [
      "P I N A S G Y H P I A R L I\n"
     ]
    }
   ],
   "source": [
    "s=\"PAYPALISHIRING\"\n",
    "n=int(input())\n",
    "lst=[]\n",
    "for i in range(len(s)):\n",
    "    k=i\n",
    "    while k<len(s):\n",
    "        if(s.count(s[k])>lst.count(s[k])):\n",
    "            lst.append(s[k])\n",
    "        k=k+(n-1)*2\n",
    "print(*lst)"
   ]
  },
  {
   "cell_type": "code",
   "execution_count": null,
   "metadata": {},
   "outputs": [],
   "source": [
    "def fun1(n,m,lst):\n",
    "    if(m==n or m+lst.count(1)>=n):\n",
    "        return n\n",
    "    if(lst.count(1)==1):\n",
    "        return m+1\n",
    "        \n",
    "    \n",
    "\n",
    "if __name__==\"__main__\":\n",
    "    n,m=map(int,input().split())\n",
    "    lst=list(map(int,input().split()))\n",
    "    print(fun1(n,m,lst))"
   ]
  }
 ],
 "metadata": {
  "kernelspec": {
   "display_name": "Python 3",
   "language": "python",
   "name": "python3"
  },
  "language_info": {
   "codemirror_mode": {
    "name": "ipython",
    "version": 3
   },
   "file_extension": ".py",
   "mimetype": "text/x-python",
   "name": "python",
   "nbconvert_exporter": "python",
   "pygments_lexer": "ipython3",
   "version": "3.10.4"
  }
 },
 "nbformat": 4,
 "nbformat_minor": 2
}
