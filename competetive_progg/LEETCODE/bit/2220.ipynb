{
 "cells": [
  {
   "cell_type": "code",
   "execution_count": 9,
   "metadata": {},
   "outputs": [
    {
     "name": "stdout",
     "output_type": "stream",
     "text": [
      "3\n"
     ]
    }
   ],
   "source": [
    "#2220\n",
    "s=10\n",
    "g=7\n",
    "print((str(bin(s^g))).count(\"1\"))"
   ]
  },
  {
   "cell_type": "code",
   "execution_count": 15,
   "metadata": {},
   "outputs": [
    {
     "name": "stdout",
     "output_type": "stream",
     "text": [
      "5\n",
      "5\n",
      "7\n",
      "28\n"
     ]
    }
   ],
   "source": [
    "#1863\n",
    "nums=[5,1,6]\n",
    "n=len(nums)\n",
    "all_or=0\n",
    "for i in range(n):\n",
    "    all_or|=nums[i]\n",
    "    print(all_or)\n",
    "# print(all_or*(1<<(n-1)))\n",
    "print(all_or*(2**(n-1)))"
   ]
  },
  {
   "cell_type": "code",
   "execution_count": 37,
   "metadata": {},
   "outputs": [
    {
     "name": "stdout",
     "output_type": "stream",
     "text": [
      "0 1 2 4 8 3 5 6 7 [0, 1, 2, 4, 8, 3, 5, 6, 7]\n"
     ]
    }
   ],
   "source": [
    "d={}\n",
    "arr=[0,1,2,3,4,5,6,7,8]\n",
    "for i in arr:\n",
    "    t=i\n",
    "    c=0\n",
    "    while(t>0):\n",
    "        c=c+1 if t%2==1 else c\n",
    "        t=t//2\n",
    "    if(c not in d):\n",
    "        d[c]=[i]\n",
    "    else:\n",
    "        d[c].append(i)\n",
    "print([j for i in sorted(d) for j in d[i]])"
   ]
  },
  {
   "cell_type": "code",
   "execution_count": null,
   "metadata": {},
   "outputs": [],
   "source": []
  }
 ],
 "metadata": {
  "kernelspec": {
   "display_name": "Python 3",
   "language": "python",
   "name": "python3"
  },
  "language_info": {
   "codemirror_mode": {
    "name": "ipython",
    "version": 3
   },
   "file_extension": ".py",
   "mimetype": "text/x-python",
   "name": "python",
   "nbconvert_exporter": "python",
   "pygments_lexer": "ipython3",
   "version": "3.10.4"
  }
 },
 "nbformat": 4,
 "nbformat_minor": 2
}
