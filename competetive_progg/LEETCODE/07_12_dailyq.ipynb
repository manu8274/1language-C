{
 "cells": [
  {
   "cell_type": "code",
   "execution_count": null,
   "metadata": {},
   "outputs": [],
   "source": [
    "num=\"3542\"\n",
    "for i in range(1,len(num)+1):\n",
    "    if(ord(num[-i])) %2!=0:\n",
    "        print (num[0:len(num)-i+1])\n",
    "        break\n",
    "else:\n",
    "    print (\"\")"
   ]
  }
 ],
 "metadata": {
  "language_info": {
   "name": "python"
  }
 },
 "nbformat": 4,
 "nbformat_minor": 2
}
