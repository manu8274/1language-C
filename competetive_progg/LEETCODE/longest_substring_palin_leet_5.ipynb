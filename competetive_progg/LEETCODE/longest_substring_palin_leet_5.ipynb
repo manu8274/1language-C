{
 "cells": [
  {
   "cell_type": "code",
   "execution_count": 245,
   "metadata": {},
   "outputs": [
    {
     "name": "stdout",
     "output_type": "stream",
     "text": [
      "1 aaaa\n",
      "2 aaaa\n",
      "aaaa\n"
     ]
    }
   ],
   "source": [
    "# s=\"babaddtattarrattatddetartrateedredividerb\"\n",
    "s=\"aaaabaaa\"\n",
    "x=\"\"\n",
    "l=1\n",
    "if s==s[::-1]:\n",
    "    print(s)\n",
    "if(len(s)==len(set(s))):\n",
    "    print(s[0])\n",
    "else:\n",
    "    mc=0\n",
    "    c=1\n",
    "    a=\"\"\n",
    "    for i in range(1,len(s)):\n",
    "        if(s[i-1]==s[i]):\n",
    "            c+=1\n",
    "            a=s[i-1]\n",
    "        else:\n",
    "            mc=max(mc,c)\n",
    "            c=1\n",
    "    if(mc>l):\n",
    "        l=mc\n",
    "        x=a*mc\n",
    "    print(\"1\",x)\n",
    "    for i in range(len(s)):\n",
    "        j=1\n",
    "        while (i-j)>=0 and i+j<len(s):\n",
    "            if(s[i-j]==s[i+j] and l<=2*j+1):\n",
    "                x=s[i-j:i+j+1]\n",
    "                l=2*j+1\n",
    "            else:\n",
    "                break\n",
    "            j+=1\n",
    "    print(\"2\",x)\n",
    "    for i in range(len(s)):\n",
    "        ans=ord(s[i])\n",
    "        for j in range(i+1,len(s)):\n",
    "            ans=ans^ord(s[j])\n",
    "            if(ans==0 and l<j-i+1  and s[i:j+1]==s[j:i-1:-1]):\n",
    "                l=j-i\n",
    "                x=s[i:j+1]\n",
    "    print(x)"
   ]
  },
  {
   "cell_type": "code",
   "execution_count": 251,
   "metadata": {},
   "outputs": [
    {
     "name": "stdout",
     "output_type": "stream",
     "text": [
      "a\n"
     ]
    }
   ],
   "source": [
    "# s=\"babaddtattarrattatddetartrateedredividerb\"\n",
    "# s=\"aaaabaaa\"\n",
    "\n",
    "s=\"a\"\n",
    "x=\"\"\n",
    "l=0\n",
    "if s==s[::-1]:\n",
    "    return(s)\n",
    "elif(len(s)==len(set(s))):\n",
    "    return(s[0])\n",
    "else:\n",
    "    for i in range(len(s)):\n",
    "        j=1\n",
    "        while (i-j)>=0 and i+j<len(s):\n",
    "            if(s[i-j]==s[i+j] and l<=2*j+1):\n",
    "                x=s[i-j:i+j+1]\n",
    "                l=2*j+1\n",
    "            else:\n",
    "                break\n",
    "            j+=1\n",
    "    for i in range(len(s)):\n",
    "        ans=ord(s[i])\n",
    "        for j in range(i+1,len(s)):\n",
    "            ans=ans^ord(s[j])\n",
    "            if(ans==0 and l<j-i+1  and s[i:j+1]==s[j:i-1:-1]):\n",
    "                l=j-i\n",
    "                x=s[i:j+1]\n",
    "    mc=0\n",
    "    c=1\n",
    "    a=\"\"\n",
    "    for i in range(1,len(s)):\n",
    "        if(s[i-1]==s[i]):\n",
    "            c+=1\n",
    "            a=s[i-1]\n",
    "        else:\n",
    "            mc=max(mc,c)\n",
    "            c=1\n",
    "    if(mc>l):\n",
    "        l=mc\n",
    "        x=a*mc\n",
    "    return(x)"
   ]
  },
  {
   "cell_type": "code",
   "execution_count": null,
   "metadata": {},
   "outputs": [],
   "source": [
    "print(a[0]&a[1      \n",
    "             ])"
   ]
  },
  {
   "cell_type": "code",
   "execution_count": null,
   "metadata": {},
   "outputs": [],
   "source": []
  },
  {
   "cell_type": "code",
   "execution_count": null,
   "metadata": {},
   "outputs": [],
   "source": [
    "s=\"abcda\"\n",
    "l=0\n",
    "x=\"\"\n",
    "for i in range(len(s)):\n",
    "    if(s[:i+1]==s[i::-1] and l<i):\n",
    "        x=s[:i+1]\n",
    "        l=i\n",
    "for i in range(len(s)):\n",
    "    for j in range(i,len(s)):\n",
    "        if(s[i:j+1]==s[j:i-1:-1] and l<j-i+1):\n",
    "            x=s[i:j+1]\n",
    "            l=j-i+1\n",
    "print(x)"
   ]
  },
  {
   "cell_type": "code",
   "execution_count": null,
   "metadata": {},
   "outputs": [],
   "source": [
    "s=\"cbbd\"\n",
    "l=len(s)\n",
    "i=0\n",
    "j=1\n",
    "print(s[j-l:i-l:-1])\n",
    "print(s[i:j+1])\n",
    "if(s[i:j+1]==s[j-l:i-l-1:-1]):\n",
    "    print(12)"
   ]
  },
  {
   "cell_type": "code",
   "execution_count": null,
   "metadata": {},
   "outputs": [],
   "source": []
  },
  {
   "cell_type": "code",
   "execution_count": null,
   "metadata": {},
   "outputs": [],
   "source": []
  },
  {
   "cell_type": "code",
   "execution_count": null,
   "metadata": {},
   "outputs": [],
   "source": [
    "a=\"manasvi\"\n",
    "print(a[-1:-3:-1])"
   ]
  },
  {
   "cell_type": "code",
   "execution_count": null,
   "metadata": {},
   "outputs": [],
   "source": []
  },
  {
   "cell_type": "code",
   "execution_count": null,
   "metadata": {},
   "outputs": [],
   "source": []
  }
 ],
 "metadata": {
  "kernelspec": {
   "display_name": "Python 3",
   "language": "python",
   "name": "python3"
  },
  "language_info": {
   "codemirror_mode": {
    "name": "ipython",
    "version": 3
   },
   "file_extension": ".py",
   "mimetype": "text/x-python",
   "name": "python",
   "nbconvert_exporter": "python",
   "pygments_lexer": "ipython3",
   "version": "3.10.4"
  }
 },
 "nbformat": 4,
 "nbformat_minor": 2
}
