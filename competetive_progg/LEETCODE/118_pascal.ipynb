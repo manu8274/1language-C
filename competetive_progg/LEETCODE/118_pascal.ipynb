{
 "cells": [
  {
   "cell_type": "code",
   "execution_count": 10,
   "metadata": {},
   "outputs": [
    {
     "name": "stdout",
     "output_type": "stream",
     "text": [
      "[[1], [1, 1], [1, 2, 1], [1, 3, 3, 1], [1, 4, 6, 4, 1]]\n"
     ]
    }
   ],
   "source": [
    "n=5\n",
    "if(n==1):\n",
    "    print([1])\n",
    "elif(n==2):\n",
    "    print ([1,1])\n",
    "l=[[1],[1,1]]\n",
    "while(len(l)<n):\n",
    "    p=len(l)-1\n",
    "    # print(len(l),len(l[p]))\n",
    "    a=[]\n",
    "    for i in range(len(l[p])):\n",
    "        if(i==0):\n",
    "            a.append(l[p][i])\n",
    "        elif(i==len(l[p])-1):\n",
    "            a.append(l[p][i]+l[p][i-1])\n",
    "            a.append(l[p][i])\n",
    "        else:\n",
    "            a.append(l[p][i]+l[p][i-1])\n",
    "    # print(a)\n",
    "    l.append(a)\n",
    "print(l)"
   ]
  },
  {
   "cell_type": "code",
   "execution_count": null,
   "metadata": {},
   "outputs": [],
   "source": []
  }
 ],
 "metadata": {
  "kernelspec": {
   "display_name": "Python 3",
   "language": "python",
   "name": "python3"
  },
  "language_info": {
   "codemirror_mode": {
    "name": "ipython",
    "version": 3
   },
   "file_extension": ".py",
   "mimetype": "text/x-python",
   "name": "python",
   "nbconvert_exporter": "python",
   "pygments_lexer": "ipython3",
   "version": "3.10.4"
  }
 },
 "nbformat": 4,
 "nbformat_minor": 2
}
