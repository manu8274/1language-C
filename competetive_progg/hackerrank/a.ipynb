{
 "cells": [
  {
   "cell_type": "code",
   "execution_count": 22,
   "metadata": {},
   "outputs": [
    {
     "name": "stdout",
     "output_type": "stream",
     "text": [
      "True True False False True\n"
     ]
    }
   ],
   "source": [
    "s=input()\n",
    "l=[False,False,False,False,False]\n",
    "for i in s:\n",
    "    if(ord(i)>=97 and ord(i)<=122) or (ord(i)>=65 and ord(i)<=90):\n",
    "        l[1]=True\n",
    "        l[0]=True\n",
    "        if(ord(i)>=97 and ord(i)<=122):\n",
    "            l[3]=True\n",
    "        else:\n",
    "            l[4]=True\n",
    "    if(ord(i)>=48 and ord(i)<=57):\n",
    "        l[2]=True\n",
    "        l[0]=True\n",
    "print(*(l))"
   ]
  },
  {
   "cell_type": "code",
   "execution_count": 23,
   "metadata": {},
   "outputs": [
    {
     "name": "stdout",
     "output_type": "stream",
     "text": [
      "48\n"
     ]
    }
   ],
   "source": [
    "print(ord(\"0\"))"
   ]
  },
  {
   "cell_type": "code",
   "execution_count": null,
   "metadata": {},
   "outputs": [],
   "source": []
  }
 ],
 "metadata": {
  "kernelspec": {
   "display_name": "Python 3",
   "language": "python",
   "name": "python3"
  },
  "language_info": {
   "codemirror_mode": {
    "name": "ipython",
    "version": 3
   },
   "file_extension": ".py",
   "mimetype": "text/x-python",
   "name": "python",
   "nbconvert_exporter": "python",
   "pygments_lexer": "ipython3",
   "version": "3.10.4"
  }
 },
 "nbformat": 4,
 "nbformat_minor": 2
}
