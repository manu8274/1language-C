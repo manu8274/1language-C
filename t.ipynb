{
 "cells": [
  {
   "cell_type": "code",
   "execution_count": 1,
   "metadata": {},
   "outputs": [
    {
     "name": "stdout",
     "output_type": "stream",
     "text": [
      "Collecting pyttsx3\n",
      "  Downloading pyttsx3-2.90-py3-none-any.whl.metadata (3.6 kB)\n",
      "Collecting comtypes (from pyttsx3)\n",
      "  Downloading comtypes-1.3.1-py3-none-any.whl.metadata (5.6 kB)\n",
      "Requirement already satisfied: pypiwin32 in c:\\users\\manu1\\appdata\\local\\programs\\python\\python310\\lib\\site-packages (from pyttsx3) (223)\n",
      "Requirement already satisfied: pywin32 in c:\\users\\manu1\\appdata\\local\\programs\\python\\python310\\lib\\site-packages (from pyttsx3) (306)\n",
      "Downloading pyttsx3-2.90-py3-none-any.whl (39 kB)\n",
      "Downloading comtypes-1.3.1-py3-none-any.whl (197 kB)\n",
      "   ---------------------------------------- 0.0/197.8 kB ? eta -:--:--\n",
      "   ---------------------------- ----------- 143.4/197.8 kB 4.2 MB/s eta 0:00:01\n",
      "   ---------------------------------------- 197.8/197.8 kB 4.0 MB/s eta 0:00:00\n",
      "Installing collected packages: comtypes, pyttsx3\n",
      "Successfully installed comtypes-1.3.1 pyttsx3-2.90\n",
      "Note: you may need to restart the kernel to use updated packages.\n"
     ]
    }
   ],
   "source": [
    "pip install pyttsx3"
   ]
  },
  {
   "cell_type": "code",
   "execution_count": 2,
   "metadata": {},
   "outputs": [
    {
     "name": "stdout",
     "output_type": "stream",
     "text": [
      "Collecting gTTS\n",
      "  Downloading gTTS-2.5.1-py3-none-any.whl.metadata (4.1 kB)\n",
      "Requirement already satisfied: requests<3,>=2.27 in c:\\users\\manu1\\appdata\\local\\programs\\python\\python310\\lib\\site-packages (from gTTS) (2.31.0)\n",
      "Requirement already satisfied: click<8.2,>=7.1 in c:\\users\\manu1\\appdata\\local\\programs\\python\\python310\\lib\\site-packages (from gTTS) (8.1.7)\n",
      "Requirement already satisfied: colorama in c:\\users\\manu1\\appdata\\local\\programs\\python\\python310\\lib\\site-packages (from click<8.2,>=7.1->gTTS) (0.4.6)\n",
      "Requirement already satisfied: charset-normalizer<4,>=2 in c:\\users\\manu1\\appdata\\local\\programs\\python\\python310\\lib\\site-packages (from requests<3,>=2.27->gTTS) (3.3.1)\n",
      "Requirement already satisfied: idna<4,>=2.5 in c:\\users\\manu1\\appdata\\local\\programs\\python\\python310\\lib\\site-packages (from requests<3,>=2.27->gTTS) (3.4)\n",
      "Requirement already satisfied: urllib3<3,>=1.21.1 in c:\\users\\manu1\\appdata\\local\\programs\\python\\python310\\lib\\site-packages (from requests<3,>=2.27->gTTS) (2.0.7)\n",
      "Requirement already satisfied: certifi>=2017.4.17 in c:\\users\\manu1\\appdata\\local\\programs\\python\\python310\\lib\\site-packages (from requests<3,>=2.27->gTTS) (2023.7.22)\n",
      "Downloading gTTS-2.5.1-py3-none-any.whl (29 kB)\n",
      "Installing collected packages: gTTS\n",
      "Successfully installed gTTS-2.5.1\n",
      "Note: you may need to restart the kernel to use updated packages.\n"
     ]
    }
   ],
   "source": [
    "pip install gTTS"
   ]
  },
  {
   "cell_type": "code",
   "execution_count": 5,
   "metadata": {},
   "outputs": [
    {
     "name": "stdout",
     "output_type": "stream",
     "text": [
      "Requirement already satisfied: pypiwin32 in c:\\users\\manu1\\appdata\\local\\programs\\python\\python310\\lib\\site-packages (223)\n",
      "Requirement already satisfied: pywin32>=223 in c:\\users\\manu1\\appdata\\local\\programs\\python\\python310\\lib\\site-packages (from pypiwin32) (306)\n",
      "Note: you may need to restart the kernel to use updated packages.\n"
     ]
    }
   ],
   "source": [
    "pip install pypiwin32"
   ]
  },
  {
   "cell_type": "code",
   "execution_count": 13,
   "metadata": {},
   "outputs": [],
   "source": [
    "import pyttsx3  \n",
    "converter = pyttsx3.init() \n",
    "voice_id = \"HKEY_LOCAL_MACHINE\\SOFTWARE\\Microsoft\\Speech\\Voices\\Tokens\\TTS_MS_EN-US_ZIRA_11.0\"\n",
    "converter.setProperty('voice', voice_id)  \n",
    "converter.setProperty('rate', 120) #speed\n",
    "converter.setProperty('volume', 1) #volume\n",
    "converter.say(\"Hi How r u\")  \n",
    "converter.runAndWait() \n"
   ]
  },
  {
   "cell_type": "code",
   "execution_count": null,
   "metadata": {},
   "outputs": [],
   "source": [
    "import pyttsx3  \n",
    "converter = pyttsx3.init() \n",
    "voice_id = \"HKEY_LOCAL_MACHINE\\SOFTWARE\\Microsoft\\Speech\\Voices\\Tokens\\TTS_MS_EN-US_ZIRA_11.0\"\n",
    "converter.setProperty('voice', voice_id)  \n",
    "converter.setProperty('rate', 120) #speed\n",
    "converter.setProperty('volume', 1) #volume\n",
    "converter.say(\"Hi How r u\")  \n",
    "converter.runAndWait() "
   ]
  }
 ],
 "metadata": {
  "kernelspec": {
   "display_name": "Python 3",
   "language": "python",
   "name": "python3"
  },
  "language_info": {
   "codemirror_mode": {
    "name": "ipython",
    "version": 3
   },
   "file_extension": ".py",
   "mimetype": "text/x-python",
   "name": "python",
   "nbconvert_exporter": "python",
   "pygments_lexer": "ipython3",
   "version": "3.10.4"
  }
 },
 "nbformat": 4,
 "nbformat_minor": 2
}
