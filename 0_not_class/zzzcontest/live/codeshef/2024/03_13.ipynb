{
 "cells": [
  {
   "cell_type": "code",
   "execution_count": 3,
   "metadata": {},
   "outputs": [
    {
     "name": "stdout",
     "output_type": "stream",
     "text": [
      "2\n",
      "4\n",
      "2\n"
     ]
    }
   ],
   "source": [
    "for _ in range(1):\n",
    "    # n=int(input())\n",
    "    n=6\n",
    "    # l=input()\n",
    "    l=\"010010\"\n",
    "    if(l.count(\"0\")==n):\n",
    "        print(n)\n",
    "    elif(l.count(\"1\")==n):\n",
    "        print(n)\n",
    "    else:\n",
    "        x=0\n",
    "        x1=0\n",
    "        for i in l:\n",
    "            if(i==\"0\"):\n",
    "                x+=1\n",
    "            else:\n",
    "                x1=max(x1,x+1)\n",
    "                print(x1)\n",
    "                x=1\n",
    "        print(x)"
   ]
  },
  {
   "cell_type": "code",
   "execution_count": null,
   "metadata": {},
   "outputs": [],
   "source": [
    "010010"
   ]
  }
 ],
 "metadata": {
  "kernelspec": {
   "display_name": "Python 3",
   "language": "python",
   "name": "python3"
  },
  "language_info": {
   "codemirror_mode": {
    "name": "ipython",
    "version": 3
   },
   "file_extension": ".py",
   "mimetype": "text/x-python",
   "name": "python",
   "nbconvert_exporter": "python",
   "pygments_lexer": "ipython3",
   "version": "3.10.4"
  }
 },
 "nbformat": 4,
 "nbformat_minor": 2
}
