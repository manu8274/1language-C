{
 "cells": [
  {
   "cell_type": "code",
   "execution_count": 9,
   "metadata": {},
   "outputs": [
    {
     "name": "stdout",
     "output_type": "stream",
     "text": [
      "NO\n",
      "NO\n",
      "YES\n",
      "YES\n",
      "NO\n"
     ]
    }
   ],
   "source": [
    "for _ in range(int(input())):\n",
    "    lst=list(map(int,input().split()))\n",
    "    lst.sort()\n",
    "    if(lst[0]==lst[1] and lst[1]==lst[2]):\n",
    "        print(\"YES\")\n",
    "    else:\n",
    "        if(lst[0]==lst[1]):\n",
    "            if(lst[2]==lst[0] or lst[2]==2*lst[0] or lst[2]==3*lst[0] or lst[2]==4*lst[0]):\n",
    "                print(\"YES\")\n",
    "            else:\n",
    "                print(\"NO\")\n",
    "        elif(2*lst[0]==lst[1]):\n",
    "            if(lst[2]==lst[0] or lst[2]==2*lst[0] or lst[2]==3*lst[0]):\n",
    "                print(\"YES\")\n",
    "            else:\n",
    "                print(\"NO\")\n",
    "        elif(3*lst[0]==lst[1]):\n",
    "            if(lst[2]==lst[0] or lst[2]==2*lst[0]):\n",
    "                print(\"YES\")\n",
    "            else:\n",
    "                print(\"NO\")\n",
    "        elif(lst[0]==lst[2]):\n",
    "            if(lst[1]==lst[0] or lst[1]==2*lst[0] or lst[1]==3*lst[0] or lst[1]==4*lst[0]):\n",
    "                print(\"YES\")\n",
    "            else:\n",
    "                print(\"NO\")\n",
    "        elif(2*lst[0]==lst[2]):\n",
    "            if(lst[1]==lst[0] or lst[1]==2*lst[0] or lst[1]==3*lst[0]):\n",
    "                print(\"YES\")\n",
    "            else:\n",
    "                print(\"NO\")\n",
    "        elif(3*lst[0]==lst[2]):\n",
    "            if(lst[1]==lst[0] or lst[1]==2*lst[0]):\n",
    "                print(\"YES\")\n",
    "            else:\n",
    "                print(\"NO\")\n",
    "        else:\n",
    "            print(\"NO\")"
   ]
  },
  {
   "cell_type": "code",
   "execution_count": null,
   "metadata": {},
   "outputs": [],
   "source": []
  }
 ],
 "metadata": {
  "kernelspec": {
   "display_name": "Python 3",
   "language": "python",
   "name": "python3"
  },
  "language_info": {
   "codemirror_mode": {
    "name": "ipython",
    "version": 3
   },
   "file_extension": ".py",
   "mimetype": "text/x-python",
   "name": "python",
   "nbconvert_exporter": "python",
   "pygments_lexer": "ipython3",
   "version": "3.10.4"
  }
 },
 "nbformat": 4,
 "nbformat_minor": 2
}
