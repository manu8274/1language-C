{
 "cells": [
  {
   "cell_type": "code",
   "execution_count": 7,
   "metadata": {},
   "outputs": [
    {
     "name": "stdout",
     "output_type": "stream",
     "text": [
      "0\n"
     ]
    }
   ],
   "source": [
    "for _ in range(int(input())):\n",
    "    n=int(input())\n",
    "    l=list(map(int,input().split()))\n",
    "    start=-1\n",
    "    end=-1\n",
    "    c=0\n",
    "    for i in range(n):\n",
    "        if(l[i]==1):\n",
    "            if(start==-1):\n",
    "                start=i\n",
    "            else:\n",
    "                end=i\n",
    "    for i in range(start,end+1):\n",
    "        if(l[i]==0):\n",
    "            c+=1\n",
    "    print(c)"
   ]
  },
  {
   "cell_type": "code",
   "execution_count": 36,
   "metadata": {},
   "outputs": [
    {
     "name": "stdout",
     "output_type": "stream",
     "text": [
      "YES\n"
     ]
    }
   ],
   "source": [
    "for _ in range(int(input())):\n",
    "    n,k=map(int,input().split())\n",
    "    mons=list(map(int,input().split()))\n",
    "    pos=list(map(int,input().split()))\n",
    "    for i in range(n):\n",
    "        if(pos[i]<0):\n",
    "            pos[i]=-pos[i]\n",
    "    lo=0\n",
    "    d={}\n",
    "    # print(mons,pos)\n",
    "    for i in range(n):\n",
    "        # print(i,pos[i])\n",
    "        if(pos[i] not in d):\n",
    "            # print(\"in dic if\")\n",
    "            d[pos[i]]=mons[i]\n",
    "        else:\n",
    "            # print(\"in dic else\")\n",
    "            d[pos[i]]+=mons[i]\n",
    "    flag=True\n",
    "    # print(d)\n",
    "    start=-1\n",
    "    for i in sorted(d):\n",
    "        if(start==-1):\n",
    "            lo=k*(i-1)\n",
    "            start=0\n",
    "        if(d[i]-lo>k):\n",
    "            flag=False\n",
    "        else:\n",
    "            if(d[i]-lo==k):\n",
    "                lo=0\n",
    "            else:\n",
    "                lo=(lo+k)-d[i]\n",
    "    if(flag==True):\n",
    "        print(\"YES\")\n",
    "    else:\n",
    "        print(\"NO\")"
   ]
  },
  {
   "cell_type": "code",
   "execution_count": 20,
   "metadata": {},
   "outputs": [
    {
     "name": "stdout",
     "output_type": "stream",
     "text": [
      "[1, 1] [1, 1] {}\n"
     ]
    }
   ],
   "source": [
    "5 3\n",
    "2 1 3 2 5\n",
    "-3 -2 3 4 5"
   ]
  },
  {
   "cell_type": "code",
   "execution_count": 33,
   "metadata": {},
   "outputs": [
    {
     "name": "stdout",
     "output_type": "stream",
     "text": [
      "2 1\n",
      "3 5\n",
      "4 2\n",
      "5 5\n"
     ]
    }
   ],
   "source": [
    "for i in sorted(d):\n",
    "    print(i,d[i])"
   ]
  },
  {
   "cell_type": "code",
   "execution_count": null,
   "metadata": {},
   "outputs": [],
   "source": []
  }
 ],
 "metadata": {
  "kernelspec": {
   "display_name": "Python 3",
   "language": "python",
   "name": "python3"
  },
  "language_info": {
   "codemirror_mode": {
    "name": "ipython",
    "version": 3
   },
   "file_extension": ".py",
   "mimetype": "text/x-python",
   "name": "python",
   "nbconvert_exporter": "python",
   "pygments_lexer": "ipython3",
   "version": "3.10.4"
  }
 },
 "nbformat": 4,
 "nbformat_minor": 2
}
