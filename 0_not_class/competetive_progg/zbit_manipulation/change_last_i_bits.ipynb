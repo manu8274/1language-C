{
 "cells": [
  {
   "cell_type": "code",
   "execution_count": 22,
   "metadata": {},
   "outputs": [
    {
     "name": "stdout",
     "output_type": "stream",
     "text": [
      "1111\n",
      "-2\n",
      "14\n",
      "1110\n"
     ]
    }
   ],
   "source": [
    "def binaryprint(x):\n",
    "    y=x\n",
    "    z=\"\"\n",
    "    while(y>0):\n",
    "        z=z+str(y%2)\n",
    "        y=y//2\n",
    "    print(z[::-1])\n",
    "    \n",
    "    \n",
    "a,i=(map(int,input().split()))\n",
    "binaryprint(a)\n",
    "x=((~0)<<i)\n",
    "print(x)\n",
    "print(x&a)\n",
    "binaryprint(x&a)"
   ]
  },
  {
   "cell_type": "code",
   "execution_count": null,
   "metadata": {},
   "outputs": [],
   "source": []
  }
 ],
 "metadata": {
  "kernelspec": {
   "display_name": "Python 3",
   "language": "python",
   "name": "python3"
  },
  "language_info": {
   "codemirror_mode": {
    "name": "ipython",
    "version": 3
   },
   "file_extension": ".py",
   "mimetype": "text/x-python",
   "name": "python",
   "nbconvert_exporter": "python",
   "pygments_lexer": "ipython3",
   "version": "3.10.4"
  }
 },
 "nbformat": 4,
 "nbformat_minor": 2
}
