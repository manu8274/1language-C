t=int(input())
for a in range(t):
    s=int(input())
    if(s%2==0):
        for i in range(1,s+1,2):
            if(i+1<=s):
                print(i+1,i,end=" ")
            else:
                print(i,end=" ")
        print("\n")
    else:
        print(3,1,2,end=" ")
        for i in range(4,s+1,2):
            if(i+1<=s):
                print(i+1,i,end=" ")
            else:
                print(i,end=" ")
        print("\n")