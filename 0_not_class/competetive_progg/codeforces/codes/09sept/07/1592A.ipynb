{
 "cells": [
  {
   "cell_type": "code",
   "execution_count": 3,
   "metadata": {},
   "outputs": [
    {
     "name": "stdout",
     "output_type": "stream",
     "text": [
      "1\n",
      "2\n",
      "3\n"
     ]
    }
   ],
   "source": [
    "for _ in range(int(input())):\n",
    "    n,h=map(int,input().split())\n",
    "    wep=list(map(int,input().split()))\n",
    "    wep.sort()\n",
    "    dam=wep[-1]\n",
    "    no=1\n",
    "    while(dam<h):\n",
    "        dam+=wep[-2]\n",
    "        no+=1\n",
    "        if(dam>=h):\n",
    "            break\n",
    "        dam+=wep[-1]\n",
    "        no+=1\n",
    "    print(no)"
   ]
  },
  {
   "cell_type": "code",
   "execution_count": 7,
   "metadata": {},
   "outputs": [
    {
     "name": "stdout",
     "output_type": "stream",
     "text": [
      "1\n",
      "2\n",
      "3\n"
     ]
    }
   ],
   "source": [
    "for _ in range(int(input())):\n",
    "    n,h=map(int,input().split())\n",
    "    wep=list(map(int,input().split()))\n",
    "    wep.sort()\n",
    "    max1=wep[-1]\n",
    "    max2=wep[-2]\n",
    "    if(h<=max1):\n",
    "        print(1)\n",
    "    elif(h<=max1+max2 and h>max1):\n",
    "        print(2)\n",
    "    else:\n",
    "        d=h//(max1+max2)\n",
    "        n=h%(max1+max2)\n",
    "        d*=2\n",
    "        if(n==0):\n",
    "            print(d)\n",
    "        elif(n<=max1 and n!=0):\n",
    "            print(d+1)\n",
    "        else:\n",
    "            print(d+2)"
   ]
  }
 ],
 "metadata": {
  "kernelspec": {
   "display_name": "Python 3",
   "language": "python",
   "name": "python3"
  },
  "language_info": {
   "codemirror_mode": {
    "name": "ipython",
    "version": 3
   },
   "file_extension": ".py",
   "mimetype": "text/x-python",
   "name": "python",
   "nbconvert_exporter": "python",
   "pygments_lexer": "ipython3",
   "version": "3.11.5"
  },
  "orig_nbformat": 4
 },
 "nbformat": 4,
 "nbformat_minor": 2
}
