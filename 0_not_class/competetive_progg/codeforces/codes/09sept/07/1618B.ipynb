{
 "cells": [
  {
   "cell_type": "code",
   "execution_count": 3,
   "metadata": {},
   "outputs": [
    {
     "name": "stdout",
     "output_type": "stream",
     "text": [
      "abbaaba\n",
      "abaabaa\n",
      "aaa\n",
      "bbabb\n"
     ]
    }
   ],
   "source": [
    "for _ in range(int(input())):\n",
    "    n=int(input())\n",
    "    lst=list(map(str,input().split()))\n",
    "    s=''\n",
    "    s+=lst[0]\n",
    "    for i in range(1,len(lst)):\n",
    "        if(s[-1]==lst[i][0]):\n",
    "            s+=lst[i][1]\n",
    "        elif(lst[i][0]==lst[i][1] and s[-1]!=lst[i][0]):\n",
    "            s+=lst[i]\n",
    "        else:\n",
    "            s+=lst[i][0]\n",
    "    if(n!=len(s)):\n",
    "        s+=lst[-1][-1]\n",
    "    print(s)"
   ]
  },
  {
   "cell_type": "code",
   "execution_count": null,
   "metadata": {},
   "outputs": [],
   "source": [
    "bbabb\n",
    "bbaab\n",
    "bb aa ab "
   ]
  }
 ],
 "metadata": {
  "kernelspec": {
   "display_name": "Python 3",
   "language": "python",
   "name": "python3"
  },
  "language_info": {
   "codemirror_mode": {
    "name": "ipython",
    "version": 3
   },
   "file_extension": ".py",
   "mimetype": "text/x-python",
   "name": "python",
   "nbconvert_exporter": "python",
   "pygments_lexer": "ipython3",
   "version": "3.11.5"
  },
  "orig_nbformat": 4
 },
 "nbformat": 4,
 "nbformat_minor": 2
}
