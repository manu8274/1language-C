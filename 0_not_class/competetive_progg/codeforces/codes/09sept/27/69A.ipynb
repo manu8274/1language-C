{
 "cells": [
  {
   "cell_type": "code",
   "execution_count": null,
   "metadata": {},
   "outputs": [],
   "source": [
    "n=int(input())\n",
    "x=0\n",
    "y=0\n",
    "z=0\n",
    "for i in range(n):\n",
    "    a,b,c=map(int,input().split())\n",
    "    x+=a\n",
    "    y+=b\n",
    "    z+=c\n",
    "if(x==0 and y==0 and z==0):\n",
    "    print(\"YES\")\n",
    "else:\n",
    "    print(\"NO\")"
   ]
  }
 ],
 "metadata": {
  "language_info": {
   "name": "python"
  },
  "orig_nbformat": 4
 },
 "nbformat": 4,
 "nbformat_minor": 2
}
