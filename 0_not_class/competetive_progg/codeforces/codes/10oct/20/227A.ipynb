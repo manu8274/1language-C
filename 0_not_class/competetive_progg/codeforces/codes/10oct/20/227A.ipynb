{
 "cells": [
  {
   "cell_type": "code",
   "execution_count": 16,
   "metadata": {},
   "outputs": [
    {
     "name": "stdout",
     "output_type": "stream",
     "text": [
      "58 32\n"
     ]
    }
   ],
   "source": [
    "n=int(input())\n",
    "lst=list(map(int,input().split()))\n",
    "m=int(input())\n",
    "lstm=list(map(int,input().split()))\n",
    "v=0\n",
    "p=0\n",
    "for i in lstm:\n",
    "    for j in range(n):\n",
    "        if(lst[j]==i):\n",
    "            v+=j+1\n",
    "            p+=n-j\n",
    "            break\n",
    "print(v,p)"
   ]
  },
  {
   "cell_type": "code",
   "execution_count": 29,
   "metadata": {},
   "outputs": [
    {
     "name": "stdout",
     "output_type": "stream",
     "text": [
      "6 6\n"
     ]
    }
   ],
   "source": [
    "n=int(input())\n",
    "lst=list(map(int,input().split()))\n",
    "dict1={lst[i]:i+1 for i in range(n)}\n",
    "m=int(input())\n",
    "lstm=list(map(int,input().split()))\n",
    "d={}\n",
    "for i in lstm:\n",
    "    if(i not in d):\n",
    "        d[i]=1\n",
    "    else:\n",
    "        d[i]+=1\n",
    "v=0\n",
    "p=0\n",
    "for i in d:\n",
    "    if(i in dict1):\n",
    "        v+=(dict1[i])*d[i]\n",
    "        p+=(n-dict1[i]+1)*d[i]\n",
    "print(v,p)"
   ]
  },
  {
   "cell_type": "code",
   "execution_count": 27,
   "metadata": {},
   "outputs": [
    {
     "name": "stdout",
     "output_type": "stream",
     "text": [
      "{3: 1, 1: 2, 2: 3}\n"
     ]
    }
   ],
   "source": [
    "lst=[1,2,3,4,5,6,7,8,9,10]\n",
    "dict={lst[i]:i+1 for i in range(10)}\n",
    "print(dict1)"
   ]
  },
  {
   "cell_type": "code",
   "execution_count": 22,
   "metadata": {},
   "outputs": [
    {
     "name": "stdout",
     "output_type": "stream",
     "text": [
      "5000050000\n"
     ]
    }
   ],
   "source": [
    "print((100000*100001)//2)"
   ]
  },
  {
   "cell_type": "code",
   "execution_count": 31,
   "metadata": {},
   "outputs": [
    {
     "name": "stdout",
     "output_type": "stream",
     "text": [
      "{1, 2, 3, 4, 5}\n"
     ]
    }
   ],
   "source": [
    "lst=[5,4,3,5,4,3,2,1]\n",
    "s=set(lst)\n",
    "print(s)"
   ]
  },
  {
   "cell_type": "code",
   "execution_count": null,
   "metadata": {},
   "outputs": [],
   "source": []
  }
 ],
 "metadata": {
  "kernelspec": {
   "display_name": "Python 3",
   "language": "python",
   "name": "python3"
  },
  "language_info": {
   "codemirror_mode": {
    "name": "ipython",
    "version": 3
   },
   "file_extension": ".py",
   "mimetype": "text/x-python",
   "name": "python",
   "nbconvert_exporter": "python",
   "pygments_lexer": "ipython3",
   "version": "3.12.0"
  }
 },
 "nbformat": 4,
 "nbformat_minor": 2
}
