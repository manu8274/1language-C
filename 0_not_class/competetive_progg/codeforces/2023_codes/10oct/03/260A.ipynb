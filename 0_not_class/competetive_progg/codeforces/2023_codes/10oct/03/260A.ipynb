{
 "cells": [
  {
   "cell_type": "code",
   "execution_count": 30,
   "metadata": {},
   "outputs": [
    {
     "name": "stdout",
     "output_type": "stream",
     "text": [
      "1210000000000\n"
     ]
    }
   ],
   "source": [
    "a,b,n=map(int,input().split())\n",
    "x=0\n",
    "flag=True\n",
    "a=a*10\n",
    "for j in range(10):\n",
    "    z=a+j\n",
    "    if(z%b==0):\n",
    "        a=z\n",
    "        x+=1\n",
    "        break\n",
    "    if(j==9):\n",
    "        flag=False\n",
    "if(not flag):\n",
    "    print(-1)\n",
    "else:\n",
    "    print(a*pow(10,n-x))"
   ]
  },
  {
   "cell_type": "code",
   "execution_count": 14,
   "metadata": {},
   "outputs": [
    {
     "name": "stdout",
     "output_type": "stream",
     "text": [
      "50\n"
     ]
    }
   ],
   "source": [
    "print(2600%150)"
   ]
  },
  {
   "cell_type": "code",
   "execution_count": null,
   "metadata": {},
   "outputs": [],
   "source": []
  }
 ],
 "metadata": {
  "kernelspec": {
   "display_name": "Python 3",
   "language": "python",
   "name": "python3"
  },
  "language_info": {
   "codemirror_mode": {
    "name": "ipython",
    "version": 3
   },
   "file_extension": ".py",
   "mimetype": "text/x-python",
   "name": "python",
   "nbconvert_exporter": "python",
   "pygments_lexer": "ipython3",
   "version": "3.11.5"
  },
  "orig_nbformat": 4
 },
 "nbformat": 4,
 "nbformat_minor": 2
}
