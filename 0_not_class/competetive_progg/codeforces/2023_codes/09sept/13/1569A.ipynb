{
 "cells": [
  {
   "cell_type": "code",
   "execution_count": 17,
   "metadata": {},
   "outputs": [
    {
     "name": "stdout",
     "output_type": "stream",
     "text": [
      "2 3\n"
     ]
    }
   ],
   "source": [
    "for _ in range(int(input())):\n",
    "    n=int(input())\n",
    "    s=input()\n",
    "    k,l=0,0\n",
    "    for i in range(0,n-1):\n",
    "        if(s[i]==\"a\" and s[i+1]==\"b\") or (s[i]==\"b\" and s[i+1]==\"a\"):\n",
    "            k,l=i+1,i+1+1\n",
    "            break\n",
    "    if(l==0 and k==0):\n",
    "        print(-1,-1)\n",
    "    else:\n",
    "        print(k,l)"
   ]
  },
  {
   "cell_type": "code",
   "execution_count": null,
   "metadata": {},
   "outputs": [],
   "source": [
    "for _ in range(int(input())):\n",
    "    n=int(input())\n",
    "    s=input()\n",
    "    if(n==1 or s.count(\"a\")==n or s.count(\"b\")==n):\n",
    "        print(-1,-1)\n",
    "    else:\n",
    "        j=0\n",
    "        k=0\n",
    "        for i in range(n):\n",
    "            "
   ]
  }
 ],
 "metadata": {
  "kernelspec": {
   "display_name": "Python 3",
   "language": "python",
   "name": "python3"
  },
  "language_info": {
   "codemirror_mode": {
    "name": "ipython",
    "version": 3
   },
   "file_extension": ".py",
   "mimetype": "text/x-python",
   "name": "python",
   "nbconvert_exporter": "python",
   "pygments_lexer": "ipython3",
   "version": "3.11.5"
  },
  "orig_nbformat": 4
 },
 "nbformat": 4,
 "nbformat_minor": 2
}
