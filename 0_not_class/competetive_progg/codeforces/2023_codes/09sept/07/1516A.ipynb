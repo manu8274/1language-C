{
 "cells": [
  {
   "cell_type": "code",
   "execution_count": 1,
   "metadata": {},
   "outputs": [
    {
     "name": "stdout",
     "output_type": "stream",
     "text": [
      "2 1 5\n",
      "0 1\n"
     ]
    }
   ],
   "source": [
    "for _ in range(int(input())):\n",
    "    n,x=map(int,input().split())\n",
    "    lst=list(map(int,input().split()))\n",
    "    if(x<=lst[0]):\n",
    "        lst[0]=lst[0]-x\n",
    "        lst[-1]=lst[-1] + x\n",
    "    else:\n",
    "        for i in range(0,n-1):\n",
    "            if(lst[i]<x):\n",
    "                lst[-1]+=lst[i]\n",
    "                x=x-lst[i]\n",
    "                lst[i]=0\n",
    "            else:\n",
    "                lst[-1]+=x\n",
    "                lst[i]=lst[i] - x\n",
    "                break\n",
    "    print(*(lst))"
   ]
  },
  {
   "cell_type": "code",
   "execution_count": null,
   "metadata": {},
   "outputs": [],
   "source": []
  }
 ],
 "metadata": {
  "kernelspec": {
   "display_name": "Python 3",
   "language": "python",
   "name": "python3"
  },
  "language_info": {
   "codemirror_mode": {
    "name": "ipython",
    "version": 3
   },
   "file_extension": ".py",
   "mimetype": "text/x-python",
   "name": "python",
   "nbconvert_exporter": "python",
   "pygments_lexer": "ipython3",
   "version": "3.11.5"
  },
  "orig_nbformat": 4
 },
 "nbformat": 4,
 "nbformat_minor": 2
}
