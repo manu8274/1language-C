{
 "cells": [
  {
   "cell_type": "code",
   "execution_count": 35,
   "metadata": {},
   "outputs": [
    {
     "name": "stdout",
     "output_type": "stream",
     "text": [
      "NO\n"
     ]
    }
   ],
   "source": [
    "def fun1(l,r,k):   \n",
    "    if(l==r!=1 and k==0):\n",
    "        return \"YES\"\n",
    "    elif(l==r==1 and k==0):\n",
    "        return \"NO\"\n",
    "    for i in range(l,r+1):\n",
    "        if(i%2==0):\n",
    "            k-=1\n",
    "            \n",
    "    if(k>=0):\n",
    "        return \"YES\"\n",
    "    else:\n",
    "        return \"NO\"\n",
    "for _ in range(int(input())):\n",
    "    l,r,k=map(int,input().split())\n",
    "    print(fun1(l,r,k))"
   ]
  },
  {
   "cell_type": "code",
   "execution_count": 37,
   "metadata": {},
   "outputs": [
    {
     "name": "stdout",
     "output_type": "stream",
     "text": [
      "YES\n"
     ]
    }
   ],
   "source": [
    "for _ in range(int(input())):\n",
    "    l,r,k=map(int,input().split())\n",
    "    even=(r+1)//2 -l//2\n",
    "    if(k>=even) or l==r!=1:print(\"YES\")\n",
    "    else:print(\"NO\")"
   ]
  },
  {
   "cell_type": "code",
   "execution_count": 17,
   "metadata": {},
   "outputs": [
    {
     "name": "stdout",
     "output_type": "stream",
     "text": [
      "-6\n"
     ]
    }
   ],
   "source": [
    "print(~5)"
   ]
  },
  {
   "cell_type": "code",
   "execution_count": null,
   "metadata": {},
   "outputs": [],
   "source": []
  }
 ],
 "metadata": {
  "kernelspec": {
   "display_name": "Python 3",
   "language": "python",
   "name": "python3"
  },
  "language_info": {
   "codemirror_mode": {
    "name": "ipython",
    "version": 3
   },
   "file_extension": ".py",
   "mimetype": "text/x-python",
   "name": "python",
   "nbconvert_exporter": "python",
   "pygments_lexer": "ipython3",
   "version": "3.10.4"
  }
 },
 "nbformat": 4,
 "nbformat_minor": 2
}
