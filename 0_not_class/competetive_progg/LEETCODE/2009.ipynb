{
 "cells": [
  {
   "cell_type": "code",
   "execution_count": 25,
   "metadata": {},
   "outputs": [
    {
     "name": "stdout",
     "output_type": "stream",
     "text": [
      "0\n"
     ]
    }
   ],
   "source": []
  },
  {
   "cell_type": "code",
   "execution_count": 29,
   "metadata": {},
   "outputs": [
    {
     "name": "stdout",
     "output_type": "stream",
     "text": [
      "3\n"
     ]
    }
   ],
   "source": [
    "# nums=[8,10,16,18,10,10,16,13,13,16] #6\n",
    "# nums=[41,33,29,33,35,26,47,24,18,28]\n",
    "nums=[1,10,100,1000]\n",
    "cm=sys.maxsize\n",
    "i=0\n",
    "while(i<len(nums)):\n",
    "    n=nums[i]\n",
    "    z=n\n",
    "    c=0\n",
    "    while(z<=n+len(nums)-1):\n",
    "        if(z not in nums):\n",
    "            c+=1\n",
    "        z+=1\n",
    "    cm=min(cm,c)\n",
    "    i+=1\n",
    "print(cm)"
   ]
  },
  {
   "cell_type": "code",
   "execution_count": null,
   "metadata": {},
   "outputs": [],
   "source": []
  }
 ],
 "metadata": {
  "kernelspec": {
   "display_name": "Python 3",
   "language": "python",
   "name": "python3"
  },
  "language_info": {
   "codemirror_mode": {
    "name": "ipython",
    "version": 3
   },
   "file_extension": ".py",
   "mimetype": "text/x-python",
   "name": "python",
   "nbconvert_exporter": "python",
   "pygments_lexer": "ipython3",
   "version": "3.12.0"
  }
 },
 "nbformat": 4,
 "nbformat_minor": 2
}
