{
 "cells": [
  {
   "cell_type": "code",
   "execution_count": 4,
   "metadata": {},
   "outputs": [
    {
     "name": "stdout",
     "output_type": "stream",
     "text": [
      "['DDRR', 'DDRURD', 'DDRUURDD', 'DRDR', 'DRRD', 'DRURDD', 'RDDR', 'RDLDRR', 'RDRD', 'RRDD', 'RRDLDR', 'RRDLLDRR']\n",
      "['DDRR', 'DDRURD', 'DDRUURDD', 'DRDR', 'DRRD', 'DRURDD', 'RDDR', 'RDLDRR', 'RDRD', 'RRDD', 'RRDLDR', 'RRDLLDRR']\n",
      "True\n"
     ]
    }
   ],
   "source": [
    "s=\"DDRR DDRURD DDRUURDD DRDR DRRD DRURDD RDDR RDLDRR RDRD RRDD RRDLDR RRDLLDRR\"\n",
    "s=s.split(\" \")\n",
    "l=\"DDRR DDRURD DDRUURDD DRDR DRRD DRURDD RDDR RDRD RDLDRR RRDD RRDLDR RRDLLDRR\"\n",
    "l=l.split(\" \")\n",
    "l.sort()\n",
    "print(s)\n",
    "print(l)\n",
    "print(s==l)"
   ]
  },
  {
   "cell_type": "code",
   "execution_count": 4,
   "metadata": {},
   "outputs": [
    {
     "name": "stdout",
     "output_type": "stream",
     "text": [
      "1\n"
     ]
    }
   ],
   "source": [
    "tp=tuple([1,2,3])\n",
    "print(tp[0])"
   ]
  },
  {
   "cell_type": "code",
   "execution_count": null,
   "metadata": {},
   "outputs": [],
   "source": []
  }
 ],
 "metadata": {
  "kernelspec": {
   "display_name": "Python 3",
   "language": "python",
   "name": "python3"
  },
  "language_info": {
   "codemirror_mode": {
    "name": "ipython",
    "version": 3
   },
   "file_extension": ".py",
   "mimetype": "text/x-python",
   "name": "python",
   "nbconvert_exporter": "python",
   "pygments_lexer": "ipython3",
   "version": "3.11.9"
  }
 },
 "nbformat": 4,
 "nbformat_minor": 2
}
