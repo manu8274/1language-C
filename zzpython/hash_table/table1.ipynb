{
 "cells": [
  {
   "cell_type": "code",
   "execution_count": null,
   "metadata": {},
   "outputs": [],
   "source": [
    "\n",
    "class hashtable():\n",
    "    def __init__(self):\n",
    "        self.max=100\n",
    "        self.arr=[[] for i in range(self.max)]\n",
    "    \n",
    "    def get_hash(self,key):\n",
    "        hash=0\n",
    "        for i in key:\n",
    "            hash+=ord(i)\n",
    "        return hash%self.max\n",
    "    \n",
    "    def __getattribute__(self,key):\n",
    "        h=self.get_hash(key)\n",
    "        for element in self.arr[h]:\n",
    "            if(element[0]==key):\n",
    "                return element[1]\n",
    "    \n",
    "    def __setattr__(self,key,value):\n",
    "        h=self.get_hash(key)\n",
    "        found=False\n",
    "        for i,j in enumerate(self.arr[h]):\n",
    "            if len(j)==2 and j[0]==key:\n",
    "                self.arr[h][i] = (key,value)\n",
    "                found=True\n",
    "                break\n",
    "        if(not found):\n",
    "            self.arr[h].append(key,value)\n",
    "\n",
    "\n",
    "if __name__=='__main__':\n",
    "    t=hashtable()\n",
    "    t[\"march 6\"]=120\n",
    "    t[\"march 6\"]=78\n",
    "    t[\"march 8\"]=67\n",
    "    t[\"march 9\"]=4\n",
    "    t[\"march 17\"]=789\n",
    "    print(t)"
   ]
  },
  {
   "cell_type": "code",
   "execution_count": 1,
   "metadata": {},
   "outputs": [
    {
     "ename": "",
     "evalue": "",
     "output_type": "error",
     "traceback": [
      "\u001b[1;31mThe Kernel crashed while executing code in the the current cell or a previous cell. Please review the code in the cell(s) to identify a possible cause of the failure. Click <a href='https://aka.ms/vscodeJupyterKernelCrash'>here</a> for more info. View Jupyter <a href='command:jupyter.viewOutput'>log</a> for further details."
     ]
    }
   ],
   "source": [
    "\n",
    "class hashtable():\n",
    "    def __init__(self):\n",
    "        self.max=100\n",
    "        self.arr=[[] for i in range(self.max)]\n",
    "    \n",
    "    def get_hash(self,key):\n",
    "        hash=0\n",
    "        for i in key:\n",
    "            hash+=ord(i)\n",
    "        return hash%self.max\n",
    "    \n",
    "    def __getattribute__(self,key):\n",
    "        h=self.get_hash(key)\n",
    "        for element in self.arr[h]:\n",
    "            if(element[0]==key):\n",
    "                return element[1]\n",
    "    \n",
    "    def __setattr__(self,key,value):\n",
    "        h=self.get_hash(key)\n",
    "        found=False\n",
    "        for i,j in enumerate(self.arr[h]):\n",
    "            if len(j)==2 and j[0]==key:\n",
    "                self.arr[h][i] = (key,value)\n",
    "                found=True\n",
    "                break\n",
    "        if(not found):\n",
    "            self.arr[h].append(key,value)\n",
    "\n",
    "\n",
    "if __name__=='__main__':\n",
    "    t=hashtable()\n",
    "    t[\"march 6\"]=120\n",
    "    t[\"march 6\"]=78\n",
    "    t[\"march 8\"]=67\n",
    "    t[\"march 9\"]=4\n",
    "    t[\"march 17\"]=789\n",
    "    print(t)"
   ]
  },
  {
   "cell_type": "code",
   "execution_count": null,
   "metadata": {},
   "outputs": [],
   "source": []
  }
 ],
 "metadata": {
  "kernelspec": {
   "display_name": "Python 3",
   "language": "python",
   "name": "python3"
  },
  "language_info": {
   "codemirror_mode": {
    "name": "ipython",
    "version": 3
   },
   "file_extension": ".py",
   "mimetype": "text/x-python",
   "name": "python",
   "nbconvert_exporter": "python",
   "pygments_lexer": "ipython3",
   "version": "3.11.5"
  },
  "orig_nbformat": 4
 },
 "nbformat": 4,
 "nbformat_minor": 2
}
