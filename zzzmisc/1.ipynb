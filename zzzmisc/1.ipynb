{
 "cells": [
  {
   "cell_type": "code",
   "execution_count": 3,
   "metadata": {},
   "outputs": [
    {
     "name": "stdout",
     "output_type": "stream",
     "text": [
      "5\n",
      "9\n",
      "8\n",
      "15\n",
      "23\n",
      "4\n",
      "3\n",
      "10\n",
      "18\n",
      "-1\n",
      "6\n",
      "14\n",
      "7\n",
      "15\n",
      "8\n",
      "23\n"
     ]
    }
   ],
   "source": [
    "lst=list(map(int,input().split()))\n",
    "smax=max(lst)\n",
    "n=len(lst)\n",
    "for i in range(n):\n",
    "    for j in range(i,n):\n",
    "        sum1=sum(lst[i:j+1])\n",
    "        print(sum1)\n",
    "        if(sum1>smax):\n",
    "            smax=sum1\n",
    "print(smax)"
   ]
  },
  {
   "cell_type": "code",
   "execution_count": 2,
   "metadata": {},
   "outputs": [
    {
     "name": "stdout",
     "output_type": "stream",
     "text": [
      "8\n"
     ]
    }
   ],
   "source": [
    "# 5 4 -1 7 8\n",
    "\n",
    "# 5+4\n",
    "# 5+4+-1\n",
    "# 5+4+-1+7+8\n",
    "print(max(lst))"
   ]
  },
  {
   "cell_type": "code",
   "execution_count": null,
   "metadata": {},
   "outputs": [],
   "source": []
  }
 ],
 "metadata": {
  "kernelspec": {
   "display_name": "Python 3",
   "language": "python",
   "name": "python3"
  },
  "language_info": {
   "codemirror_mode": {
    "name": "ipython",
    "version": 3
   },
   "file_extension": ".py",
   "mimetype": "text/x-python",
   "name": "python",
   "nbconvert_exporter": "python",
   "pygments_lexer": "ipython3",
   "version": "3.11.5"
  },
  "orig_nbformat": 4
 },
 "nbformat": 4,
 "nbformat_minor": 2
}
