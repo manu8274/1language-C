{
 "cells": [
  {
   "cell_type": "code",
   "execution_count": 4,
   "metadata": {},
   "outputs": [
    {
     "name": "stdout",
     "output_type": "stream",
     "text": [
      "23\n"
     ]
    }
   ],
   "source": [
    "lst=list(map(int,input().split()))\n",
    "sum=0\n",
    "max1=lst[0]\n",
    "for i in lst:\n",
    "    sum+=i\n",
    "    max1=max(sum,max1)\n",
    "    if(sum<0):\n",
    "        sum=0\n",
    "print(max1)"
   ]
  },
  {
   "cell_type": "code",
   "execution_count": 2,
   "metadata": {},
   "outputs": [
    {
     "name": "stdout",
     "output_type": "stream",
     "text": [
      "8\n"
     ]
    }
   ],
   "source": [
    "# 5 4 -1 7 8\n",
    "\n",
    "# 5+4\n",
    "# 5+4+-1\n",
    "# 5+4+-1+7+8\n",
    "print(max(lst))"
   ]
  },
  {
   "cell_type": "code",
   "execution_count": 13,
   "metadata": {},
   "outputs": [
    {
     "name": "stdout",
     "output_type": "stream",
     "text": [
      "00100100\n"
     ]
    },
    {
     "ename": "ValueError",
     "evalue": "invalid literal for int() with base 10: ''",
     "output_type": "error",
     "traceback": [
      "\u001b[1;31m---------------------------------------------------------------------------\u001b[0m",
      "\u001b[1;31mValueError\u001b[0m                                Traceback (most recent call last)",
      "\u001b[1;32mc:\\Users\\manu1\\Desktop\\1language-C\\1language-C\\zzzmisc\\1.ipynb Cell 3\u001b[0m line \u001b[0;36m2\n\u001b[0;32m      <a href='vscode-notebook-cell:/c%3A/Users/manu1/Desktop/1language-C/1language-C/zzzmisc/1.ipynb#W2sZmlsZQ%3D%3D?line=0'>1</a>\u001b[0m \u001b[39mfor\u001b[39;00m _ \u001b[39min\u001b[39;00m \u001b[39mrange\u001b[39m(\u001b[39mint\u001b[39m(\u001b[39minput\u001b[39m())):\n\u001b[1;32m----> <a href='vscode-notebook-cell:/c%3A/Users/manu1/Desktop/1language-C/1language-C/zzzmisc/1.ipynb#W2sZmlsZQ%3D%3D?line=1'>2</a>\u001b[0m     n\u001b[39m=\u001b[39m\u001b[39mint\u001b[39;49m(\u001b[39minput\u001b[39;49m())\n\u001b[0;32m      <a href='vscode-notebook-cell:/c%3A/Users/manu1/Desktop/1language-C/1language-C/zzzmisc/1.ipynb#W2sZmlsZQ%3D%3D?line=2'>3</a>\u001b[0m     s\u001b[39m=\u001b[39m\u001b[39minput\u001b[39m()\n\u001b[0;32m      <a href='vscode-notebook-cell:/c%3A/Users/manu1/Desktop/1language-C/1language-C/zzzmisc/1.ipynb#W2sZmlsZQ%3D%3D?line=3'>4</a>\u001b[0m     s\u001b[39m=\u001b[39ms[::\u001b[39m-\u001b[39m\u001b[39m1\u001b[39m]\n",
      "\u001b[1;31mValueError\u001b[0m: invalid literal for int() with base 10: ''"
     ]
    }
   ],
   "source": [
    "for _ in range(int(input())):\n",
    "    n=int(input())\n",
    "    s=input()\n",
    "    s=s[::-1]\n",
    "    s1=''\n",
    "    for i in range(n//2 +1):\n",
    "        if(s[i]=='0'):\n",
    "            s1+='1'\n",
    "        else:\n",
    "            s1+='0'\n",
    "    s1+=s1[::-1]\n",
    "    s2=s1[::-1]\n",
    "    print(s2)"
   ]
  },
  {
   "cell_type": "code",
   "execution_count": 9,
   "metadata": {},
   "outputs": [
    {
     "name": "stdout",
     "output_type": "stream",
     "text": [
      "01100110\n"
     ]
    }
   ],
   "source": [
    "# 100100011\n",
    "print(s1)"
   ]
  },
  {
   "cell_type": "code",
   "execution_count": null,
   "metadata": {},
   "outputs": [],
   "source": []
  }
 ],
 "metadata": {
  "kernelspec": {
   "display_name": "Python 3",
   "language": "python",
   "name": "python3"
  },
  "language_info": {
   "codemirror_mode": {
    "name": "ipython",
    "version": 3
   },
   "file_extension": ".py",
   "mimetype": "text/x-python",
   "name": "python",
   "nbconvert_exporter": "python",
   "pygments_lexer": "ipython3",
   "version": "3.11.5"
  },
  "orig_nbformat": 4
 },
 "nbformat": 4,
 "nbformat_minor": 2
}
