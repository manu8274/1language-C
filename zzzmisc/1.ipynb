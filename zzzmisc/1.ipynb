{
 "cells": [
  {
   "cell_type": "code",
   "execution_count": null,
   "metadata": {},
   "outputs": [],
   "source": [
    "lst=list(map(int,input().split()))\n",
    "sum=0\n",
    "max1=lst[0]\n",
    "for i in lst:\n",
    "    sum+=i\n",
    "    max1=max(sum,max1)\n",
    "    if(sum<0):\n",
    "        sum=0\n",
    "print(max1)"
   ]
  },
  {
   "cell_type": "code",
   "execution_count": null,
   "metadata": {},
   "outputs": [],
   "source": [
    "# 5 4 -1 7 8\n",
    "\n",
    "# 5+4\n",
    "# 5+4+-1\n",
    "# 5+4+-1+7+8\n",
    "print(max(lst))"
   ]
  },
  {
   "cell_type": "code",
   "execution_count": null,
   "metadata": {},
   "outputs": [],
   "source": [
    "for _ in range(int(input())):\n",
    "    n=int(input())\n",
    "    s=input()\n",
    "    s=s[::-1]\n",
    "    s1=''\n",
    "    for i in range(n//2 +1):\n",
    "        if(s[i]=='0'):\n",
    "            s1+='1'\n",
    "        else:\n",
    "            s1+='0'\n",
    "    s1+=s1[::-1]\n",
    "    s2=s1[::-1]\n",
    "    print(s2)"
   ]
  },
  {
   "cell_type": "code",
   "execution_count": null,
   "metadata": {},
   "outputs": [],
   "source": [
    "# 100100011\n",
    "print(s1)"
   ]
  },
  {
   "cell_type": "code",
   "execution_count": null,
   "metadata": {},
   "outputs": [],
   "source": [
    "arr=[0 for i in range(5)]\n",
    "print(arr)"
   ]
  },
  {
   "cell_type": "code",
   "execution_count": null,
   "metadata": {},
   "outputs": [],
   "source": [
    "print(not arr[1])"
   ]
  },
  {
   "cell_type": "code",
   "execution_count": 19,
   "metadata": {},
   "outputs": [
    {
     "name": "stdout",
     "output_type": "stream",
     "text": [
      "[7, 1, 5, 3]\n"
     ]
    }
   ],
   "source": [
    "keys=list(map(int,input().split()))\n",
    "n=len(keys)\n",
    "arr=[0 for i in range(n)]\n",
    "for i in keys:\n",
    "    x=i%n\n",
    "    if(not arr[x]):\n",
    "        arr[x]=i\n",
    "    else:\n",
    "        while(x<n and arr[x]):\n",
    "            x+=1\n",
    "        if(x<n):\n",
    "            arr[x]=i\n",
    "        else:\n",
    "            for z in range(n):\n",
    "                if(arr[z]==0):\n",
    "                    arr[z]=i\n",
    "print(arr)"
   ]
  },
  {
   "cell_type": "code",
   "execution_count": null,
   "metadata": {},
   "outputs": [],
   "source": [
    "4 7 8 1 2 5"
   ]
  },
  {
   "cell_type": "code",
   "execution_count": null,
   "metadata": {},
   "outputs": [],
   "source": []
  }
 ],
 "metadata": {
  "kernelspec": {
   "display_name": "Python 3",
   "language": "python",
   "name": "python3"
  },
  "language_info": {
   "codemirror_mode": {
    "name": "ipython",
    "version": 3
   },
   "file_extension": ".py",
   "mimetype": "text/x-python",
   "name": "python",
   "nbconvert_exporter": "python",
   "pygments_lexer": "ipython3",
   "version": "3.10.4"
  },
  "orig_nbformat": 4
 },
 "nbformat": 4,
 "nbformat_minor": 2
}
