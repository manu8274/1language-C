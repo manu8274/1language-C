{
 "cells": [
  {
   "cell_type": "code",
   "execution_count": 17,
   "metadata": {},
   "outputs": [
    {
     "name": "stdout",
     "output_type": "stream",
     "text": [
      "0\n"
     ]
    }
   ],
   "source": [
    "lst=list(map(int,input().split()))\n",
    "lsteven=[int(x) for x in lst if x%2==0]\n",
    "maxc=0\n",
    "maxe=0\n",
    "for i in lsteven:\n",
    "    if(lsteven.count(i) > maxc):\n",
    "        maxe=i\n",
    "        maxc=lsteven.count(i)\n",
    "    elif(lsteven.count(i)==maxc):\n",
    "        maxe=min(maxe,i)\n",
    "print(maxe)"
   ]
  },
  {
   "cell_type": "code",
   "execution_count": 19,
   "metadata": {},
   "outputs": [
    {
     "name": "stdout",
     "output_type": "stream",
     "text": [
      "OHJ\n"
     ]
    }
   ],
   "source": [
    "if(len(lsteven)==0):\n",
    "    print(\"OHJ\")"
   ]
  },
  {
   "cell_type": "code",
   "execution_count": 29,
   "metadata": {},
   "outputs": [],
   "source": [
    "head=list(map(int,input().split()))\n",
    "left=int(input())\n",
    "right=int(input())\n",
    "lst=head[left-1:right]\n",
    "lst.reverse()\n",
    "head=head[:left-1] + lst + head[right:]"
   ]
  },
  {
   "cell_type": "code",
   "execution_count": 30,
   "metadata": {},
   "outputs": [
    {
     "name": "stdout",
     "output_type": "stream",
     "text": [
      "[1, 5, 5]\n"
     ]
    }
   ],
   "source": [
    "print(head)"
   ]
  },
  {
   "cell_type": "code",
   "execution_count": null,
   "metadata": {},
   "outputs": [],
   "source": []
  }
 ],
 "metadata": {
  "kernelspec": {
   "display_name": "Python 3",
   "language": "python",
   "name": "python3"
  },
  "language_info": {
   "codemirror_mode": {
    "name": "ipython",
    "version": 3
   },
   "file_extension": ".py",
   "mimetype": "text/x-python",
   "name": "python",
   "nbconvert_exporter": "python",
   "pygments_lexer": "ipython3",
   "version": "3.11.5"
  },
  "orig_nbformat": 4
 },
 "nbformat": 4,
 "nbformat_minor": 2
}
