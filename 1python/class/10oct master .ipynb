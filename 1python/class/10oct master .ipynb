{
 "cells": [
  {
   "cell_type": "code",
   "execution_count": 4,
   "id": "ec72f569",
   "metadata": {},
   "outputs": [
    {
     "name": "stdout",
     "output_type": "stream",
     "text": [
      "datatype of num_int <class 'int'>\n",
      "datatype of num_flo <class 'float'>\n",
      "datatype of num_new <class 'float'>\n"
     ]
    }
   ],
   "source": [
    "num_int=123\n",
    "num_flo=1.23\n",
    "\n",
    "num_new=num_int+num_flo\n",
    "print(\"datatype of num_int\",type(num_int))\n",
    "print(\"datatype of num_flo\",type(num_flo))\n",
    "print(\"datatype of num_new\",type(num_new))"
   ]
  },
  {
   "cell_type": "code",
   "execution_count": 10,
   "id": "cf657131",
   "metadata": {},
   "outputs": [
    {
     "name": "stdout",
     "output_type": "stream",
     "text": [
      "123123\n"
     ]
    }
   ],
   "source": [
    "numint=123\n",
    "numstr=\"123\"\n",
    "print(str(numint)+numstr)"
   ]
  },
  {
   "cell_type": "code",
   "execution_count": 13,
   "id": "b150a47c",
   "metadata": {},
   "outputs": [
    {
     "name": "stdout",
     "output_type": "stream",
     "text": [
      "54\n"
     ]
    }
   ],
   "source": [
    "str1=\"45+98-89\"\n",
    "res=eval(str1)\n",
    "print(str(res))"
   ]
  },
  {
   "cell_type": "code",
   "execution_count": 16,
   "id": "eef6db1a",
   "metadata": {},
   "outputs": [
    {
     "name": "stdout",
     "output_type": "stream",
     "text": [
      "enter the number:5\n",
      "25\n",
      "40\n"
     ]
    }
   ],
   "source": [
    "x=int(input(\"enter the number:\"))\n",
    "if x>=5:\n",
    "    print(x**2)\n",
    "    print(x*8)"
   ]
  },
  {
   "cell_type": "code",
   "execution_count": 18,
   "id": "f3f4c5fa",
   "metadata": {},
   "outputs": [
    {
     "name": "stdout",
     "output_type": "stream",
     "text": [
      "enter the number:2\n",
      "8\n",
      "18\n"
     ]
    }
   ],
   "source": [
    "x=int(input(\"enter the number:\"))\n",
    "if x>=5:\n",
    "    print(x**2)\n",
    "    print(x*8)\n",
    "else:\n",
    "    print(x**3)\n",
    "    print(x*9)"
   ]
  },
  {
   "cell_type": "markdown",
   "id": "767696c4",
   "metadata": {},
   "source": [
    "leap year"
   ]
  },
  {
   "cell_type": "code",
   "execution_count": 21,
   "id": "dce58b22",
   "metadata": {},
   "outputs": [
    {
     "name": "stdout",
     "output_type": "stream",
     "text": [
      "enter year:2022\n",
      "not a leap year\n"
     ]
    }
   ],
   "source": [
    "y=int(input(\"enter year:\"))\n",
    "if ((y%4==0) or (y%400==0)):\n",
    "    print(\"leap year\")\n",
    "else:\n",
    "    print(\"not a leap year\")"
   ]
  },
  {
   "cell_type": "raw",
   "id": "32cff66c",
   "metadata": {},
   "source": [
    "# question:write a program to check whether last digit is divisble by3 or not"
   ]
  },
  {
   "cell_type": "code",
   "execution_count": 24,
   "id": "d9f9d515",
   "metadata": {},
   "outputs": [
    {
     "name": "stdout",
     "output_type": "stream",
     "text": [
      "enter the nmber:77\n",
      "not divible by 3\n"
     ]
    }
   ],
   "source": [
    "n=int(input(\"enter the nmber:\"))\n",
    "last=n%10\n",
    "\n",
    "if (last%3==0):\n",
    "    print(\"last digit is divisible by 3\")\n",
    "else:\n",
    "    print(\"not divible by 3\")"
   ]
  },
  {
   "cell_type": "code",
   "execution_count": 27,
   "id": "29f8c68c",
   "metadata": {},
   "outputs": [
    {
     "name": "stdout",
     "output_type": "stream",
     "text": [
      "enter:5\n",
      "yes automorphic\n"
     ]
    }
   ],
   "source": [
    "num=int(input(\"enter:\"))\n",
    "nod=len(str(num))\n",
    "sq=num**2\n",
    "ld=sq%(10**nod)\n",
    "if ld==num:\n",
    "    print(\"yes automorphic\")\n",
    "else:\n",
    "    print(\"not automorphic\")"
   ]
  },
  {
   "cell_type": "code",
   "execution_count": null,
   "id": "4503f086",
   "metadata": {},
   "outputs": [],
   "source": []
  }
 ],
 "metadata": {
  "kernelspec": {
   "display_name": "Python 3 (ipykernel)",
   "language": "python",
   "name": "python3"
  },
  "language_info": {
   "codemirror_mode": {
    "name": "ipython",
    "version": 3
   },
   "file_extension": ".py",
   "mimetype": "text/x-python",
   "name": "python",
   "nbconvert_exporter": "python",
   "pygments_lexer": "ipython3",
   "version": "3.9.12"
  }
 },
 "nbformat": 4,
 "nbformat_minor": 5
}
