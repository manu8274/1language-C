{
 "cells": [
  {
   "cell_type": "code",
   "execution_count": 5,
   "id": "665d00cc",
   "metadata": {},
   "outputs": [
    {
     "name": "stdout",
     "output_type": "stream",
     "text": [
      "enter:f\n"
     ]
    },
    {
     "ename": "ValueError",
     "evalue": "invalid literal for int() with base 10: 'f'",
     "output_type": "error",
     "traceback": [
      "\u001b[1;31m---------------------------------------------------------------------------\u001b[0m",
      "\u001b[1;31mValueError\u001b[0m                                Traceback (most recent call last)",
      "Input \u001b[1;32mIn [5]\u001b[0m, in \u001b[0;36m<cell line: 2>\u001b[1;34m()\u001b[0m\n\u001b[0;32m      1\u001b[0m x\u001b[38;5;241m=\u001b[39m\u001b[38;5;28minput\u001b[39m(\u001b[38;5;124m\"\u001b[39m\u001b[38;5;124menter:\u001b[39m\u001b[38;5;124m\"\u001b[39m)\n\u001b[1;32m----> 2\u001b[0m x\u001b[38;5;241m=\u001b[39m\u001b[38;5;28;43mint\u001b[39;49m\u001b[43m(\u001b[49m\u001b[43mx\u001b[49m\u001b[43m)\u001b[49m\n\u001b[0;32m      3\u001b[0m \u001b[38;5;28mprint\u001b[39m(\u001b[38;5;28mstr\u001b[39m(x)\u001b[38;5;241m*\u001b[39mx)\n",
      "\u001b[1;31mValueError\u001b[0m: invalid literal for int() with base 10: 'f'"
     ]
    }
   ],
   "source": [
    "x=input(\"enter:\")\n",
    "print(str(x)*x)"
   ]
  },
  {
   "cell_type": "code",
   "execution_count": 9,
   "id": "b1f17c73",
   "metadata": {
    "scrolled": true
   },
   "outputs": [
    {
     "name": "stdout",
     "output_type": "stream",
     "text": [
      "                                                        29765.6853972753997368272393941879 \n"
     ]
    }
   ],
   "source": [
    "print(\"%90.28f \" %(29765.6853972754))"
   ]
  },
  {
   "cell_type": "code",
   "execution_count": 12,
   "id": "97c2eb8c",
   "metadata": {},
   "outputs": [
    {
     "name": "stdout",
     "output_type": "stream",
     "text": [
      "i live in panipat.\n"
     ]
    }
   ],
   "source": [
    "s=\"i live in {}.\"\n",
    "print(s.format(\"panipat\"))"
   ]
  },
  {
   "cell_type": "code",
   "execution_count": 13,
   "id": "a2622697",
   "metadata": {},
   "outputs": [
    {
     "name": "stdout",
     "output_type": "stream",
     "text": [
      "i live in panipat.\n"
     ]
    }
   ],
   "source": [
    "print(\"i live in {}.\".format(\"panipat\"))"
   ]
  },
  {
   "cell_type": "code",
   "execution_count": 16,
   "id": "438fb545",
   "metadata": {},
   "outputs": [
    {
     "name": "stdout",
     "output_type": "stream",
     "text": [
      "i live in chitkara. i study in panipat\n"
     ]
    }
   ],
   "source": [
    "print(\"i live in {1}. i study in {0}\".format('panipat','chitkara'))"
   ]
  },
  {
   "cell_type": "code",
   "execution_count": 21,
   "id": "3c4f578e",
   "metadata": {},
   "outputs": [
    {
     "name": "stdout",
     "output_type": "stream",
     "text": [
      "a=1,b=two\n"
     ]
    }
   ],
   "source": [
    "print(\"a={a},b={b}\".format(a=1,b='two'))"
   ]
  },
  {
   "cell_type": "code",
   "execution_count": 23,
   "id": "816ad7eb",
   "metadata": {},
   "outputs": [
    {
     "name": "stdout",
     "output_type": "stream",
     "text": [
      "we have 25666      spaces\n"
     ]
    }
   ],
   "source": [
    "txt=\"we have {:<10} spaces\"\n",
    "print(txt.format(25666))"
   ]
  },
  {
   "cell_type": "code",
   "execution_count": 24,
   "id": "b68ab57c",
   "metadata": {},
   "outputs": [
    {
     "name": "stdout",
     "output_type": "stream",
     "text": [
      "we have      25666 spaces\n"
     ]
    }
   ],
   "source": [
    "txt=\"we have {:>10} spaces\"\n",
    "print(txt.format(25666))"
   ]
  },
  {
   "cell_type": "code",
   "execution_count": 25,
   "id": "8e910402",
   "metadata": {},
   "outputs": [
    {
     "name": "stdout",
     "output_type": "stream",
     "text": [
      "we have   25666    spaces\n"
     ]
    }
   ],
   "source": [
    "txt=\"we have {:^10} spaces\"\n",
    "print(txt.format(25666))"
   ]
  },
  {
   "cell_type": "code",
   "execution_count": null,
   "id": "90878cb0",
   "metadata": {},
   "outputs": [],
   "source": []
  }
 ],
 "metadata": {
  "kernelspec": {
   "display_name": "Python 3 (ipykernel)",
   "language": "python",
   "name": "python3"
  },
  "language_info": {
   "codemirror_mode": {
    "name": "ipython",
    "version": 3
   },
   "file_extension": ".py",
   "mimetype": "text/x-python",
   "name": "python",
   "nbconvert_exporter": "python",
   "pygments_lexer": "ipython3",
   "version": "3.9.12"
  }
 },
 "nbformat": 4,
 "nbformat_minor": 5
}
