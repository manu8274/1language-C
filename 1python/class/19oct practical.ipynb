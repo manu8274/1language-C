{
 "cells": [
  {
   "cell_type": "code",
   "execution_count": 5,
   "id": "273e7f26",
   "metadata": {},
   "outputs": [
    {
     "name": "stdout",
     "output_type": "stream",
     "text": [
      "manu 15\n"
     ]
    }
   ],
   "source": [
    "def info(name,age):\n",
    "    print(name,age)\n",
    "    \n",
    "info(\"manu\",15)"
   ]
  },
  {
   "cell_type": "code",
   "execution_count": 10,
   "id": "e96a6691",
   "metadata": {},
   "outputs": [
    {
     "name": "stdout",
     "output_type": "stream",
     "text": [
      "15\n",
      "14\n",
      "16\n",
      "18\n",
      "32\n",
      "212\n"
     ]
    }
   ],
   "source": [
    "def demo1(*n):\n",
    "    for i in n:\n",
    "        print(len(str(i)))\n",
    "\n",
    "demo1(123455678976543,12345678976543,1234569098408674)\n",
    "demo1(123456789876543211,12345678654321234567543212345678,21100000000000000000000000000000000000000000000000000000000000000000000000000000000000000000000000000000000000000000000000000000000000000000000000000000000000000000000000000000000000000000000000000000000000000000)"
   ]
  },
  {
   "cell_type": "code",
   "execution_count": 11,
   "id": "d1d873f4",
   "metadata": {},
   "outputs": [
    {
     "name": "stdout",
     "output_type": "stream",
     "text": [
      "sum= 166\n",
      "diff= 30\n"
     ]
    }
   ],
   "source": [
    "def demo2(x,y):\n",
    "    print(\"sum=\",x+y)\n",
    "    print(\"diff=\",x-y)\n",
    "    \n",
    "demo2(98,68)"
   ]
  },
  {
   "cell_type": "code",
   "execution_count": 14,
   "id": "cef5ab74",
   "metadata": {},
   "outputs": [
    {
     "name": "stdout",
     "output_type": "stream",
     "text": [
      "name= kamya salary= 120000\n",
      "name= jessica salary= 9000\n"
     ]
    }
   ],
   "source": [
    "def show_function(name,salary=9000):\n",
    "    print(\"name=\",name,\"salary=\",salary)\n",
    "    \n",
    "show_function(\"kamya\",120000)\n",
    "show_function(\"jessica\")"
   ]
  },
  {
   "cell_type": "code",
   "execution_count": 15,
   "id": "e8d9ecb9",
   "metadata": {},
   "outputs": [
    {
     "name": "stdout",
     "output_type": "stream",
     "text": [
      "13\n"
     ]
    }
   ],
   "source": [
    "def add(x,y):\n",
    "    def addition(x,y):\n",
    "        return (x+y)\n",
    "    print(addition(x,y)+5)\n",
    "    \n",
    "add(3,5)"
   ]
  },
  {
   "cell_type": "code",
   "execution_count": 16,
   "id": "667597ed",
   "metadata": {},
   "outputs": [
    {
     "name": "stdout",
     "output_type": "stream",
     "text": [
      "sum of  10 = 55\n"
     ]
    }
   ],
   "source": [
    "def  sum(n):\n",
    "    s=0\n",
    "    for i in range(0,n+1):\n",
    "        s=s+i\n",
    "    print(\"sum of \",n,\"=\",s)\n",
    "    \n",
    "sum(10)"
   ]
  },
  {
   "cell_type": "code",
   "execution_count": 22,
   "id": "9f4da27a",
   "metadata": {},
   "outputs": [
    {
     "name": "stdout",
     "output_type": "stream",
     "text": [
      "factorial of  5 = 120\n"
     ]
    }
   ],
   "source": [
    "def  fact(n):\n",
    "    fact=1\n",
    "    if (n>0):\n",
    "        for i in range(1,n+1):\n",
    "            fact=fact*i\n",
    "            \n",
    "        print(\"factorial of \",n,\"=\",fact)\n",
    "    elif (n==0):\n",
    "        print(\"factorial =\",1)\n",
    "    else:\n",
    "        print(\"enter a positive number\")\n",
    "    \n",
    "fact(5)"
   ]
  },
  {
   "cell_type": "code",
   "execution_count": 24,
   "id": "6f077c6b",
   "metadata": {},
   "outputs": [
    {
     "name": "stdout",
     "output_type": "stream",
     "text": [
      "5050\n"
     ]
    }
   ],
   "source": [
    "#recursive function\n",
    "def add(n):\n",
    "    if n:\n",
    "        return(n+add(n-1))\n",
    "    else:\n",
    "        return 0\n",
    "    \n",
    "x=add(100)\n",
    "print(x)"
   ]
  },
  {
   "cell_type": "code",
   "execution_count": null,
   "id": "eee02427",
   "metadata": {},
   "outputs": [
    {
     "name": "stdout",
     "output_type": "stream",
     "text": [
      "2\n"
     ]
    }
   ],
   "source": [
    "def prime(n,i=2):\n",
    "    if n==i:\n",
    "        print(\"prime number\")\n",
    "    elif n%i==0:\n",
    "        return False\n",
    "    return prime(n,i+1)\n",
    "\n",
    "a=int(input())\n",
    "if prime(a):\n",
    "    print(\"yes its a prime number\")\n",
    "    \n",
    "else:\n",
    "    print(\"no its not a prime number\")"
   ]
  },
  {
   "cell_type": "code",
   "execution_count": 1,
   "id": "efaa21fe",
   "metadata": {},
   "outputs": [
    {
     "name": "stdout",
     "output_type": "stream",
     "text": [
      "helo\n"
     ]
    }
   ],
   "source": [
    "print(\"helo\")"
   ]
  },
  {
   "cell_type": "code",
   "execution_count": null,
   "id": "923f69dc",
   "metadata": {},
   "outputs": [],
   "source": []
  }
 ],
 "metadata": {
  "kernelspec": {
   "display_name": "Python 3 (ipykernel)",
   "language": "python",
   "name": "python3"
  },
  "language_info": {
   "codemirror_mode": {
    "name": "ipython",
    "version": 3
   },
   "file_extension": ".py",
   "mimetype": "text/x-python",
   "name": "python",
   "nbconvert_exporter": "python",
   "pygments_lexer": "ipython3",
   "version": "3.9.12"
  }
 },
 "nbformat": 4,
 "nbformat_minor": 5
}
