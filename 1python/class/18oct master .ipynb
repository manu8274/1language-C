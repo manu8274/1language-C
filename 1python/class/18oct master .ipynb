{
 "cells": [
  {
   "cell_type": "code",
   "execution_count": 6,
   "id": "8e8aa478",
   "metadata": {},
   "outputs": [
    {
     "name": "stdout",
     "output_type": "stream",
     "text": [
      "5\n",
      "5 4 3 2 \n",
      "5 4 3 \n",
      "5 4 \n",
      "5 \n"
     ]
    }
   ],
   "source": [
    "n=int(input())\n",
    "for i in range(1,n):\n",
    "    for j in range(n,i,-1):\n",
    "        print(j,end=\" \")\n",
    "    print()"
   ]
  },
  {
   "cell_type": "markdown",
   "id": "6868f47a",
   "metadata": {},
   "source": [
    "A-Z -----[65-90]\n",
    "\n",
    "a-z -----[97-122]\n",
    "\n",
    "0-9 -----[48-57]"
   ]
  },
  {
   "cell_type": "code",
   "execution_count": 9,
   "id": "ff0ad6ca",
   "metadata": {},
   "outputs": [
    {
     "name": "stdout",
     "output_type": "stream",
     "text": [
      "G\n"
     ]
    }
   ],
   "source": [
    "print(chr(71))"
   ]
  },
  {
   "cell_type": "code",
   "execution_count": 10,
   "id": "67afdf21",
   "metadata": {},
   "outputs": [
    {
     "name": "stdout",
     "output_type": "stream",
     "text": [
      "11\n"
     ]
    }
   ],
   "source": [
    "print(11)"
   ]
  },
  {
   "cell_type": "code",
   "execution_count": 12,
   "id": "f93dc3dd",
   "metadata": {},
   "outputs": [
    {
     "name": "stdout",
     "output_type": "stream",
     "text": [
      "\u000b",
      "\n"
     ]
    }
   ],
   "source": [
    "print(chr(11))"
   ]
  },
  {
   "cell_type": "code",
   "execution_count": 13,
   "id": "5bf66e9c",
   "metadata": {},
   "outputs": [
    {
     "name": "stdout",
     "output_type": "stream",
     "text": [
      "a b c d e f g h i j k l m n o p q r s t u v w x y z \n"
     ]
    }
   ],
   "source": [
    "for i in range(97,123):\n",
    "    print(chr(i),end=\" \")\n",
    "print()"
   ]
  },
  {
   "cell_type": "code",
   "execution_count": 18,
   "id": "eafcb991",
   "metadata": {},
   "outputs": [
    {
     "name": "stdout",
     "output_type": "stream",
     "text": [
      "A \n",
      "A B \n",
      "A B C \n",
      "A B C D \n",
      "A B C D E \n"
     ]
    }
   ],
   "source": [
    "for i in range(5):\n",
    "    for j in range(0,i+1):\n",
    "        print(chr(65+j),end=\" \")\n",
    "    print()"
   ]
  },
  {
   "cell_type": "code",
   "execution_count": 22,
   "id": "2c5b9442",
   "metadata": {},
   "outputs": [
    {
     "name": "stdout",
     "output_type": "stream",
     "text": [
      "A B C D E \n",
      "A B C D \n",
      "A B C \n",
      "A B \n",
      "A \n"
     ]
    }
   ],
   "source": [
    "for i in range(5):\n",
    "    for j in range(0,5-i):\n",
    "        print(chr(65+j),end=\" \")\n",
    "    print()"
   ]
  },
  {
   "cell_type": "code",
   "execution_count": 24,
   "id": "9a2e2ef7",
   "metadata": {},
   "outputs": [
    {
     "name": "stdout",
     "output_type": "stream",
     "text": [
      "A \n",
      "A B \n",
      "A B C \n",
      "A B C D \n",
      "A B C D E \n",
      "A B C D \n",
      "A B C \n",
      "A B \n",
      "A \n"
     ]
    }
   ],
   "source": [
    "for i in range(5):\n",
    "    for j in range(0,i+1):\n",
    "        print(chr(65+j),end=\" \")\n",
    "    print()\n",
    "    \n",
    "for i in range(1,5):\n",
    "    for j in range(0,5-i):\n",
    "        print(chr(65+j),end=\" \")\n",
    "    print()"
   ]
  },
  {
   "cell_type": "code",
   "execution_count": 29,
   "id": "8b515f12",
   "metadata": {},
   "outputs": [
    {
     "name": "stdout",
     "output_type": "stream",
     "text": [
      "          A B C D E \n",
      "        A B C D \n",
      "      A B C \n",
      "    A B \n",
      "  A \n"
     ]
    }
   ],
   "source": [
    "for i in range(5):\n",
    "    for j in range(5-i,0,-1):\n",
    "        print(\" \",end=\" \")\n",
    "    for j in range(0,5-i):\n",
    "        print(chr(65+j),end=\" \")\n",
    "    print()"
   ]
  },
  {
   "cell_type": "code",
   "execution_count": 30,
   "id": "1de90589",
   "metadata": {},
   "outputs": [
    {
     "name": "stdout",
     "output_type": "stream",
     "text": [
      "A \n",
      "A B \n",
      "A B C \n",
      "A B C D \n",
      "A B C D E \n",
      "A B C D \n",
      "A B C \n",
      "A B \n",
      "A \n",
      "          A B C D E \n",
      "        A B C D \n",
      "      A B C \n",
      "    A B \n",
      "  A \n"
     ]
    }
   ],
   "source": [
    "for i in range(5):\n",
    "    for j in range(0,i+1):\n",
    "        print(chr(65+j),end=\" \")\n",
    "    print()\n",
    "    \n",
    "for i in range(1,5):\n",
    "    for j in range(0,5-i):\n",
    "        print(chr(65+j),end=\" \")\n",
    "    print()\n",
    "    \n",
    "for i in range(5):\n",
    "    for j in range(5-i,0,-1):\n",
    "        print(\" \",end=\" \")\n",
    "    for j in range(0,5-i):\n",
    "        print(chr(65+j),end=\" \")\n",
    "    print()"
   ]
  },
  {
   "cell_type": "code",
   "execution_count": 34,
   "id": "4417fc5e",
   "metadata": {},
   "outputs": [
    {
     "name": "stdout",
     "output_type": "stream",
     "text": [
      "C \n",
      "C H \n",
      "C H I \n",
      "C H I T \n",
      "C H I T K \n",
      "C H I T K A \n",
      "C H I T K A R \n",
      "C H I T K A R A \n"
     ]
    }
   ],
   "source": [
    "str=\"CHITKARA\"\n",
    "l=len(str)\n",
    "for i in range(0,l) :\n",
    "    for j in range(0,i+1):\n",
    "        print(str[j],)\n",
    "    print()"
   ]
  },
  {
   "cell_type": "code",
   "execution_count": 41,
   "id": "a3c1b4ca",
   "metadata": {},
   "outputs": [
    {
     "name": "stdout",
     "output_type": "stream",
     "text": [
      "C H I T K A R A \n",
      "C H I T K A R \n",
      "C H I T K A \n",
      "C H I T K \n",
      "C H I T \n",
      "C H I \n",
      "C H \n",
      "C \n"
     ]
    }
   ],
   "source": [
    "str=\"CHITKARA\"\n",
    "l=len(str)\n",
    "for i in range(0,l) :\n",
    "    for j in range(0,l-i):\n",
    "        print(str[j],end=\" \")\n",
    "    print()"
   ]
  },
  {
   "cell_type": "code",
   "execution_count": 42,
   "id": "c78ea913",
   "metadata": {},
   "outputs": [
    {
     "name": "stdout",
     "output_type": "stream",
     "text": [
      "manasvi\n",
      "m a n a s v i \n",
      "m a n a s v \n",
      "m a n a s \n",
      "m a n a \n",
      "m a n \n",
      "m a \n",
      "m \n"
     ]
    }
   ],
   "source": [
    "str=input()\n",
    "l=len(str)\n",
    "for i in range(0,l) :\n",
    "    for j in range(0,l-i):\n",
    "        print(str[j],end=\" \")\n",
    "    print()"
   ]
  },
  {
   "cell_type": "code",
   "execution_count": 51,
   "id": "c4d563ce",
   "metadata": {},
   "outputs": [
    {
     "name": "stdout",
     "output_type": "stream",
     "text": [
      "manasvi\n",
      "m a n a s v i \n",
      "m a n a s v \n",
      "m a n a s \n",
      "m a n a \n",
      "m a n \n",
      "m a \n",
      "m \n",
      "m a \n",
      "m a n \n",
      "m a n a \n",
      "m a n a s \n",
      "m a n a s v \n",
      "m a n a s v i \n"
     ]
    }
   ],
   "source": [
    "str=input()\n",
    "l=len(str)\n",
    "for i in range(0,l-1) :\n",
    "    for j in range(0,l-i):\n",
    "        print(str[j],end=\" \")\n",
    "    print()\n",
    "    \n",
    "for i in range(1,l+1):\n",
    "    for j in range(0,i):\n",
    "        print(str[j],end=\" \")\n",
    "    print()"
   ]
  },
  {
   "cell_type": "markdown",
   "id": "06ad4bd7",
   "metadata": {},
   "source": [
    "# FUNCTION\n"
   ]
  },
  {
   "cell_type": "code",
   "execution_count": 56,
   "id": "e31222f5",
   "metadata": {},
   "outputs": [
    {
     "name": "stdout",
     "output_type": "stream",
     "text": [
      "10\n",
      "9\n",
      "arguments are 10 and 9\n",
      "19\n",
      "arguments are 10 and 9\n",
      "1\n",
      "arguments are 10 and 9\n",
      "90\n",
      "arguments are 10 and 9\n",
      "1.1111111111111112\n"
     ]
    }
   ],
   "source": [
    "def add(x,y):\n",
    "    print(\"arguments are {} and {}\".format(x,y))\n",
    "    print(x+y)\n",
    "\n",
    "def mul(x,y):\n",
    "    print(\"arguments are {} and {}\".format(x,y))\n",
    "    print(x*y)\n",
    "    \n",
    "def div(x,y):\n",
    "    print(\"arguments are {} and {}\".format(x,y))\n",
    "    print(x/y)\n",
    "    \n",
    "def sub(x,y):\n",
    "    print(\"arguments are {} and {}\".format(x,y))\n",
    "    print(x-y)\n",
    "    \n",
    "    \n",
    "x=int(input())\n",
    "y=int(input())\n",
    "add(x,y)\n",
    "sub(x,y)\n",
    "mul(x,y)\n",
    "div(x,y)"
   ]
  },
  {
   "cell_type": "code",
   "execution_count": 62,
   "id": "177106f1",
   "metadata": {
    "scrolled": true
   },
   "outputs": [
    {
     "name": "stdout",
     "output_type": "stream",
     "text": [
      "5\n",
      "\n",
      "\n",
      "1 \n",
      "1 2 \n",
      "1 2 3 \n",
      "1 2 3 4 \n",
      "1 2 3 \n",
      "1 2 \n",
      "1 \n",
      "\n"
     ]
    }
   ],
   "source": [
    "def pattern(n):\n",
    "    for i in range(0,n+1):\n",
    "        for j in range(1,i):\n",
    "            print(j,end=\" \")\n",
    "        print()\n",
    "    for i in range(1,n):\n",
    "        for j in range(1,n-i):\n",
    "            print(j,end=\" \")\n",
    "        print()\n",
    "        \n",
    "        \n",
    "#main\n",
    "N=int(input())\n",
    "pattern(N)"
   ]
  },
  {
   "cell_type": "code",
   "execution_count": null,
   "id": "0f0f569f",
   "metadata": {},
   "outputs": [],
   "source": []
  }
 ],
 "metadata": {
  "kernelspec": {
   "display_name": "Python 3 (ipykernel)",
   "language": "python",
   "name": "python3"
  },
  "language_info": {
   "codemirror_mode": {
    "name": "ipython",
    "version": 3
   },
   "file_extension": ".py",
   "mimetype": "text/x-python",
   "name": "python",
   "nbconvert_exporter": "python",
   "pygments_lexer": "ipython3",
   "version": "3.9.12"
  }
 },
 "nbformat": 4,
 "nbformat_minor": 5
}
