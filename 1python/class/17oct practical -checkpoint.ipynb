{
 "cells": [
  {
   "cell_type": "code",
   "execution_count": 51,
   "id": "94cef71d",
   "metadata": {},
   "outputs": [
    {
     "name": "stdout",
     "output_type": "stream",
     "text": [
      "5\n",
      "* * * * * \n",
      "* * * * \n",
      "* * * \n",
      "* * \n",
      "* \n",
      "* \n",
      "* * \n",
      "* * * \n",
      "* * * * \n",
      "* * * * * \n"
     ]
    }
   ],
   "source": [
    "n=int(input())\n",
    "for i in range(0,n):\n",
    "    for j in range(n-i,0,-1):\n",
    "        print(\"*\",end=\" \")\n",
    "    print()\n",
    "for i in range(1,n+1):\n",
    "    for j in range(i,0,-1):\n",
    "        print(\"*\",end=\" \")\n",
    "    print()\n",
    "    \n",
    "for i in range(0,n):\n",
    "    for j in range(n-i,0,-1):\n",
    "        print(\"*\",end=\" \")\n",
    "    print()\n",
    "for i in range(1,n+1):\n",
    "    for j in range(i,0,-1):\n",
    "        print(\"*\",end=\" \")\n",
    "    print()"
   ]
  },
  {
   "cell_type": "code",
   "execution_count": 52,
   "id": "5cafa0ff",
   "metadata": {},
   "outputs": [
    {
     "name": "stdout",
     "output_type": "stream",
     "text": [
      "enter thhe number of rows5\n",
      "    * \n",
      "   * * \n",
      "  * * * \n",
      " * * * * \n",
      "* * * * * \n",
      " * * * * \n",
      "  * * * \n",
      "   * * \n",
      "    * \n"
     ]
    }
   ],
   "source": [
    "n=int(input(\"enter thhe number of rows\"))\n",
    "\n",
    "for i in range(0,n):\n",
    "    for j in range(n-1,i,-1):\n",
    "        print(\" \",end=\"\")\n",
    "    for j in range(n-i,n+1):\n",
    "        print(\"*\",end=\" \")\n",
    "    print()\n",
    "for i in range(1,n):\n",
    "    for j in range(0,i):\n",
    "        print(\" \",end=\"\")\n",
    "    for j in range(i+1,n+1):\n",
    "        print(\"*\",end=\" \")\n",
    "    print()"
   ]
  },
  {
   "cell_type": "code",
   "execution_count": 99,
   "id": "bb78c531",
   "metadata": {},
   "outputs": [
    {
     "name": "stdout",
     "output_type": "stream",
     "text": [
      "enter thhe number of rows5\n",
      "* * * *   \n",
      "* * *     \n",
      "* *       \n",
      "*         \n",
      "          \n",
      "*         \n",
      "* *       \n",
      "* * *     \n",
      "* * * *   \n"
     ]
    }
   ],
   "source": [
    "n=int(input(\"enter thhe number of rows\"))\n",
    "for i in range(0,n):\n",
    "    for j in range(n-1,i,-1):\n",
    "        print(\"*\",end=\" \")\n",
    "    for j in range(n-i,n+1):\n",
    "        print(\" \",end=\" \")\n",
    "    print()\n",
    "for i in range(1,n):\n",
    "    for j in range(0,i):\n",
    "        print(\"*\",end=\" \")\n",
    "    for j in range(i+1,n+1):\n",
    "        print(\" \",end=\" \")\n",
    "    print()"
   ]
  },
  {
   "cell_type": "code",
   "execution_count": 89,
   "id": "57e7a8c7",
   "metadata": {},
   "outputs": [
    {
     "name": "stdout",
     "output_type": "stream",
     "text": [
      "12344321\n",
      "helo\n"
     ]
    }
   ],
   "source": [
    "x=input()\n",
    "h=True\n",
    "for i in range(len(x)):\n",
    "    if x[i]!=x[-i]:\n",
    "        h=False\n",
    "        break\n",
    "    if h:\n",
    "        print(\"helo\")\n",
    "        \n",
    "        \n",
    "    else:\n",
    "        print(\"hi\")"
   ]
  },
  {
   "cell_type": "code",
   "execution_count": 112,
   "id": "283ec373",
   "metadata": {},
   "outputs": [
    {
     "name": "stdout",
     "output_type": "stream",
     "text": [
      "enter thhe number of rows6\n",
      "* * * * * \n",
      "* * * * * \n",
      "* * * * \n",
      "* * * * \n",
      "* * * * \n",
      "* * * * \n"
     ]
    }
   ],
   "source": [
    "n=int(input(\"enter thhe number of rows\"))\n",
    "\n",
    "for i in range(0,n):\n",
    "    for j in range(((i//2)-1),((i//2)-1)):\n",
    "        print(\" \" ,end=\" \")\n",
    "    for j in range(0,(i//2)-1):                  \n",
    "        print(\"*\" ,end=\" \")\n",
    "    for j in range((i//2)+1,n):\n",
    "        print(\"*\",end=\" \")\n",
    "    print()"
   ]
  },
  {
   "cell_type": "code",
   "execution_count": null,
   "id": "e46c5751",
   "metadata": {},
   "outputs": [],
   "source": [
    "\n",
    "\n",
    "\n",
    "\n",
    "\n"
   ]
  }
 ],
 "metadata": {
  "kernelspec": {
   "display_name": "Python 3 (ipykernel)",
   "language": "python",
   "name": "python3"
  },
  "language_info": {
   "codemirror_mode": {
    "name": "ipython",
    "version": 3
   },
   "file_extension": ".py",
   "mimetype": "text/x-python",
   "name": "python",
   "nbconvert_exporter": "python",
   "pygments_lexer": "ipython3",
   "version": "3.9.12"
  }
 },
 "nbformat": 4,
 "nbformat_minor": 5
}
