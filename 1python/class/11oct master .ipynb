{
 "cells": [
  {
   "cell_type": "code",
   "execution_count": 2,
   "id": "7d0c0c24",
   "metadata": {},
   "outputs": [
    {
     "name": "stdout",
     "output_type": "stream",
     "text": [
      "8\n",
      "nameste\n"
     ]
    }
   ],
   "source": [
    "i=int(input())\n",
    "if (i==10):\n",
    "    print(\"hlo\")\n",
    "elif (i==15):\n",
    "    print(\"hola\")\n",
    "else:\n",
    "    print(\"nameste\")"
   ]
  },
  {
   "cell_type": "code",
   "execution_count": 5,
   "id": "db31ccd1",
   "metadata": {},
   "outputs": [
    {
     "name": "stdout",
     "output_type": "stream",
     "text": [
      "enter number:1\n",
      "enter number:2\n",
      "enter number:3\n",
      "3 is the largest number\n"
     ]
    }
   ],
   "source": [
    "a=int(input(\"enter number:\"))\n",
    "b=int(input(\"enter number:\"))\n",
    "c=int(input(\"enter number:\"))\n",
    "if a>b:\n",
    "    if a>c:\n",
    "        print(a,\"is the largest number\")\n",
    "    else:\n",
    "        print(c,\"is the largest number\")\n",
    "else:\n",
    "    if b>c:\n",
    "        print(b,\"is largest number\")\n",
    "    else:\n",
    "        print(c,\"is the largest number\")"
   ]
  },
  {
   "cell_type": "code",
   "execution_count": 7,
   "id": "13c6b26b",
   "metadata": {},
   "outputs": [
    {
     "name": "stdout",
     "output_type": "stream",
     "text": [
      "enter year:23\n",
      "23 is not a leap year\n"
     ]
    }
   ],
   "source": [
    "y=int(input(\"enter year:\"))\n",
    "if ((y%4==0) or (y%400==0)):\n",
    "    print(y,\"is a leap year\")\n",
    "else:\n",
    "    print(y,\"is not a leap year\")"
   ]
  },
  {
   "cell_type": "code",
   "execution_count": null,
   "id": "1a66f79f",
   "metadata": {},
   "outputs": [],
   "source": []
  }
 ],
 "metadata": {
  "kernelspec": {
   "display_name": "Python 3 (ipykernel)",
   "language": "python",
   "name": "python3"
  },
  "language_info": {
   "codemirror_mode": {
    "name": "ipython",
    "version": 3
   },
   "file_extension": ".py",
   "mimetype": "text/x-python",
   "name": "python",
   "nbconvert_exporter": "python",
   "pygments_lexer": "ipython3",
   "version": "3.9.12"
  }
 },
 "nbformat": 4,
 "nbformat_minor": 5
}
