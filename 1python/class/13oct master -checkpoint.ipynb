{
 "cells": [
  {
   "cell_type": "code",
   "execution_count": 6,
   "id": "8a2c8bbc",
   "metadata": {},
   "outputs": [
    {
     "name": "stdout",
     "output_type": "stream",
     "text": [
      "Enter the number:121\n",
      "121 is the reverse of 121\n",
      "0\n",
      "121 is palindrome number\n"
     ]
    }
   ],
   "source": [
    "#palindrome or not\n",
    "n=int(input(\"Enter the number:\"))\n",
    "rev=0\n",
    "orig=n\n",
    "while n>0:\n",
    "    rev=rev*10 + n%10\n",
    "    n=n//10\n",
    "print(rev,\"is the reverse of\",orig)\n",
    "if rev==orig:\n",
    "    print(orig,\"is palindrome number\")\n",
    "else :\n",
    "    print(otig,\"is not a palindrome number\")"
   ]
  },
  {
   "cell_type": "code",
   "execution_count": 16,
   "id": "924bd518",
   "metadata": {},
   "outputs": [
    {
     "name": "stdout",
     "output_type": "stream",
     "text": [
      "enter a number:123\n",
      "36\n",
      "123 is not a armstrong number\n"
     ]
    }
   ],
   "source": [
    "#armstrong number\n",
    "n=int(input(\"enter a number:\"))\n",
    "orig=n\n",
    "l=len(str(n))\n",
    "sum=0\n",
    "last=0\n",
    "while n>0:\n",
    "    last=n%10\n",
    "    sum=sum+last**l\n",
    "    n=n//10\n",
    "print(sum)\n",
    "if sum==orig:\n",
    "    print(orig,\"is armstrong number\")\n",
    "else:\n",
    "    print(orig,\"is not a armstrong number\")"
   ]
  },
  {
   "cell_type": "code",
   "execution_count": 23,
   "id": "3f54c8f3",
   "metadata": {},
   "outputs": [
    {
     "name": "stdout",
     "output_type": "stream",
     "text": [
      "enter a number13\n",
      "13 is prime number\n"
     ]
    }
   ],
   "source": [
    "#prime number\n",
    "n=int(input(\"enter a number\"))\n",
    "i=1\n",
    "c=0\n",
    "while i<=n:\n",
    "    if n%i==0:\n",
    "            c+=1\n",
    "    i+=1\n",
    "if c==2:\n",
    "    print(n,\"is prime number\")\n",
    "else:\n",
    "    print(n,\"is not prime number\")"
   ]
  },
  {
   "cell_type": "code",
   "execution_count": 35,
   "id": "c9c88115",
   "metadata": {},
   "outputs": [
    {
     "name": "stdout",
     "output_type": "stream",
     "text": [
      "enter a number2\n",
      "2 is a prime number\n"
     ]
    }
   ],
   "source": [
    "#prime number\n",
    "n=int(input(\"enter a number\"))\n",
    "i=2\n",
    "while i<(n//2):\n",
    "    if (n%i!=0):\n",
    "        i+=1\n",
    "print(n,\"is a prime number\")"
   ]
  },
  {
   "cell_type": "code",
   "execution_count": 39,
   "id": "72009ed9",
   "metadata": {},
   "outputs": [
    {
     "name": "stdout",
     "output_type": "stream",
     "text": [
      "enter the number of terms of fibonacci series:2\n",
      "1\n",
      "2\n",
      "3\n"
     ]
    }
   ],
   "source": [
    "terms=int(input(\"enter the number of terms of fibonacci series:\"))\n",
    "a=1\n",
    "b=2\n",
    "c=0\n",
    "while c<terms:\n",
    "    print(a)\n",
    "    d=a+b\n",
    "    a=b\n",
    "    b=d\n",
    "    c=c+1"
   ]
  },
  {
   "cell_type": "code",
   "execution_count": 54,
   "id": "3f8b887c",
   "metadata": {},
   "outputs": [
    {
     "name": "stdout",
     "output_type": "stream",
     "text": [
      "<class 'list'>\n"
     ]
    }
   ],
   "source": [
    "x=[1,2,3]\n",
    "print(type(x))"
   ]
  },
  {
   "cell_type": "code",
   "execution_count": 55,
   "id": "2eb4b656",
   "metadata": {},
   "outputs": [
    {
     "name": "stdout",
     "output_type": "stream",
     "text": [
      "3\n"
     ]
    }
   ],
   "source": [
    "print(x[2])"
   ]
  },
  {
   "cell_type": "code",
   "execution_count": 48,
   "id": "236db572",
   "metadata": {},
   "outputs": [
    {
     "name": "stdout",
     "output_type": "stream",
     "text": [
      "<class 'tuple'>\n"
     ]
    }
   ],
   "source": [
    "x=(1,2,3,4)\n",
    "print(type(x))"
   ]
  },
  {
   "cell_type": "code",
   "execution_count": 49,
   "id": "030526e4",
   "metadata": {},
   "outputs": [
    {
     "name": "stdout",
     "output_type": "stream",
     "text": [
      "<class 'dict'>\n"
     ]
    }
   ],
   "source": [
    "x={1:a,2:b}\n",
    "print(type(x))"
   ]
  },
  {
   "cell_type": "code",
   "execution_count": null,
   "id": "e9b67db4",
   "metadata": {},
   "outputs": [],
   "source": []
  }
 ],
 "metadata": {
  "kernelspec": {
   "display_name": "Python 3 (ipykernel)",
   "language": "python",
   "name": "python3"
  },
  "language_info": {
   "codemirror_mode": {
    "name": "ipython",
    "version": 3
   },
   "file_extension": ".py",
   "mimetype": "text/x-python",
   "name": "python",
   "nbconvert_exporter": "python",
   "pygments_lexer": "ipython3",
   "version": "3.9.12"
  }
 },
 "nbformat": 4,
 "nbformat_minor": 5
}
