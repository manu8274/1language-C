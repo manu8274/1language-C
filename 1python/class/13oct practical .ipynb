{
 "cells": [
  {
   "cell_type": "code",
   "execution_count": 8,
   "id": "6ed960b8",
   "metadata": {},
   "outputs": [
    {
     "name": "stdout",
     "output_type": "stream",
     "text": [
      "enter a number:3\n",
      "3 is greater than zero ie a positve number \n"
     ]
    }
   ],
   "source": [
    "n=int(input(\"enter a number:\"))\n",
    "if n>0:\n",
    "    print(n,\"is greater than zero ie a positve number \")\n",
    "else:\n",
    "    print(n,\"is less than zero ie a negative number\")"
   ]
  },
  {
   "cell_type": "code",
   "execution_count": 10,
   "id": "ed52dd7c",
   "metadata": {},
   "outputs": [
    {
     "name": "stdout",
     "output_type": "stream",
     "text": [
      "45\n",
      "bus fare is 30\n"
     ]
    }
   ],
   "source": [
    "age=int(input())\n",
    "if 0<age<3:\n",
    "    print(\"no fare\")\n",
    "elif(3<age<10):\n",
    "    print(\"bus fare is 20\")\n",
    "elif(10<age<20):\n",
    "    print(\"bus fare is 25\")\n",
    "else:\n",
    "    print(\"bus fare is 30\")\n",
    "    "
   ]
  },
  {
   "cell_type": "code",
   "execution_count": 28,
   "id": "68f8ac57",
   "metadata": {},
   "outputs": [
    {
     "name": "stdout",
     "output_type": "stream",
     "text": [
      "Enter the weight:99\n",
      "no food\n"
     ]
    }
   ],
   "source": [
    "w=int(input(\"Enter the weight:\")) \n",
    "if w<40:\n",
    "    print(\"no info regarding food \")\n",
    "elif 40<w<=50:\n",
    "    print(\"no restriction\")\n",
    "elif 50<w<=60:\n",
    "    print(\"food of weight 300gm\")\n",
    "elif 60<w<=70:\n",
    "    print(\"food of weight 200gm\")\n",
    "else:\n",
    "    print(\"no food\")"
   ]
  },
  {
   "cell_type": "code",
   "execution_count": 44,
   "id": "274bf225",
   "metadata": {},
   "outputs": [
    {
     "name": "stdout",
     "output_type": "stream",
     "text": [
      "23\n",
      "276\n"
     ]
    }
   ],
   "source": [
    "num=int(input())\n",
    "add=0\n",
    "i=1\n",
    "while i<=num:\n",
    "    add+=i\n",
    "    i+=1\n",
    "print(add)"
   ]
  },
  {
   "cell_type": "code",
   "execution_count": null,
   "id": "26d84587",
   "metadata": {},
   "outputs": [],
   "source": []
  }
 ],
 "metadata": {
  "kernelspec": {
   "display_name": "Python 3 (ipykernel)",
   "language": "python",
   "name": "python3"
  },
  "language_info": {
   "codemirror_mode": {
    "name": "ipython",
    "version": 3
   },
   "file_extension": ".py",
   "mimetype": "text/x-python",
   "name": "python",
   "nbconvert_exporter": "python",
   "pygments_lexer": "ipython3",
   "version": "3.9.12"
  }
 },
 "nbformat": 4,
 "nbformat_minor": 5
}
