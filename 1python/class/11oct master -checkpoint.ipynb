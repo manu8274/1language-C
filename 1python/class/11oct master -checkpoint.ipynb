{
 "cells": [
  {
   "cell_type": "code",
   "execution_count": 2,
   "id": "2e317d4f",
   "metadata": {},
   "outputs": [
    {
     "name": "stdout",
     "output_type": "stream",
     "text": [
      "8\n",
      "nameste\n"
     ]
    }
   ],
   "source": [
    "i=int(input())\n",
    "if (i==10):\n",
    "    print(\"hlo\")\n",
    "elif (i==15):\n",
    "    print(\"hola\")\n",
    "else:\n",
    "    print(\"nameste\")"
   ]
  },
  {
   "cell_type": "code",
   "execution_count": 5,
   "id": "53f1b7fb",
   "metadata": {},
   "outputs": [
    {
     "name": "stdout",
     "output_type": "stream",
     "text": [
      "enter number:1\n",
      "enter number:2\n",
      "enter number:3\n",
      "3 is the largest number\n"
     ]
    }
   ],
   "source": [
    "a=int(input(\"enter number:\"))\n",
    "b=int(input(\"enter number:\"))\n",
    "c=int(input(\"enter number:\"))\n",
    "if a>b:\n",
    "    if a>c:\n",
    "        print(a,\"is the largest number\")\n",
    "    else:\n",
    "        print(c,\"is the largest number\")\n",
    "else:\n",
    "    if b>c:\n",
    "        print(b,\"is largest number\")\n",
    "    else:\n",
    "        print(c,\"is the largest number\")"
   ]
  },
  {
   "cell_type": "code",
   "execution_count": null,
   "id": "b91eac74",
   "metadata": {},
   "outputs": [],
   "source": []
  }
 ],
 "metadata": {
  "kernelspec": {
   "display_name": "Python 3 (ipykernel)",
   "language": "python",
   "name": "python3"
  },
  "language_info": {
   "codemirror_mode": {
    "name": "ipython",
    "version": 3
   },
   "file_extension": ".py",
   "mimetype": "text/x-python",
   "name": "python",
   "nbconvert_exporter": "python",
   "pygments_lexer": "ipython3",
   "version": "3.9.12"
  }
 },
 "nbformat": 4,
 "nbformat_minor": 5
}
