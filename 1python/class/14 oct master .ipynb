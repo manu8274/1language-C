{
 "cells": [
  {
   "cell_type": "code",
   "execution_count": 1,
   "id": "359b49b3",
   "metadata": {},
   "outputs": [
    {
     "data": {
      "text/plain": [
       "range(0, 10)"
      ]
     },
     "execution_count": 1,
     "metadata": {},
     "output_type": "execute_result"
    }
   ],
   "source": [
    "range(10)"
   ]
  },
  {
   "cell_type": "code",
   "execution_count": 2,
   "id": "72ef876e",
   "metadata": {},
   "outputs": [
    {
     "data": {
      "text/plain": [
       "range"
      ]
     },
     "execution_count": 2,
     "metadata": {},
     "output_type": "execute_result"
    }
   ],
   "source": [
    "type(range(10))"
   ]
  },
  {
   "cell_type": "code",
   "execution_count": 5,
   "id": "c7058e1f",
   "metadata": {},
   "outputs": [
    {
     "name": "stdout",
     "output_type": "stream",
     "text": [
      "[0, 1, 2, 3, 4, 5, 6, 7, 8, 9]\n"
     ]
    }
   ],
   "source": [
    "print(list(range(10)))"
   ]
  },
  {
   "cell_type": "code",
   "execution_count": 6,
   "id": "84786796",
   "metadata": {},
   "outputs": [
    {
     "data": {
      "text/plain": [
       "[0, 1, 2, 3, 4, 5, 6, 7, 8, 9]"
      ]
     },
     "execution_count": 6,
     "metadata": {},
     "output_type": "execute_result"
    }
   ],
   "source": [
    "list(range(10))"
   ]
  },
  {
   "cell_type": "code",
   "execution_count": 7,
   "id": "e862fe26",
   "metadata": {},
   "outputs": [
    {
     "ename": "TypeError",
     "evalue": "range expected at least 1 argument, got 0",
     "output_type": "error",
     "traceback": [
      "\u001b[1;31m---------------------------------------------------------------------------\u001b[0m",
      "\u001b[1;31mTypeError\u001b[0m                                 Traceback (most recent call last)",
      "Input \u001b[1;32mIn [7]\u001b[0m, in \u001b[0;36m<cell line: 1>\u001b[1;34m()\u001b[0m\n\u001b[1;32m----> 1\u001b[0m \u001b[38;5;28mlist\u001b[39m(\u001b[38;5;28;43mrange\u001b[39;49m\u001b[43m(\u001b[49m\u001b[43m)\u001b[49m)\n",
      "\u001b[1;31mTypeError\u001b[0m: range expected at least 1 argument, got 0"
     ]
    }
   ],
   "source": [
    "list(range())"
   ]
  },
  {
   "cell_type": "code",
   "execution_count": 12,
   "id": "83de3ddc",
   "metadata": {},
   "outputs": [
    {
     "name": "stdout",
     "output_type": "stream",
     "text": [
      "hello mr.ramesh\n",
      "hello mr.suresh\n",
      "hello mr.gopal\n",
      "all guest have been greeted\n"
     ]
    }
   ],
   "source": [
    "a=[\"ramesh\",\"suresh\",\"gopal\"]\n",
    "for i in a:\n",
    "    print(\"hello mr.\"+ i)\n",
    "print(\"all guest have been greeted\")"
   ]
  },
  {
   "cell_type": "code",
   "execution_count": 14,
   "id": "3ff19115",
   "metadata": {},
   "outputs": [
    {
     "name": "stdout",
     "output_type": "stream",
     "text": [
      "entter a number:5\n",
      "table of number 5\n",
      "0\n",
      "5\n",
      "10\n",
      "15\n",
      "20\n",
      "25\n",
      "30\n",
      "35\n",
      "40\n",
      "45\n",
      "50\n"
     ]
    }
   ],
   "source": [
    "n=int(input(\"entter a number:\"))\n",
    "print(\"table of number\",n)\n",
    "\n",
    "for i in range(11):\n",
    "    print(n*i)"
   ]
  },
  {
   "cell_type": "code",
   "execution_count": 21,
   "id": "6fcf0c7c",
   "metadata": {},
   "outputs": [
    {
     "name": "stdout",
     "output_type": "stream",
     "text": [
      "10##20\n"
     ]
    }
   ],
   "source": [
    "a=10\n",
    "b=20\n",
    "print(a, end=\"##\")\n",
    "print(b)"
   ]
  },
  {
   "cell_type": "code",
   "execution_count": 22,
   "id": "09f68770",
   "metadata": {},
   "outputs": [
    {
     "name": "stdout",
     "output_type": "stream",
     "text": [
      "entter a number:5\n",
      "table of number 5\n",
      "0 5 10 15 20 25 30 35 40 45 50 "
     ]
    }
   ],
   "source": [
    "n=int(input(\"entter a number:\"))\n",
    "print(\"table of number\",n)\n",
    "\n",
    "for i in range(11):\n",
    "    print(n*i,end=\" \")"
   ]
  },
  {
   "cell_type": "code",
   "execution_count": 26,
   "id": "2b2506ed",
   "metadata": {},
   "outputs": [
    {
     "name": "stdout",
     "output_type": "stream",
     "text": [
      "Hello MR.ramesh. Hello MR.suresh. Hello MR.gopal. all guest have been greeted\n"
     ]
    }
   ],
   "source": [
    "a=[\"ramesh\",\"suresh\",\"gopal\"]\n",
    "for i in a:\n",
    "    print(\"Hello MR.\"+ i,end=\". \")\n",
    "print(\"all guest have been greeted\")"
   ]
  },
  {
   "cell_type": "code",
   "execution_count": 28,
   "id": "831462a5",
   "metadata": {},
   "outputs": [],
   "source": [
    "l=len(a)"
   ]
  },
  {
   "cell_type": "code",
   "execution_count": 29,
   "id": "559940bc",
   "metadata": {},
   "outputs": [
    {
     "name": "stdout",
     "output_type": "stream",
     "text": [
      "Hello MR.ramesh\n",
      "Hello MR.suresh\n",
      "Hello MR.gopal\n"
     ]
    }
   ],
   "source": [
    "for i in range(l):\n",
    "    print(\"Hello MR.\"+a[i])"
   ]
  },
  {
   "cell_type": "code",
   "execution_count": 39,
   "id": "3a0bb65c",
   "metadata": {},
   "outputs": [
    {
     "name": "stdout",
     "output_type": "stream",
     "text": [
      "1 2 3 4 5 6 7 8 9 10 2 4 6 8 10 12 14 16 18 20 3 6 9 12 15 18 21 24 27 30 4 8 12 16 20 24 28 32 36 40 5 10 15 20 25 30 35 40 45 50 6 12 18 24 30 36 42 48 54 60 7 14 21 28 35 42 49 56 63 70 8 16 24 32 40 48 56 64 72 80 9 18 27 36 45 54 63 72 81 90 10 20 30 40 50 60 70 80 90 100 "
     ]
    }
   ],
   "source": [
    "for a in range (1,11):\n",
    "    for i in range(1,11):\n",
    "        print(a*i,end=\" \")\n"
   ]
  },
  {
   "cell_type": "code",
   "execution_count": 38,
   "id": "dc8edd23",
   "metadata": {},
   "outputs": [
    {
     "name": "stdout",
     "output_type": "stream",
     "text": [
      "1 2 3 4 5 6 7 8 9 10 \n",
      "2 4 6 8 10 12 14 16 18 20 \n",
      "3 6 9 12 15 18 21 24 27 30 \n",
      "4 8 12 16 20 24 28 32 36 40 \n",
      "5 10 15 20 25 30 35 40 45 50 \n",
      "6 12 18 24 30 36 42 48 54 60 \n",
      "7 14 21 28 35 42 49 56 63 70 \n",
      "8 16 24 32 40 48 56 64 72 80 \n",
      "9 18 27 36 45 54 63 72 81 90 \n",
      "10 20 30 40 50 60 70 80 90 100 \n"
     ]
    }
   ],
   "source": [
    "for a in range (1,11):\n",
    "    for i in range(1,11):\n",
    "        print(a*i,end=\" \")\n",
    "    print()"
   ]
  },
  {
   "cell_type": "code",
   "execution_count": 40,
   "id": "eef9cd38",
   "metadata": {},
   "outputs": [
    {
     "name": "stdout",
     "output_type": "stream",
     "text": [
      "1 2 3 4 5 6 7 8 9 10 "
     ]
    }
   ],
   "source": [
    "for a in range (1,11):\n",
    "    for i in range(1,11):\n",
    "        print(a*i,end=\" \")\n",
    "        break"
   ]
  },
  {
   "cell_type": "code",
   "execution_count": 45,
   "id": "c410cd14",
   "metadata": {},
   "outputs": [
    {
     "name": "stdout",
     "output_type": "stream",
     "text": [
      "1 2 3 4 5 6 7 8 9 10 \n",
      "\n",
      "\n",
      "2 4 6 8 10 12 14 16 18 20 \n",
      "\n",
      "\n",
      "3 6 9 12 15 18 21 24 27 30 \n",
      "\n",
      "\n",
      "4 8 12 16 20 24 28 32 36 40 \n",
      "\n",
      "\n",
      "5 10 15 20 25 30 35 40 45 50 \n",
      "\n",
      "\n",
      "6 12 18 24 30 36 42 48 54 60 \n",
      "\n",
      "\n",
      "7 14 21 28 35 42 49 56 63 70 \n",
      "\n",
      "\n",
      "8 16 24 32 40 48 56 64 72 80 \n",
      "\n",
      "\n",
      "9 18 27 36 45 54 63 72 81 90 \n",
      "\n",
      "\n",
      "10 20 30 40 50 60 70 80 90 100 \n",
      "\n",
      "\n"
     ]
    }
   ],
   "source": [
    "for a in range (1,11):\n",
    "    for i in range(1,11):\n",
    "        print(a*i,end=\" \")\n",
    "    print()\n",
    "    print()\n",
    "    print()"
   ]
  },
  {
   "cell_type": "code",
   "execution_count": 54,
   "id": "c7b2a8c2",
   "metadata": {},
   "outputs": [
    {
     "name": "stdout",
     "output_type": "stream",
     "text": [
      "1 1 1 1 1 \n",
      "2 2 2 2 2 \n",
      "3 3 3 3 3 \n",
      "4 4 4 4 4 \n",
      "5 5 5 5 5 \n"
     ]
    }
   ],
   "source": [
    "for a in range(1,6):\n",
    "    for i in range(1,6):\n",
    "        print(a,end=\" \")\n",
    "    print()"
   ]
  },
  {
   "cell_type": "code",
   "execution_count": 55,
   "id": "3fea0b42",
   "metadata": {
    "scrolled": true
   },
   "outputs": [
    {
     "name": "stdout",
     "output_type": "stream",
     "text": [
      "1 2 3 4 5 \n",
      "1 2 3 4 5 \n",
      "1 2 3 4 5 \n",
      "1 2 3 4 5 \n",
      "1 2 3 4 5 \n"
     ]
    }
   ],
   "source": [
    "for a in range(1,6):\n",
    "    for i in range(1,6):\n",
    "        print(i,end=\" \")\n",
    "    print()"
   ]
  },
  {
   "cell_type": "code",
   "execution_count": 56,
   "id": "cdcd6c8f",
   "metadata": {},
   "outputs": [
    {
     "name": "stdout",
     "output_type": "stream",
     "text": [
      "1 \n",
      "2 2 \n",
      "3 3 3 \n",
      "4 4 4 4 \n",
      "5 5 5 5 5 \n"
     ]
    }
   ],
   "source": [
    "for a in range(1,6):\n",
    "    for i in range(1,a+1):\n",
    "        print(a,end=\" \")\n",
    "    print()"
   ]
  },
  {
   "cell_type": "code",
   "execution_count": 57,
   "id": "ce7cc8aa",
   "metadata": {},
   "outputs": [
    {
     "name": "stdout",
     "output_type": "stream",
     "text": [
      "1 \n",
      "1 2 \n",
      "1 2 3 \n",
      "1 2 3 4 \n",
      "1 2 3 4 5 \n"
     ]
    }
   ],
   "source": [
    "for a in range(1,6):\n",
    "    for i in range(1,a+1):\n",
    "        print(i,end=\" \")\n",
    "    print()"
   ]
  },
  {
   "cell_type": "code",
   "execution_count": 58,
   "id": "e8b34867",
   "metadata": {},
   "outputs": [
    {
     "name": "stdout",
     "output_type": "stream",
     "text": [
      "* \n",
      "* * \n",
      "* * * \n",
      "* * * * \n",
      "* * * * * \n"
     ]
    }
   ],
   "source": [
    "for a in range(1,6):\n",
    "    for i in range(1,a+1):\n",
    "        print(\"*\",end=\" \")\n",
    "    print()"
   ]
  },
  {
   "cell_type": "code",
   "execution_count": 60,
   "id": "daa2c653",
   "metadata": {},
   "outputs": [
    {
     "name": "stdout",
     "output_type": "stream",
     "text": [
      "0 \n",
      "6 7 \n",
      "13 14 15 \n",
      "21 22 23 24 \n",
      "30 31 32 33 34 \n"
     ]
    }
   ],
   "source": [
    "s=0\n",
    "for a in range(1,6):\n",
    "    for i in range(1,a+1):\n",
    "        print(s,end=\" \")\n",
    "        s+=1\n",
    "    s+=5\n",
    "    print()"
   ]
  },
  {
   "cell_type": "code",
   "execution_count": 63,
   "id": "329c34d8",
   "metadata": {},
   "outputs": [
    {
     "name": "stdout",
     "output_type": "stream",
     "text": [
      "@#$ \n",
      "@#$@#$ @#$@#$@#$ \n",
      "@#$@#$@#$@#$ @#$@#$@#$@#$@#$ @#$@#$@#$@#$@#$@#$ \n",
      "@#$@#$@#$@#$@#$@#$@#$ @#$@#$@#$@#$@#$@#$@#$@#$ @#$@#$@#$@#$@#$@#$@#$@#$@#$ @#$@#$@#$@#$@#$@#$@#$@#$@#$@#$ \n",
      "@#$@#$@#$@#$@#$@#$@#$@#$@#$@#$@#$ @#$@#$@#$@#$@#$@#$@#$@#$@#$@#$@#$@#$ @#$@#$@#$@#$@#$@#$@#$@#$@#$@#$@#$@#$@#$ @#$@#$@#$@#$@#$@#$@#$@#$@#$@#$@#$@#$@#$@#$ @#$@#$@#$@#$@#$@#$@#$@#$@#$@#$@#$@#$@#$@#$@#$ \n"
     ]
    }
   ],
   "source": [
    "s=\"@#$\"\n",
    "for a in range(1,6):\n",
    "    for i in range(a+1,1,-1):\n",
    "        print(s,end=\" \")\n",
    "        s=s+\"@#$\"\n",
    "    print()"
   ]
  },
  {
   "cell_type": "code",
   "execution_count": 65,
   "id": "7b232c62",
   "metadata": {},
   "outputs": [
    {
     "name": "stdout",
     "output_type": "stream",
     "text": [
      "1 2 3 4 5 \n",
      "1 2 3 4 \n",
      "1 2 3 \n",
      "1 2 \n",
      "1 \n"
     ]
    }
   ],
   "source": [
    "for a in range(5,0,-1):\n",
    "    for i in range(1,a+1):\n",
    "        print(i,end=\" \")\n",
    "    print()"
   ]
  },
  {
   "cell_type": "code",
   "execution_count": 66,
   "id": "bd1e9fa7",
   "metadata": {},
   "outputs": [
    {
     "name": "stdout",
     "output_type": "stream",
     "text": [
      "* * * * * \n",
      "* * * * \n",
      "* * * \n",
      "* * \n",
      "* \n"
     ]
    }
   ],
   "source": [
    "for a in range(5,0,-1):\n",
    "    for i in range(1,a+1):\n",
    "        print(\"*\",end=\" \")\n",
    "    print()"
   ]
  },
  {
   "cell_type": "code",
   "execution_count": 67,
   "id": "192d05a2",
   "metadata": {},
   "outputs": [
    {
     "name": "stdout",
     "output_type": "stream",
     "text": [
      "* \n",
      "* * \n",
      "* * * \n",
      "* * * * \n",
      "* * * * * \n",
      "* * * * * \n",
      "* * * * \n",
      "* * * \n",
      "* * \n",
      "* \n"
     ]
    }
   ],
   "source": [
    "for a in range(1,6):\n",
    "    for i in range(1,a+1):\n",
    "        print(\"*\",end=\" \")\n",
    "    print()\n",
    "for a in range(5,0,-1):\n",
    "    for i in range(1,a+1):\n",
    "        print(\"*\",end=\" \")\n",
    "    print()\n",
    "    "
   ]
  },
  {
   "cell_type": "code",
   "execution_count": 71,
   "id": "4b2e4838",
   "metadata": {},
   "outputs": [
    {
     "name": "stdout",
     "output_type": "stream",
     "text": [
      "* \n",
      "* * \n",
      "* * * \n",
      "* * * * \n",
      "* * * * * \n",
      "* * * * * \n",
      "* * * * \n",
      "* * * \n",
      "* * \n",
      "* \n"
     ]
    }
   ],
   "source": [
    "for a in range(1,6):\n",
    "    for i in range(1,a+1):\n",
    "        print(\"*\",end=\" \")\n",
    "    print()\n",
    "for a in range(5,0,-1):\n",
    "    for i in range(1,a+1):\n",
    "        print(\"*\",end=\" \")\n",
    "    print()\n",
    "    "
   ]
  },
  {
   "cell_type": "code",
   "execution_count": null,
   "id": "8fdaa3f7",
   "metadata": {},
   "outputs": [],
   "source": []
  }
 ],
 "metadata": {
  "kernelspec": {
   "display_name": "Python 3 (ipykernel)",
   "language": "python",
   "name": "python3"
  },
  "language_info": {
   "codemirror_mode": {
    "name": "ipython",
    "version": 3
   },
   "file_extension": ".py",
   "mimetype": "text/x-python",
   "name": "python",
   "nbconvert_exporter": "python",
   "pygments_lexer": "ipython3",
   "version": "3.9.12"
  }
 },
 "nbformat": 4,
 "nbformat_minor": 5
}
