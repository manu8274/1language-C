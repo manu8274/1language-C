{
 "cells": [
  {
   "cell_type": "code",
   "execution_count": 5,
   "id": "c3ebffa4",
   "metadata": {},
   "outputs": [
    {
     "name": "stdout",
     "output_type": "stream",
     "text": [
      "------------------------\n"
     ]
    }
   ],
   "source": [
    "def printline():\n",
    "    print(\"------------------------\")\n",
    "    \n",
    "printline()"
   ]
  },
  {
   "cell_type": "code",
   "execution_count": 6,
   "id": "250254a2",
   "metadata": {},
   "outputs": [
    {
     "name": "stdout",
     "output_type": "stream",
     "text": [
      "HLO Mr.manu\n"
     ]
    }
   ],
   "source": [
    "def greeting(name):\n",
    "    print(\"HLO Mr.\" +name)\n",
    "    \n",
    "greeting(\"manu\")"
   ]
  },
  {
   "cell_type": "code",
   "execution_count": 6,
   "id": "52fb3140",
   "metadata": {},
   "outputs": [
    {
     "name": "stdout",
     "output_type": "stream",
     "text": [
      "120\n"
     ]
    }
   ],
   "source": [
    "def factorial(n):\n",
    "    if (n==1 or n==0):\n",
    "        return(1)\n",
    "    else:\n",
    "        return(n*factorial(n-1))\n",
    "\n",
    "print(factorial(5))"
   ]
  },
  {
   "cell_type": "code",
   "execution_count": 6,
   "id": "9e78303b",
   "metadata": {},
   "outputs": [
    {
     "name": "stdout",
     "output_type": "stream",
     "text": [
      "55\n"
     ]
    }
   ],
   "source": [
    "def sum(n):\n",
    "    if (n==1):\n",
    "        return (1)\n",
    "    else:\n",
    "        return(n+sum(n-1))\n",
    "\n",
    "\n",
    "print(sum(10))\n"
   ]
  },
  {
   "cell_type": "code",
   "execution_count": 1,
   "id": "a4be0dae",
   "metadata": {},
   "outputs": [
    {
     "name": "stdout",
     "output_type": "stream",
     "text": [
      "6\n"
     ]
    }
   ],
   "source": [
    "def sumofdigit(n):\n",
    "    if (n//10==0):\n",
    "        return(n)\n",
    "    else:\n",
    "        return(n%10 + sumofdigit(n//10))\n",
    "    \n",
    "print(sumofdigit(123))"
   ]
  },
  {
   "cell_type": "code",
   "execution_count": 2,
   "id": "3aaa3dc0",
   "metadata": {},
   "outputs": [
    {
     "name": "stdout",
     "output_type": "stream",
     "text": [
      "hello\n"
     ]
    }
   ],
   "source": [
    "def greeting():\n",
    "    return(\"hello\")\n",
    "\n",
    "print(greeting())"
   ]
  },
  {
   "cell_type": "code",
   "execution_count": 3,
   "id": "d09aba01",
   "metadata": {},
   "outputs": [
    {
     "name": "stdout",
     "output_type": "stream",
     "text": [
      "3\n"
     ]
    }
   ],
   "source": [
    "def countofdigit(n):\n",
    "    if (n//10==0):\n",
    "        return(1)\n",
    "    else:\n",
    "        return(1+countofdigit(n//10))\n",
    "    \n",
    "print(countofdigit(123))"
   ]
  },
  {
   "cell_type": "code",
   "execution_count": 9,
   "id": "aa2794da",
   "metadata": {},
   "outputs": [
    {
     "name": "stdout",
     "output_type": "stream",
     "text": [
      "8\n"
     ]
    }
   ],
   "source": [
    "def fibo(n):\n",
    "    if n==1:\n",
    "        return(1)\n",
    "    elif (n==2):\n",
    "        return(2)\n",
    "    else:\n",
    "        return(fibo(n-1)+fibo(n-2))\n",
    "    \n",
    "print(fibo(5))"
   ]
  },
  {
   "cell_type": "code",
   "execution_count": 15,
   "id": "365db7db",
   "metadata": {},
   "outputs": [
    {
     "name": "stdout",
     "output_type": "stream",
     "text": [
      "34\n"
     ]
    }
   ],
   "source": [
    "print(fibo(8))"
   ]
  },
  {
   "cell_type": "markdown",
   "id": "10b61293",
   "metadata": {},
   "source": [
    "# Module"
   ]
  },
  {
   "cell_type": "code",
   "execution_count": 21,
   "id": "6253441b",
   "metadata": {},
   "outputs": [
    {
     "name": "stdout",
     "output_type": "stream",
     "text": [
      "121\n",
      "11.0\n"
     ]
    }
   ],
   "source": [
    "import math\n",
    "num=int(input())\n",
    "print(math.sqrt(num))"
   ]
  },
  {
   "cell_type": "code",
   "execution_count": 26,
   "id": "0cf293e5",
   "metadata": {},
   "outputs": [
    {
     "data": {
      "text/plain": [
       "0.647453566466157"
      ]
     },
     "execution_count": 26,
     "metadata": {},
     "output_type": "execute_result"
    }
   ],
   "source": [
    "import random\n",
    "random.random()"
   ]
  },
  {
   "cell_type": "code",
   "execution_count": 91,
   "id": "a980d8cc",
   "metadata": {},
   "outputs": [
    {
     "data": {
      "text/plain": [
       "53"
      ]
     },
     "execution_count": 91,
     "metadata": {},
     "output_type": "execute_result"
    }
   ],
   "source": [
    "import random\n",
    "random.randint(1,100)"
   ]
  },
  {
   "cell_type": "code",
   "execution_count": 67,
   "id": "7a4915eb",
   "metadata": {},
   "outputs": [
    {
     "data": {
      "text/plain": [
       "1"
      ]
     },
     "execution_count": 67,
     "metadata": {},
     "output_type": "execute_result"
    }
   ],
   "source": [
    "random.randrange(1,2)"
   ]
  },
  {
   "cell_type": "code",
   "execution_count": 72,
   "id": "f1c673dc",
   "metadata": {},
   "outputs": [
    {
     "data": {
      "text/plain": [
       "0.2785572075366214"
      ]
     },
     "execution_count": 72,
     "metadata": {},
     "output_type": "execute_result"
    }
   ],
   "source": [
    "random.random()"
   ]
  },
  {
   "cell_type": "code",
   "execution_count": 76,
   "id": "75a24f51",
   "metadata": {},
   "outputs": [
    {
     "data": {
      "text/plain": [
       "50"
      ]
     },
     "execution_count": 76,
     "metadata": {},
     "output_type": "execute_result"
    }
   ],
   "source": [
    "random.randrange(0,100,10)"
   ]
  },
  {
   "cell_type": "code",
   "execution_count": 87,
   "id": "0c1a6a26",
   "metadata": {},
   "outputs": [
    {
     "data": {
      "text/plain": [
       "'a'"
      ]
     },
     "execution_count": 87,
     "metadata": {},
     "output_type": "execute_result"
    }
   ],
   "source": [
    "random.choice(\"manasvi\")"
   ]
  },
  {
   "cell_type": "code",
   "execution_count": 98,
   "id": "5dcd1f9f",
   "metadata": {},
   "outputs": [
    {
     "name": "stdout",
     "output_type": "stream",
     "text": [
      "None\n"
     ]
    }
   ],
   "source": [
    "import random\n",
    "num=[12,23,34,45,56,67,78]\n",
    "print(random.shuffle(num))"
   ]
  },
  {
   "cell_type": "code",
   "execution_count": 101,
   "id": "4c1d598e",
   "metadata": {},
   "outputs": [
    {
     "data": {
      "text/plain": [
       "11"
      ]
     },
     "execution_count": 101,
     "metadata": {},
     "output_type": "execute_result"
    }
   ],
   "source": [
    "import math\n",
    "math.ceil(10.2345)"
   ]
  },
  {
   "cell_type": "code",
   "execution_count": 102,
   "id": "398b66fd",
   "metadata": {},
   "outputs": [
    {
     "data": {
      "text/plain": [
       "10"
      ]
     },
     "execution_count": 102,
     "metadata": {},
     "output_type": "execute_result"
    }
   ],
   "source": [
    "import math\n",
    "math.floor(10.2345)"
   ]
  },
  {
   "cell_type": "code",
   "execution_count": null,
   "id": "9bef5313",
   "metadata": {},
   "outputs": [],
   "source": []
  }
 ],
 "metadata": {
  "kernelspec": {
   "display_name": "Python 3 (ipykernel)",
   "language": "python",
   "name": "python3"
  },
  "language_info": {
   "codemirror_mode": {
    "name": "ipython",
    "version": 3
   },
   "file_extension": ".py",
   "mimetype": "text/x-python",
   "name": "python",
   "nbconvert_exporter": "python",
   "pygments_lexer": "ipython3",
   "version": "3.9.12"
  }
 },
 "nbformat": 4,
 "nbformat_minor": 5
}
