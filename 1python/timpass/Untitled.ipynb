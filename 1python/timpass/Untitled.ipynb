{
 "cells": [
  {
   "cell_type": "code",
   "execution_count": 2,
   "id": "47169cf1",
   "metadata": {},
   "outputs": [
    {
     "name": "stdout",
     "output_type": "stream",
     "text": [
      "460\n"
     ]
    }
   ],
   "source": [
    "z=lambda a,b: a if a>b else b\n",
    "print(z(54,460))"
   ]
  },
  {
   "cell_type": "code",
   "execution_count": 5,
   "id": "8b757b58",
   "metadata": {},
   "outputs": [
    {
     "name": "stdout",
     "output_type": "stream",
     "text": [
      "120\n"
     ]
    }
   ],
   "source": [
    "def factorial(n):\n",
    "    if n==1 or n==0:\n",
    "        return 1\n",
    "    else:\n",
    "        return(n*factorial(n-1))\n",
    "    \n",
    "print(factorial(5))"
   ]
  },
  {
   "cell_type": "code",
   "execution_count": 9,
   "id": "fb5ef380",
   "metadata": {},
   "outputs": [
    {
     "name": "stdout",
     "output_type": "stream",
     "text": [
      "10\n",
      "factorial of 10  =  3628800\n"
     ]
    }
   ],
   "source": [
    "def factorial(n):\n",
    "    if n==1 or n==0:\n",
    "        return 1\n",
    "    else:\n",
    "        return(n*factorial(n-1))\n",
    "    \n",
    "n=int(input())    \n",
    "print(\"factorial of\",n,\" = \",factorial(n))"
   ]
  },
  {
   "cell_type": "code",
   "execution_count": null,
   "id": "98dd4c9b",
   "metadata": {},
   "outputs": [],
   "source": []
  }
 ],
 "metadata": {
  "kernelspec": {
   "display_name": "Python 3 (ipykernel)",
   "language": "python",
   "name": "python3"
  },
  "language_info": {
   "codemirror_mode": {
    "name": "ipython",
    "version": 3
   },
   "file_extension": ".py",
   "mimetype": "text/x-python",
   "name": "python",
   "nbconvert_exporter": "python",
   "pygments_lexer": "ipython3",
   "version": "3.9.12"
  }
 },
 "nbformat": 4,
 "nbformat_minor": 5
}
