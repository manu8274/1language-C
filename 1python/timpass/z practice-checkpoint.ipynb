{
 "cells": [
  {
   "cell_type": "code",
   "execution_count": 1,
   "id": "6fd2cbca",
   "metadata": {},
   "outputs": [
    {
     "name": "stdout",
     "output_type": "stream",
     "text": [
      "22.19\n"
     ]
    }
   ],
   "source": [
    "x=22.19\n",
    "print(\"%5.2f\"%x)"
   ]
  },
  {
   "cell_type": "code",
   "execution_count": 2,
   "id": "0f612962",
   "metadata": {},
   "outputs": [
    {
     "name": "stdout",
     "output_type": "stream",
     "text": [
      "india\n"
     ]
    }
   ],
   "source": [
    "a=123\n",
    "a=\"india\"\n",
    "print(a)"
   ]
  },
  {
   "cell_type": "code",
   "execution_count": 4,
   "id": "f8686f3f",
   "metadata": {},
   "outputs": [
    {
     "name": "stdout",
     "output_type": "stream",
     "text": [
      "7\n"
     ]
    }
   ],
   "source": [
    "print(4+(3%5))"
   ]
  },
  {
   "cell_type": "code",
   "execution_count": 42,
   "id": "01880e0e",
   "metadata": {},
   "outputs": [
    {
     "name": "stdout",
     "output_type": "stream",
     "text": [
      "123.45600\n"
     ]
    }
   ],
   "source": [
    "x=123.456\n",
    "print(\"{0:.5f}\".format(x))"
   ]
  },
  {
   "cell_type": "code",
   "execution_count": 15,
   "id": "efcc0342",
   "metadata": {},
   "outputs": [
    {
     "name": "stdout",
     "output_type": "stream",
     "text": [
      "256\n"
     ]
    }
   ],
   "source": [
    "print(2**(2**3))"
   ]
  },
  {
   "cell_type": "code",
   "execution_count": 19,
   "id": "e7bb199c",
   "metadata": {},
   "outputs": [
    {
     "name": "stdout",
     "output_type": "stream",
     "text": [
      "2634822661072\n"
     ]
    }
   ],
   "source": [
    "print(id(x))"
   ]
  },
  {
   "cell_type": "code",
   "execution_count": 23,
   "id": "9f84111f",
   "metadata": {},
   "outputs": [
    {
     "name": "stdout",
     "output_type": "stream",
     "text": [
      "hello,good, and morning\n"
     ]
    }
   ],
   "source": [
    "s='{0},{1}, and {2}'\n",
    "print(s.format('hello','good','morning'))"
   ]
  },
  {
   "cell_type": "code",
   "execution_count": 24,
   "id": "389aa3c2",
   "metadata": {},
   "outputs": [
    {
     "name": "stdout",
     "output_type": "stream",
     "text": [
      "<class 'int'>\n",
      "<class 'str'>\n"
     ]
    }
   ],
   "source": [
    "var=10\n",
    "print(type(var))\n",
    "var=\"hello\"\n",
    "print(type(var))"
   ]
  },
  {
   "cell_type": "code",
   "execution_count": 1,
   "id": "24b51b59",
   "metadata": {},
   "outputs": [
    {
     "name": "stdout",
     "output_type": "stream",
     "text": [
      "hello world!hello world!hello world!\n"
     ]
    }
   ],
   "source": [
    "print(\"hello world!\" * 3)"
   ]
  },
  {
   "cell_type": "code",
   "execution_count": 21,
   "id": "6bd2651c",
   "metadata": {
    "scrolled": false
   },
   "outputs": [
    {
     "name": "stdout",
     "output_type": "stream",
     "text": [
      "Enter the number:16\n",
      "thousand digit= 0\n",
      "hundred digit= 0\n",
      "16 is divisible by 16\n"
     ]
    }
   ],
   "source": [
    "num=int(input(\"Enter the number:\"))\n",
    "th=num%10000\n",
    "th_digit=th//1000\n",
    "hd=num%1000\n",
    "hu_digit=hd//100\n",
    "last2digit=num%100\n",
    "print(\"thousand digit=\",th_digit)\n",
    "print(\"hundred digit=\",hu_digit)\n",
    "if (th_digit%2==0):\n",
    "    huh_digit=hu_digit*4\n",
    "    z=last2digit+huh_digit\n",
    "    if (z%16==0):\n",
    "        print(num,\"is divisible by 16\")\n",
    "elif (th_digit%2!=0):\n",
    "    hu_digit=hu_digit+8\n",
    "    huh_digit=hu_digit*4\n",
    "    z=last2digit+huh_digit\n",
    "    if (z&16==0):\n",
    "        print(num,\"is divisible by 16\")\n",
    "else:\n",
    "    print(num,\"is not divisible by 16\")"
   ]
  },
  {
   "cell_type": "code",
   "execution_count": 3,
   "id": "822490f9",
   "metadata": {},
   "outputs": [
    {
     "name": "stdout",
     "output_type": "stream",
     "text": [
      "435\n",
      "534\n"
     ]
    }
   ],
   "source": [
    "rev=0\n",
    "n=int(input())\n",
    "while n>0:\n",
    "    rev=(rev*10) + n%10\n",
    "    n=n//10\n",
    "print(rev)"
   ]
  },
  {
   "cell_type": "code",
   "execution_count": null,
   "id": "4d34c4f7",
   "metadata": {},
   "outputs": [
    {
     "name": "stdout",
     "output_type": "stream",
     "text": [
      "1\n",
      "252025\n",
      "25632563256325632\n",
      "25632563256577657\n",
      "3\n",
      "256325632\n",
      "25412541\n",
      "6513885632550912\n",
      "4\n",
      "25632032146532145632102365412365\n",
      "520\n",
      "49292369512561819411852296192\n",
      "5\n",
      "2301654\n",
      "230125632012564789\n",
      "2301654\n",
      "6\n",
      "230\n",
      "Invalid Operation\n"
     ]
    }
   ],
   "source": [
    "while True :\n",
    "    n=int(input())\n",
    "    if n==1:\n",
    "        a=int(input())\n",
    "        b=int(input())\n",
    "        print(int(a+b))\n",
    "    elif n==2:\n",
    "        a=int(input())\n",
    "        b=int(input())\n",
    "        print(int(a-b))\n",
    "    elif n==3:\n",
    "        a=int(input())\n",
    "        b=int(input())\n",
    "        print(int(a*b))\n",
    "    elif n==4:\n",
    "        a=int(input())\n",
    "        b=int(input())\n",
    "        print(int(a/b))\n",
    "    elif n==5:\n",
    "        a=int(input())\n",
    "        b=int(input())\n",
    "        print(int(a%b))\n",
    "    elif n==6:\n",
    "        quit()\n",
    "    else:\n",
    "        print(\"Invalid Operation\")"
   ]
  },
  {
   "cell_type": "code",
   "execution_count": null,
   "id": "ea72fb0e",
   "metadata": {},
   "outputs": [],
   "source": []
  }
 ],
 "metadata": {
  "kernelspec": {
   "display_name": "Python 3",
   "language": "python",
   "name": "python3"
  },
  "language_info": {
   "codemirror_mode": {
    "name": "ipython",
    "version": 3
   },
   "file_extension": ".py",
   "mimetype": "text/x-python",
   "name": "python",
   "nbconvert_exporter": "python",
   "pygments_lexer": "ipython3",
   "version": "3.11.1 (tags/v3.11.1:a7a450f, Dec  6 2022, 19:58:39) [MSC v.1934 64 bit (AMD64)]"
  },
  "vscode": {
   "interpreter": {
    "hash": "69b88fa2945e4b6212a8e8979ab801e81706d1c8c28420e200b7254d8399e8f2"
   }
  }
 },
 "nbformat": 4,
 "nbformat_minor": 5
}
