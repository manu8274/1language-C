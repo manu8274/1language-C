{
 "cells": [
  {
   "cell_type": "code",
   "execution_count": 1,
   "metadata": {},
   "outputs": [
    {
     "name": "stdout",
     "output_type": "stream",
     "text": [
      "3\n",
      "4\n"
     ]
    }
   ],
   "source": [
    "for _ in range(int(input())):\n",
    "    n=int(input())\n",
    "    s=input()\n",
    "    if(s[0]=='@'):\n",
    "        c=1\n",
    "    else:\n",
    "        c=0\n",
    "    for i in range(1,n):\n",
    "        if(s[i]=='@'):\n",
    "            c+=1\n",
    "        if(s[i-1]==s[i] and s[i]=='*'):\n",
    "            break\n",
    "    print(c)"
   ]
  },
  {
   "cell_type": "code",
   "execution_count": 31,
   "metadata": {},
   "outputs": [
    {
     "name": "stdout",
     "output_type": "stream",
     "text": [
      "5\n"
     ]
    }
   ],
   "source": [
    "for _ in range(int(input())):\n",
    "    n=int(input())\n",
    "    l=list(map(int,input().split()))\n",
    "    x=0\n",
    "    for i in l:\n",
    "        if(x<i):\n",
    "            x=i\n",
    "        elif(x==i):\n",
    "                x=x+i\n",
    "        else:\n",
    "            t=i\n",
    "            while(x>=t):\n",
    "                t+=i\n",
    "            x=t\n",
    "    print(x)"
   ]
  },
  {
   "cell_type": "code",
   "execution_count": 35,
   "metadata": {},
   "outputs": [
    {
     "name": "stdout",
     "output_type": "stream",
     "text": [
      "0 "
     ]
    },
    {
     "ename": "IndexError",
     "evalue": "string index out of range",
     "output_type": "error",
     "traceback": [
      "\u001b[1;31m---------------------------------------------------------------------------\u001b[0m",
      "\u001b[1;31mIndexError\u001b[0m                                Traceback (most recent call last)",
      "Cell \u001b[1;32mIn[35], line 12\u001b[0m\n\u001b[0;32m     10\u001b[0m ri\u001b[38;5;241m=\u001b[39mn\u001b[38;5;241m-\u001b[39m\u001b[38;5;241m1\u001b[39m\n\u001b[0;32m     11\u001b[0m \u001b[38;5;28;01mfor\u001b[39;00m i \u001b[38;5;129;01min\u001b[39;00m \u001b[38;5;28mrange\u001b[39m(n\u001b[38;5;241m-\u001b[39m\u001b[38;5;241m1\u001b[39m):\n\u001b[1;32m---> 12\u001b[0m     \u001b[38;5;28;01mif\u001b[39;00m(\u001b[43ms\u001b[49m\u001b[43m[\u001b[49m\u001b[43mi\u001b[49m\u001b[43m]\u001b[49m\u001b[38;5;241m==\u001b[39m\u001b[38;5;124m'\u001b[39m\u001b[38;5;124mL\u001b[39m\u001b[38;5;124m'\u001b[39m):\n\u001b[0;32m     13\u001b[0m         x\u001b[38;5;241m=\u001b[39mx\u001b[38;5;241m/\u001b[39m\u001b[38;5;241m/\u001b[39ml[li]\n\u001b[0;32m     14\u001b[0m         li\u001b[38;5;241m+\u001b[39m\u001b[38;5;241m=\u001b[39m\u001b[38;5;241m1\u001b[39m\n",
      "\u001b[1;31mIndexError\u001b[0m: string index out of range"
     ]
    }
   ],
   "source": [
    "for _ in range(int(input())):\n",
    "    n,m=map(int,input().split())\n",
    "    l=list(map(int,input().split()))\n",
    "    s=input()\n",
    "    x=l[0]\n",
    "    for i in range(1,n):\n",
    "        x=x*l[i]\n",
    "    print(x%m,end=\" \")\n",
    "    li=0\n",
    "    ri=n-1\n",
    "    for i in range(n-1):\n",
    "        if(s[i]=='L'):\n",
    "            x=x//l[li]\n",
    "            li+=1\n",
    "        if(s[i]=='R'):\n",
    "            x=x//l[ri]\n",
    "            ri-=1\n",
    "        print(x%m,end=\" \")    \n",
    "    print()"
   ]
  },
  {
   "cell_type": "code",
   "execution_count": 38,
   "metadata": {},
   "outputs": [
    {
     "name": "stdout",
     "output_type": "stream",
     "text": [
      "[1, 1, 2, 3, 4]\n"
     ]
    }
   ],
   "source": [
    "l=[]\n",
    "for i in range(5):\n",
    "    l.append(int(input()))\n",
    "print(l)"
   ]
  },
  {
   "cell_type": "code",
   "execution_count": null,
   "metadata": {},
   "outputs": [],
   "source": [
    "for _ in range(int(input())):\n",
    "    n=int(input())\n",
    "    trump=input()\n",
    "    discard=[i for i in input().split()]\n",
    "    CLB=[]\n",
    "    DMD=[]\n",
    "    HRT=[]\n",
    "    SPD=[]\n",
    "    for i in discard:\n",
    "        if(i[1]=='C'):\n",
    "            CLB.append(i)\n",
    "        elif(i[1]=='D'):\n",
    "            DMD.append(i)\n",
    "        elif(i[1]=='S'):\n",
    "            SPD.append(i)\n",
    "        else:\n",
    "            HRT.append(i)\n",
    "    if(trump=='S'):\n",
    "        "
   ]
  }
 ],
 "metadata": {
  "kernelspec": {
   "display_name": "Python 3",
   "language": "python",
   "name": "python3"
  },
  "language_info": {
   "codemirror_mode": {
    "name": "ipython",
    "version": 3
   },
   "file_extension": ".py",
   "mimetype": "text/x-python",
   "name": "python",
   "nbconvert_exporter": "python",
   "pygments_lexer": "ipython3",
   "version": "3.10.4"
  }
 },
 "nbformat": 4,
 "nbformat_minor": 2
}
