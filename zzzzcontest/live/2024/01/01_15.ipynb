{
 "cells": [
  {
   "cell_type": "code",
   "execution_count": 3,
   "metadata": {},
   "outputs": [
    {
     "name": "stdout",
     "output_type": "stream",
     "text": [
      "3\n"
     ]
    }
   ],
   "source": [
    "#A\n",
    "for i in range(int(input())):\n",
    "    l=[]\n",
    "    for i in range(4):\n",
    "        l.append(list(map(int,input().split())))\n",
    "    l.sort()\n",
    "    print(abs(l[0][1]-l[1][1]) **2)"
   ]
  },
  {
   "cell_type": "code",
   "execution_count": 31,
   "metadata": {},
   "outputs": [
    {
     "name": "stdout",
     "output_type": "stream",
     "text": [
      "0\n"
     ]
    }
   ],
   "source": [
    "#B\n",
    "for i in range(int(input())):\n",
    "    n=int(input())\n",
    "    x1=input()\n",
    "    x2=input()\n",
    "    add=0\n",
    "    ret=0\n",
    "    mv=0\n",
    "    add1=0\n",
    "    ret1=0\n",
    "    z1=x1.count('1')\n",
    "    z2=x2.count('1')\n",
    "    if(z2>z1):\n",
    "        add=z2-z1\n",
    "        add1=add\n",
    "    else:\n",
    "        ret=z1-z2\n",
    "        ret1=ret\n",
    "    for i in range(n):\n",
    "        if(x1[i]=='1' and x2[i]=='0'):\n",
    "            if(ret1>0):\n",
    "                ret1-=1\n",
    "            else:\n",
    "                mv+=1\n",
    "        if(x1[i]=='0' and x2[i]=='1'):\n",
    "            if(add1>0):\n",
    "                add1-=1\n",
    "            else:\n",
    "                mv+=1\n",
    "    print(mv//2 + add +ret)"
   ]
  }
 ],
 "metadata": {
  "kernelspec": {
   "display_name": "Python 3",
   "language": "python",
   "name": "python3"
  },
  "language_info": {
   "codemirror_mode": {
    "name": "ipython",
    "version": 3
   },
   "file_extension": ".py",
   "mimetype": "text/x-python",
   "name": "python",
   "nbconvert_exporter": "python",
   "pygments_lexer": "ipython3",
   "version": "3.10.4"
  }
 },
 "nbformat": 4,
 "nbformat_minor": 2
}
