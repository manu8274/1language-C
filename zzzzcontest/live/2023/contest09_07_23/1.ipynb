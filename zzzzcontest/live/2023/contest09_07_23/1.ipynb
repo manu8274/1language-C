{
 "cells": [
  {
   "cell_type": "code",
   "execution_count": 8,
   "metadata": {},
   "outputs": [
    {
     "name": "stdout",
     "output_type": "stream",
     "text": [
      "1\n",
      "2\n",
      "1\n",
      "1\n",
      "50\n",
      "15\n"
     ]
    }
   ],
   "source": [
    "for _ in range(int(input())):\n",
    "    a,b,c=map(int,input().split())\n",
    "    mx=max(a,b)\n",
    "    mn=min(a,b)\n",
    "    if(a==b):\n",
    "        print(0)\n",
    "    elif(mx-mn<c):\n",
    "        print(1)\n",
    "    else:\n",
    "        n=(mx-mn)/2\n",
    "        m=(mx-mn)//2\n",
    "        if(n!=m):\n",
    "            m+=1\n",
    "        if(m/c==m//c):\n",
    "            print(m//c)\n",
    "        else:\n",
    "            print(int(m/c +1))"
   ]
  },
  {
   "cell_type": "code",
   "execution_count": 6,
   "metadata": {},
   "outputs": [
    {
     "name": "stdout",
     "output_type": "stream",
     "text": [
      "hi\n",
      "-1\n"
     ]
    }
   ],
   "source": [
    "for _ in range(int(input())):\n",
    "    l,r=map(int,input().split())\n",
    "    if(l==r):\n",
    "        if(l%2==0):\n",
    "            print(4,l-4)\n",
    "        elif(l%3==0):\n",
    "            print(6,l-6)\n",
    "        elif(l%7==0):\n",
    "            print(14,l-14)\n",
    "        elif(l%11==0):\n",
    "            print(22,l-22)\n",
    "    else:\n",
    "        for i in range(l,r+1):\n",
    "            if(i%2==0):\n",
    "                x=i/2\n",
    "                if(x!=1):\n",
    "                    if(x%2==0):\n",
    "                        print(int(x),int(x))\n",
    "                    else:\n",
    "                        print(int(x-1),int(x+1))\n",
    "                    break\n",
    "        else:\n",
    "            print(-1)"
   ]
  },
  {
   "cell_type": "code",
   "execution_count": 19,
   "metadata": {},
   "outputs": [
    {
     "name": "stdout",
     "output_type": "stream",
     "text": [
      "29\n"
     ]
    }
   ],
   "source": [
    "for _ in range(int(input())):\n",
    "    n=int(input())\n",
    "    k,l=map(int,input().split())\n",
    "    if(l%2==0):\n",
    "        x=(l-2)//2\n",
    "    else:\n",
    "        x=l//2\n",
    "    mp=l+x\n",
    "    y=0\n",
    "    for i in range(n-1):\n",
    "        m,n=map(int,input().split())\n",
    "        if(m<x):\n",
    "            if(n%2==0):\n",
    "                z=(n-2)//2\n",
    "            else:\n",
    "                z=n//2\n",
    "            if(m+z<x):\n",
    "                mp=m+z\n",
    "    print(mp)"
   ]
  },
  {
   "cell_type": "code",
   "execution_count": null,
   "metadata": {},
   "outputs": [],
   "source": []
  }
 ],
 "metadata": {
  "kernelspec": {
   "display_name": "Python 3",
   "language": "python",
   "name": "python3"
  },
  "language_info": {
   "codemirror_mode": {
    "name": "ipython",
    "version": 3
   },
   "file_extension": ".py",
   "mimetype": "text/x-python",
   "name": "python",
   "nbconvert_exporter": "python",
   "pygments_lexer": "ipython3",
   "version": "3.11.5"
  },
  "orig_nbformat": 4
 },
 "nbformat": 4,
 "nbformat_minor": 2
}
