{
 "cells": [
  {
   "cell_type": "code",
   "execution_count": 2,
   "metadata": {},
   "outputs": [],
   "source": [
    "import cv2"
   ]
  },
  {
   "cell_type": "code",
   "execution_count": 1,
   "metadata": {},
   "outputs": [
    {
     "name": "stdout",
     "output_type": "stream",
     "text": [
      "['elon_musk.jpg', 'manu.jpg']\n"
     ]
    },
    {
     "ename": "TypeError",
     "evalue": "compute_face_descriptor(): incompatible function arguments. The following argument types are supported:\n    1. (self: _dlib_pybind11.face_recognition_model_v1, img: numpy.ndarray[(rows,cols,3),numpy.uint8], face: _dlib_pybind11.full_object_detection, num_jitters: int = 0, padding: float = 0.25) -> _dlib_pybind11.vector\n    2. (self: _dlib_pybind11.face_recognition_model_v1, img: numpy.ndarray[(rows,cols,3),numpy.uint8], num_jitters: int = 0) -> _dlib_pybind11.vector\n    3. (self: _dlib_pybind11.face_recognition_model_v1, img: numpy.ndarray[(rows,cols,3),numpy.uint8], faces: _dlib_pybind11.full_object_detections, num_jitters: int = 0, padding: float = 0.25) -> _dlib_pybind11.vectors\n    4. (self: _dlib_pybind11.face_recognition_model_v1, batch_img: List[numpy.ndarray[(rows,cols,3),numpy.uint8]], batch_faces: List[_dlib_pybind11.full_object_detections], num_jitters: int = 0, padding: float = 0.25) -> _dlib_pybind11.vectorss\n    5. (self: _dlib_pybind11.face_recognition_model_v1, batch_img: List[numpy.ndarray[(rows,cols,3),numpy.uint8]], num_jitters: int = 0) -> _dlib_pybind11.vectors\n\nInvoked with: <_dlib_pybind11.face_recognition_model_v1 object at 0x000001ABAC4DB730>, array([[[233, 233, 233],\n        [236, 236, 236],\n        [235, 235, 235],\n        ...,\n        [254, 255, 255],\n        [254, 255, 255],\n        [254, 255, 255]],\n\n       [[234, 234, 234],\n        [233, 233, 233],\n        [235, 235, 235],\n        ...,\n        [254, 255, 255],\n        [254, 255, 255],\n        [254, 255, 255]],\n\n       [[234, 234, 234],\n        [235, 235, 235],\n        [235, 235, 235],\n        ...,\n        [254, 255, 255],\n        [254, 255, 255],\n        [254, 255, 255]],\n\n       ...,\n\n       [[108, 109, 129],\n        [110, 111, 132],\n        [110, 110, 132],\n        ...,\n        [ 63,  61,  86],\n        [ 65,  63,  88],\n        [ 69,  65,  98]],\n\n       [[108, 107, 129],\n        [109, 108, 129],\n        [105, 109, 125],\n        ...,\n        [ 65,  62,  92],\n        [ 66,  63,  93],\n        [ 69,  66,  96]],\n\n       [[107, 107, 129],\n        [104, 104, 125],\n        [102, 100, 119],\n        ...,\n        [ 65,  62,  88],\n        [ 68,  65,  91],\n        [ 68,  66,  92]]], dtype=uint8), <_dlib_pybind11.full_object_detection object at 0x000001ABBAF6B5B0>, 1",
     "output_type": "error",
     "traceback": [
      "\u001b[1;31m---------------------------------------------------------------------------\u001b[0m",
      "\u001b[1;31mTypeError\u001b[0m                                 Traceback (most recent call last)",
      "Cell \u001b[1;32mIn[1], line 81\u001b[0m\n\u001b[0;32m     79\u001b[0m \u001b[38;5;28;01mif\u001b[39;00m \u001b[38;5;18m__name__\u001b[39m\u001b[38;5;241m==\u001b[39m\u001b[38;5;124m'\u001b[39m\u001b[38;5;124m__main__\u001b[39m\u001b[38;5;124m'\u001b[39m:\n\u001b[0;32m     80\u001b[0m     fr\u001b[38;5;241m=\u001b[39mface_recog()\n\u001b[1;32m---> 81\u001b[0m     \u001b[43mfr\u001b[49m\u001b[38;5;241;43m.\u001b[39;49m\u001b[43mrun_recog\u001b[49m\u001b[43m(\u001b[49m\u001b[43m)\u001b[49m\n",
      "Cell \u001b[1;32mIn[1], line 46\u001b[0m, in \u001b[0;36mface_recog.run_recog\u001b[1;34m(self)\u001b[0m\n\u001b[0;32m     44\u001b[0m \u001b[38;5;66;03m#to find faces\u001b[39;00m\n\u001b[0;32m     45\u001b[0m \u001b[38;5;28mself\u001b[39m\u001b[38;5;241m.\u001b[39mface_location\u001b[38;5;241m=\u001b[39mface_recognition\u001b[38;5;241m.\u001b[39mface_locations(rgb_small_frame)\n\u001b[1;32m---> 46\u001b[0m \u001b[38;5;28mself\u001b[39m\u001b[38;5;241m.\u001b[39mface_encoding\u001b[38;5;241m=\u001b[39m\u001b[43mface_recognition\u001b[49m\u001b[38;5;241;43m.\u001b[39;49m\u001b[43mface_encodings\u001b[49m\u001b[43m(\u001b[49m\u001b[43mrgb_small_frame\u001b[49m\u001b[43m,\u001b[49m\u001b[38;5;28;43mself\u001b[39;49m\u001b[38;5;241;43m.\u001b[39;49m\u001b[43mface_location\u001b[49m\u001b[43m)\u001b[49m\n\u001b[0;32m     48\u001b[0m \u001b[38;5;66;03m#recognition\u001b[39;00m\n\u001b[0;32m     49\u001b[0m \u001b[38;5;28mself\u001b[39m\u001b[38;5;241m.\u001b[39mface_names\u001b[38;5;241m=\u001b[39m[]\n",
      "File \u001b[1;32mc:\\Users\\manu1\\AppData\\Local\\Programs\\Python\\Python311\\Lib\\site-packages\\face_recognition\\api.py:214\u001b[0m, in \u001b[0;36mface_encodings\u001b[1;34m(face_image, known_face_locations, num_jitters, model)\u001b[0m\n\u001b[0;32m    204\u001b[0m \u001b[38;5;250m\u001b[39m\u001b[38;5;124;03m\"\"\"\u001b[39;00m\n\u001b[0;32m    205\u001b[0m \u001b[38;5;124;03mGiven an image, return the 128-dimension face encoding for each face in the image.\u001b[39;00m\n\u001b[0;32m    206\u001b[0m \n\u001b[1;32m   (...)\u001b[0m\n\u001b[0;32m    211\u001b[0m \u001b[38;5;124;03m:return: A list of 128-dimensional face encodings (one for each face in the image)\u001b[39;00m\n\u001b[0;32m    212\u001b[0m \u001b[38;5;124;03m\"\"\"\u001b[39;00m\n\u001b[0;32m    213\u001b[0m raw_landmarks \u001b[38;5;241m=\u001b[39m _raw_face_landmarks(face_image, known_face_locations, model)\n\u001b[1;32m--> 214\u001b[0m \u001b[38;5;28;01mreturn\u001b[39;00m \u001b[43m[\u001b[49m\u001b[43mnp\u001b[49m\u001b[38;5;241;43m.\u001b[39;49m\u001b[43marray\u001b[49m\u001b[43m(\u001b[49m\u001b[43mface_encoder\u001b[49m\u001b[38;5;241;43m.\u001b[39;49m\u001b[43mcompute_face_descriptor\u001b[49m\u001b[43m(\u001b[49m\u001b[43mface_image\u001b[49m\u001b[43m,\u001b[49m\u001b[43m \u001b[49m\u001b[43mraw_landmark_set\u001b[49m\u001b[43m,\u001b[49m\u001b[43m \u001b[49m\u001b[43mnum_jitters\u001b[49m\u001b[43m)\u001b[49m\u001b[43m)\u001b[49m\u001b[43m \u001b[49m\u001b[38;5;28;43;01mfor\u001b[39;49;00m\u001b[43m \u001b[49m\u001b[43mraw_landmark_set\u001b[49m\u001b[43m \u001b[49m\u001b[38;5;129;43;01min\u001b[39;49;00m\u001b[43m \u001b[49m\u001b[43mraw_landmarks\u001b[49m\u001b[43m]\u001b[49m\n",
      "File \u001b[1;32mc:\\Users\\manu1\\AppData\\Local\\Programs\\Python\\Python311\\Lib\\site-packages\\face_recognition\\api.py:214\u001b[0m, in \u001b[0;36m<listcomp>\u001b[1;34m(.0)\u001b[0m\n\u001b[0;32m    204\u001b[0m \u001b[38;5;250m\u001b[39m\u001b[38;5;124;03m\"\"\"\u001b[39;00m\n\u001b[0;32m    205\u001b[0m \u001b[38;5;124;03mGiven an image, return the 128-dimension face encoding for each face in the image.\u001b[39;00m\n\u001b[0;32m    206\u001b[0m \n\u001b[1;32m   (...)\u001b[0m\n\u001b[0;32m    211\u001b[0m \u001b[38;5;124;03m:return: A list of 128-dimensional face encodings (one for each face in the image)\u001b[39;00m\n\u001b[0;32m    212\u001b[0m \u001b[38;5;124;03m\"\"\"\u001b[39;00m\n\u001b[0;32m    213\u001b[0m raw_landmarks \u001b[38;5;241m=\u001b[39m _raw_face_landmarks(face_image, known_face_locations, model)\n\u001b[1;32m--> 214\u001b[0m \u001b[38;5;28;01mreturn\u001b[39;00m [np\u001b[38;5;241m.\u001b[39marray(\u001b[43mface_encoder\u001b[49m\u001b[38;5;241;43m.\u001b[39;49m\u001b[43mcompute_face_descriptor\u001b[49m\u001b[43m(\u001b[49m\u001b[43mface_image\u001b[49m\u001b[43m,\u001b[49m\u001b[43m \u001b[49m\u001b[43mraw_landmark_set\u001b[49m\u001b[43m,\u001b[49m\u001b[43m \u001b[49m\u001b[43mnum_jitters\u001b[49m\u001b[43m)\u001b[49m) \u001b[38;5;28;01mfor\u001b[39;00m raw_landmark_set \u001b[38;5;129;01min\u001b[39;00m raw_landmarks]\n",
      "\u001b[1;31mTypeError\u001b[0m: compute_face_descriptor(): incompatible function arguments. The following argument types are supported:\n    1. (self: _dlib_pybind11.face_recognition_model_v1, img: numpy.ndarray[(rows,cols,3),numpy.uint8], face: _dlib_pybind11.full_object_detection, num_jitters: int = 0, padding: float = 0.25) -> _dlib_pybind11.vector\n    2. (self: _dlib_pybind11.face_recognition_model_v1, img: numpy.ndarray[(rows,cols,3),numpy.uint8], num_jitters: int = 0) -> _dlib_pybind11.vector\n    3. (self: _dlib_pybind11.face_recognition_model_v1, img: numpy.ndarray[(rows,cols,3),numpy.uint8], faces: _dlib_pybind11.full_object_detections, num_jitters: int = 0, padding: float = 0.25) -> _dlib_pybind11.vectors\n    4. (self: _dlib_pybind11.face_recognition_model_v1, batch_img: List[numpy.ndarray[(rows,cols,3),numpy.uint8]], batch_faces: List[_dlib_pybind11.full_object_detections], num_jitters: int = 0, padding: float = 0.25) -> _dlib_pybind11.vectorss\n    5. (self: _dlib_pybind11.face_recognition_model_v1, batch_img: List[numpy.ndarray[(rows,cols,3),numpy.uint8]], num_jitters: int = 0) -> _dlib_pybind11.vectors\n\nInvoked with: <_dlib_pybind11.face_recognition_model_v1 object at 0x000001ABAC4DB730>, array([[[233, 233, 233],\n        [236, 236, 236],\n        [235, 235, 235],\n        ...,\n        [254, 255, 255],\n        [254, 255, 255],\n        [254, 255, 255]],\n\n       [[234, 234, 234],\n        [233, 233, 233],\n        [235, 235, 235],\n        ...,\n        [254, 255, 255],\n        [254, 255, 255],\n        [254, 255, 255]],\n\n       [[234, 234, 234],\n        [235, 235, 235],\n        [235, 235, 235],\n        ...,\n        [254, 255, 255],\n        [254, 255, 255],\n        [254, 255, 255]],\n\n       ...,\n\n       [[108, 109, 129],\n        [110, 111, 132],\n        [110, 110, 132],\n        ...,\n        [ 63,  61,  86],\n        [ 65,  63,  88],\n        [ 69,  65,  98]],\n\n       [[108, 107, 129],\n        [109, 108, 129],\n        [105, 109, 125],\n        ...,\n        [ 65,  62,  92],\n        [ 66,  63,  93],\n        [ 69,  66,  96]],\n\n       [[107, 107, 129],\n        [104, 104, 125],\n        [102, 100, 119],\n        ...,\n        [ 65,  62,  88],\n        [ 68,  65,  91],\n        [ 68,  66,  92]]], dtype=uint8), <_dlib_pybind11.full_object_detection object at 0x000001ABBAF6B5B0>, 1"
     ]
    },
    {
     "ename": "",
     "evalue": "",
     "output_type": "error",
     "traceback": [
      "\u001b[1;31mThe Kernel crashed while executing code in the current cell or a previous cell. \n",
      "\u001b[1;31mPlease review the code in the cell(s) to identify a possible cause of the failure. \n",
      "\u001b[1;31mClick <a href='https://aka.ms/vscodeJupyterKernelCrash'>here</a> for more info. \n",
      "\u001b[1;31mView Jupyter <a href='command:jupyter.viewOutput'>log</a> for further details."
     ]
    }
   ],
   "source": [
    "import face_recognition,os,sys,cv2,math\n",
    "import numpy as np\n",
    "\n",
    "def face_score(distance,match_threshhold=0.6):\n",
    "    rg=(1.0-match_threshhold)\n",
    "    lv=(1.0-distance)/(rg*2.0)\n",
    "    \n",
    "    if(distance>match_threshhold):\n",
    "        return str(round(lv*100,2)) +\"%\"\n",
    "    else:\n",
    "        val=(lv+((1.0-lv)*math.pow((lv-0.5),0.2)))*100\n",
    "        return str(round(str,2))+\"%\"\n",
    "    \n",
    "class face_recog:\n",
    "    face_location=[]\n",
    "    face_encoding=[]\n",
    "    face_names=[]\n",
    "    known_face_encoding=[]\n",
    "    known_face_names=[]\n",
    "    process_cureent_frame=True\n",
    "    \n",
    "    def __init__(self):\n",
    "        self.code_faces()\n",
    "    \n",
    "    def code_faces(self):\n",
    "        for img in os.listdir('faces'):\n",
    "            fc_img=face_recognition.load_image_file(f'faces/{img}')\n",
    "            fc_encoding=face_recognition.face_encodings(fc_img)[0]\n",
    "            self.known_face_encoding.append(fc_encoding)\n",
    "            self.known_face_names.append(img)\n",
    "        print(self.known_face_names)\n",
    "    \n",
    "    def run_recog(self):\n",
    "        video=cv2.VideoCapture(0)#0 fro webcam\n",
    "        if not video.isOpened():\n",
    "            print(\"NO video\")\n",
    "            \n",
    "        while(True):\n",
    "            ret,frame=video.read()\n",
    "            if(self.process_cureent_frame):\n",
    "                small_frame=cv2.resize(frame,(0,0),fx=0.25,fy=0.25)\n",
    "                rgb_small_frame = np.ascontiguousarray(small_frame[:, :, ::-1])\n",
    "\n",
    "                \n",
    "                #to find faces\n",
    "                self.face_location=face_recognition.face_locations(rgb_small_frame)\n",
    "                self.face_encoding=face_recognition.face_encodings(rgb_small_frame,self.face_location)\n",
    "                \n",
    "                #recognition\n",
    "                self.face_names=[]\n",
    "                for fc_encoding in self.face_encoding:\n",
    "                    matches=face_recognition.compare_faces(self.known_face_encoding,fc_encoding)\n",
    "                    name='UNKOWN'\n",
    "                    confidence='UNKOWN'\n",
    "                    \n",
    "                    face_distance=face_recognition.face_distance(self.known_face_encoding,fc_encoding)\n",
    "                    best_match_index=np.argmin(face_distance)\n",
    "                    if(matches[best_match_index]):\n",
    "                        name=self.known_face_names[best_match_index]\n",
    "                        confidence=face_score(face_distance[best_match_index])\n",
    "                    self.face_names.append(f'{name} ({confidence})')\n",
    "                    \n",
    "            self.process_cureent_frame=not self.process_cureent_frame\n",
    "            for  (top,right,bottom,left),name in zip(self.face_location,self.face_names):\n",
    "                top,right,bottom,left=top*4,right*4,bottom*4,left*4\n",
    "                \n",
    "                cv2.rectangle(frame,(left,top),(right,bottom),(0,0,255), 2)\n",
    "                #2 for thickness , -1 for filling the rectangle where name if found\n",
    "                cv2.rectangle(frame,(left,bottom-35),(right,bottom),(0,0,255), -1)\n",
    "                cv2.putText(frame,name,(left+6,bottom-6),cv2.FONT_HERSHEY_DUPLEX , 0.8,(255,255,255),1)\n",
    "            cv2.imshow('Face  Recognition',frame)\n",
    "            if(cv2.waitKey(1)==ord('q')):\n",
    "                break\n",
    "        video.release()\n",
    "        cv2.destroyAllWindows()\n",
    "\n",
    "\n",
    "\n",
    "\n",
    "if __name__=='__main__':\n",
    "    fr=face_recog()\n",
    "    fr.run_recog()\n",
    "    "
   ]
  },
  {
   "cell_type": "code",
   "execution_count": null,
   "metadata": {},
   "outputs": [],
   "source": []
  }
 ],
 "metadata": {
  "kernelspec": {
   "display_name": "Python 3",
   "language": "python",
   "name": "python3"
  },
  "language_info": {
   "codemirror_mode": {
    "name": "ipython",
    "version": 3
   },
   "file_extension": ".py",
   "mimetype": "text/x-python",
   "name": "python",
   "nbconvert_exporter": "python",
   "pygments_lexer": "ipython3",
   "version": "3.11.9"
  }
 },
 "nbformat": 4,
 "nbformat_minor": 2
}
