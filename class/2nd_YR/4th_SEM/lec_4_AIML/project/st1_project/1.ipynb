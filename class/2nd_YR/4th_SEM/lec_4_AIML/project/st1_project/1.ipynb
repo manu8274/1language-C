{
 "cells": [
  {
   "cell_type": "code",
   "execution_count": null,
   "metadata": {},
   "outputs": [],
   "source": [
    "print(\"QUESTIONS:  \")\n",
    "print(\"Q1)which movie has most rating upto 2023\")\n",
    "print(\"Q2)which movie has worst rating upto 2023\")\n",
    "print(\"Q3)which movie has TOM CRUISE as actor with highest rating movie\")"
   ]
  },
  {
   "cell_type": "code",
   "execution_count": 7,
   "metadata": {},
   "outputs": [
    {
     "name": "stdout",
     "output_type": "stream",
     "text": [
      "      Unnamed: 0                   Moive Name  Rating     Votes  Meta Score  \\\n",
      "0              0       Leave the World Behind     6.5   90000.0        67.0   \n",
      "1              1                        Wonka     7.4   24000.0        66.0   \n",
      "2              2                  Poor Things     8.5    6700.0        86.0   \n",
      "3              3   Killers of the Flower Moon     7.8  128000.0        89.0   \n",
      "4              4                 May December     7.0   21000.0        85.0   \n",
      "...          ...                          ...     ...       ...         ...   \n",
      "1945        1945            Definitely, Maybe     7.1  172000.0        59.0   \n",
      "1946        1946                      The Fly     7.6  198000.0        79.0   \n",
      "1947        1947             The Mighty Ducks     6.5   71000.0        46.0   \n",
      "1948        1948                Little Giants     6.4   30000.0         NaN   \n",
      "1949        1949                American Made     7.1  203000.0        65.0   \n",
      "\n",
      "                          Genre PG Rating  Year Duration  \\\n",
      "0      Drama, Mystery, Thriller         R  2023   2h 18m   \n",
      "1     Adventure, Comedy, Family        PG  2023   1h 56m   \n",
      "2        Comedy, Drama, Romance         R  2023   2h 21m   \n",
      "3         Crime, Drama, History         R  2023   3h 26m   \n",
      "4                 Comedy, Drama         R  2023   1h 57m   \n",
      "...                         ...       ...   ...      ...   \n",
      "1945     Comedy, Drama, Romance     PG-13  2008   1h 52m   \n",
      "1946      Drama, Horror, Sci-Fi         R  1986   1h 36m   \n",
      "1947      Comedy, Drama, Family        PG  1992   1h 44m   \n",
      "1948                        NaN        PG  1994   1h 47m   \n",
      "1949      Action, Comedy, Crime         R  2017   1h 55m   \n",
      "\n",
      "                                                   Cast          Director  \n",
      "0     Julia Roberts, Mahershala Ali, Ethan Hawke, My...        Sam Esmail  \n",
      "1     Timothée Chalamet, Gustave Die, Murray McArthu...         Paul King  \n",
      "2     Emma Stone, Mark Ruffalo, Willem Dafoe, Ramy Y...  Yorgos Lanthimos  \n",
      "3     Leonardo DiCaprio, Robert De Niro, Lily Gladst...   Martin Scorsese  \n",
      "4     Natalie Portman, Chris Tenzis, Charles Melton,...       Todd Haynes  \n",
      "...                                                 ...               ...  \n",
      "1945  Ryan Reynolds, Rachel Weisz, Abigail Breslin, ...       Adam Brooks  \n",
      "1946  Jeff Goldblum, Geena Davis, John Getz, Joy Bou...  David Cronenberg  \n",
      "1947  Emilio Estevez, Joss Ackland, Lane Smith, Heid...     Stephen Herek  \n",
      "1948                                                NaN               NaN  \n",
      "1949  Tom Cruise, Domhnall Gleeson, Sarah Wright, Je...        Doug Liman  \n",
      "\n",
      "[1950 rows x 11 columns]\n"
     ]
    }
   ],
   "source": [
    "import pandas as pd\n",
    "mvdt=pd.read_csv('imdb_movie_data_2023.csv')\n",
    "pd.options.display.max_rows=99\n",
    "print(mvdt)"
   ]
  },
  {
   "cell_type": "code",
   "execution_count": null,
   "metadata": {},
   "outputs": [],
   "source": []
  },
  {
   "cell_type": "code",
   "execution_count": 3,
   "metadata": {},
   "outputs": [
    {
     "name": "stdout",
     "output_type": "stream",
     "text": [
      "      Unnamed: 0                   Moive Name  Rating     Votes  Meta Score  \\\n",
      "0              0       Leave the World Behind     6.5   90000.0        67.0   \n",
      "1              1                        Wonka     7.4   24000.0        66.0   \n",
      "2              2                  Poor Things     8.5    6700.0        86.0   \n",
      "3              3   Killers of the Flower Moon     7.8  128000.0        89.0   \n",
      "4              4                 May December     7.0   21000.0        85.0   \n",
      "...          ...                          ...     ...       ...         ...   \n",
      "1945        1945            Definitely, Maybe     7.1  172000.0        59.0   \n",
      "1946        1946                      The Fly     7.6  198000.0        79.0   \n",
      "1947        1947             The Mighty Ducks     6.5   71000.0        46.0   \n",
      "1948        1948                Little Giants     6.4   30000.0         NaN   \n",
      "1949        1949                American Made     7.1  203000.0        65.0   \n",
      "\n",
      "                          Genre PG Rating  Year Duration  \\\n",
      "0      Drama, Mystery, Thriller         R  2023   2h 18m   \n",
      "1     Adventure, Comedy, Family        PG  2023   1h 56m   \n",
      "2        Comedy, Drama, Romance         R  2023   2h 21m   \n",
      "3         Crime, Drama, History         R  2023   3h 26m   \n",
      "4                 Comedy, Drama         R  2023   1h 57m   \n",
      "...                         ...       ...   ...      ...   \n",
      "1945     Comedy, Drama, Romance     PG-13  2008   1h 52m   \n",
      "1946      Drama, Horror, Sci-Fi         R  1986   1h 36m   \n",
      "1947      Comedy, Drama, Family        PG  1992   1h 44m   \n",
      "1948                        NaN        PG  1994   1h 47m   \n",
      "1949      Action, Comedy, Crime         R  2017   1h 55m   \n",
      "\n",
      "                                                   Cast          Director  \n",
      "0     Julia Roberts, Mahershala Ali, Ethan Hawke, My...        Sam Esmail  \n",
      "1     Timothée Chalamet, Gustave Die, Murray McArthu...         Paul King  \n",
      "2     Emma Stone, Mark Ruffalo, Willem Dafoe, Ramy Y...  Yorgos Lanthimos  \n",
      "3     Leonardo DiCaprio, Robert De Niro, Lily Gladst...   Martin Scorsese  \n",
      "4     Natalie Portman, Chris Tenzis, Charles Melton,...       Todd Haynes  \n",
      "...                                                 ...               ...  \n",
      "1945  Ryan Reynolds, Rachel Weisz, Abigail Breslin, ...       Adam Brooks  \n",
      "1946  Jeff Goldblum, Geena Davis, John Getz, Joy Bou...  David Cronenberg  \n",
      "1947  Emilio Estevez, Joss Ackland, Lane Smith, Heid...     Stephen Herek  \n",
      "1948                                                NaN               NaN  \n",
      "1949  Tom Cruise, Domhnall Gleeson, Sarah Wright, Je...        Doug Liman  \n",
      "\n",
      "[1950 rows x 11 columns]\n"
     ]
    }
   ],
   "source": [
    "print(mvdt)"
   ]
  },
  {
   "cell_type": "code",
   "execution_count": 13,
   "metadata": {},
   "outputs": [
    {
     "name": "stdout",
     "output_type": "stream",
     "text": [
      "                       Moive Name  Rating\n",
      "0          Leave the World Behind     6.5\n",
      "1                           Wonka     7.4\n",
      "2                     Poor Things     8.5\n",
      "3      Killers of the Flower Moon     7.8\n",
      "4                    May December     7.0\n",
      "...                           ...     ...\n",
      "1945            Definitely, Maybe     7.1\n",
      "1946                      The Fly     7.6\n",
      "1947             The Mighty Ducks     6.5\n",
      "1948                Little Giants     6.4\n",
      "1949                American Made     7.1\n",
      "\n",
      "[1950 rows x 2 columns]\n"
     ]
    }
   ],
   "source": [
    "import pandas as pd\n",
    "mvdt=pd.read_csv('imdb_movie_data_2023.csv')\n",
    "pd.options.display.max_rows=99\n",
    "print(mvdt[['Moive Name','Rating']])"
   ]
  },
  {
   "cell_type": "code",
   "execution_count": 39,
   "metadata": {},
   "outputs": [
    {
     "name": "stdout",
     "output_type": "stream",
     "text": [
      " Epic Movie\n"
     ]
    }
   ],
   "source": [
    "print(mvdt['Moive Name'][mvdt['Rating'].idxmin()])"
   ]
  },
  {
   "cell_type": "code",
   "execution_count": null,
   "metadata": {},
   "outputs": [],
   "source": []
  }
 ],
 "metadata": {
  "kernelspec": {
   "display_name": "Python 3",
   "language": "python",
   "name": "python3"
  },
  "language_info": {
   "codemirror_mode": {
    "name": "ipython",
    "version": 3
   },
   "file_extension": ".py",
   "mimetype": "text/x-python",
   "name": "python",
   "nbconvert_exporter": "python",
   "pygments_lexer": "ipython3",
   "version": "3.10.4"
  }
 },
 "nbformat": 4,
 "nbformat_minor": 2
}
