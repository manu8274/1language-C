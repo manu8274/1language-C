{
 "cells": [
  {
   "cell_type": "code",
   "execution_count": 3,
   "metadata": {},
   "outputs": [
    {
     "name": "stdout",
     "output_type": "stream",
     "text": [
      "[1, 2, 3, 4, 5, 6, 7, 8, 9, 10]\n"
     ]
    }
   ],
   "source": [
    "#Q1 create a list that contain 10 natural number\n",
    "# lst=[i for i in range(1,11)]\n",
    "print([i for i in range(1,int(input())+1)])"
   ]
  },
  {
   "cell_type": "code",
   "execution_count": 7,
   "metadata": {},
   "outputs": [
    {
     "name": "stdout",
     "output_type": "stream",
     "text": [
      "[2, 4, 6, 8, 10, 12, 14, 16, 18, 20, 22, 24, 26, 28, 30, 32, 34, 36, 38, 40]\n",
      "[7, 14, 21, 28, 35, 42, 49, 56, 63, 70]\n"
     ]
    }
   ],
   "source": [
    "#Q return a list that contains furst 20m even no.\n",
    "print([i for i in range(2,41,2)])\n",
    "#Q create a list that contains multiple of 7 between 6 to 70\n",
    "print([i for i in range(6,71) if i%7==0])"
   ]
  },
  {
   "cell_type": "code",
   "execution_count": 10,
   "metadata": {},
   "outputs": [
    {
     "name": "stdout",
     "output_type": "stream",
     "text": [
      "B\n",
      "a<b\n"
     ]
    }
   ],
   "source": [
    "a=20\n",
    "b=30\n",
    "print(\"A\") if a>b else print(\"=\") if a==b else print(\"B\")\n",
    "print(\"a>b\" if a>b else \"a==b\" if a==b else \"a<b\")"
   ]
  },
  {
   "cell_type": "code",
   "execution_count": 13,
   "metadata": {},
   "outputs": [
    {
     "name": "stdout",
     "output_type": "stream",
     "text": [
      "38.5\n"
     ]
    }
   ],
   "source": [
    "#Q assume that u have a list multiple of 7 find out the avg of that listv and print the avg only if avg >20 else print sum\n",
    "# print(sum([i for i in range(6,71) if i%7==0])/len([i for i in range(6,71) if i%7==0]) if sum([i for i in range(6,71) if i%7==0])/len([i for i in range(6,71) if i%7==0])>20 else sum([i for i in range(6,71) if i%7==0]))\n",
    "l=[i for i in range(6,71) if i%7==0]\n",
    "print(sum(l)/len(l) if sum(l)/len(l)>20 else sum(l))"
   ]
  },
  {
   "cell_type": "code",
   "execution_count": 19,
   "metadata": {},
   "outputs": [
    {
     "name": "stdout",
     "output_type": "stream",
     "text": [
      "3\n"
     ]
    }
   ],
   "source": [
    "#Q find out number of digit present in number\n",
    "# n=int(input())\n",
    "# d=0\n",
    "# while(n>0):\n",
    "#     n=n//10\n",
    "#     d+=1\n",
    "# print(d)\n",
    "# print(len(str(input())))"
   ]
  },
  {
   "cell_type": "code",
   "execution_count": null,
   "metadata": {},
   "outputs": [],
   "source": [
    "# #Q1 return a list that contains fibonic number upto 100\n",
    "# lst=[]\n",
    "# a=0\n",
    "# b=1\n",
    "# t=1\n",
    "# while(t<=100):\n",
    "#     lst.append(a)\n",
    "#     a,b=b,b+a\n",
    "#     t+=1\n",
    "# print(lst)\n",
    "#Q2 create a list that takes a prime number and stop the list when size of list is 20\n",
    "# l=[]\n",
    "# d=2\n",
    "# while(len(l)<=20):\n",
    "#     flag=True\n",
    "#     for i in range(2,d):\n",
    "#         if(d%i==0):\n",
    "#             flag=False\n",
    "#             break\n",
    "#     if(flag==True):\n",
    "#         l.append(d)\n",
    "#     d+=1\n",
    "# print(l)\n",
    "# #Q3 create a dict that contains 10 even number with key even , another key that is prime which takes prime number and last key=fibonic that contains first 10 fibonic number\n",
    "# d={'even':[],'prime':[],'fibo':[]}\n",
    "# i=1\n",
    "# while(len(d['even'])<=10):\n",
    "#     if(i%2==0):\n",
    "#         d['even'].append(i)\n",
    "#     i+=1\n",
    "# x=2\n",
    "# while(len(d['prime'])<=10):\n",
    "#     flag=True\n",
    "#     for i in range(2,x):\n",
    "#         if(x%i==0):\n",
    "#             flag=False\n",
    "#             break\n",
    "#     if(flag==True):\n",
    "#         d['prime'].append(x)\n",
    "#     x+=1\n",
    "\n",
    "# a=0\n",
    "# b=1\n",
    "# while(len(d['fibo'])<=10):\n",
    "#     d['fibo'].append(a)\n",
    "#     a,b=b,a+b\n",
    "# print(d)"
   ]
  },
  {
   "cell_type": "code",
   "execution_count": 4,
   "metadata": {},
   "outputs": [
    {
     "name": "stdout",
     "output_type": "stream",
     "text": [
      "{'even': [2, 4, 6, 8, 10, 12, 14, 16, 18, 20, 22], 'prime': [2, 3, 5, 7, 11, 13, 17, 19, 23, 29, 31], 'fibo': [0, 1, 1, 2, 3, 5, 8, 13, 21, 34, 55]}\n"
     ]
    }
   ],
   "source": []
  },
  {
   "cell_type": "code",
   "execution_count": null,
   "metadata": {},
   "outputs": [],
   "source": []
  }
 ],
 "metadata": {
  "kernelspec": {
   "display_name": "Python 3",
   "language": "python",
   "name": "python3"
  },
  "language_info": {
   "codemirror_mode": {
    "name": "ipython",
    "version": 3
   },
   "file_extension": ".py",
   "mimetype": "text/x-python",
   "name": "python",
   "nbconvert_exporter": "python",
   "pygments_lexer": "ipython3",
   "version": "3.10.4"
  }
 },
 "nbformat": 4,
 "nbformat_minor": 2
}
