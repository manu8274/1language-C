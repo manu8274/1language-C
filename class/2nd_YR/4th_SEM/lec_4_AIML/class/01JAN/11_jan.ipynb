{
 "cells": [
  {
   "cell_type": "code",
   "execution_count": 1,
   "metadata": {},
   "outputs": [],
   "source": [
    "l=[10,20,30,[40,['a',[1000,2000,3000,4000],'c','d'],900]]"
   ]
  },
  {
   "cell_type": "code",
   "execution_count": 9,
   "metadata": {},
   "outputs": [
    {
     "name": "stdout",
     "output_type": "stream",
     "text": [
      "{'a', 3, 4}\n"
     ]
    }
   ],
   "source": [
    "a=tuple()\n",
    "d={}\n",
    "se=set([4,3,'a','a'])\n",
    "print(se)"
   ]
  },
  {
   "cell_type": "code",
   "execution_count": 45,
   "metadata": {},
   "outputs": [
    {
     "data": {
      "text/plain": [
       "('city', 'Panipat')"
      ]
     },
     "execution_count": 45,
     "metadata": {},
     "output_type": "execute_result"
    }
   ],
   "source": [
    "d={'name':'ABC','city':'Panipat'}\n",
    "# print(d.values())\n",
    "# print(type(d))\n",
    "# print(len(d))\n",
    "# print(d.items())\n",
    "# print(d.keys())\n",
    "# print(d.get('city'))\n",
    "# d['name']=['cu','xyz']\n",
    "# print(d)\n",
    "# d['name1']=['cu','xyz']\n",
    "# print(d)\n",
    "# print(d.pop('city'))\n",
    "d.popitem()"
   ]
  },
  {
   "cell_type": "code",
   "execution_count": 69,
   "metadata": {},
   "outputs": [
    {
     "name": "stdout",
     "output_type": "stream",
     "text": [
      "10 30 900 abc cu 89.8\n"
     ]
    }
   ],
   "source": [
    "l=[10,30,'abc',89.8,900,'cu']\n",
    "# Q1-list three with diff types of values\n",
    "lint=[]\n",
    "lalpha=[]\n",
    "lfloat=[]\n",
    "for i in l:\n",
    "    if(type(i)==int):\n",
    "        lint.append(i)\n",
    "    elif (type(i)==str):\n",
    "        lalpha.append(i)\n",
    "    elif(type(i)==float):\n",
    "        lfloat.append(i)\n",
    "print(*(lint),*(lalpha),*(lfloat))"
   ]
  }
 ],
 "metadata": {
  "kernelspec": {
   "display_name": "Python 3",
   "language": "python",
   "name": "python3"
  },
  "language_info": {
   "codemirror_mode": {
    "name": "ipython",
    "version": 3
   },
   "file_extension": ".py",
   "mimetype": "text/x-python",
   "name": "python",
   "nbconvert_exporter": "python",
   "pygments_lexer": "ipython3",
   "version": "3.10.4"
  }
 },
 "nbformat": 4,
 "nbformat_minor": 2
}
