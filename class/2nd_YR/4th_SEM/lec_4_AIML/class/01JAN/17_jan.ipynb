{
 "cells": [
  {
   "cell_type": "code",
   "execution_count": 2,
   "metadata": {},
   "outputs": [
    {
     "name": "stdout",
     "output_type": "stream",
     "text": [
      "[ 1  2  3  4  5  6  7  8  9 10 11 12]\n",
      "1\n",
      "(12,)\n"
     ]
    }
   ],
   "source": [
    "#how to reshape the array\n",
    "import numpy as np\n",
    "ar=np.array([1,2,3,4,5,6,7,8,9,10,11,12])\n",
    "print(ar)\n",
    "print(ar.ndim)\n",
    "print(ar.shape)"
   ]
  },
  {
   "cell_type": "code",
   "execution_count": 9,
   "metadata": {},
   "outputs": [
    {
     "name": "stdout",
     "output_type": "stream",
     "text": [
      "[[ 1  2  3]\n",
      " [ 4  5  6]\n",
      " [ 7  8  9]\n",
      " [10 11 12]]\n",
      "2\n",
      "(4, 3)\n"
     ]
    }
   ],
   "source": [
    "nar=ar.reshape(4,3)\n",
    "print(nar)\n",
    "print(nar.ndim)\n",
    "print(nar.shape)\n"
   ]
  },
  {
   "cell_type": "code",
   "execution_count": 10,
   "metadata": {},
   "outputs": [
    {
     "name": "stdout",
     "output_type": "stream",
     "text": [
      "[[ 1  2  3  4]\n",
      " [ 5  6  7  8]\n",
      " [ 9 10 11 12]]\n",
      "2\n",
      "(3, 4)\n"
     ]
    }
   ],
   "source": [
    "nar=ar.reshape(3,4)\n",
    "print(nar)\n",
    "print(nar.ndim)\n",
    "print(nar.shape)"
   ]
  },
  {
   "cell_type": "code",
   "execution_count": 12,
   "metadata": {},
   "outputs": [
    {
     "name": "stdout",
     "output_type": "stream",
     "text": [
      "[[[ 1  2]\n",
      "  [ 3  4]\n",
      "  [ 5  6]]\n",
      "\n",
      " [[ 7  8]\n",
      "  [ 9 10]\n",
      "  [11 12]]]\n",
      "3\n",
      "(2, 3, 2)\n"
     ]
    }
   ],
   "source": [
    "nar=ar.reshape(2,3,2)\n",
    "print(nar)\n",
    "print(nar.ndim)\n",
    "print(nar.shape)"
   ]
  },
  {
   "cell_type": "code",
   "execution_count": 29,
   "metadata": {},
   "outputs": [
    {
     "name": "stdout",
     "output_type": "stream",
     "text": [
      "[[[[[[ 1  2]\n",
      "     [ 3  4]\n",
      "     [ 5  6]]\n",
      "\n",
      "    [[ 7  8]\n",
      "     [ 9 10]\n",
      "     [11 12]]]]]]\n",
      "6\n",
      "(1, 1, 1, 2, 3, 2)\n"
     ]
    }
   ],
   "source": [
    "nar=ar.reshape(1,1,1,2,3,2)\n",
    "print(nar)\n",
    "print(nar.ndim)\n",
    "print(nar.shape)"
   ]
  },
  {
   "cell_type": "code",
   "execution_count": 43,
   "metadata": {},
   "outputs": [
    {
     "ename": "ValueError",
     "evalue": "cannot reshape array of size 8 into shape (2,2)",
     "output_type": "error",
     "traceback": [
      "\u001b[1;31m---------------------------------------------------------------------------\u001b[0m",
      "\u001b[1;31mValueError\u001b[0m                                Traceback (most recent call last)",
      "Cell \u001b[1;32mIn[43], line 3\u001b[0m\n\u001b[0;32m      1\u001b[0m \u001b[38;5;66;03m#convert 1 d array with 8 elements to the 2X2 elements\u001b[39;00m\n\u001b[0;32m      2\u001b[0m ar\u001b[38;5;241m=\u001b[39m np\u001b[38;5;241m.\u001b[39marray([i \u001b[38;5;28;01mfor\u001b[39;00m i \u001b[38;5;129;01min\u001b[39;00m \u001b[38;5;28mrange\u001b[39m(\u001b[38;5;241m1\u001b[39m,\u001b[38;5;241m9\u001b[39m)])\n\u001b[1;32m----> 3\u001b[0m nar\u001b[38;5;241m=\u001b[39m\u001b[43mar\u001b[49m\u001b[38;5;241;43m.\u001b[39;49m\u001b[43mreshape\u001b[49m\u001b[43m(\u001b[49m\u001b[38;5;241;43m2\u001b[39;49m\u001b[43m,\u001b[49m\u001b[38;5;241;43m2\u001b[39;49m\u001b[43m,\u001b[49m\u001b[43m)\u001b[49m\u001b[38;5;241m-\u001b[39m\u001b[38;5;241m1\u001b[39m\n\u001b[0;32m      4\u001b[0m \u001b[38;5;28mprint\u001b[39m(nar\u001b[38;5;241m.\u001b[39mndim)\n\u001b[0;32m      5\u001b[0m \u001b[38;5;28mprint\u001b[39m(nar)\n",
      "\u001b[1;31mValueError\u001b[0m: cannot reshape array of size 8 into shape (2,2)"
     ]
    }
   ],
   "source": [
    "#convert 1 d array with 8 elements to the 2X2 elements\n",
    "ar= np.array([i for i in range(1,9)])\n",
    "nar=ar.reshape(2,2,)-1\n",
    "print(nar.ndim)\n",
    "print(nar)\n",
    "print(nar.shape)"
   ]
  },
  {
   "cell_type": "code",
   "execution_count": 46,
   "metadata": {},
   "outputs": [
    {
     "name": "stdout",
     "output_type": "stream",
     "text": [
      "[ 100 1000    3 1000    5]\n",
      "[1 2 3 4 5]\n",
      "[ 100 1000    3 1000    5]\n",
      "[ 100 1000    3 1000    5]\n"
     ]
    }
   ],
   "source": [
    "ar=np.array([1,2,3,4,5])\n",
    "x=ar.copy()\n",
    "x2=ar\n",
    "x1=ar.view()\n",
    "ar[0]=100\n",
    "x1[1]=1000\n",
    "x2[3]=1000\n",
    "print(ar)\n",
    "print(x)\n",
    "print(x1)\n",
    "print(x2)"
   ]
  },
  {
   "cell_type": "code",
   "execution_count": 61,
   "metadata": {},
   "outputs": [
    {
     "name": "stdout",
     "output_type": "stream",
     "text": [
      "[1 2 3 4 5 6]\n",
      "[[1 4]\n",
      " [2 5]\n",
      " [3 6]]\n",
      "[[1 2 3]\n",
      " [4 5 6]]\n"
     ]
    }
   ],
   "source": [
    "a1=np.array([1,2,3])\n",
    "a2=np.array([4,5,6])\n",
    "a=np.concatenate((a1,a2))\n",
    "print(a)\n",
    "print(np.stack((a1,a2),axis=1))\n",
    "print(np.stack((a1,a2)))"
   ]
  },
  {
   "cell_type": "code",
   "execution_count": null,
   "metadata": {},
   "outputs": [],
   "source": []
  }
 ],
 "metadata": {
  "kernelspec": {
   "display_name": "Python 3",
   "language": "python",
   "name": "python3"
  },
  "language_info": {
   "codemirror_mode": {
    "name": "ipython",
    "version": 3
   },
   "file_extension": ".py",
   "mimetype": "text/x-python",
   "name": "python",
   "nbconvert_exporter": "python",
   "pygments_lexer": "ipython3",
   "version": "3.10.4"
  }
 },
 "nbformat": 4,
 "nbformat_minor": 2
}
