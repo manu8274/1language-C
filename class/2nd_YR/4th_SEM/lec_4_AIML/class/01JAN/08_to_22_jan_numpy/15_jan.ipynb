{
 "cells": [
  {
   "cell_type": "code",
   "execution_count": 8,
   "metadata": {},
   "outputs": [
    {
     "name": "stdout",
     "output_type": "stream",
     "text": [
      "choose your option:\n",
      "1)add element into list\n",
      "1)remove element from list\n",
      "3) show list\n",
      "4)exit\n"
     ]
    },
    {
     "ename": "ValueError",
     "evalue": "invalid literal for int() with base 10: ''",
     "output_type": "error",
     "traceback": [
      "\u001b[1;31m---------------------------------------------------------------------------\u001b[0m",
      "\u001b[1;31mValueError\u001b[0m                                Traceback (most recent call last)",
      "Cell \u001b[1;32mIn[8], line 16\u001b[0m\n\u001b[0;32m     14\u001b[0m \u001b[38;5;28mprint\u001b[39m(\u001b[38;5;124m\"\u001b[39m\u001b[38;5;124m3) show list\u001b[39m\u001b[38;5;124m\"\u001b[39m)\n\u001b[0;32m     15\u001b[0m \u001b[38;5;28mprint\u001b[39m(\u001b[38;5;124m\"\u001b[39m\u001b[38;5;124m4)exit\u001b[39m\u001b[38;5;124m\"\u001b[39m)\n\u001b[1;32m---> 16\u001b[0m x\u001b[38;5;241m=\u001b[39m\u001b[38;5;28;43mint\u001b[39;49m\u001b[43m(\u001b[49m\u001b[38;5;28;43minput\u001b[39;49m\u001b[43m(\u001b[49m\u001b[38;5;124;43m\"\u001b[39;49m\u001b[38;5;124;43mEnter your choice\u001b[39;49m\u001b[38;5;124;43m\"\u001b[39;49m\u001b[43m)\u001b[49m\u001b[43m)\u001b[49m\n\u001b[0;32m     17\u001b[0m \u001b[38;5;28;01mif\u001b[39;00m(x\u001b[38;5;241m==\u001b[39m\u001b[38;5;241m1\u001b[39m):\n\u001b[0;32m     18\u001b[0m     \u001b[38;5;28mprint\u001b[39m(\u001b[38;5;124m\"\u001b[39m\u001b[38;5;124mYou chose option 1\u001b[39m\u001b[38;5;124m\"\u001b[39m)\n",
      "\u001b[1;31mValueError\u001b[0m: invalid literal for int() with base 10: ''"
     ]
    }
   ],
   "source": [
    "#create a cl based menu program that contains the multiple options for the user \n",
    "#fisrt add the element in list\n",
    "#second delete element from list\n",
    "#print or show the list\n",
    "#exit\n",
    "#if the user will go with first option then user have to choose on whicih position he want to insert the data or add tha data end of list\n",
    "#if second option then user get 3 options 1-delete the element from end,2-delete a specific element,3-delete the element from specific position\n",
    "#third option then whole the list will print if there will be data or print \"lst is empty\" the main menu will be printed again and again untill user will not press 4th option\n",
    "l=[]\n",
    "while(True):\n",
    "    print(\"choose your option:\")\n",
    "    print(\"1)add element into list\")\n",
    "    print(\"1)remove element from list\")\n",
    "    print(\"3) show list\")\n",
    "    print(\"4)exit\")\n",
    "    x=int(input(\"Enter your choice\"))\n",
    "    if(x==1):\n",
    "        print(\"You chose option 1\")\n",
    "        print(\"chose one of the following:\")\n",
    "        print(\"1)to insert element at specific position(less than length of list)\")\n",
    "        print(\"2)to add element at last of the list\")\n",
    "        c=int(input())\n",
    "        if(c==1):\n",
    "            print(\"You chose option 1\")\n",
    "            print(\"Enter the index you want to add element\")\n",
    "            ind=int(input())\n",
    "            while(ind>len(l)):\n",
    "                print(\"Error index , index provided is greater than length of list\")\n",
    "                print(\"pls provide index again\")\n",
    "                ind=int(input())\n",
    "            print(\"enter the element:\")\n",
    "            ele=int(input())\n",
    "            l.insert(ind,ele)\n",
    "        elif(c==2):\n",
    "            print(\"You chose option 2\")\n",
    "            print(\"enter the elemment\")\n",
    "            l.append(int(input()))\n",
    "    elif(x==2):\n",
    "        print(\"You chose option 2\")\n",
    "        print(\"choose one of following:\")\n",
    "        print(\"1)delete element from end\")\n",
    "        print(\"1)delete a specific element\")\n",
    "        print(\"1)delete element from a specific position\")\n",
    "        c=int(input())\n",
    "        if(c==1):\n",
    "            print(\"You chose option 1 \")\n",
    "            l.pop()\n",
    "        elif(c==2):\n",
    "            print(\"You chose option 2\")\n",
    "            ele=int(input(\"enter the element to be deleted:\"))\n",
    "            l.remove(ele)\n",
    "        elif(c==3):\n",
    "            print(\"You chose option 3\")\n",
    "            ind=int(input(\"enter the position from which element is to be removed\"))\n",
    "            l.pop(ind)\n",
    "    elif(x==3):\n",
    "        if(len(l)==0):\n",
    "            print(\"YOUR LIST IS EMPTY\")\n",
    "        else:\n",
    "            print(l)\n",
    "    elif(x==4):\n",
    "        break\n",
    "    else:\n",
    "        print(\"WRONG CHOICE\")\n",
    "        continue"
   ]
  },
  {
   "cell_type": "code",
   "execution_count": 3,
   "metadata": {},
   "outputs": [
    {
     "name": "stdout",
     "output_type": "stream",
     "text": [
      "[1, 3, 4, 5, 6]\n"
     ]
    }
   ],
   "source": [
    "l=[1,2,3,4,5,6]\n",
    "l.pop(1)\n",
    "print(l)"
   ]
  },
  {
   "cell_type": "code",
   "execution_count": null,
   "metadata": {},
   "outputs": [],
   "source": []
  }
 ],
 "metadata": {
  "kernelspec": {
   "display_name": "Python 3",
   "language": "python",
   "name": "python3"
  },
  "language_info": {
   "codemirror_mode": {
    "name": "ipython",
    "version": 3
   },
   "file_extension": ".py",
   "mimetype": "text/x-python",
   "name": "python",
   "nbconvert_exporter": "python",
   "pygments_lexer": "ipython3",
   "version": "3.10.4"
  }
 },
 "nbformat": 4,
 "nbformat_minor": 2
}
