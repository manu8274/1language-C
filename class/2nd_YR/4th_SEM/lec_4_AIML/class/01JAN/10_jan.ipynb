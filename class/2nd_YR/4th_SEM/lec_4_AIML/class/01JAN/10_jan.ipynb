{
 "cells": [
  {
   "cell_type": "code",
   "execution_count": 13,
   "metadata": {},
   "outputs": [
    {
     "name": "stdout",
     "output_type": "stream",
     "text": [
      "[10, 900, 30, 40, 50]\n"
     ]
    }
   ],
   "source": [
    "lst=[10,20,30,40,50]\n",
    "lst[1]=900\n",
    "print(lst)"
   ]
  },
  {
   "cell_type": "code",
   "execution_count": 14,
   "metadata": {},
   "outputs": [
    {
     "name": "stdout",
     "output_type": "stream",
     "text": [
      "[10, 900, 30, 40, 50, 'university']\n"
     ]
    }
   ],
   "source": [
    "lst.append('university')\n",
    "print(lst)"
   ]
  },
  {
   "cell_type": "code",
   "execution_count": 15,
   "metadata": {},
   "outputs": [
    {
     "name": "stdout",
     "output_type": "stream",
     "text": [
      "[10, 900, 30, 40, 50, 'university', [2, 4, 6, 8]]\n"
     ]
    }
   ],
   "source": [
    "lst2=[2,4,6,8]\n",
    "lst.append(lst2)\n",
    "print(lst)"
   ]
  },
  {
   "cell_type": "code",
   "execution_count": 16,
   "metadata": {},
   "outputs": [
    {
     "name": "stdout",
     "output_type": "stream",
     "text": [
      "[10, 900, 30, 40, 50, 'university', [2, 4, 6, 8], 2, 4, 6, 8]\n"
     ]
    }
   ],
   "source": [
    "lst.extend(lst2)\n",
    "print(lst)"
   ]
  },
  {
   "cell_type": "code",
   "execution_count": 18,
   "metadata": {},
   "outputs": [
    {
     "name": "stdout",
     "output_type": "stream",
     "text": [
      "[1, 2, 3, 10, 20, 30]\n"
     ]
    }
   ],
   "source": [
    "l1=[1,2,3]\n",
    "l2=[10,20,30]\n",
    "l1.extend(l2)\n",
    "print(l1)"
   ]
  },
  {
   "cell_type": "code",
   "execution_count": 19,
   "metadata": {},
   "outputs": [
    {
     "name": "stdout",
     "output_type": "stream",
     "text": [
      "[1, [10, 20, 30], 2, 3]\n"
     ]
    }
   ],
   "source": [
    "l1=[1,2,3]\n",
    "l2=[10,20,30]\n",
    "l1.insert(1,l2)\n",
    "print(l1)"
   ]
  },
  {
   "cell_type": "code",
   "execution_count": 23,
   "metadata": {},
   "outputs": [
    {
     "name": "stdout",
     "output_type": "stream",
     "text": [
      "[2, 3, 4, [10, 20, 30]]\n"
     ]
    }
   ],
   "source": [
    "lst=[1,2,3,4,[10,20,30]]\n",
    "print(lst[1:])"
   ]
  },
  {
   "cell_type": "code",
   "execution_count": 32,
   "metadata": {},
   "outputs": [
    {
     "name": "stdout",
     "output_type": "stream",
     "text": [
      "[2, 3, 4]\n",
      "[20, 30]\n"
     ]
    }
   ],
   "source": [
    "lst=[1,2,3,4,[10,20,30]]\n",
    "print(lst[1:4:])\n",
    "print(lst[4][1:])"
   ]
  },
  {
   "cell_type": "code",
   "execution_count": 43,
   "metadata": {},
   "outputs": [],
   "source": [
    "l=[10,20,'abc','Cu',80.1,['a',[300,[1000,[2000,'b','UNI'],900,7],'b',90]]]"
   ]
  },
  {
   "cell_type": "code",
   "execution_count": 47,
   "metadata": {},
   "outputs": [
    {
     "name": "stdout",
     "output_type": "stream",
     "text": [
      "900\n"
     ]
    }
   ],
   "source": [
    "#Q1--print  the index val of 900\n",
    "l=[10,20,'abc','Cu',80.1,['a',[300,[1000,[2000,'b','UNI'],900,7],'b',90]]]\n",
    "print(l[-1][-1][-3][-2])#index val for 900"
   ]
  },
  {
   "cell_type": "code",
   "execution_count": 48,
   "metadata": {},
   "outputs": [
    {
     "name": "stdout",
     "output_type": "stream",
     "text": [
      "[10, 20, 'abc', 'Cu', 80.1, ['a', [300, [1000, [2000, 'b', 'UNI'], 900, 7], 'b', 90]], 'MANASVI', 'PANIPAT']\n"
     ]
    }
   ],
   "source": [
    "#Q2--you have to append your name and city in this list\n",
    "l=[10,20,'abc','Cu',80.1,['a',[300,[1000,[2000,'b','UNI'],900,7],'b',90]]]\n",
    "l.extend(['MANASVI','PANIPAT'])\n",
    "print(l)"
   ]
  },
  {
   "cell_type": "code",
   "execution_count": 49,
   "metadata": {},
   "outputs": [
    {
     "name": "stdout",
     "output_type": "stream",
     "text": [
      "[10, 20, 'abc', 'Cu', 80.1, ['a', [300, [1000, [2000, 'b', 'UNI'], 900, 7], 'b', 90], 'QWERTYUIOP']]\n"
     ]
    }
   ],
   "source": [
    "#Q3--you have to append any value at first sublist\n",
    "l=[10,20,'abc','Cu',80.1,['a',[300,[1000,[2000,'b','UNI'],900,7],'b',90]]]\n",
    "l[5].append(\"QWERTYUIOP\")\n",
    "print(l)"
   ]
  },
  {
   "cell_type": "code",
   "execution_count": 56,
   "metadata": {},
   "outputs": [
    {
     "name": "stdout",
     "output_type": "stream",
     "text": [
      "2000\n"
     ]
    }
   ],
   "source": [
    "#Q4--find out the index val of 2000\n",
    "l=[10,20,'abc','Cu',80.1,['a',[300,[1000,[2000,'b','UNI'],900,7],'b',90]]]\n",
    "print(l[-1][-1][-3][-3][0])"
   ]
  },
  {
   "cell_type": "code",
   "execution_count": 66,
   "metadata": {},
   "outputs": [
    {
     "name": "stdout",
     "output_type": "stream",
     "text": [
      "[10, 20, 'abc', 'Cu', 80.1, ['a', 'QWERTYUIOOIUYTREWQ', [300, [1000, [2000, 'b', 'UNI'], 900, 7], 'b', 90]]]\n"
     ]
    }
   ],
   "source": [
    "#Q5--insert the any number after the 300\n",
    "l=[10,20,'abc','Cu',80.1,['a',[300,[1000,[2000,'b','UNI'],900,7],'b',90]]]\n",
    "l[5].insert(1,\"QWERTYUIOOIUYTREWQ\")\n",
    "print(l)"
   ]
  },
  {
   "cell_type": "code",
   "execution_count": 64,
   "metadata": {},
   "outputs": [
    {
     "name": "stdout",
     "output_type": "stream",
     "text": [
      "['b', 'UNI']\n"
     ]
    }
   ],
   "source": [
    "#Q6--you have to silce out 'b' and 'UNI' in a single output from this list\n",
    "l=[10,20,'abc','Cu',80.1,['a',[300,[1000,[2000,'b','UNI'],900,7],'b',90]]]\n",
    "print(l[5][1][1][1][1:])"
   ]
  },
  {
   "cell_type": "code",
   "execution_count": 67,
   "metadata": {},
   "outputs": [
    {
     "data": {
      "text/plain": [
       "['a', [300, [1000, [2000, 'b', 'UNI'], 900, 7], 'b', 90]]"
      ]
     },
     "execution_count": 67,
     "metadata": {},
     "output_type": "execute_result"
    }
   ],
   "source": [
    "l=[10,20,'abc','Cu',80.1,['a',[300,[1000,[2000,'b','UNI'],900,7],'b',90]]]\n",
    "l[5]"
   ]
  },
  {
   "cell_type": "code",
   "execution_count": null,
   "metadata": {},
   "outputs": [],
   "source": []
  }
 ],
 "metadata": {
  "kernelspec": {
   "display_name": "Python 3",
   "language": "python",
   "name": "python3"
  },
  "language_info": {
   "codemirror_mode": {
    "name": "ipython",
    "version": 3
   },
   "file_extension": ".py",
   "mimetype": "text/x-python",
   "name": "python",
   "nbconvert_exporter": "python",
   "pygments_lexer": "ipython3",
   "version": "3.10.4"
  }
 },
 "nbformat": 4,
 "nbformat_minor": 2
}
