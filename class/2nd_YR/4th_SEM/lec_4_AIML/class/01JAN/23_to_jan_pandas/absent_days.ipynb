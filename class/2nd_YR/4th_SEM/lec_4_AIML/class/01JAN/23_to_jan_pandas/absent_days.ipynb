{
 "cells": [
  {
   "cell_type": "code",
   "execution_count": 3,
   "metadata": {},
   "outputs": [
    {
     "name": "stdout",
     "output_type": "stream",
     "text": [
      "         date  temp  windspeed season\n",
      "0   1/12/2023  18.0        NaN   rain\n",
      "1   1/11/2023   NaN        NaN   snow\n",
      "2   1/10/2023  22.0      100.0  sunny\n",
      "3    1/9/2023  30.0       30.0    NaN\n",
      "4    1/8/2023   NaN       20.0    NaN\n",
      "5    1/7/2023   NaN        NaN  sunny\n",
      "6    1/6/2023  40.0       30.0    NaN\n",
      "7    1/5/2023  43.0        NaN    NaN\n",
      "8    1/4/2023   NaN        NaN   cold\n",
      "9    1/3/2023  25.0        5.0    NaN\n",
      "10   1/2/2023  19.0        6.0    hot\n",
      "11   1/1/2023  17.0       10.0    NaN\n"
     ]
    }
   ],
   "source": [
    "import pandas as pd\n",
    "data=pd.read_csv('WEATHER.csv.xls')\n",
    "print(data)"
   ]
  },
  {
   "cell_type": "code",
   "execution_count": 4,
   "metadata": {},
   "outputs": [
    {
     "name": "stdout",
     "output_type": "stream",
     "text": [
      "<class 'pandas.core.frame.DataFrame'>\n",
      "RangeIndex: 12 entries, 0 to 11\n",
      "Data columns (total 4 columns):\n",
      " #   Column     Non-Null Count  Dtype  \n",
      "---  ------     --------------  -----  \n",
      " 0   date       12 non-null     object \n",
      " 1   temp       8 non-null      float64\n",
      " 2   windspeed  7 non-null      float64\n",
      " 3   season     6 non-null      object \n",
      "dtypes: float64(2), object(2)\n",
      "memory usage: 512.0+ bytes\n",
      "None\n"
     ]
    }
   ],
   "source": [
    "print(data.info())"
   ]
  },
  {
   "cell_type": "code",
   "execution_count": 5,
   "metadata": {},
   "outputs": [
    {
     "name": "stdout",
     "output_type": "stream",
     "text": [
      "date         0\n",
      "temp         4\n",
      "windspeed    5\n",
      "season       6\n",
      "dtype: int64\n"
     ]
    }
   ],
   "source": [
    "print(data.isna().sum())"
   ]
  },
  {
   "cell_type": "code",
   "execution_count": 6,
   "metadata": {},
   "outputs": [
    {
     "name": "stdout",
     "output_type": "stream",
     "text": [
      "     date   temp  windspeed  season\n",
      "0   False  False       True   False\n",
      "1   False   True       True   False\n",
      "2   False  False      False   False\n",
      "3   False  False      False    True\n",
      "4   False   True      False    True\n",
      "5   False   True       True   False\n",
      "6   False  False      False    True\n",
      "7   False  False       True    True\n",
      "8   False   True       True   False\n",
      "9   False  False      False    True\n",
      "10  False  False      False   False\n",
      "11  False  False      False    True\n"
     ]
    }
   ],
   "source": [
    "print(data.isna())"
   ]
  },
  {
   "cell_type": "code",
   "execution_count": 7,
   "metadata": {},
   "outputs": [
    {
     "name": "stdout",
     "output_type": "stream",
     "text": [
      "         date  temp  windspeed season\n",
      "2   1/10/2023  22.0      100.0  sunny\n",
      "10   1/2/2023  19.0        6.0    hot\n"
     ]
    }
   ],
   "source": [
    "new_data=data.dropna()\n",
    "print(new_data)"
   ]
  },
  {
   "cell_type": "code",
   "execution_count": 8,
   "metadata": {},
   "outputs": [
    {
     "name": "stdout",
     "output_type": "stream",
     "text": [
      "         date  temp  windspeed season\n",
      "0   1/12/2023  18.0        NaN   rain\n",
      "1   1/11/2023   NaN        NaN   snow\n",
      "2   1/10/2023  22.0      100.0  sunny\n",
      "3    1/9/2023  30.0       30.0    NaN\n",
      "4    1/8/2023   NaN       20.0    NaN\n",
      "5    1/7/2023   NaN        NaN  sunny\n",
      "6    1/6/2023  40.0       30.0    NaN\n",
      "7    1/5/2023  43.0        NaN    NaN\n",
      "8    1/4/2023   NaN        NaN   cold\n",
      "9    1/3/2023  25.0        5.0    NaN\n",
      "10   1/2/2023  19.0        6.0    hot\n",
      "11   1/1/2023  17.0       10.0    NaN\n",
      "         date  temp  windspeed season\n",
      "0   1/12/2023  18.0       40.0   rain\n",
      "1   1/11/2023  40.0       40.0   snow\n",
      "2   1/10/2023  22.0      100.0  sunny\n",
      "3    1/9/2023  30.0       30.0     40\n",
      "4    1/8/2023  40.0       20.0     40\n",
      "5    1/7/2023  40.0       40.0  sunny\n",
      "6    1/6/2023  40.0       30.0     40\n",
      "7    1/5/2023  43.0       40.0     40\n",
      "8    1/4/2023  40.0       40.0   cold\n",
      "9    1/3/2023  25.0        5.0     40\n",
      "10   1/2/2023  19.0        6.0    hot\n",
      "11   1/1/2023  17.0       10.0     40\n"
     ]
    }
   ],
   "source": [
    "print(data)\n",
    "data=data.fillna(40)\n",
    "print(data)"
   ]
  },
  {
   "cell_type": "code",
   "execution_count": 9,
   "metadata": {},
   "outputs": [
    {
     "name": "stdout",
     "output_type": "stream",
     "text": [
      "         date  temp  windspeed season\n",
      "0   1/12/2023  18.0       40.0   rain\n",
      "1   1/11/2023  40.0       40.0   snow\n",
      "2   1/10/2023  22.0      100.0  sunny\n",
      "3    1/9/2023  30.0       30.0     40\n",
      "4    1/8/2023  40.0       20.0     40\n",
      "5    1/7/2023  40.0       40.0  sunny\n",
      "6    1/6/2023  40.0       30.0     40\n",
      "7    1/5/2023  43.0       40.0     40\n",
      "8    1/4/2023  40.0       40.0   cold\n",
      "9    1/3/2023  25.0        5.0     40\n",
      "10   1/2/2023  19.0        6.0    hot\n",
      "11   1/1/2023  17.0       10.0     40\n"
     ]
    }
   ],
   "source": [
    "data=data.fillna({'temp':400,'windspeed':20,'season':'fog'})\n",
    "print(data)"
   ]
  },
  {
   "cell_type": "code",
   "execution_count": 10,
   "metadata": {},
   "outputs": [
    {
     "name": "stdout",
     "output_type": "stream",
     "text": [
      "         date  temp  windspeed season\n",
      "0   1/12/2023  18.0       40.0   rain\n",
      "1   1/11/2023  40.0       40.0   snow\n",
      "2   1/10/2023  22.0      100.0  sunny\n",
      "3    1/9/2023  30.0       30.0     40\n",
      "4    1/8/2023  40.0       20.0     40\n",
      "5    1/7/2023  40.0       40.0  sunny\n",
      "6    1/6/2023  40.0       30.0     40\n",
      "7    1/5/2023  43.0       40.0     40\n",
      "8    1/4/2023  40.0       40.0   cold\n",
      "9    1/3/2023  25.0        5.0     40\n",
      "10   1/2/2023  19.0        6.0    hot\n",
      "11   1/1/2023  17.0       10.0     40\n"
     ]
    },
    {
     "name": "stderr",
     "output_type": "stream",
     "text": [
      "C:\\Users\\manu1\\AppData\\Local\\Temp\\ipykernel_14500\\220320795.py:1: FutureWarning: DataFrame.fillna with 'method' is deprecated and will raise in a future version. Use obj.ffill() or obj.bfill() instead.\n",
      "  data=data.fillna(method='ffill')\n"
     ]
    }
   ],
   "source": [
    "data=data.fillna(method='ffill')\n",
    "print(data)"
   ]
  },
  {
   "cell_type": "code",
   "execution_count": 11,
   "metadata": {},
   "outputs": [
    {
     "name": "stdout",
     "output_type": "stream",
     "text": [
      "         date  temp  windspeed season\n",
      "0   1/12/2023  18.0       40.0   rain\n",
      "1   1/11/2023  40.0       40.0   snow\n",
      "2   1/10/2023  22.0      100.0  sunny\n",
      "3    1/9/2023  30.0       30.0     40\n",
      "4    1/8/2023  40.0       20.0     40\n",
      "5    1/7/2023  40.0       40.0  sunny\n",
      "6    1/6/2023  40.0       30.0     40\n",
      "7    1/5/2023  43.0       40.0     40\n",
      "8    1/4/2023  40.0       40.0   cold\n",
      "9    1/3/2023  25.0        5.0     40\n",
      "10   1/2/2023  19.0        6.0    hot\n",
      "11   1/1/2023  17.0       10.0     40\n"
     ]
    },
    {
     "name": "stderr",
     "output_type": "stream",
     "text": [
      "C:\\Users\\manu1\\AppData\\Local\\Temp\\ipykernel_14500\\1909592137.py:1: FutureWarning: DataFrame.fillna with 'method' is deprecated and will raise in a future version. Use obj.ffill() or obj.bfill() instead.\n",
      "  data=data.fillna(method='bfill')\n"
     ]
    }
   ],
   "source": [
    "data=data.fillna(method='bfill')\n",
    "print(data)"
   ]
  },
  {
   "cell_type": "code",
   "execution_count": 12,
   "metadata": {},
   "outputs": [
    {
     "name": "stdout",
     "output_type": "stream",
     "text": [
      "         date  temp  windspeed season\n",
      "0   1/12/2023  18.0       40.0   rain\n",
      "1   1/11/2023  40.0       40.0   snow\n",
      "2   1/10/2023  22.0      100.0  sunny\n",
      "3    1/9/2023  30.0       30.0     40\n",
      "4    1/8/2023  40.0       20.0     40\n",
      "5    1/7/2023  40.0       40.0  sunny\n",
      "6    1/6/2023  40.0       30.0     40\n",
      "7    1/5/2023  43.0       40.0     40\n",
      "8    1/4/2023  40.0       40.0   cold\n",
      "9    1/3/2023  25.0        5.0     40\n",
      "10   1/2/2023  19.0        6.0    hot\n",
      "11   1/1/2023  17.0       10.0     40\n"
     ]
    },
    {
     "name": "stderr",
     "output_type": "stream",
     "text": [
      "C:\\Users\\manu1\\AppData\\Local\\Temp\\ipykernel_14500\\1090258939.py:1: FutureWarning: DataFrame.interpolate with object dtype is deprecated and will raise in a future version. Call obj.infer_objects(copy=False) before interpolating instead.\n",
      "  data=data.interpolate()\n"
     ]
    }
   ],
   "source": [
    "data=data.interpolate()\n",
    "print(data)"
   ]
  },
  {
   "cell_type": "code",
   "execution_count": 13,
   "metadata": {},
   "outputs": [
    {
     "name": "stdout",
     "output_type": "stream",
     "text": [
      "['rain' 'snow' 'sunny' 40 'cold' 'hot']\n"
     ]
    }
   ],
   "source": [
    "print(data['season'].unique()) # to find the unique values"
   ]
  },
  {
   "cell_type": "code",
   "execution_count": 14,
   "metadata": {},
   "outputs": [
    {
     "name": "stdout",
     "output_type": "stream",
     "text": [
      "         date  temp  windspeed season\n",
      "0   1/12/2023  18.0       40.0   rain\n",
      "1   1/11/2023  40.0       40.0   snow\n",
      "2   1/10/2023  22.0      100.0  sunny\n",
      "3    1/9/2023  30.0       30.0     40\n",
      "4    1/8/2023  40.0       20.0     40\n",
      "5    1/7/2023  40.0       40.0  sunny\n",
      "6    1/6/2023  40.0       30.0     40\n",
      "7    1/5/2023  43.0       40.0     40\n",
      "8    1/4/2023  40.0       40.0   cold\n",
      "9    1/3/2023  25.0       50.0     40\n",
      "10   1/2/2023  19.0        6.0    hot\n",
      "11   1/1/2023  17.0       10.0     40\n"
     ]
    }
   ],
   "source": [
    "data.loc[9,'windspeed']=50. # to change the specific value in specific column in specific row\n",
    "print(data)"
   ]
  },
  {
   "cell_type": "code",
   "execution_count": 15,
   "metadata": {},
   "outputs": [
    {
     "name": "stdout",
     "output_type": "stream",
     "text": [
      "         date  temp  windspeed  season\n",
      "0   1/12/2023  18.0       40.0    rain\n",
      "1   1/11/2023  40.0       40.0    snow\n",
      "2   1/10/2023  22.0      100.0   sunny\n",
      "3    1/9/2023  30.0       30.0      40\n",
      "4    1/8/2023  40.0       20.0      40\n",
      "5    1/7/2023  40.0       40.0   sunny\n",
      "6    1/6/2023  40.0       30.0      40\n",
      "7    1/5/2023  43.0       40.0      40\n",
      "8    1/4/2023  40.0       40.0  winter\n",
      "9    1/3/2023  25.0       50.0      40\n",
      "10   1/2/2023  19.0        6.0     hot\n",
      "11   1/1/2023  17.0       10.0      40\n"
     ]
    }
   ],
   "source": [
    "data.loc[8,'season']='winter'\n",
    "print(data)"
   ]
  },
  {
   "cell_type": "code",
   "execution_count": 16,
   "metadata": {},
   "outputs": [
    {
     "name": "stdout",
     "output_type": "stream",
     "text": [
      "         date  temp  windspeed  season\n",
      "0   1/12/2023  18.0       40.0    rain\n",
      "1   1/11/2023  40.0       40.0    snow\n",
      "2   1/10/2023  22.0      100.0   sunny\n",
      "3    1/9/2023  30.0       30.0      40\n",
      "4    1/8/2023  40.0       20.0      40\n",
      "5    1/7/2023  40.0       40.0   sunny\n",
      "6    1/6/2023  40.0       30.0      40\n",
      "7    1/5/2023  43.0       40.0      40\n",
      "8    1/4/2023  40.0       40.0  winter\n",
      "9    1/3/2023  25.0       50.0      40\n",
      "10   1/2/2023  19.0        6.0     hot\n",
      "11   1/1/2023  17.0       10.0      40\n"
     ]
    }
   ],
   "source": [
    "for x in data.index:\n",
    "  if data.loc[x,'season']=='cold':\n",
    "    data.loc[x,'season']='winter'\n",
    "print(data)"
   ]
  }
 ],
 "metadata": {
  "kernelspec": {
   "display_name": "Python 3",
   "language": "python",
   "name": "python3"
  },
  "language_info": {
   "codemirror_mode": {
    "name": "ipython",
    "version": 3
   },
   "file_extension": ".py",
   "mimetype": "text/x-python",
   "name": "python",
   "nbconvert_exporter": "python",
   "pygments_lexer": "ipython3",
   "version": "3.10.4"
  }
 },
 "nbformat": 4,
 "nbformat_minor": 2
}
