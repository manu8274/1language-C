{
 "cells": [
  {
   "cell_type": "code",
   "execution_count": null,
   "metadata": {},
   "outputs": [],
   "source": [
    "import pandas as pd"
   ]
  },
  {
   "cell_type": "code",
   "execution_count": null,
   "metadata": {},
   "outputs": [],
   "source": [
    "# data=pd.read_csv('big_mart_sales.csv')\n",
    "# print(data)"
   ]
  },
  {
   "cell_type": "code",
   "execution_count": 9,
   "metadata": {},
   "outputs": [
    {
     "name": "stdout",
     "output_type": "stream",
     "text": [
      "   0  1  2  3   4\n",
      "x  1  2  3  4   5\n",
      "y  6  7  8  9  10\n"
     ]
    }
   ],
   "source": [
    "a=[[1,2,3,4,5],[6,7,8,9,10]]\n",
    "df=pd.DataFrame(a,index=['x','y'])\n",
    "print(df)"
   ]
  },
  {
   "cell_type": "code",
   "execution_count": 72,
   "metadata": {},
   "outputs": [
    {
     "name": "stdout",
     "output_type": "stream",
     "text": [
      "   c  d   e\n",
      "x  3  4   5\n",
      "y  8  9  10\n"
     ]
    }
   ],
   "source": [
    "df1=pd.DataFrame(a,index=['x','y'],columns=['a','b','c','d','e'])\n",
    "# print(df1)\n",
    "print(df1[['c','d','e']])"
   ]
  },
  {
   "cell_type": "code",
   "execution_count": 86,
   "metadata": {},
   "outputs": [
    {
     "name": "stdout",
     "output_type": "stream",
     "text": [
      "                  Item_Type  Item_MRP\n",
      "0                     Dairy  249.8092\n",
      "1               Soft Drinks   48.2692\n",
      "2                      Meat  141.6180\n",
      "3     Fruits and Vegetables  182.0950\n",
      "4                 Household   53.8614\n",
      "...                     ...       ...\n",
      "8518            Snack Foods  214.5218\n",
      "8519           Baking Goods  108.1570\n",
      "8520     Health and Hygiene   85.1224\n",
      "8521            Snack Foods  103.1332\n",
      "8522            Soft Drinks   75.4670\n",
      "\n",
      "[8523 rows x 2 columns]\n"
     ]
    }
   ],
   "source": [
    "file=pd.read_csv('big_mart_sales.csv')\n",
    "# print(file.to_string())\n",
    "print(file[['Item_Type','Item_MRP']])"
   ]
  },
  {
   "cell_type": "code",
   "execution_count": 2,
   "metadata": {},
   "outputs": [],
   "source": [
    "import pandas as pd"
   ]
  },
  {
   "cell_type": "code",
   "execution_count": 9,
   "metadata": {},
   "outputs": [
    {
     "name": "stdout",
     "output_type": "stream",
     "text": [
      "   country  pop   sq\n",
      "0     kaxa  100  123\n",
      "1   bharat  150  234\n",
      "2    dhaka   90  345\n",
      "3  england  110  nan\n"
     ]
    }
   ],
   "source": [
    "df=pd.DataFrame({\n",
    "    'country':['kaxa','bharat','dhaka','england'],\n",
    "    'pop':[100,150,90,110],\n",
    "    'sq':[123,234,345,'nan']\n",
    "})\n",
    "print(df)"
   ]
  },
  {
   "cell_type": "code",
   "execution_count": null,
   "metadata": {},
   "outputs": [],
   "source": []
  }
 ],
 "metadata": {
  "kernelspec": {
   "display_name": "Python 3",
   "language": "python",
   "name": "python3"
  },
  "language_info": {
   "codemirror_mode": {
    "name": "ipython",
    "version": 3
   },
   "file_extension": ".py",
   "mimetype": "text/x-python",
   "name": "python",
   "nbconvert_exporter": "python",
   "pygments_lexer": "ipython3",
   "version": "3.10.4"
  }
 },
 "nbformat": 4,
 "nbformat_minor": 2
}
