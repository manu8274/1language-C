{
 "cells": [
  {
   "cell_type": "code",
   "execution_count": 1,
   "metadata": {},
   "outputs": [],
   "source": [
    "import pandas as pd"
   ]
  },
  {
   "cell_type": "code",
   "execution_count": 5,
   "metadata": {},
   "outputs": [
    {
     "name": "stdout",
     "output_type": "stream",
     "text": [
      "      city  temperature  humidity\n",
      "0       US           21        68\n",
      "1  CHICAGO           14        65\n",
      "2  ORLANDO           35        75\n",
      "       city  temperature  humidity\n",
      "0    MUMBAI           32        80\n",
      "1     DELHI           45        60\n",
      "2  BANGLORE           30        78\n"
     ]
    }
   ],
   "source": [
    "india_weather=pd.DataFrame({\n",
    "    \"city\":[\"MUMBAI\",\"DELHI\",\"BANGLORE\"],\n",
    "    \"temperature\":[32,45,30],\n",
    "    \"humidity\":[80,60,78]\n",
    "    })\n",
    "us_weather=pd.DataFrame({\n",
    "    \"city\":[\"US\",\"CHICAGO\",\"ORLANDO\"],\n",
    "    \"temperature\":[21,14,35],\n",
    "    \"humidity\":[68,65,75]\n",
    "    })\n",
    "print(us_weather)\n",
    "print(india_weather)"
   ]
  },
  {
   "cell_type": "code",
   "execution_count": 82,
   "metadata": {},
   "outputs": [
    {
     "ename": "TypeError",
     "evalue": "concat() got an unexpected keyword argument 'index'",
     "output_type": "error",
     "traceback": [
      "\u001b[1;31m---------------------------------------------------------------------------\u001b[0m",
      "\u001b[1;31mTypeError\u001b[0m                                 Traceback (most recent call last)",
      "Cell \u001b[1;32mIn[82], line 1\u001b[0m\n\u001b[1;32m----> 1\u001b[0m df\u001b[38;5;241m=\u001b[39m\u001b[43mpd\u001b[49m\u001b[38;5;241;43m.\u001b[39;49m\u001b[43mconcat\u001b[49m\u001b[43m(\u001b[49m\u001b[43m[\u001b[49m\u001b[43mindia_weather\u001b[49m\u001b[43m,\u001b[49m\u001b[43mus_weather\u001b[49m\u001b[43m]\u001b[49m\u001b[43m,\u001b[49m\u001b[43mindex\u001b[49m\u001b[38;5;241;43m=\u001b[39;49m\u001b[43m[\u001b[49m\u001b[38;5;241;43m1\u001b[39;49m\u001b[43m,\u001b[49m\u001b[38;5;241;43m2\u001b[39;49m\u001b[43m,\u001b[49m\u001b[38;5;241;43m3\u001b[39;49m\u001b[43m,\u001b[49m\u001b[38;5;241;43m4\u001b[39;49m\u001b[43m,\u001b[49m\u001b[38;5;241;43m5\u001b[39;49m\u001b[43m,\u001b[49m\u001b[38;5;241;43m6\u001b[39;49m\u001b[43m]\u001b[49m\u001b[43m)\u001b[49m\n\u001b[0;32m      2\u001b[0m \u001b[38;5;28mprint\u001b[39m(df)\n\u001b[0;32m      3\u001b[0m \u001b[38;5;66;03m# with this  index are not comcurrent\u001b[39;00m\n",
      "\u001b[1;31mTypeError\u001b[0m: concat() got an unexpected keyword argument 'index'"
     ]
    }
   ],
   "source": [
    "df=pd.concat([india_weather,us_weather])\n",
    "print(df)\n",
    "# with this  index are not comcurrent"
   ]
  },
  {
   "cell_type": "code",
   "execution_count": 40,
   "metadata": {},
   "outputs": [
    {
     "name": "stdout",
     "output_type": "stream",
     "text": [
      "       city  temperature  humidity\n",
      "0    MUMBAI           32      80.0\n",
      "1     DELHI           45      60.0\n",
      "2  BANGLORE           30      78.0\n",
      "3        US           21       NaN\n",
      "4   CHICAGO           14       NaN\n",
      "5   ORLANDO           35       NaN\n"
     ]
    }
   ],
   "source": [
    "df=pd.concat([india_weather,us_weather],ignore_index=True)\n",
    "print(df)"
   ]
  },
  {
   "cell_type": "code",
   "execution_count": 38,
   "metadata": {},
   "outputs": [
    {
     "name": "stdout",
     "output_type": "stream",
     "text": [
      "             city  temperature  humidity\n",
      "INDIA 0    MUMBAI           32      80.0\n",
      "      1     DELHI           45      60.0\n",
      "      2  BANGLORE           30      78.0\n",
      "US    1        US           21       NaN\n",
      "      2   CHICAGO           14       NaN\n",
      "      3   ORLANDO           35       NaN\n",
      "\n",
      "\n",
      "\n",
      "      city  temperature  humidity\n",
      "1       US           21       NaN\n",
      "2  CHICAGO           14       NaN\n",
      "3  ORLANDO           35       NaN\n",
      "\n",
      "\n",
      "\n",
      "       city  temperature  humidity\n",
      "0    MUMBAI           32      80.0\n",
      "1     DELHI           45      60.0\n",
      "2  BANGLORE           30      78.0\n"
     ]
    }
   ],
   "source": [
    "# concatenation and keys\n",
    "df=pd.concat([india_weather,us_weather],keys=[\"INDIA\",\"US\"])\n",
    "print(df)\n",
    "print(\"\\n\\n\")\n",
    "print(df.loc[\"US\"])\n",
    "print(\"\\n\\n\")\n",
    "print(df.loc[\"INDIA\"])"
   ]
  },
  {
   "cell_type": "code",
   "execution_count": 93,
   "metadata": {},
   "outputs": [
    {
     "name": "stdout",
     "output_type": "stream",
     "text": [
      "       city  temperature\n",
      "1    MUMBAI           32\n",
      "2     DELHI           45\n",
      "3  BANGLORE           30\n",
      "     city  temperature\n",
      "1   DELHI            7\n",
      "0  MUMBAI            2\n"
     ]
    }
   ],
   "source": [
    "temp_df=pd.DataFrame({\n",
    "    \"city\":[\"MUMBAI\",\"DELHI\",\"BANGLORE\"],\n",
    "    \"temperature\":[32,45,30],\n",
    "    },index=[1,2,3])\n",
    "windspeed_df=pd.DataFrame({\n",
    "    \"city\":[\"DELHI\",\"MUMBAI\"],\n",
    "    \"temperature\":[7,2],\n",
    "    },index=[1,0])\n",
    "print(temp_df)\n",
    "print(windspeed_df)"
   ]
  },
  {
   "cell_type": "code",
   "execution_count": 94,
   "metadata": {},
   "outputs": [
    {
     "data": {
      "text/html": [
       "<div>\n",
       "<style scoped>\n",
       "    .dataframe tbody tr th:only-of-type {\n",
       "        vertical-align: middle;\n",
       "    }\n",
       "\n",
       "    .dataframe tbody tr th {\n",
       "        vertical-align: top;\n",
       "    }\n",
       "\n",
       "    .dataframe thead th {\n",
       "        text-align: right;\n",
       "    }\n",
       "</style>\n",
       "<table border=\"1\" class=\"dataframe\">\n",
       "  <thead>\n",
       "    <tr style=\"text-align: right;\">\n",
       "      <th></th>\n",
       "      <th>city</th>\n",
       "      <th>temperature</th>\n",
       "      <th>city</th>\n",
       "      <th>temperature</th>\n",
       "    </tr>\n",
       "  </thead>\n",
       "  <tbody>\n",
       "    <tr>\n",
       "      <th>1</th>\n",
       "      <td>MUMBAI</td>\n",
       "      <td>32.0</td>\n",
       "      <td>DELHI</td>\n",
       "      <td>7.0</td>\n",
       "    </tr>\n",
       "    <tr>\n",
       "      <th>2</th>\n",
       "      <td>DELHI</td>\n",
       "      <td>45.0</td>\n",
       "      <td>NaN</td>\n",
       "      <td>NaN</td>\n",
       "    </tr>\n",
       "    <tr>\n",
       "      <th>3</th>\n",
       "      <td>BANGLORE</td>\n",
       "      <td>30.0</td>\n",
       "      <td>NaN</td>\n",
       "      <td>NaN</td>\n",
       "    </tr>\n",
       "    <tr>\n",
       "      <th>0</th>\n",
       "      <td>NaN</td>\n",
       "      <td>NaN</td>\n",
       "      <td>MUMBAI</td>\n",
       "      <td>2.0</td>\n",
       "    </tr>\n",
       "  </tbody>\n",
       "</table>\n",
       "</div>"
      ],
      "text/plain": [
       "       city  temperature    city  temperature\n",
       "1    MUMBAI         32.0   DELHI          7.0\n",
       "2     DELHI         45.0     NaN          NaN\n",
       "3  BANGLORE         30.0     NaN          NaN\n",
       "0       NaN          NaN  MUMBAI          2.0"
      ]
     },
     "execution_count": 94,
     "metadata": {},
     "output_type": "execute_result"
    }
   ],
   "source": [
    "df=pd.concat([temp_df,windspeed_df],axis=1)\n",
    "df\n",
    "# we have no data at 0 for temp_df so NaN\n",
    "# we have no data at 2,3 for windspeed_df so Nan"
   ]
  },
  {
   "cell_type": "code",
   "execution_count": 95,
   "metadata": {},
   "outputs": [
    {
     "data": {
      "text/plain": [
       "0    HUMID\n",
       "1      DRY\n",
       "2     RAIN\n",
       "Name: event, dtype: object"
      ]
     },
     "execution_count": 95,
     "metadata": {},
     "output_type": "execute_result"
    }
   ],
   "source": [
    "s=pd.Series([\"HUMID\",\"DRY\",\"RAIN\"],name=\"event\")\n",
    "s"
   ]
  },
  {
   "cell_type": "code",
   "execution_count": null,
   "metadata": {},
   "outputs": [],
   "source": []
  }
 ],
 "metadata": {
  "kernelspec": {
   "display_name": "Python 3",
   "language": "python",
   "name": "python3"
  },
  "language_info": {
   "codemirror_mode": {
    "name": "ipython",
    "version": 3
   },
   "file_extension": ".py",
   "mimetype": "text/x-python",
   "name": "python",
   "nbconvert_exporter": "python",
   "pygments_lexer": "ipython3",
   "version": "3.10.4"
  }
 },
 "nbformat": 4,
 "nbformat_minor": 2
}
