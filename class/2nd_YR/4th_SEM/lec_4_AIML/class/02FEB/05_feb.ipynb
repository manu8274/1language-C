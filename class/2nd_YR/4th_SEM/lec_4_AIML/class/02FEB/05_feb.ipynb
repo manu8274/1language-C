{
 "cells": [
  {
   "cell_type": "code",
   "execution_count": 1,
   "metadata": {},
   "outputs": [],
   "source": [
    "import pandas as pd"
   ]
  },
  {
   "cell_type": "code",
   "execution_count": 5,
   "metadata": {},
   "outputs": [
    {
     "name": "stdout",
     "output_type": "stream",
     "text": [
      "      city  temperature  humidity\n",
      "0       US           21        68\n",
      "1  CHICAGO           14        65\n",
      "2  ORLANDO           35        75\n",
      "       city  temperature  humidity\n",
      "0    MUMBAI           32        80\n",
      "1     DELHI           45        60\n",
      "2  BANGLORE           30        78\n"
     ]
    }
   ],
   "source": [
    "india_weather=pd.DataFrame({\n",
    "    \"city\":[\"MUMBAI\",\"DELHI\",\"BANGLORE\"],\n",
    "    \"temperature\":[32,45,30],\n",
    "    \"humidity\":[80,60,78]\n",
    "    })\n",
    "us_weather=pd.DataFrame({\n",
    "    \"city\":[\"US\",\"CHICAGO\",\"ORLANDO\"],\n",
    "    \"temperature\":[21,14,35],\n",
    "    \"humidity\":[68,65,75]\n",
    "    })\n",
    "print(us_weather)\n",
    "print(india_weather)"
   ]
  },
  {
   "cell_type": "code",
   "execution_count": 6,
   "metadata": {},
   "outputs": [
    {
     "name": "stdout",
     "output_type": "stream",
     "text": [
      "       city  temperature  humidity\n",
      "0    MUMBAI           32        80\n",
      "1     DELHI           45        60\n",
      "2  BANGLORE           30        78\n",
      "0        US           21        68\n",
      "1   CHICAGO           14        65\n",
      "2   ORLANDO           35        75\n"
     ]
    }
   ],
   "source": [
    "df=pd.concat([india_weather,us_weather])\n",
    "print(df)\n",
    "# with this  index are not comcurrent"
   ]
  },
  {
   "cell_type": "code",
   "execution_count": 9,
   "metadata": {},
   "outputs": [
    {
     "name": "stdout",
     "output_type": "stream",
     "text": [
      "       city  temperature  humidity\n",
      "0    MUMBAI           32        80\n",
      "1     DELHI           45        60\n",
      "2  BANGLORE           30        78\n",
      "3        US           21        68\n",
      "4   CHICAGO           14        65\n",
      "5   ORLANDO           35        75\n"
     ]
    }
   ],
   "source": [
    "df=pd.concat([india_weather,us_weather],ignore_index=True)\n",
    "print(df)"
   ]
  },
  {
   "cell_type": "code",
   "execution_count": null,
   "metadata": {},
   "outputs": [],
   "source": []
  }
 ],
 "metadata": {
  "kernelspec": {
   "display_name": "Python 3",
   "language": "python",
   "name": "python3"
  },
  "language_info": {
   "codemirror_mode": {
    "name": "ipython",
    "version": 3
   },
   "file_extension": ".py",
   "mimetype": "text/x-python",
   "name": "python",
   "nbconvert_exporter": "python",
   "pygments_lexer": "ipython3",
   "version": "3.10.4"
  }
 },
 "nbformat": 4,
 "nbformat_minor": 2
}
