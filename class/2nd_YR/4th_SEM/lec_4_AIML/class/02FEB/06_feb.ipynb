{
 "cells": [
  {
   "cell_type": "code",
   "execution_count": 2,
   "metadata": {},
   "outputs": [],
   "source": [
    "import pandas as pd"
   ]
  },
  {
   "cell_type": "code",
   "execution_count": 3,
   "metadata": {},
   "outputs": [
    {
     "data": {
      "text/plain": [
       "0    HUMID\n",
       "1      DRY\n",
       "2     RAIN\n",
       "Name: event, dtype: object"
      ]
     },
     "execution_count": 3,
     "metadata": {},
     "output_type": "execute_result"
    }
   ],
   "source": [
    "s=pd.Series([\"HUMID\",\"DRY\",\"RAIN\"],name=\"event\")\n",
    "s"
   ]
  },
  {
   "cell_type": "code",
   "execution_count": 6,
   "metadata": {},
   "outputs": [
    {
     "name": "stdout",
     "output_type": "stream",
     "text": [
      "       city  temperature\n",
      "0  NEW YORK           21\n",
      "1   CHICAGO           14\n",
      "2   ORLANDO           35\n",
      "       city  HUMIDITY\n",
      "0  NEW YORK        65\n",
      "1   CHICAGO        68\n",
      "2   ORLANDO        75\n"
     ]
    }
   ],
   "source": [
    "df1=pd.DataFrame({\n",
    "    \"city\":[\"NEW YORK\",\"CHICAGO\",\"ORLANDO\"],\n",
    "    \"temperature\":[21,14,35],\n",
    "    })\n",
    "df2=pd.DataFrame({\n",
    "    \"city\":[\"NEW YORK\",\"CHICAGO\",\"ORLANDO\"],\n",
    "    \"HUMIDITY\":[65,68,75],\n",
    "    })\n",
    "print(df1)\n",
    "print(df2)"
   ]
  },
  {
   "cell_type": "code",
   "execution_count": null,
   "metadata": {},
   "outputs": [],
   "source": []
  }
 ],
 "metadata": {
  "kernelspec": {
   "display_name": "Python 3",
   "language": "python",
   "name": "python3"
  },
  "language_info": {
   "codemirror_mode": {
    "name": "ipython",
    "version": 3
   },
   "file_extension": ".py",
   "mimetype": "text/x-python",
   "name": "python",
   "nbconvert_exporter": "python",
   "pygments_lexer": "ipython3",
   "version": "3.10.4"
  }
 },
 "nbformat": 4,
 "nbformat_minor": 2
}
