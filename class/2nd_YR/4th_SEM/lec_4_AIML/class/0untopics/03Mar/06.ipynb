{
 "cells": [
  {
   "cell_type": "code",
   "execution_count": 18,
   "metadata": {},
   "outputs": [],
   "source": [
    "import numpy as np\n",
    "import pandas as pd\n",
    "import matplotlib.pyplot as plt\n",
    "import seaborn as sns\n",
    "import plotly.express as px\n",
    "import plotly.graph_objects as go"
   ]
  },
  {
   "cell_type": "code",
   "execution_count": 17,
   "metadata": {},
   "outputs": [
    {
     "name": "stdout",
     "output_type": "stream",
     "text": [
      "[1, 3, 3, 3, 4, 4, 4, 6, 6]\n",
      "4\n",
      "[1, 3, 3, 3] [4, 4, 6, 6]\n",
      "3 5\n",
      "2\n"
     ]
    }
   ],
   "source": [
    "#interquartile range(IQR) = Q3(=75%)-Q1(=25%)\n",
    "# 1,4,4,4,3,6,3,6,3,\n",
    "# to find IQR \n",
    "# step 1 -convert in sorting\n",
    "l=[1,4,4,4,3,6,3,6,3]\n",
    "l.sort()\n",
    "# step2 - to find median and break it to half part\n",
    "n=len(l)\n",
    "print(l)\n",
    "median=l[n//2] if n%2!=0 else (l[n//2]+l[n//2+1])//2\n",
    "print(median)\n",
    "l1=l[:l.index(median)]\n",
    "l2=l[l.index(median)+1:]\n",
    "n1,n2=len(l1),len(l2)\n",
    "print(l1,l2)\n",
    "# step3 - to find median for both part\n",
    "med1=l1[n1//2] if n1%2!=0 else (l1[n1//2]+l1[n1//2+1])//2\n",
    "med2=l2[n2//2] if n2%2!=0 else (l2[n2//2-1]+l2[n2//2])//2\n",
    "print(med1,med2)#Q3=med2,Q1=med1\n",
    "Q3=med2\n",
    "Q1=med1\n",
    "IQR=Q3-Q1\n",
    "print(IQR)"
   ]
  },
  {
   "cell_type": "code",
   "execution_count": null,
   "metadata": {},
   "outputs": [],
   "source": [
    "# to find outlet \n",
    "# we use formule UPPERLIMIT=(Q3+1.5)*IQR\n",
    "# we use formule LOWERLIMIT=(Q1-1.5)*IQR"
   ]
  },
  {
   "cell_type": "markdown",
   "metadata": {},
   "source": [
    "METHOD TO FIND OUTLIERS USING MEAN"
   ]
  },
  {
   "cell_type": "code",
   "execution_count": 21,
   "metadata": {},
   "outputs": [
    {
     "name": "stdout",
     "output_type": "stream",
     "text": [
      "     cgpa  placement_exam_marks  placed\n",
      "0    7.19                  26.0       1\n",
      "1    7.46                  38.0       1\n",
      "2    7.54                  40.0       1\n",
      "3    6.42                   8.0       1\n",
      "4    7.23                  17.0       0\n",
      "..    ...                   ...     ...\n",
      "995  8.87                  44.0       1\n",
      "996  9.12                  65.0       1\n",
      "997  4.89                  34.0       0\n",
      "998  8.62                  46.0       1\n",
      "999  4.90                  10.0       1\n",
      "\n",
      "[1000 rows x 3 columns]\n"
     ]
    }
   ],
   "source": [
    "df=pd.read_csv(\"placement.csv.xls\")\n",
    "print(df)"
   ]
  },
  {
   "cell_type": "code",
   "execution_count": 24,
   "metadata": {},
   "outputs": [
    {
     "data": {
      "text/plain": [
       "<Figure size 1600x500 with 0 Axes>"
      ]
     },
     "metadata": {},
     "output_type": "display_data"
    },
    {
     "data": {
      "image/png": "[encoded data removed]",
      "text/plain": [
       "<Figure size 500x500 with 1 Axes>"
      ]
     },
     "metadata": {},
     "output_type": "display_data"
    }
   ],
   "source": [
    "plt.figure(figsize=(16,5))\n",
    "sns.displot(df['cgpa'],kde=True)\n",
    "plt.show()"
   ]
  },
  {
   "cell_type": "code",
   "execution_count": 30,
   "metadata": {},
   "outputs": [
    {
     "name": "stdout",
     "output_type": "stream",
     "text": [
      "6.96124\n"
     ]
    },
    {
     "data": {
      "text/html": [
       "<div>\n",
       "<style scoped>\n",
       "    .dataframe tbody tr th:only-of-type {\n",
       "        vertical-align: middle;\n",
       "    }\n",
       "\n",
       "    .dataframe tbody tr th {\n",
       "        vertical-align: top;\n",
       "    }\n",
       "\n",
       "    .dataframe thead th {\n",
       "        text-align: right;\n",
       "    }\n",
       "</style>\n",
       "<table border=\"1\" class=\"dataframe\">\n",
       "  <thead>\n",
       "    <tr style=\"text-align: right;\">\n",
       "      <th></th>\n",
       "      <th>cgpa</th>\n",
       "      <th>placement_exam_marks</th>\n",
       "      <th>placed</th>\n",
       "    </tr>\n",
       "  </thead>\n",
       "  <tbody>\n",
       "    <tr>\n",
       "      <th>count</th>\n",
       "      <td>1000.000000</td>\n",
       "      <td>1000.000000</td>\n",
       "      <td>1000.000000</td>\n",
       "    </tr>\n",
       "    <tr>\n",
       "      <th>mean</th>\n",
       "      <td>6.961240</td>\n",
       "      <td>32.225000</td>\n",
       "      <td>0.489000</td>\n",
       "    </tr>\n",
       "    <tr>\n",
       "      <th>std</th>\n",
       "      <td>0.615898</td>\n",
       "      <td>19.130822</td>\n",
       "      <td>0.500129</td>\n",
       "    </tr>\n",
       "    <tr>\n",
       "      <th>min</th>\n",
       "      <td>4.890000</td>\n",
       "      <td>0.000000</td>\n",
       "      <td>0.000000</td>\n",
       "    </tr>\n",
       "    <tr>\n",
       "      <th>25%</th>\n",
       "      <td>6.550000</td>\n",
       "      <td>17.000000</td>\n",
       "      <td>0.000000</td>\n",
       "    </tr>\n",
       "    <tr>\n",
       "      <th>50%</th>\n",
       "      <td>6.960000</td>\n",
       "      <td>28.000000</td>\n",
       "      <td>0.000000</td>\n",
       "    </tr>\n",
       "    <tr>\n",
       "      <th>75%</th>\n",
       "      <td>7.370000</td>\n",
       "      <td>44.000000</td>\n",
       "      <td>1.000000</td>\n",
       "    </tr>\n",
       "    <tr>\n",
       "      <th>max</th>\n",
       "      <td>9.120000</td>\n",
       "      <td>100.000000</td>\n",
       "      <td>1.000000</td>\n",
       "    </tr>\n",
       "  </tbody>\n",
       "</table>\n",
       "</div>"
      ],
      "text/plain": [
       "              cgpa  placement_exam_marks       placed\n",
       "count  1000.000000           1000.000000  1000.000000\n",
       "mean      6.961240             32.225000     0.489000\n",
       "std       0.615898             19.130822     0.500129\n",
       "min       4.890000              0.000000     0.000000\n",
       "25%       6.550000             17.000000     0.000000\n",
       "50%       6.960000             28.000000     0.000000\n",
       "75%       7.370000             44.000000     1.000000\n",
       "max       9.120000            100.000000     1.000000"
      ]
     },
     "execution_count": 30,
     "metadata": {},
     "output_type": "execute_result"
    }
   ],
   "source": [
    "mean=df['cgpa'].mean()\n",
    "print(mean)\n",
    "df.describe()\n",
    "df.describe()"
   ]
  },
  {
   "cell_type": "code",
   "execution_count": 32,
   "metadata": {},
   "outputs": [
    {
     "name": "stdout",
     "output_type": "stream",
     "text": [
      "8.808933625397168\n",
      "5.113546374602832\n"
     ]
    }
   ],
   "source": [
    "#capping\n",
    "#finding HIGHEST LIMIT AND LOWER LIMIT\n",
    "HL=df['cgpa'].mean() + 3*df['cgpa'].std()\n",
    "LL=df['cgpa'].mean() - 3*df['cgpa'].std()\n",
    "print(HL)\n",
    "print(LL)"
   ]
  },
  {
   "cell_type": "code",
   "execution_count": 35,
   "metadata": {},
   "outputs": [
    {
     "name": "stdout",
     "output_type": "stream",
     "text": [
      "     cgpa  placement_exam_marks  placed\n",
      "485  4.92                  44.0       1\n",
      "995  8.87                  44.0       1\n",
      "996  9.12                  65.0       1\n",
      "997  4.89                  34.0       0\n",
      "999  4.90                  10.0       1\n"
     ]
    }
   ],
   "source": [
    "#FINDING OUTLIERS\n",
    "print(df[(df['cgpa']>HL) | (df['cgpa']<LL)])"
   ]
  },
  {
   "cell_type": "code",
   "execution_count": 36,
   "metadata": {},
   "outputs": [
    {
     "name": "stdout",
     "output_type": "stream",
     "text": [
      "     cgpa  placement_exam_marks  placed\n",
      "0    7.19                  26.0       1\n",
      "1    7.46                  38.0       1\n",
      "2    7.54                  40.0       1\n",
      "3    6.42                   8.0       1\n",
      "4    7.23                  17.0       0\n",
      "..    ...                   ...     ...\n",
      "991  7.04                  57.0       0\n",
      "992  6.26                  12.0       0\n",
      "993  6.73                  21.0       1\n",
      "994  6.48                  63.0       0\n",
      "998  8.62                  46.0       1\n",
      "\n",
      "[995 rows x 3 columns]\n"
     ]
    }
   ],
   "source": [
    "#TRIMMING\n",
    "newdf=df[(df['cgpa']<HL) & (df['cgpa']>LL)]\n",
    "print(newdf)"
   ]
  },
  {
   "cell_type": "code",
   "execution_count": null,
   "metadata": {},
   "outputs": [],
   "source": []
  }
 ],
 "metadata": {
  "kernelspec": {
   "display_name": "Python 3",
   "language": "python",
   "name": "python3"
  },
  "language_info": {
   "codemirror_mode": {
    "name": "ipython",
    "version": 3
   },
   "file_extension": ".py",
   "mimetype": "text/x-python",
   "name": "python",
   "nbconvert_exporter": "python",
   "pygments_lexer": "ipython3",
   "version": "3.10.4"
  }
 },
 "nbformat": 4,
 "nbformat_minor": 2
}
