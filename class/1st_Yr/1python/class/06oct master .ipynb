{
 "cells": [
  {
   "cell_type": "code",
   "execution_count": 2,
   "id": "a5e6ed5b",
   "metadata": {},
   "outputs": [
    {
     "name": "stdout",
     "output_type": "stream",
     "text": [
      "12290\n"
     ]
    }
   ],
   "source": [
    "print(3*8*8*8**2+2)"
   ]
  },
  {
   "cell_type": "code",
   "execution_count": 2,
   "id": "a64e2653",
   "metadata": {},
   "outputs": [
    {
     "name": "stdout",
     "output_type": "stream",
     "text": [
      "hello\n"
     ]
    }
   ],
   "source": [
    "print(\"hello\")"
   ]
  },
  {
   "cell_type": "markdown",
   "id": "3f520031",
   "metadata": {},
   "source": []
  },
  {
   "cell_type": "code",
   "execution_count": null,
   "id": "24d36c8b",
   "metadata": {},
   "outputs": [
    {
     "name": "stdout",
     "output_type": "stream",
     "text": [
      "hello world hello world hello world hello world hello world hello world hello world hello world \n"
     ]
    }
   ],
   "source": [
    "print(\"hello world \"*8)"
   ]
  },
  {
   "cell_type": "markdown",
   "id": "dc8237b2",
   "metadata": {},
   "source": []
  },
  {
   "cell_type": "code",
   "execution_count": 5,
   "id": "4248a53e",
   "metadata": {},
   "outputs": [
    {
     "name": "stdout",
     "output_type": "stream",
     "text": [
      "hello world \n",
      "      welcome to prog\n"
     ]
    }
   ],
   "source": [
    "print('''hello world \n",
    "      welcome to prog''')"
   ]
  },
  {
   "cell_type": "code",
   "execution_count": 20,
   "id": "8a066d37",
   "metadata": {},
   "outputs": [
    {
     "name": "stdout",
     "output_type": "stream",
     "text": [
      "enter first marks:99\n",
      "enter second marks:99\n",
      "enter third marks:99\n",
      "enter four marks:9\n",
      "avg marks are: 76.5\n",
      "pass\n"
     ]
    }
   ],
   "source": [
    "m1=int(input(\"enter first marks:\"))\n",
    "m2=int(input(\"enter second marks:\"))\n",
    "m3=int(input(\"enter third marks:\"))\n",
    "m4=int(input(\"enter four marks:\"))\n",
    "avg=((m1+m2+m3+m4)/4)\n",
    "print(\"avg marks are:\",avg)\n",
    "if avg>=50:\n",
    "    print(\"pass\")\n",
    "else:\n",
    "    print(\"fail\")"
   ]
  },
  {
   "cell_type": "code",
   "execution_count": null,
   "id": "b06aaa13",
   "metadata": {},
   "outputs": [],
   "source": []
  },
  {
   "cell_type": "code",
   "execution_count": null,
   "id": "654cbd56",
   "metadata": {},
   "outputs": [],
   "source": []
  },
  {
   "cell_type": "code",
   "execution_count": null,
   "id": "c0fa4f64",
   "metadata": {},
   "outputs": [],
   "source": []
  },
  {
   "cell_type": "code",
   "execution_count": null,
   "id": "21f54bb1",
   "metadata": {},
   "outputs": [],
   "source": []
  },
  {
   "cell_type": "code",
   "execution_count": 18,
   "id": "9925d5e3",
   "metadata": {},
   "outputs": [
    {
     "name": "stdout",
     "output_type": "stream",
     "text": [
      "think a number upto 20 \n",
      "mltiply it by 5\n",
      "add 5 to it\n",
      "multiply it by 2\n",
      "ad 2 to it\n",
      "enter ypur final answer:92\n",
      "your chosen no. is: 8\n"
     ]
    }
   ],
   "source": [
    "import time\n",
    "print(\"think a number upto 20 \")\n",
    "time.sleep(1)\n",
    "print(\"mltiply it by 5\")\n",
    "time.sleep(1)\n",
    "print(\"add 5 to it\")\n",
    "time.sleep(1)\n",
    "print(\"multiply it by 2\")\n",
    "time.sleep(1)\n",
    "print(\"ad 2 to it\")\n",
    "time.sleep(1)\n",
    "ans=int(input(\"enter ypur final answer:\"))\n",
    "z=ans//10\n",
    "x=z-1\n",
    "print(\"your chosen no. is:\",x)\n"
   ]
  },
  {
   "cell_type": "code",
   "execution_count": null,
   "id": "870ddc94",
   "metadata": {},
   "outputs": [],
   "source": []
  },
  {
   "cell_type": "code",
   "execution_count": null,
   "id": "41f1ed68",
   "metadata": {},
   "outputs": [],
   "source": [
    "input(n)"
   ]
  },
  {
   "cell_type": "code",
   "execution_count": null,
   "id": "f8baf88b",
   "metadata": {},
   "outputs": [],
   "source": [
    "x=int(input):\n",
    "f"
   ]
  }
 ],
 "metadata": {
  "kernelspec": {
   "display_name": "Python 3 (ipykernel)",
   "language": "python",
   "name": "python3"
  },
  "language_info": {
   "codemirror_mode": {
    "name": "ipython",
    "version": 3
   },
   "file_extension": ".py",
   "mimetype": "text/x-python",
   "name": "python",
   "nbconvert_exporter": "python",
   "pygments_lexer": "ipython3",
   "version": "3.11.2"
  }
 },
 "nbformat": 4,
 "nbformat_minor": 5
}
