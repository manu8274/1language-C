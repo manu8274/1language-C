{
 "cells": [
  {
   "cell_type": "markdown",
   "id": "82b302b9",
   "metadata": {},
   "source": [
    "print the following pattern for the given number of rows \n",
    "1111\n",
    "000\n",
    "11\n",
    "0"
   ]
  },
  {
   "cell_type": "code",
   "execution_count": 10,
   "id": "6e3be4b2",
   "metadata": {},
   "outputs": [
    {
     "name": "stdout",
     "output_type": "stream",
     "text": [
      "number of rows4\n",
      "1 1 1 1 \n",
      "0 0 0 \n",
      "1 1 \n",
      "0 \n"
     ]
    }
   ],
   "source": [
    "n=int(input(\"number of rows\")) #n=4\n",
    "for i in range(0,n):\n",
    "    for j in range(n-i,0,-1):\n",
    "        if (i%2==0):\n",
    "            print(\"1\",end=\" \")\n",
    "        else:\n",
    "            print(\"0\",end=\" \")\n",
    "    print()"
   ]
  },
  {
   "cell_type": "code",
   "execution_count": 13,
   "id": "8662c04a",
   "metadata": {},
   "outputs": [
    {
     "name": "stdout",
     "output_type": "stream",
     "text": [
      "number of rows4\n",
      "1 0 1 0 \n",
      "0 1 0 \n",
      "1 0 \n",
      "0 \n"
     ]
    }
   ],
   "source": [
    "n=int(input(\"number of rows\")) #n=4\n",
    "for i in range(0,n):\n",
    "    for j in range(0,n-i):\n",
    "        if ((i+j)%2==0):\n",
    "            print(\"1\",end=\" \")\n",
    "        else:\n",
    "            print(\"0\",end=\" \")\n",
    "    print()"
   ]
  },
  {
   "cell_type": "code",
   "execution_count": 27,
   "id": "8b08bdb0",
   "metadata": {},
   "outputs": [
    {
     "name": "stdout",
     "output_type": "stream",
     "text": [
      "enter thhe number of rows6\n",
      "123456\n",
      " 23456\n",
      "  3456\n",
      "   456\n",
      "    56\n",
      "     6\n"
     ]
    }
   ],
   "source": [
    "n=int(input(\"enter thhe number of rows\"))\n",
    "\n",
    "for i in range(0,n):\n",
    "    for j in range(0,i):\n",
    "        print(\" \",end=\"\")\n",
    "    for j in range(i+1,n+1):\n",
    "        print(j,end=\"\")\n",
    "    print()"
   ]
  },
  {
   "cell_type": "code",
   "execution_count": 29,
   "id": "6c7042e3",
   "metadata": {},
   "outputs": [
    {
     "name": "stdout",
     "output_type": "stream",
     "text": [
      "enter thhe number of rows6\n",
      "1 2 3 4 5 6 \n",
      " 2 3 4 5 6 \n",
      "  3 4 5 6 \n",
      "   4 5 6 \n",
      "    5 6 \n",
      "     6 \n"
     ]
    }
   ],
   "source": [
    "n=int(input(\"enter thhe number of rows\"))\n",
    "\n",
    "for i in range(0,n):\n",
    "    for j in range(0,i):\n",
    "        print(\" \",end=\"\")\n",
    "    for j in range(i+1,n+1):\n",
    "        print(j,end=\" \")\n",
    "    print()"
   ]
  },
  {
   "cell_type": "code",
   "execution_count": 49,
   "id": "cc796a4c",
   "metadata": {},
   "outputs": [
    {
     "name": "stdout",
     "output_type": "stream",
     "text": [
      "enter thhe number of rows6\n",
      "     6\n",
      "    56\n",
      "   456\n",
      "  3456\n",
      " 23456\n",
      "123456\n"
     ]
    }
   ],
   "source": [
    "n=int(input(\"enter thhe number of rows\"))\n",
    "\n",
    "for i in range(0,n):\n",
    "    for j in range(n-1,i,-1):\n",
    "        print(\" \",end=\"\")\n",
    "    for j in range(n-i,n+1):\n",
    "        print(j,end=\"\")\n",
    "    print()"
   ]
  },
  {
   "cell_type": "code",
   "execution_count": 52,
   "id": "c22d1a8e",
   "metadata": {},
   "outputs": [
    {
     "name": "stdout",
     "output_type": "stream",
     "text": [
      "enter thhe number of rows6\n",
      "     6 \n",
      "    5 6 \n",
      "   4 5 6 \n",
      "  3 4 5 6 \n",
      " 2 3 4 5 6 \n",
      "1 2 3 4 5 6 \n"
     ]
    }
   ],
   "source": [
    "n=int(input(\"enter thhe number of rows\"))\n",
    "\n",
    "for i in range(0,n):\n",
    "    for j in range(n-1,i,-1):\n",
    "        print(\" \",end=\"\")\n",
    "    for j in range(n-i,n+1):\n",
    "        print(j,end=\" \")\n",
    "    print()"
   ]
  },
  {
   "cell_type": "code",
   "execution_count": 53,
   "id": "1eff5e83",
   "metadata": {
    "scrolled": true
   },
   "outputs": [
    {
     "name": "stdout",
     "output_type": "stream",
     "text": [
      "enter thhe number of rows6\n",
      "123456\n",
      " 23456\n",
      "  3456\n",
      "   456\n",
      "    56\n",
      "     6\n",
      "    56\n",
      "   456\n",
      "  3456\n",
      " 23456\n",
      "123456\n"
     ]
    }
   ],
   "source": [
    "n=int(input(\"enter thhe number of rows\"))\n",
    "\n",
    "for i in range(0,n):\n",
    "    for j in range(0,i):\n",
    "        print(\" \",end=\"\")\n",
    "    for j in range(i+1,n+1):\n",
    "        print(j,end=\"\")\n",
    "    print()\n",
    "\n",
    "for i in range(1,n):\n",
    "    for j in range(n-1,i,-1):\n",
    "        print(\" \",end=\"\")\n",
    "    for j in range(n-i,n+1):\n",
    "        print(j,end=\"\")\n",
    "    print()"
   ]
  },
  {
   "cell_type": "code",
   "execution_count": 55,
   "id": "4bbf7925",
   "metadata": {},
   "outputs": [
    {
     "name": "stdout",
     "output_type": "stream",
     "text": [
      "enter thhe number of rows6\n",
      "123456\n",
      " 23456\n",
      "  3456\n",
      "   456\n",
      "    56\n",
      "     6\n",
      "    56\n",
      "   456\n",
      "  3456\n",
      " 23456\n",
      "123456\n"
     ]
    }
   ],
   "source": [
    "n=int(input(\"enter thhe number of rows\"))\n",
    "\n",
    "for i in range(0,n-1):\n",
    "    for j in range(0,i):\n",
    "        print(\" \",end=\"\")\n",
    "    for j in range(i+1,n+1):\n",
    "        print(j,end=\"\")\n",
    "    print()\n",
    "\n",
    "for i in range(0,n):\n",
    "    for j in range(n-1,i,-1):\n",
    "        print(\" \",end=\"\")\n",
    "    for j in range(n-i,n+1):\n",
    "        print(j,end=\"\")\n",
    "    print()"
   ]
  },
  {
   "cell_type": "code",
   "execution_count": 65,
   "id": "f314cd28",
   "metadata": {},
   "outputs": [
    {
     "name": "stdout",
     "output_type": "stream",
     "text": [
      "enter thhe number of rows6\n",
      "******\n",
      " *****\n",
      "  ****\n",
      "   ***\n",
      "    **\n",
      "     *\n",
      "    **\n",
      "   ***\n",
      "  ****\n",
      " *****\n",
      "******\n"
     ]
    }
   ],
   "source": [
    "n=int(input(\"enter thhe number of rows\"))\n",
    "\n",
    "for i in range(0,n):\n",
    "    for j in range(0,i):\n",
    "        print(\" \",end=\"\")\n",
    "    for j in range(i+1,n+1):\n",
    "        print(\"*\",end=\"\")\n",
    "    print()\n",
    "\n",
    "for i in range(1,n):\n",
    "    for j in range(n-1,i,-1):\n",
    "        print(\" \",end=\"\")\n",
    "    for j in range(n-i,n+1):\n",
    "        print(\"*\",end=\"\")\n",
    "    print()"
   ]
  },
  {
   "cell_type": "code",
   "execution_count": 64,
   "id": "3004e86f",
   "metadata": {
    "scrolled": true
   },
   "outputs": [
    {
     "name": "stdout",
     "output_type": "stream",
     "text": [
      "enter thhe number of rows5\n",
      "**********\n",
      " ********\n",
      "  ******\n",
      "   ****\n",
      "    **\n",
      "   ****\n",
      "  ******\n",
      " ********\n",
      "**********\n"
     ]
    }
   ],
   "source": [
    "n=int(input(\"enter thhe number of rows\"))\n",
    "\n",
    "for i in range(0,n):\n",
    "    for j in range(0,i):\n",
    "        print(\" \",end=\"\")\n",
    "    for j in range(i+1,n+1):\n",
    "        print(2*\"*\",end=\"\")\n",
    "    print()\n",
    "\n",
    "for i in range(1,n):\n",
    "    for j in range(n-1,i,-1):\n",
    "        print(\" \",end=\"\")\n",
    "    for j in range(n-i,n+1):\n",
    "        print(2*\"*\",end=\"\")\n",
    "    print()"
   ]
  },
  {
   "cell_type": "code",
   "execution_count": 66,
   "id": "4a3640bb",
   "metadata": {},
   "outputs": [
    {
     "name": "stdout",
     "output_type": "stream",
     "text": [
      "enter thhe number of rows5\n",
      "    5 \n",
      "   4 5 \n",
      "  3 4 5 \n",
      " 2 3 4 5 \n",
      "1 2 3 4 5 \n",
      " 2 3 4 5 \n",
      "  3 4 5 \n",
      "   4 5 \n",
      "    5 \n"
     ]
    }
   ],
   "source": [
    "n=int(input(\"enter thhe number of rows\"))\n",
    "\n",
    "for i in range(0,n):\n",
    "    for j in range(n-1,i,-1):\n",
    "        print(\" \",end=\"\")\n",
    "    for j in range(n-i,n+1):\n",
    "        print(j,end=\" \")\n",
    "    print()\n",
    "for i in range(1,n):\n",
    "    for j in range(0,i):\n",
    "        print(\" \",end=\"\")\n",
    "    for j in range(i+1,n+1):\n",
    "        print(j,end=\" \")\n",
    "    print()"
   ]
  },
  {
   "cell_type": "code",
   "execution_count": 68,
   "id": "76749d6f",
   "metadata": {},
   "outputs": [
    {
     "name": "stdout",
     "output_type": "stream",
     "text": [
      "enter the number:5\n",
      "1\n",
      "2\n",
      "3\n",
      "4\n",
      "loop end\n"
     ]
    }
   ],
   "source": [
    "n=int(input(\"enter the number:\"))\n",
    "i=1\n",
    "while (i<=50):\n",
    "    if (i==n):\n",
    "        break\n",
    "    print(i)\n",
    "    i+=1\n",
    "print(\"loop end\")"
   ]
  },
  {
   "cell_type": "code",
   "execution_count": 74,
   "id": "73e3b185",
   "metadata": {},
   "outputs": [
    {
     "name": "stdout",
     "output_type": "stream",
     "text": [
      "enter the number:65\n",
      "1\n",
      "2\n",
      "3\n",
      "6\n",
      "7\n",
      "8\n",
      "9\n",
      "10\n",
      "11\n",
      "loop end\n"
     ]
    }
   ],
   "source": [
    "n=int(input(\"enter the number:\"))\n",
    "i=0\n",
    "while (i<=10):\n",
    "    i+=1\n",
    "    if (i>3 and i<6):\n",
    "        continue\n",
    "    print(i)\n",
    "print(\"loop end\")"
   ]
  },
  {
   "cell_type": "code",
   "execution_count": 79,
   "id": "614d1ac7",
   "metadata": {
    "scrolled": true
   },
   "outputs": [
    {
     "name": "stdout",
     "output_type": "stream",
     "text": [
      "enter thhe number of rows5\n",
      "    * \n",
      "   * * \n",
      "  * * * \n",
      " * * * * \n",
      "* * * * * \n",
      " * * * * \n",
      "  * * * \n",
      "   * * \n",
      "    * \n"
     ]
    }
   ],
   "source": [
    "n=int(input(\"enter thhe number of rows\"))\n",
    "\n",
    "for i in range(0,n):\n",
    "    for j in range(n-1,i,-1):\n",
    "        print(\" \",end=\"\")\n",
    "    for j in range(n-i,n+1):\n",
    "        print(\"*\",end=\" \")\n",
    "    print()\n",
    "for i in range(1,n):\n",
    "    for j in range(0,i):\n",
    "        print(\" \",end=\"\")\n",
    "    for j in range(i+1,n+1):\n",
    "        print(\"*\",end=\" \")\n",
    "    print()"
   ]
  },
  {
   "cell_type": "code",
   "execution_count": null,
   "id": "a9690ad2",
   "metadata": {},
   "outputs": [],
   "source": []
  }
 ],
 "metadata": {
  "kernelspec": {
   "display_name": "Python 3 (ipykernel)",
   "language": "python",
   "name": "python3"
  },
  "language_info": {
   "codemirror_mode": {
    "name": "ipython",
    "version": 3
   },
   "file_extension": ".py",
   "mimetype": "text/x-python",
   "name": "python",
   "nbconvert_exporter": "python",
   "pygments_lexer": "ipython3",
   "version": "3.9.12"
  }
 },
 "nbformat": 4,
 "nbformat_minor": 5
}
