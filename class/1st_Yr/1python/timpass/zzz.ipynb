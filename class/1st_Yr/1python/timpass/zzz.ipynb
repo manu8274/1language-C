{
 "cells": [
  {
   "cell_type": "code",
   "execution_count": 1,
   "id": "b37d30b8",
   "metadata": {},
   "outputs": [
    {
     "data": {
      "text/plain": [
       "int"
      ]
     },
     "execution_count": 1,
     "metadata": {},
     "output_type": "execute_result"
    }
   ],
   "source": [
    "b=100\n",
    "type(b)"
   ]
  },
  {
   "cell_type": "code",
   "execution_count": 2,
   "id": "dedec51b",
   "metadata": {},
   "outputs": [
    {
     "data": {
      "text/plain": [
       "float"
      ]
     },
     "execution_count": 2,
     "metadata": {},
     "output_type": "execute_result"
    }
   ],
   "source": [
    "b=10.3\n",
    "type(b)"
   ]
  },
  {
   "cell_type": "code",
   "execution_count": 3,
   "id": "60543251",
   "metadata": {},
   "outputs": [
    {
     "data": {
      "text/plain": [
       "builtin_function_or_method"
      ]
     },
     "execution_count": 3,
     "metadata": {},
     "output_type": "execute_result"
    }
   ],
   "source": [
    "b=abs\n",
    "type(b)"
   ]
  },
  {
   "cell_type": "code",
   "execution_count": 7,
   "id": "3efbb730",
   "metadata": {},
   "outputs": [
    {
     "name": "stdout",
     "output_type": "stream",
     "text": [
      "3\n",
      "-3\n",
      "1\n"
     ]
    }
   ],
   "source": [
    "print(-5%4)\n",
    "print(5%-4)\n",
    "print(5%4)"
   ]
  },
  {
   "cell_type": "code",
   "execution_count": 9,
   "id": "8f1869ee",
   "metadata": {},
   "outputs": [
    {
     "name": "stdout",
     "output_type": "stream",
     "text": [
      "-1\n"
     ]
    }
   ],
   "source": [
    "print(7%-4)"
   ]
  },
  {
   "cell_type": "code",
   "execution_count": 16,
   "id": "ac5d2631",
   "metadata": {},
   "outputs": [
    {
     "name": "stdout",
     "output_type": "stream",
     "text": [
      "False\n"
     ]
    }
   ],
   "source": [
    "x=12\n",
    "y=11\n",
    "print(x==y)"
   ]
  },
  {
   "cell_type": "code",
   "execution_count": 20,
   "id": "01184d9e",
   "metadata": {},
   "outputs": [
    {
     "name": "stdout",
     "output_type": "stream",
     "text": [
      "True\n"
     ]
    }
   ],
   "source": [
    "x=\"tyh\"\n",
    "y=\"tth\"\n",
    "print(x is not y)"
   ]
  },
  {
   "cell_type": "code",
   "execution_count": 21,
   "id": "a7457f6c",
   "metadata": {},
   "outputs": [
    {
     "name": "stdout",
     "output_type": "stream",
     "text": [
      "True\n"
     ]
    }
   ],
   "source": [
    "x=[1,2,3,4,5]\n",
    "print(3 in x)"
   ]
  },
  {
   "cell_type": "code",
   "execution_count": 24,
   "id": "bca013ec",
   "metadata": {},
   "outputs": [
    {
     "name": "stdout",
     "output_type": "stream",
     "text": [
      "True\n"
     ]
    }
   ],
   "source": [
    "\n",
    "print(124567789 not in x)"
   ]
  },
  {
   "cell_type": "code",
   "execution_count": 25,
   "id": "cde241b6",
   "metadata": {},
   "outputs": [
    {
     "name": "stdout",
     "output_type": "stream",
     "text": [
      "10 3.4 hello programmrs\n"
     ]
    }
   ],
   "source": [
    "a,b,c=10,3.4,\"hello programmrs\"\n",
    "print(a,b,c)"
   ]
  },
  {
   "cell_type": "code",
   "execution_count": null,
   "id": "b615a974",
   "metadata": {},
   "outputs": [
    {
     "name": "stdout",
     "output_type": "stream",
     "text": [
      "7\n"
     ]
    }
   ],
   "source": [
    "def prime(n,i=2):\n",
    "    if n==i:\n",
    "        print(\"prime number\")\n",
    "    elif n%i==0:\n",
    "        return False\n",
    "    return prime(n,i+1)\n",
    "\n",
    "a=int(input())\n",
    "if prime(a):\n",
    "    print(\"yes its a prime number\")\n",
    "else:\n",
    "    print(\"no its not a prime number\")"
   ]
  },
  {
   "cell_type": "code",
   "execution_count": null,
   "id": "34b75ca0",
   "metadata": {},
   "outputs": [],
   "source": []
  }
 ],
 "metadata": {
  "kernelspec": {
   "display_name": "Python 3 (ipykernel)",
   "language": "python",
   "name": "python3"
  },
  "language_info": {
   "codemirror_mode": {
    "name": "ipython",
    "version": 3
   },
   "file_extension": ".py",
   "mimetype": "text/x-python",
   "name": "python",
   "nbconvert_exporter": "python",
   "pygments_lexer": "ipython3",
   "version": "3.9.12"
  }
 },
 "nbformat": 4,
 "nbformat_minor": 5
}
