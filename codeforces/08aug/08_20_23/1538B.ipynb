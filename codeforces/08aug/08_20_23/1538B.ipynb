{
 "cells": [
  {
   "cell_type": "code",
   "execution_count": null,
   "metadata": {},
   "outputs": [],
   "source": [
    "t=int(input())\n",
    "for i in range(t):\n",
    "    n=int(input())\n",
    "    lst=[int(x) for x in input().split()]\n",
    "    x=lst[0]\n",
    "    if(n==1 or lst.count(x)==n):\n",
    "        print(0)\n",
    "    elif(sum(lst)%n!=0):\n",
    "        print(-1)\n",
    "    else:\n",
    "        x=sum(lst)//n\n",
    "        c=0\n",
    "        for j in lst:\n",
    "            if(j>x):\n",
    "                c+=1\n",
    "        print(c)"
   ]
  }
 ],
 "metadata": {
  "language_info": {
   "name": "python"
  },
  "orig_nbformat": 4
 },
 "nbformat": 4,
 "nbformat_minor": 2
}
