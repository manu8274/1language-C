{
 "cells": [
  {
   "cell_type": "code",
   "execution_count": 30,
   "metadata": {},
   "outputs": [
    {
     "name": "stdout",
     "output_type": "stream",
     "text": [
      "2\n"
     ]
    }
   ],
   "source": [
    "for _ in range(int(input())):\n",
    "    n=input()\n",
    "    if(n.count('0')==0):\n",
    "        print(0)\n",
    "    elif(n.count('1')==0):\n",
    "        print(1)\n",
    "    else:\n",
    "        x=0\n",
    "        for i in range(1,len(n)):\n",
    "            if(n[i-1]=='0' and n[i]=='1'):\n",
    "                x+=1\n",
    "        if(n[-1]=='0'):\n",
    "            x+=1\n",
    "        if(x>1):\n",
    "            print(2)\n",
    "        else:\n",
    "            print(1)"
   ]
  },
  {
   "cell_type": "code",
   "execution_count": 33,
   "metadata": {},
   "outputs": [
    {
     "name": "stdout",
     "output_type": "stream",
     "text": [
      "2\n"
     ]
    }
   ],
   "source": [
    "for _ in range(int(input())):\n",
    "    n=input()\n",
    "    if(n.count('0')==0):\n",
    "        print(0)\n",
    "    elif(n.count('1')==0):\n",
    "        print(1)\n",
    "    else:\n",
    "        x=0\n",
    "        for i in range(1,len(n)):\n",
    "            if(n[i]!=n[i-1] and n[i]=='1'):\n",
    "                x+=1\n",
    "        if(n[-1]=='0'):\n",
    "            x+=1\n",
    "        if(x>1):\n",
    "            print(2)\n",
    "        else:\n",
    "            print(1)"
   ]
  },
  {
   "cell_type": "code",
   "execution_count": null,
   "metadata": {},
   "outputs": [],
   "source": [
    "01100"
   ]
  }
 ],
 "metadata": {
  "kernelspec": {
   "display_name": "Python 3",
   "language": "python",
   "name": "python3"
  },
  "language_info": {
   "codemirror_mode": {
    "name": "ipython",
    "version": 3
   },
   "file_extension": ".py",
   "mimetype": "text/x-python",
   "name": "python",
   "nbconvert_exporter": "python",
   "pygments_lexer": "ipython3",
   "version": "3.11.5"
  },
  "orig_nbformat": 4
 },
 "nbformat": 4,
 "nbformat_minor": 2
}
