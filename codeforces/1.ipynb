{
 "cells": [
  {
   "cell_type": "code",
   "execution_count": 1,
   "metadata": {},
   "outputs": [
    {
     "ename": "ValueError",
     "evalue": "invalid literal for int() with base 10: ''",
     "output_type": "error",
     "traceback": [
      "\u001b[1;31m---------------------------------------------------------------------------\u001b[0m",
      "\u001b[1;31mValueError\u001b[0m                                Traceback (most recent call last)",
      "Cell \u001b[1;32mIn[1], line 2\u001b[0m\n\u001b[0;32m      1\u001b[0m \u001b[39mimport\u001b[39;00m \u001b[39mmath\u001b[39;00m\n\u001b[1;32m----> 2\u001b[0m t\u001b[39m=\u001b[39m\u001b[39mint\u001b[39;49m(\u001b[39minput\u001b[39;49m())\n\u001b[0;32m      3\u001b[0m \u001b[39mfor\u001b[39;00m i \u001b[39min\u001b[39;00m \u001b[39mrange\u001b[39m(\u001b[39m0\u001b[39m,t):\n\u001b[0;32m      4\u001b[0m     s1\u001b[39m=\u001b[39m\u001b[39minput\u001b[39m()\u001b[39m.\u001b[39msplit()\n",
      "\u001b[1;31mValueError\u001b[0m: invalid literal for int() with base 10: ''"
     ]
    }
   ],
   "source": [
    "import math\n",
    "t=int(input())\n",
    "for i in range(0,t):\n",
    "    s1=input().split()\n",
    "    x1=int(s1[0])\n",
    "    p1=int(s1[1])\n",
    "    s2=input().split()\n",
    "    x2=int(s2[0])\n",
    "    p2=int(s2[1])\n",
    "    if(x1==x2):\n",
    "            if(p1==p2):\n",
    "                print(\"=\\n\")\n",
    "            elif(p1>p2):\n",
    "                print(\">\\n\")\n",
    "            else:\n",
    "                print(\"<\\n\")\n",
    "    if(x1>x2):\n",
    "         l1=len(str(x2))\n",
    "         if(p1-p2>=l1):\n",
    "             print(\">\\n\")\n",
    "         else:\n",
    "             print(\"<\\n\")\n",
    "    else:\n",
    "         l2=len(str(x1))\n",
    "         if(p2-p1>=l2):\n",
    "              print(\"<\\n\")\n",
    "         else:\n",
    "              print(\">\\n\")"
   ]
  },
  {
   "cell_type": "code",
   "execution_count": 5,
   "metadata": {},
   "outputs": [
    {
     "name": "stdout",
     "output_type": "stream",
     "text": [
      "4\n"
     ]
    }
   ],
   "source": [
    "x=int(input())\n",
    "l1=len(str(x))\n",
    "print(l1+1)"
   ]
  },
  {
   "cell_type": "code",
   "execution_count": null,
   "metadata": {},
   "outputs": [],
   "source": []
  }
 ],
 "metadata": {
  "kernelspec": {
   "display_name": "Python 3",
   "language": "python",
   "name": "python3"
  },
  "language_info": {
   "codemirror_mode": {
    "name": "ipython",
    "version": 3
   },
   "file_extension": ".py",
   "mimetype": "text/x-python",
   "name": "python",
   "nbconvert_exporter": "python",
   "pygments_lexer": "ipython3",
   "version": "3.11.4"
  },
  "orig_nbformat": 4
 },
 "nbformat": 4,
 "nbformat_minor": 2
}
