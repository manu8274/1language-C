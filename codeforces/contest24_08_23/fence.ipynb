{
 "cells": [
  {
   "cell_type": "code",
   "execution_count": 6,
   "metadata": {},
   "outputs": [
    {
     "ename": "NameError",
     "evalue": "name 'Truea' is not defined",
     "output_type": "error",
     "traceback": [
      "\u001b[1;31m---------------------------------------------------------------------------\u001b[0m",
      "\u001b[1;31mNameError\u001b[0m                                 Traceback (most recent call last)",
      "Cell \u001b[1;32mIn[6], line 7\u001b[0m\n\u001b[0;32m      5\u001b[0m mx\u001b[39m=\u001b[39m\u001b[39mmax\u001b[39m(lst)\n\u001b[0;32m      6\u001b[0m lst1\u001b[39m=\u001b[39mlst\u001b[39m.\u001b[39mcopy()\n\u001b[1;32m----> 7\u001b[0m lst1\u001b[39m.\u001b[39msort(reverse\u001b[39m=\u001b[39mTruea)\n\u001b[0;32m      8\u001b[0m \u001b[39mif\u001b[39;00m(lst1\u001b[39m==\u001b[39mlst):\n\u001b[0;32m      9\u001b[0m     \u001b[39mif\u001b[39;00m(mx\u001b[39m==\u001b[39mn):\n",
      "\u001b[1;31mNameError\u001b[0m: name 'Truea' is not defined"
     ]
    }
   ],
   "source": [
    "t=int(input())\n",
    "for i in range(t):\n",
    "    n=int(input())\n",
    "    lst=[int(x) for x in input().split()]\n",
    "    mx=max(lst)\n",
    "    lst1=lst.copy()\n",
    "    lst1.sort(reverse=True)\n",
    "    if(lst1==lst):\n",
    "        if(mx==n):\n",
    "            print(\"YES\")\n",
    "        else:\n",
    "            print(\"NO\")\n",
    "    else:\n",
    "        print(\"NO\")"
   ]
  },
  {
   "cell_type": "code",
   "execution_count": 7,
   "metadata": {},
   "outputs": [
    {
     "name": "stdout",
     "output_type": "stream",
     "text": [
      "qwf.hev\n",
      "[5, 4, 3, 2, 1]\n",
      "[5, 4, 3, 2, 1]\n"
     ]
    }
   ],
   "source": [
    "lst=[5,4,3,2,1]\n",
    "lst1=lst.copy()\n",
    "lst1.sort(reverse=True)\n",
    "if (lst1==lst):\n",
    "    print(\"qwf.hev\")\n",
    "print(lst)\n",
    "print(lst1)"
   ]
  },
  {
   "cell_type": "code",
   "execution_count": 11,
   "metadata": {},
   "outputs": [
    {
     "name": "stdout",
     "output_type": "stream",
     "text": [
      "19\n"
     ]
    }
   ],
   "source": [
    "t=int(input())\n",
    "for i in range(t):\n",
    "    n=int(input())\n",
    "    x1=(1+((1+8*n)**0.5))/2\n",
    "    if(x1>0):\n",
    "        print(int(x1))"
   ]
  },
  {
   "cell_type": "code",
   "execution_count": null,
   "metadata": {},
   "outputs": [],
   "source": []
  }
 ],
 "metadata": {
  "kernelspec": {
   "display_name": "Python 3",
   "language": "python",
   "name": "python3"
  },
  "language_info": {
   "codemirror_mode": {
    "name": "ipython",
    "version": 3
   },
   "file_extension": ".py",
   "mimetype": "text/x-python",
   "name": "python",
   "nbconvert_exporter": "python",
   "pygments_lexer": "ipython3",
   "version": "3.11.4"
  },
  "orig_nbformat": 4
 },
 "nbformat": 4,
 "nbformat_minor": 2
}
