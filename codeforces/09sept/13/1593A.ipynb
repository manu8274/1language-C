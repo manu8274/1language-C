{
 "cells": [
  {
   "cell_type": "code",
   "execution_count": 3,
   "metadata": {},
   "outputs": [
    {
     "name": "stdout",
     "output_type": "stream",
     "text": [
      "2 0 0\n"
     ]
    }
   ],
   "source": [
    "for _ in range(int(input())):\n",
    "    a,b,c=map(int,input().split())\n",
    "    m=max(a,b,c)\n",
    "    if(a==b==c):\n",
    "        print(a+1,b+1,c+1)\n",
    "    else:\n",
    "        if(a==m):\n",
    "            a=0\n",
    "        else:\n",
    "            a=m-a+1\n",
    "        if(b==m):\n",
    "            b=0\n",
    "        else:\n",
    "            b=m-b+1\n",
    "        if(c==m):\n",
    "            c=0\n",
    "        else:\n",
    "            c=m-c+1\n",
    "        print(a,b,c)"
   ]
  },
  {
   "cell_type": "code",
   "execution_count": 28,
   "metadata": {},
   "outputs": [
    {
     "name": "stdout",
     "output_type": "stream",
     "text": [
      "2 2 2\n"
     ]
    }
   ],
   "source": [
    "for _ in range(int(input())):\n",
    "    a,b,c=map(int,input().split())\n",
    "    m=max(a,b,c)\n",
    "    if(a==b==c):\n",
    "        print(1,1,1)\n",
    "    elif(a==b and m==a):\n",
    "        print(1,1,m-c+1)\n",
    "    elif(a==b and m==c):\n",
    "        print(m-a+1,m-b+1,0)\n",
    "    elif(b==c and m==b):\n",
    "        print(m-a+1,1,1)\n",
    "    elif(b==c and m==a):\n",
    "        print(0,m-b+1,m-c+1)\n",
    "    elif(c==a and m==c):\n",
    "        print(1,m-b+1,1)\n",
    "    elif(a==c and m==b):\n",
    "        print(m-a+1,0,m-c+1)\n",
    "    else:\n",
    "        if(a==m):\n",
    "            a=0\n",
    "        else:\n",
    "            a=m-a+1\n",
    "        if(b==m):\n",
    "            b=0\n",
    "        else:\n",
    "            b=m-b+1\n",
    "        if(c==m):\n",
    "            c=0\n",
    "        else:\n",
    "            c=m-c+1\n",
    "        print(a,b,c)"
   ]
  },
  {
   "cell_type": "code",
   "execution_count": null,
   "metadata": {},
   "outputs": [],
   "source": [
    "2 3 1"
   ]
  }
 ],
 "metadata": {
  "kernelspec": {
   "display_name": "Python 3",
   "language": "python",
   "name": "python3"
  },
  "language_info": {
   "codemirror_mode": {
    "name": "ipython",
    "version": 3
   },
   "file_extension": ".py",
   "mimetype": "text/x-python",
   "name": "python",
   "nbconvert_exporter": "python",
   "pygments_lexer": "ipython3",
   "version": "3.11.5"
  },
  "orig_nbformat": 4
 },
 "nbformat": 4,
 "nbformat_minor": 2
}
