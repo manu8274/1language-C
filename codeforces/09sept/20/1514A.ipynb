{
 "cells": [
  {
   "cell_type": "code",
   "execution_count": 7,
   "metadata": {},
   "outputs": [
    {
     "name": "stdout",
     "output_type": "stream",
     "text": [
      "YES\n"
     ]
    }
   ],
   "source": [
    "for i in range(int(input())):\n",
    "    n=int(input())\n",
    "    lst=list(map(int,input().split()))\n",
    "    if(2 in lst or 3 in lst or 7 in lst):\n",
    "        print(\"YES\")\n",
    "    else:\n",
    "        if(lst[0]**0.5!=int(lst[0]**0.5)):\n",
    "            print(\"YES\")\n",
    "        else:\n",
    "            for i in range(n-1):\n",
    "                x=lst[i]*lst[i+1]\n",
    "                y=x**0.5\n",
    "                if(y!=int(y)):\n",
    "                    print(\"YES\")\n",
    "                    break\n",
    "            else:\n",
    "                print(\"NO\")"
   ]
  },
  {
   "cell_type": "code",
   "execution_count": 6,
   "metadata": {},
   "outputs": [
    {
     "name": "stdout",
     "output_type": "stream",
     "text": [
      "37.57658845611187\n"
     ]
    }
   ],
   "source": [
    "print(1412**0.5)"
   ]
  },
  {
   "cell_type": "code",
   "execution_count": null,
   "metadata": {},
   "outputs": [],
   "source": []
  }
 ],
 "metadata": {
  "kernelspec": {
   "display_name": "Python 3",
   "language": "python",
   "name": "python3"
  },
  "language_info": {
   "codemirror_mode": {
    "name": "ipython",
    "version": 3
   },
   "file_extension": ".py",
   "mimetype": "text/x-python",
   "name": "python",
   "nbconvert_exporter": "python",
   "pygments_lexer": "ipython3",
   "version": "3.11.5"
  },
  "orig_nbformat": 4
 },
 "nbformat": 4,
 "nbformat_minor": 2
}
