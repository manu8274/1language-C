{
 "cells": [
  {
   "cell_type": "code",
   "execution_count": null,
   "metadata": {},
   "outputs": [],
   "source": [
    "for i in range(int(input())):\n",
    "    n,l,r,k=map(int,input().split())\n",
    "    lst=list(map(int,input().split()))\n",
    "    lst.sort()\n",
    "    c=0\n",
    "    money=0\n",
    "    for i in lst:\n",
    "        if(i>=l and i<=r):\n",
    "            c+=1\n",
    "            money+=i\n",
    "        if(money>k):\n",
    "            money-=i\n",
    "            c-=1\n",
    "            break\n",
    "    print(c)"
   ]
  },
  {
   "cell_type": "code",
   "execution_count": null,
   "metadata": {},
   "outputs": [],
   "source": []
  }
 ],
 "metadata": {
  "language_info": {
   "name": "python"
  },
  "orig_nbformat": 4
 },
 "nbformat": 4,
 "nbformat_minor": 2
}
