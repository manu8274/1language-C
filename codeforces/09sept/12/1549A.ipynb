{
 "cells": [
  {
   "cell_type": "code",
   "execution_count": 3,
   "metadata": {},
   "outputs": [
    {
     "name": "stdout",
     "output_type": "stream",
     "text": [
      "0 0.0\n",
      "0 1.0\n",
      "0 1.0\n",
      "0 1.0\n",
      "0 2.0\n",
      "0 2.0\n",
      "0 2.0\n"
     ]
    }
   ],
   "source": [
    "for _ in range(int(input())):\n",
    "    n=int(input())\n",
    "    print(-(n-1),n)"
   ]
  },
  {
   "cell_type": "code",
   "execution_count": 21,
   "metadata": {},
   "outputs": [
    {
     "name": "stdout",
     "output_type": "stream",
     "text": [
      "YES\n",
      "4\n",
      "0 3 6 9 "
     ]
    }
   ],
   "source": [
    "def checkdivide(num,lst):\n",
    "    return not(all(n%num for n in lst))\n",
    "\n",
    "for _ in range(int(input())):\n",
    "    n=int(input())\n",
    "    lst=list(map(int,input().split()))\n",
    "    lst.sort()\n",
    "    mn=lst[0]\n",
    "    mx=lst[-1]\n",
    "    if(mx<=0 and mn<=0):\n",
    "        num=lst[1]-lst[0]\n",
    "        if(checkdivide(num,lst) and -1*(mx//num)<300):\n",
    "            print(\"YES\")\n",
    "            print(-1*(mx//num)+1)\n",
    "            for i in range(0,mx//num+1,-1):\n",
    "                print(i*num,end=\" \")\n",
    "            print()\n",
    "        else:\n",
    "            if(-1*(mx)+1<300):\n",
    "                print(\"YES\")\n",
    "                print(-1*(mx-mn)+1)\n",
    "                for i in range(mn,mx-1,-1):\n",
    "                    print(i,end=\" \")\n",
    "                print()\n",
    "            else:\n",
    "                print(\"NO\")\n",
    "    elif(mx>=0 and mn>=0):\n",
    "        num=lst[1]-lst[0]\n",
    "        if(checkdivide(num,lst) and (mx//num)<300):\n",
    "            print(\"YES\")\n",
    "            print((mx//num)+1)\n",
    "            for i in range(0,mx//num+1):\n",
    "                print(i*num,end=\" \")\n",
    "            print()\n",
    "        else:\n",
    "            if((mx-mn)+1<300):\n",
    "                print(\"YES\")\n",
    "                print((mx-mn)+1)\n",
    "                for i in range(mn,mx+1,):\n",
    "                    print(i,end=\" \")\n",
    "                print()\n",
    "            else:\n",
    "                print(\"NO\")\n",
    "    else:\n",
    "        print(\"NO\")"
   ]
  },
  {
   "cell_type": "code",
   "execution_count": 19,
   "metadata": {},
   "outputs": [
    {
     "name": "stdout",
     "output_type": "stream",
     "text": [
      "hi\n"
     ]
    }
   ],
   "source": [
    "def checkdivide(num,lst):\n",
    "    return not(all(n%num for n in lst))\n",
    "\n",
    "for _ in range(int(input())):\n",
    "    n=int(input())\n",
    "    lst=list(map(int,input().split()))\n",
    "    lst.sort()\n",
    "    mn=lst[0]\n",
    "    mx=lst[-1]\n",
    "    if(mx<=0 and mn<=0):\n",
    "        num=lst[1]-lst[0]\n",
    "        if(checkdivide(num,lst) and -1*(mx//num)<300):\n",
    "            print(\"YES\")\n",
    "            print(-1*(mx//num)+1)\n",
    "            for i in range(0,mx//num+1,-1):\n",
    "                print(i*num,end=\" \")\n",
    "            print()\n",
    "        else:\n",
    "            print(\"NO\")\n",
    "    elif(mx>=0 and mn>=0):\n",
    "        num=lst[1]-lst[0]\n",
    "        if(checkdivide(num,lst) and (mx//num)<300):\n",
    "            print(\"YES\")\n",
    "            print((mx//num)+1)\n",
    "            for i in range(0,mx//num+1):\n",
    "                print(i*num,end=\" \")\n",
    "            print()\n",
    "        else:\n",
    "            \n",
    "                print(\"NO\")\n",
    "    else:\n",
    "        print(\"NO\")"
   ]
  },
  {
   "cell_type": "code",
   "execution_count": null,
   "metadata": {},
   "outputs": [],
   "source": []
  }
 ],
 "metadata": {
  "kernelspec": {
   "display_name": "Python 3",
   "language": "python",
   "name": "python3"
  },
  "language_info": {
   "codemirror_mode": {
    "name": "ipython",
    "version": 3
   },
   "file_extension": ".py",
   "mimetype": "text/x-python",
   "name": "python",
   "nbconvert_exporter": "python",
   "pygments_lexer": "ipython3",
   "version": "3.11.5"
  },
  "orig_nbformat": 4
 },
 "nbformat": 4,
 "nbformat_minor": 2
}
