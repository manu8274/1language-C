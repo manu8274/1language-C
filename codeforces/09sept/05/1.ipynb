{
 "cells": [
  {
   "cell_type": "code",
   "execution_count": 4,
   "metadata": {},
   "outputs": [
    {
     "name": "stdout",
     "output_type": "stream",
     "text": [
      "9\n"
     ]
    }
   ],
   "source": [
    "for _ in range(int(input())):\n",
    "    m,n,rx,ry,dx,dy=map(int,input().split())\n",
    "    dist=0\n",
    "    if(rx==dx or ry==dy):\n",
    "        dist=0\n",
    "    elif(rx<dx and ry>dy):\n",
    "        dist=dx-rx\n",
    "    elif(ry<dy and rx>dx):\n",
    "        dist=dy-ry\n",
    "    elif(rx<dx and ry<dy):\n",
    "        dist=min(dx-rx,dy-ry)\n",
    "    else:\n",
    "        if(m-rx>n-ry):\n",
    "            dist= 2*(n - ry) + ry-dy\n",
    "        else:\n",
    "            dist=2*(m-rx) + rx - dx\n",
    "    print(dist)"
   ]
  },
  {
   "cell_type": "code",
   "execution_count": null,
   "metadata": {},
   "outputs": [],
   "source": []
  }
 ],
 "metadata": {
  "kernelspec": {
   "display_name": "Python 3",
   "language": "python",
   "name": "python3"
  },
  "language_info": {
   "codemirror_mode": {
    "name": "ipython",
    "version": 3
   },
   "file_extension": ".py",
   "mimetype": "text/x-python",
   "name": "python",
   "nbconvert_exporter": "python",
   "pygments_lexer": "ipython3",
   "version": "3.11.5"
  },
  "orig_nbformat": 4
 },
 "nbformat": 4,
 "nbformat_minor": 2
}
