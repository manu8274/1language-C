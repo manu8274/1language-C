{
 "cells": [
  {
   "cell_type": "code",
   "execution_count": 2,
   "metadata": {},
   "outputs": [
    {
     "name": "stdout",
     "output_type": "stream",
     "text": [
      "1 1 2\n",
      "1 1 1\n",
      "9 13 15 3 9 13 10 16\n",
      "18 9\n"
     ]
    }
   ],
   "source": [
    "for _ in range(int(input())):\n",
    "    n=int(input())\n",
    "    lst=list(map(int,input().split()))\n",
    "    odd=[]\n",
    "    even=[]\n",
    "    for i in lst:\n",
    "        if(i%2==0):\n",
    "            even.append(i)\n",
    "        else:\n",
    "            odd.append(i)\n",
    "    if(len(odd)%2!=0):\n",
    "        even.extend(odd)\n",
    "        print(*(even))\n",
    "    else:\n",
    "        odd.extend(even)\n",
    "        print(*(odd))"
   ]
  },
  {
   "cell_type": "code",
   "execution_count": 6,
   "metadata": {},
   "outputs": [
    {
     "name": "stdout",
     "output_type": "stream",
     "text": [
      "2\n",
      "1\n",
      "0\n",
      "2\n",
      "2\n"
     ]
    }
   ],
   "source": [
    "for _ in range(int(input())):\n",
    "    x,y=map(int,input().split())\n",
    "    mx=max(x,y)\n",
    "    mn=min(x,y)\n",
    "    if(mn==mx):\n",
    "        print(0)\n",
    "    elif(mx-mn==1 and  mn!=1):\n",
    "        print(1)\n",
    "    elif(mx-mn==1 and mn==1):\n",
    "        print(0)\n",
    "    else:\n",
    "        if(mx%2==0):\n",
    "            print(mx-(mx//2+1))\n",
    "        else:\n",
    "            print(mx-((mx+1)//2))"
   ]
  },
  {
   "cell_type": "code",
   "execution_count": null,
   "metadata": {},
   "outputs": [],
   "source": []
  }
 ],
 "metadata": {
  "kernelspec": {
   "display_name": "Python 3",
   "language": "python",
   "name": "python3"
  },
  "language_info": {
   "codemirror_mode": {
    "name": "ipython",
    "version": 3
   },
   "file_extension": ".py",
   "mimetype": "text/x-python",
   "name": "python",
   "nbconvert_exporter": "python",
   "pygments_lexer": "ipython3",
   "version": "3.11.5"
  },
  "orig_nbformat": 4
 },
 "nbformat": 4,
 "nbformat_minor": 2
}
