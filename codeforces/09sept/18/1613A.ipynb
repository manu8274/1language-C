{
 "cells": [
  {
   "cell_type": "code",
   "execution_count": 3,
   "metadata": {},
   "outputs": [
    {
     "name": "stdout",
     "output_type": "stream",
     "text": [
      "18\n"
     ]
    }
   ],
   "source": [
    "for _ in range(int(input())):\n",
    "    n=int(input())\n",
    "    lst1=list(map(int,input().split()))\n",
    "    lst2=list(map(int,input().split()))\n",
    "    for i in range(n):\n",
    "        if(lst1[i]<lst2[i]):\n",
    "            lst1[i],lst2[i]=lst2[i],lst1[i]\n",
    "    print(max(lst1)*max(lst2))"
   ]
  },
  {
   "cell_type": "code",
   "execution_count": 1,
   "metadata": {},
   "outputs": [
    {
     "name": "stdout",
     "output_type": "stream",
     "text": [
      "10 1\n"
     ]
    }
   ],
   "source": [
    "lst1=[1,2,3,4,5,6,7,8]\n",
    "lst2=[2,3,4,5,6,7,8,9,10]\n",
    "max=max(lst1) if(max(lst1)>max(lst2)) else max(lst2)\n",
    "min=min(lst1) if(min(lst1)<min(lst2)) else min(lst2)\n",
    "print(max,min)"
   ]
  },
  {
   "cell_type": "code",
   "execution_count": null,
   "metadata": {},
   "outputs": [],
   "source": []
  }
 ],
 "metadata": {
  "kernelspec": {
   "display_name": "Python 3",
   "language": "python",
   "name": "python3"
  },
  "language_info": {
   "codemirror_mode": {
    "name": "ipython",
    "version": 3
   },
   "file_extension": ".py",
   "mimetype": "text/x-python",
   "name": "python",
   "nbconvert_exporter": "python",
   "pygments_lexer": "ipython3",
   "version": "3.11.5"
  },
  "orig_nbformat": 4
 },
 "nbformat": 4,
 "nbformat_minor": 2
}
