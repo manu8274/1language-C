{
 "cells": [
  {
   "cell_type": "code",
   "execution_count": 11,
   "metadata": {},
   "outputs": [
    {
     "name": "stdout",
     "output_type": "stream",
     "text": [
      "001\n",
      "010\n",
      "100\n"
     ]
    }
   ],
   "source": [
    "def inlst(x,y):\n",
    "    return(x<3 and x>=0 and y<3 and y>=0)\n",
    "\n",
    "lst=[]\n",
    "for i in range(3):\n",
    "    lst1=list(map(int,input().split()))\n",
    "    lst.append(lst1)\n",
    "light=[[1,1,1],[1,1,1],[1,1,1]]\n",
    "for i in range(3):\n",
    "    for j in range(3):\n",
    "        if(inlst(i,j)):\n",
    "            light[i][j]+=lst[i][j]\n",
    "        if(inlst(i-1,j)):\n",
    "            light[i-1][j]+=lst[i][j]\n",
    "        if(inlst(i+1,j)):\n",
    "            light[i+1][j]+=lst[i][j]\n",
    "        if(inlst(i,j-1)):\n",
    "            light[i][j-1]+=lst[i][j]\n",
    "        if(inlst(i,j+1)):\n",
    "            light[i][j+1]+=lst[i][j]\n",
    "for i in range(3):\n",
    "    for j in range(3):\n",
    "        print(light[i][j]%2,end=\"\")\n",
    "    print()"
   ]
  },
  {
   "cell_type": "code",
   "execution_count": 9,
   "metadata": {},
   "outputs": [
    {
     "name": "stdout",
     "output_type": "stream",
     "text": [
      "[18, 27, 18] [20, 32, 21] [19, 30, 20]\n"
     ]
    }
   ],
   "source": [
    "print(*light)"
   ]
  },
  {
   "cell_type": "code",
   "execution_count": null,
   "metadata": {},
   "outputs": [],
   "source": []
  }
 ],
 "metadata": {
  "kernelspec": {
   "display_name": "Python 3",
   "language": "python",
   "name": "python3"
  },
  "language_info": {
   "codemirror_mode": {
    "name": "ipython",
    "version": 3
   },
   "file_extension": ".py",
   "mimetype": "text/x-python",
   "name": "python",
   "nbconvert_exporter": "python",
   "pygments_lexer": "ipython3",
   "version": "3.11.5"
  },
  "orig_nbformat": 4
 },
 "nbformat": 4,
 "nbformat_minor": 2
}
