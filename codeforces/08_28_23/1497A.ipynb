{
 "cells": [
  {
   "cell_type": "code",
   "execution_count": 3,
   "metadata": {},
   "outputs": [
    {
     "ename": "IndexError",
     "evalue": "pop index out of range",
     "output_type": "error",
     "traceback": [
      "\u001b[1;31m---------------------------------------------------------------------------\u001b[0m",
      "\u001b[1;31mIndexError\u001b[0m                                Traceback (most recent call last)",
      "Cell \u001b[1;32mIn[3], line 8\u001b[0m\n\u001b[0;32m      6\u001b[0m \u001b[39mfor\u001b[39;00m i \u001b[39min\u001b[39;00m lst:\n\u001b[0;32m      7\u001b[0m     \u001b[39mif\u001b[39;00m(lst\u001b[39m.\u001b[39mcount(i)\u001b[39m>\u001b[39m\u001b[39m1\u001b[39m):\n\u001b[1;32m----> 8\u001b[0m         t\u001b[39m=\u001b[39mlst\u001b[39m.\u001b[39mpop(i)\n\u001b[0;32m      9\u001b[0m         lst1\u001b[39m.\u001b[39mappend(t)\n\u001b[0;32m     10\u001b[0m lst1\u001b[39m.\u001b[39msort()\n",
      "\u001b[1;31mIndexError\u001b[0m: pop index out of range"
     ]
    }
   ],
   "source": [
    "for _ in range(int(input())):\n",
    "    n=int(input())\n",
    "    lst=[int(x) for x in input().split()]\n",
    "    lst.sort()\n",
    "    lst1=[]\n",
    "    for i in lst:\n",
    "        if(lst.count(i)==1):\n",
    "            print(i,end=\" \")\n",
    "        else:\n",
    "            \n",
    "    print(\"\\n\")"
   ]
  },
  {
   "cell_type": "code",
   "execution_count": 2,
   "metadata": {},
   "outputs": [
    {
     "name": "stdout",
     "output_type": "stream",
     "text": [
      "[0, 1, 2, 3, 4, 7, 3]\n"
     ]
    }
   ],
   "source": [
    "print(lst)"
   ]
  },
  {
   "cell_type": "code",
   "execution_count": null,
   "metadata": {},
   "outputs": [],
   "source": []
  }
 ],
 "metadata": {
  "kernelspec": {
   "display_name": "Python 3",
   "language": "python",
   "name": "python3"
  },
  "language_info": {
   "codemirror_mode": {
    "name": "ipython",
    "version": 3
   },
   "file_extension": ".py",
   "mimetype": "text/x-python",
   "name": "python",
   "nbconvert_exporter": "python",
   "pygments_lexer": "ipython3",
   "version": "3.11.5"
  },
  "orig_nbformat": 4
 },
 "nbformat": 4,
 "nbformat_minor": 2
}
