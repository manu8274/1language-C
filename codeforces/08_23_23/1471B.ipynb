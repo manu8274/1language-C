{
 "cells": [
  {
   "cell_type": "code",
   "execution_count": 3,
   "metadata": {},
   "outputs": [
    {
     "name": "stdout",
     "output_type": "stream",
     "text": [
      "80\n"
     ]
    }
   ],
   "source": [
    "t=int(input())\n",
    "for i in range(t):\n",
    "    lst=[int(x) for x in input().split()]\n",
    "    n,x=lst[0],lst[1]\n",
    "    lst1=[int(x) for x in input().split()]\n",
    "    for j in lst1:\n",
    "        if (j%x==0):\n",
    "            for a in range(x):\n",
    "                lst1.append(j//x)\n",
    "        else:\n",
    "            break\n",
    "    print(sum(lst1))"
   ]
  },
  {
   "cell_type": "code",
   "execution_count": 2,
   "metadata": {},
   "outputs": [
    {
     "name": "stdout",
     "output_type": "stream",
     "text": [
      "60\n"
     ]
    }
   ],
   "source": [
    "import math\n",
    "t=int(input())\n",
    "for i in range(t):\n",
    "    lst=[int(x) for x in input().split()]\n",
    "    n,x=lst[0],lst[1]\n",
    "    lst1=[int(x) for x in input().split()]\n",
    "    sum1=sum(lst1)\n",
    "    for j in lst1:\n",
    "        k=j\n",
    "        if(j%x==0):\n",
    "            while(k%x==0):\n",
    "                k=k//x\n",
    "                sum1=sum1+j\n",
    "        else:\n",
    "            break\n",
    "    print(sum1)"
   ]
  },
  {
   "cell_type": "code",
   "execution_count": 16,
   "metadata": {},
   "outputs": [
    {
     "name": "stdout",
     "output_type": "stream",
     "text": [
      "2\n"
     ]
    }
   ],
   "source": [
    "import math\n",
    "x=math.log(6,4)\n",
    "if(int(x)<x):\n",
    "    x=int(x)+1\n",
    "else:\n",
    "    x=int(x)\n",
    "print(x)"
   ]
  },
  {
   "cell_type": "code",
   "execution_count": null,
   "metadata": {},
   "outputs": [],
   "source": []
  }
 ],
 "metadata": {
  "kernelspec": {
   "display_name": "Python 3",
   "language": "python",
   "name": "python3"
  },
  "language_info": {
   "codemirror_mode": {
    "name": "ipython",
    "version": 3
   },
   "file_extension": ".py",
   "mimetype": "text/x-python",
   "name": "python",
   "nbconvert_exporter": "python",
   "pygments_lexer": "ipython3",
   "version": "3.11.4"
  },
  "orig_nbformat": 4
 },
 "nbformat": 4,
 "nbformat_minor": 2
}
