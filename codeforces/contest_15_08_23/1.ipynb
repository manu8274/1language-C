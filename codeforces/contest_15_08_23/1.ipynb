{
 "cells": [
  {
   "cell_type": "code",
   "execution_count": 25,
   "metadata": {},
   "outputs": [
    {
     "name": "stdout",
     "output_type": "stream",
     "text": [
      "2\n"
     ]
    }
   ],
   "source": [
    "#rollback\n",
    "t=int(input())\n",
    "lst=[]\n",
    "for i  in range(0,t):\n",
    "    s=input().split()\n",
    "    if(len(s)==2):\n",
    "        y=s[0]\n",
    "        x=int(s[1])\n",
    "        poplst=[]\n",
    "        if(y==\"+\"):\n",
    "            lst.append(x)\n",
    "        else:\n",
    "            for i in range(x):\n",
    "                item=lst.pop()\n",
    "                poplst.append(item)\n",
    "    if(len(s)==1):\n",
    "        if (s[0]==\"!\"):\n",
    "            if(y==\"+\"):\n",
    "                lst.pop()\n",
    "            elif(y==\"-\"):\n",
    "                lst.extend(poplst)\n",
    "        elif(s[0]==\"?\"):\n",
    "            print(len(set(lst)))"
   ]
  },
  {
   "cell_type": "code",
   "execution_count": null,
   "metadata": {},
   "outputs": [],
   "source": [
    "#rollback easy version\n",
    "t=int(input())\n",
    "lst=[]\n",
    "for i  in range(0,t):\n",
    "    s=input().split()\n",
    "    if(len(s)==2):\n",
    "        y=s[0]\n",
    "        x=int(s[1])\n",
    "        poplst=[]\n",
    "        if(y==\"+\"):\n",
    "            lst.append(x)\n",
    "        else:\n",
    "            poplst[0:x]=lst[-x:]\n",
    "            lst=lst[0:-x]\n",
    "    elif(len(s)==1):\n",
    "        if (s[0]==\"!\"):\n",
    "            if(y==\"+\"):\n",
    "                lst.pop()\n",
    "            elif(y==\"-\"):\n",
    "                lst.extend(poplst)\n",
    "        elif(s[0]==\"?\"):\n",
    "            print(len(set(lst)))"
   ]
  },
  {
   "cell_type": "code",
   "execution_count": 59,
   "metadata": {},
   "outputs": [
    {
     "name": "stdout",
     "output_type": "stream",
     "text": [
      "[8, 9, 10]\n"
     ]
    }
   ],
   "source": [
    "x=3\n",
    "lst=[1,2,3,4,5,6,7,8,9,10]\n",
    "lst2=[]\n",
    "lst2=lst[-x:]\n",
    "print(lst2)"
   ]
  },
  {
   "cell_type": "code",
   "execution_count": 24,
   "metadata": {},
   "outputs": [
    {
     "name": "stdout",
     "output_type": "stream",
     "text": [
      "1\n"
     ]
    }
   ],
   "source": [
    "s=input().split()\n",
    "print(len(s))"
   ]
  },
  {
   "cell_type": "code",
   "execution_count": 20,
   "metadata": {},
   "outputs": [
    {
     "name": "stdout",
     "output_type": "stream",
     "text": [
      "[1, 2, 3, 4, 5, 6]\n"
     ]
    }
   ],
   "source": [
    "lst=[1,2,3]\n",
    "lst1=[4,5,6]\n",
    "lst.extend(lst1)\n",
    "print(lst)"
   ]
  },
  {
   "cell_type": "code",
   "execution_count": 21,
   "metadata": {},
   "outputs": [
    {
     "name": "stdout",
     "output_type": "stream",
     "text": [
      "2\n"
     ]
    }
   ],
   "source": [
    "lst=[1,2,1,2,1,2]\n",
    "print(len(set(lst)))"
   ]
  }
 ],
 "metadata": {
  "kernelspec": {
   "display_name": "Python 3",
   "language": "python",
   "name": "python3"
  },
  "language_info": {
   "codemirror_mode": {
    "name": "ipython",
    "version": 3
   },
   "file_extension": ".py",
   "mimetype": "text/x-python",
   "name": "python",
   "nbconvert_exporter": "python",
   "pygments_lexer": "ipython3",
   "version": "3.11.4"
  },
  "orig_nbformat": 4
 },
 "nbformat": 4,
 "nbformat_minor": 2
}
