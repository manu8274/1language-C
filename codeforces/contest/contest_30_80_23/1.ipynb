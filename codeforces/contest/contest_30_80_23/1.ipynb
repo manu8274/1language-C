{
 "cells": [
  {
   "cell_type": "code",
   "execution_count": 23,
   "metadata": {},
   "outputs": [
    {
     "name": "stdout",
     "output_type": "stream",
     "text": [
      "YES\n"
     ]
    }
   ],
   "source": [
    "for _ in range(int(input())):\n",
    "    lst=[int(x) for x in input().split()]\n",
    "    n,a,q=lst[0],lst[1],lst[2]\n",
    "    lst1=[x for x in input()]\n",
    "    if(n==a):\n",
    "        print(\"YES\")\n",
    "    elif (n>a):\n",
    "        x=lst1.count(\"+\")\n",
    "        y=lst1.count('-')\n",
    "        z=0\n",
    "        for i in range(0,q):\n",
    "            lst2=lst1[:i+1]\n",
    "            if(lst2.count(\"+\")-lst2.count(\"-\")>=n-a):\n",
    "                z=1\n",
    "                break\n",
    "        if(z):\n",
    "            print(\"YES\")\n",
    "        else:\n",
    "            if(x>=n-a):\n",
    "                print(\"MAYBE\")\n",
    "            else:\n",
    "                print(\"NO\")"
   ]
  },
  {
   "cell_type": "code",
   "execution_count": 2,
   "metadata": {},
   "outputs": [
    {
     "ename": "TypeError",
     "evalue": "int() argument must be a string, a bytes-like object or a real number, not 'list'",
     "output_type": "error",
     "traceback": [
      "\u001b[1;31m---------------------------------------------------------------------------\u001b[0m",
      "\u001b[1;31mTypeError\u001b[0m                                 Traceback (most recent call last)",
      "Cell \u001b[1;32mIn[2], line 2\u001b[0m\n\u001b[0;32m      1\u001b[0m \u001b[39mfor\u001b[39;00m _ \u001b[39min\u001b[39;00m \u001b[39mrange\u001b[39m(\u001b[39mint\u001b[39m(\u001b[39minput\u001b[39m())):\n\u001b[1;32m----> 2\u001b[0m     n,k\u001b[39m=\u001b[39m\u001b[39mint\u001b[39;49m(\u001b[39minput\u001b[39;49m()\u001b[39m.\u001b[39;49msplit())\n\u001b[0;32m      3\u001b[0m     lst1\u001b[39m=\u001b[39m[\u001b[39mint\u001b[39m(x) \u001b[39mfor\u001b[39;00m x \u001b[39min\u001b[39;00m \u001b[39minput\u001b[39m()\u001b[39m.\u001b[39msplit()]\n\u001b[0;32m      4\u001b[0m     \u001b[39mfor\u001b[39;00m i \u001b[39min\u001b[39;00m \u001b[39mrange\u001b[39m(k):\n",
      "\u001b[1;31mTypeError\u001b[0m: int() argument must be a string, a bytes-like object or a real number, not 'list'"
     ]
    }
   ],
   "source": [
    "for _ in range(int(input())):\n",
    "    lst=[int(c) for c in input().split()]\n",
    "    n,k=lst[0],lst[1]\n",
    "    lst1=[int(x) for x in input().split()]\n",
    "    for i in range(k):\n",
    "        for j in range(n):\n",
    "            for z in range(n+1):\n",
    "                if z not in lst1:\n",
    "                    lst1[j]=z\n",
    "                    break\n",
    "    for x in lst1:\n",
    "        print(x,end=\" \")\n",
    "    print(\"\\n\")"
   ]
  },
  {
   "cell_type": "code",
   "execution_count": 32,
   "metadata": {},
   "outputs": [
    {
     "name": "stdout",
     "output_type": "stream",
     "text": [
      "[8, 7, 5, 3, 0, 4, 2, 1, 6, 9]\n"
     ]
    }
   ],
   "source": [
    "print(lst1)"
   ]
  },
  {
   "cell_type": "code",
   "execution_count": null,
   "metadata": {},
   "outputs": [],
   "source": []
  }
 ],
 "metadata": {
  "kernelspec": {
   "display_name": "Python 3",
   "language": "python",
   "name": "python3"
  },
  "language_info": {
   "codemirror_mode": {
    "name": "ipython",
    "version": 3
   },
   "file_extension": ".py",
   "mimetype": "text/x-python",
   "name": "python",
   "nbconvert_exporter": "python",
   "pygments_lexer": "ipython3",
   "version": "3.11.5"
  },
  "orig_nbformat": 4
 },
 "nbformat": 4,
 "nbformat_minor": 2
}
