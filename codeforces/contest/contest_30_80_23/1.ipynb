{
 "cells": [
  {
   "cell_type": "code",
   "execution_count": 23,
   "metadata": {},
   "outputs": [
    {
     "name": "stdout",
     "output_type": "stream",
     "text": [
      "YES\n"
     ]
    }
   ],
   "source": [
    "for _ in range(int(input())):\n",
    "    lst=[int(x) for x in input().split()]\n",
    "    n,a,q=lst[0],lst[1],lst[2]\n",
    "    lst1=[x for x in input()]\n",
    "    if(n==a):\n",
    "        print(\"YES\")\n",
    "    elif (n>a):\n",
    "        x=lst1.count(\"+\")\n",
    "        y=lst1.count('-')\n",
    "        z=0\n",
    "        for i in range(0,q):\n",
    "            lst2=lst1[:i+1]\n",
    "            if(lst2.count(\"+\")-lst2.count(\"-\")>=n-a):\n",
    "                z=1\n",
    "                break\n",
    "        if(z):\n",
    "            print(\"YES\")\n",
    "        else:\n",
    "            if(x>=n-a):\n",
    "                print(\"MAYBE\")\n",
    "            else:\n",
    "                print(\"NO\")"
   ]
  },
  {
   "cell_type": "code",
   "execution_count": 26,
   "metadata": {},
   "outputs": [
    {
     "name": "stdout",
     "output_type": "stream",
     "text": [
      "7 5 3 0 4 2 1 6 9 10 \n",
      "\n"
     ]
    }
   ],
   "source": [
    "#MEX repetition\n",
    "\n",
    "for _ in range(int(input())):\n",
    "    lst=[int(c) for c in input().split()]\n",
    "    n,k=lst[0],lst[1]\n",
    "    k%=(n+1)\n",
    "    lst1=[int(x) for x in input().split()]\n",
    "    if(k!=0):\n",
    "        sum1=0\n",
    "        miss=n*(n+1)//2 -sum(lst1)\n",
    "        for i in range(k):\n",
    "            for j in range(n):\n",
    "                x=lst1[j]\n",
    "                lst1[j]=miss\n",
    "                miss=x\n",
    "    for x in lst1:\n",
    "        print(x,end=\" \")\n",
    "    print(\"\\n\")"
   ]
  },
  {
   "cell_type": "code",
   "execution_count": 23,
   "metadata": {},
   "outputs": [
    {
     "name": "stdout",
     "output_type": "stream",
     "text": [
      "55\n"
     ]
    }
   ],
   "source": [
    "for _ in range(int(input())):\n",
    "    n,k=map(int,input().split())\n",
    "    k=k%(n+1)\n",
    "    lst=list(map(int,input().split()))\n",
    "    if(k!=0):\n",
    "        miss=0\n",
    "        lst.append((n*(n+1)//2)-sum(lst))\n",
    "    print(*(lst[n-k+1:]+lst[:n-k]))\n",
    "    # for i in range(n):\n",
    "    #     print(lst[i],end=\" \")\n",
    "    # print(\"\\n\")"
   ]
  },
  {
   "cell_type": "code",
   "execution_count": 6,
   "metadata": {},
   "outputs": [],
   "source": [
    "for _ in range(int(input())):\n",
    "    n,k=input().split()\n",
    "    n,k=int(n),int(k)\n",
    "    k=k%(n+1)\n",
    "    lst=list(map(int,input().split()))\n",
    "    if(k!=0):\n",
    "        miss=0\n",
    "        for i in range(n+1):\n",
    "            if(i not in lst):\n",
    "                lst.append(i)\n",
    "                break\n",
    "        print(*(lst[n-k+1:]+lst[:n-k]))\n",
    "    else:\n",
    "        print(*(lst[0:]))"
   ]
  },
  {
   "cell_type": "code",
   "execution_count": 9,
   "metadata": {},
   "outputs": [
    {
     "name": "stdout",
     "output_type": "stream",
     "text": [
      "[1, 2, 3, 4, 5, 7, 1, 2, 3, 4, 5, 7]\n"
     ]
    }
   ],
   "source": [
    "t=int(input())\n",
    "for _ in range(t):\n",
    "    n, k=map(int, input().split())\n",
    "    a=list(map(int, input().split()))\n",
    "    k=k%(n+1)\n",
    "    ch=(n+1)*n//2-sum(a)\n",
    "    a=(a+[ch])*2\n",
    "    print(*a[n+1-k:+n-k+n+1])"
   ]
  },
  {
   "cell_type": "code",
   "execution_count": null,
   "metadata": {},
   "outputs": [],
   "source": []
  }
 ],
 "metadata": {
  "kernelspec": {
   "display_name": "Python 3",
   "language": "python",
   "name": "python3"
  },
  "language_info": {
   "codemirror_mode": {
    "name": "ipython",
    "version": 3
   },
   "file_extension": ".py",
   "mimetype": "text/x-python",
   "name": "python",
   "nbconvert_exporter": "python",
   "pygments_lexer": "ipython3",
   "version": "3.11.5"
  },
  "orig_nbformat": 4
 },
 "nbformat": 4,
 "nbformat_minor": 2
}
