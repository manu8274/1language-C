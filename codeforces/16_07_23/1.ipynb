{
 "cells": [
  {
   "cell_type": "code",
   "execution_count": 41,
   "metadata": {},
   "outputs": [
    {
     "ename": "IndexError",
     "evalue": "list index out of range",
     "output_type": "error",
     "traceback": [
      "\u001b[1;31m---------------------------------------------------------------------------\u001b[0m",
      "\u001b[1;31mIndexError\u001b[0m                                Traceback (most recent call last)",
      "Cell \u001b[1;32mIn[41], line 8\u001b[0m\n\u001b[0;32m      6\u001b[0m mni\u001b[39m=\u001b[39m\u001b[39mNone\u001b[39;00m\n\u001b[0;32m      7\u001b[0m \u001b[39mfor\u001b[39;00m i \u001b[39min\u001b[39;00m \u001b[39mrange\u001b[39m(\u001b[39m0\u001b[39m,s):\n\u001b[1;32m----> 8\u001b[0m     \u001b[39mif\u001b[39;00m (lst[i]\u001b[39m==\u001b[39mmx \u001b[39mand\u001b[39;00m mxi\u001b[39m==\u001b[39m\u001b[39mNone\u001b[39;00m):\n\u001b[0;32m      9\u001b[0m         mxi\u001b[39m=\u001b[39mi\n\u001b[0;32m     10\u001b[0m     \u001b[39mif\u001b[39;00m(lst[i]\u001b[39m==\u001b[39mmn):\n",
      "\u001b[1;31mIndexError\u001b[0m: list index out of range"
     ]
    }
   ],
   "source": [
    "s=int(input())\n",
    "lst=[list(int(x) for x in input().split())]\n",
    "mx=max(lst)\n",
    "mn=min(lst)\n",
    "mxi=None\n",
    "mni=None\n",
    "for i in range(0,s):\n",
    "    if (lst[i]==mx and mxi==None):\n",
    "        mxi=i\n",
    "    if(lst[i]==mn):\n",
    "        mni=i\n",
    "if(mxi>mni):\n",
    "    print(mxi + (s-1-(mni+1)))\n",
    "else:\n",
    "    print(mxi + (s-1-mni))"
   ]
  },
  {
   "cell_type": "code",
   "execution_count": 39,
   "metadata": {},
   "outputs": [
    {
     "name": "stdout",
     "output_type": "stream",
     "text": [
      "95\n"
     ]
    }
   ],
   "source": [
    "print(mx)"
   ]
  },
  {
   "cell_type": "code",
   "execution_count": 21,
   "metadata": {},
   "outputs": [
    {
     "name": "stdout",
     "output_type": "stream",
     "text": [
      "None\n"
     ]
    }
   ],
   "source": [
    "x=None\n",
    "print((x))"
   ]
  },
  {
   "cell_type": "code",
   "execution_count": 22,
   "metadata": {},
   "outputs": [
    {
     "name": "stdout",
     "output_type": "stream",
     "text": [
      "0\n"
     ]
    }
   ],
   "source": [
    "x=0\n",
    "print(x)"
   ]
  },
  {
   "cell_type": "code",
   "execution_count": 26,
   "metadata": {},
   "outputs": [
    {
     "name": "stdout",
     "output_type": "stream",
     "text": [
      "0\n"
     ]
    }
   ],
   "source": [
    "x=None\n",
    "if(x==None):\n",
    "    x=0\n",
    "if (x==None):\n",
    "    x=1\n",
    "print(x)"
   ]
  },
  {
   "cell_type": "code",
   "execution_count": null,
   "metadata": {},
   "outputs": [],
   "source": []
  }
 ],
 "metadata": {
  "kernelspec": {
   "display_name": "Python 3",
   "language": "python",
   "name": "python3"
  },
  "language_info": {
   "codemirror_mode": {
    "name": "ipython",
    "version": 3
   },
   "file_extension": ".py",
   "mimetype": "text/x-python",
   "name": "python",
   "nbconvert_exporter": "python",
   "pygments_lexer": "ipython3",
   "version": "3.11.4"
  },
  "orig_nbformat": 4
 },
 "nbformat": 4,
 "nbformat_minor": 2
}
