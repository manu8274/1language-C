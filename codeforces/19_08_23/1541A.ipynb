{
 "cells": [
  {
   "cell_type": "code",
   "execution_count": null,
   "metadata": {},
   "outputs": [],
   "source": [
    "t=int(input())\n",
    "for i in range(t):\n",
    "    n=int(input())\n",
    "    if(n%2!=0):\n",
    "        index=n//2\n",
    "        for j in range(n,0,-1):\n",
    "            if(j!=index+1):\n",
    "                print(j,end=\" \")\n",
    "        print(index+1,end=\" \")\n",
    "    else:\n",
    "        for j in range(n,0,-1):\n",
    "            print(j,end=\" \")\n",
    "    print(\"\\n\")\n"
   ]
  },
  {
   "cell_type": "code",
   "execution_count": null,
   "metadata": {},
   "outputs": [],
   "source": [
    "t=int(input())\n",
    "for a in range(t):\n",
    "    s=int(input())\n",
    "    if(s%2==0):\n",
    "        for i in range(1,s+1,2):\n",
    "            if(i+1<=s):\n",
    "                print(i+1,i,end=\" \")\n",
    "            else:\n",
    "                print(i,end=\" \")\n",
    "        print(\"\\n\")\n",
    "    else:\n",
    "        print(3,1,2,end=\" \")\n",
    "        for i in range(4,s+1,2):\n",
    "            if(i+1<=s):\n",
    "                print(i+1,i,end=\" \")\n",
    "            else:\n",
    "                print(i,end=\" \")\n",
    "        print(\"\\n\")"
   ]
  }
 ],
 "metadata": {
  "language_info": {
   "name": "python"
  },
  "orig_nbformat": 4
 },
 "nbformat": 4,
 "nbformat_minor": 2
}
