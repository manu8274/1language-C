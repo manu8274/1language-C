{
 "cells": [
  {
   "cell_type": "code",
   "execution_count": null,
   "metadata": {},
   "outputs": [],
   "source": [
    "t=int(input())\n",
    "for i in range(t):\n",
    "    n=int(input())\n",
    "    lst=[int(x) for x in input().split()]\n",
    "    mn=min(lst)\n",
    "    mx=max(lst)\n",
    "    xmn=lst.index(mn)+1\n",
    "    xmx=lst.index(mx)+1\n",
    "    if(n-xmn<n):\n",
    "        xmn=n-xmn\n",
    "    if(n-xmx<n):\n",
    "        xmx=n-xmx\n",
    "    "
   ]
  }
 ],
 "metadata": {
  "language_info": {
   "name": "python"
  },
  "orig_nbformat": 4
 },
 "nbformat": 4,
 "nbformat_minor": 2
}
