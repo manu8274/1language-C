{
 "cells": [
  {
   "cell_type": "code",
   "execution_count": 3,
   "metadata": {},
   "outputs": [
    {
     "name": "stdout",
     "output_type": "stream",
     "text": [
      "36\n"
     ]
    }
   ],
   "source": [
    "n=int(input())\n",
    "lst=list(map(int,input().split()))\n",
    "mx=lst[0]\n",
    "mxi=0\n",
    "for i in range(len(lst)):\n",
    "    if(lst[i]>mx):\n",
    "        mx=lst[i]\n",
    "        mxi=i\n",
    "mn=lst[0]\n",
    "mni=0\n",
    "for i in range(len(lst)):\n",
    "    if(lst[i]<=mn):\n",
    "        mn=lst[i]\n",
    "        mni=i\n",
    "if(mxi>mni):\n",
    "    print(mxi+n-mni-1)\n",
    "else:\n",
    "    print(mxi+n-mni)"
   ]
  },
  {
   "cell_type": "code",
   "execution_count": null,
   "metadata": {},
   "outputs": [],
   "source": []
  }
 ],
 "metadata": {
  "kernelspec": {
   "display_name": "Python 3",
   "language": "python",
   "name": "python3"
  },
  "language_info": {
   "codemirror_mode": {
    "name": "ipython",
    "version": 3
   },
   "file_extension": ".py",
   "mimetype": "text/x-python",
   "name": "python",
   "nbconvert_exporter": "python",
   "pygments_lexer": "ipython3",
   "version": "3.12.0"
  }
 },
 "nbformat": 4,
 "nbformat_minor": 2
}
