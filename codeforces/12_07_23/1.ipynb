{
 "cells": [
  {
   "cell_type": "code",
   "execution_count": 23,
   "metadata": {},
   "outputs": [
    {
     "name": "stdout",
     "output_type": "stream",
     "text": [
      "I hate that I love that I hate it\n"
     ]
    }
   ],
   "source": [
    "#705_A hulk\n",
    "a=\"I hate \"\n",
    "b=\"that \"\n",
    "c=\"I love \"\n",
    "d=\"it\"\n",
    "final=\"I hate \"\n",
    "num=int(input())\n",
    "for i in range(2,num+1):\n",
    "    if(i%2!=0):\n",
    "        final = final + b + a\n",
    "    else:\n",
    "        final = final + b + c\n",
    "final = final + d\n",
    "print(final)        "
   ]
  },
  {
   "cell_type": "code",
   "execution_count": 28,
   "metadata": {},
   "outputs": [
    {
     "name": "stdout",
     "output_type": "stream",
     "text": [
      "3\n"
     ]
    }
   ],
   "source": [
    "#228A horshoe\n",
    "s=input().split()\n",
    "x=set(s)\n",
    "l1=len(s)\n",
    "l2=len(x)\n",
    "print(l1-l2)"
   ]
  },
  {
   "cell_type": "code",
   "execution_count": 30,
   "metadata": {},
   "outputs": [
    {
     "name": "stdout",
     "output_type": "stream",
     "text": [
      "Ibecome the guy.\n"
     ]
    }
   ],
   "source": [
    "#469A guy\n",
    "n=int(input())\n",
    "s1=input().split()\n",
    "s2=input().split()\n",
    "s1=s1[1:]\n",
    "s2=s2[1:]\n",
    "s3=s1+s2\n",
    "s4=set(s3)\n",
    "l=len(s4)\n",
    "if(l==n):\n",
    "    print(\"I become the guy.\")\n",
    "else:\n",
    "    print(\"Oh, my keyboard!\")"
   ]
  },
  {
   "cell_type": "code",
   "execution_count": null,
   "metadata": {},
   "outputs": [],
   "source": []
  }
 ],
 "metadata": {
  "kernelspec": {
   "display_name": "Python 3",
   "language": "python",
   "name": "python3"
  },
  "language_info": {
   "codemirror_mode": {
    "name": "ipython",
    "version": 3
   },
   "file_extension": ".py",
   "mimetype": "text/x-python",
   "name": "python",
   "nbconvert_exporter": "python",
   "pygments_lexer": "ipython3",
   "version": "3.11.4"
  },
  "orig_nbformat": 4
 },
 "nbformat": 4,
 "nbformat_minor": 2
}
