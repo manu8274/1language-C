{
 "cells": [
  {
   "cell_type": "code",
   "execution_count": 1,
   "metadata": {},
   "outputs": [
    {
     "name": "stdout",
     "output_type": "stream",
     "text": [
      "YES\n",
      "NO\n",
      "YES\n",
      "NO\n"
     ]
    }
   ],
   "source": [
    "t=int(input())\n",
    "for i in range(0,t):\n",
    "    lst=[int(x) for x in input().split()]\n",
    "    lst2=lst.copy()\n",
    "    x1=max(lst)\n",
    "    lst2.remove(x1)\n",
    "    x2=max(lst2)\n",
    "    if((lst[0]==x1 and lst[1]==x2) or (lst[1]==x1 and lst[0]==x2) or (lst[2]==x1 and lst[3]==x2) or (lst[3]==x1 and lst[2]==x2)):\n",
    "        print(\"NO\")\n",
    "    else:\n",
    "        print(\"YES\")"
   ]
  },
  {
   "cell_type": "code",
   "execution_count": null,
   "metadata": {},
   "outputs": [],
   "source": [
    "0- 2 3\n",
    "1- 2 3\n",
    "2- 0 1\n",
    "3- 0 1\n",
    "\n",
    "\n",
    "\n",
    "1 - 0\n",
    "0 - 1\n",
    "2 - 3\n",
    "3 - 2\n"
   ]
  }
 ],
 "metadata": {
  "kernelspec": {
   "display_name": "Python 3",
   "language": "python",
   "name": "python3"
  },
  "language_info": {
   "codemirror_mode": {
    "name": "ipython",
    "version": 3
   },
   "file_extension": ".py",
   "mimetype": "text/x-python",
   "name": "python",
   "nbconvert_exporter": "python",
   "pygments_lexer": "ipython3",
   "version": "3.11.4"
  },
  "orig_nbformat": 4
 },
 "nbformat": 4,
 "nbformat_minor": 2
}
