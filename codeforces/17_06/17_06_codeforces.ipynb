{
 "cells": [
  {
   "cell_type": "code",
   "execution_count": 3,
   "metadata": {},
   "outputs": [
    {
     "name": "stdout",
     "output_type": "stream",
     "text": [
      "CHAT WITH HER!\n"
     ]
    }
   ],
   "source": [
    "#236_A_boy/girl\n",
    "s=input()\n",
    "x=set(s)\n",
    "c=len(x)\n",
    "if(c%2!=0):\n",
    "    print(\"IGNORE HIM!\")\n",
    "else:\n",
    "    print(\"CHAT WITH HER!\")"
   ]
  },
  {
   "cell_type": "code",
   "execution_count": 1,
   "metadata": {},
   "outputs": [
    {
     "ename": "ValueError",
     "evalue": "invalid literal for int() with base 10: 'eshubcuefbv'",
     "output_type": "error",
     "traceback": [
      "\u001b[1;31m---------------------------------------------------------------------------\u001b[0m",
      "\u001b[1;31mValueError\u001b[0m                                Traceback (most recent call last)",
      "Cell \u001b[1;32mIn[1], line 2\u001b[0m\n\u001b[0;32m      1\u001b[0m \u001b[39m#266_A_stones\u001b[39;00m\n\u001b[1;32m----> 2\u001b[0m x\u001b[39m=\u001b[39m\u001b[39mint\u001b[39;49m(\u001b[39minput\u001b[39;49m())\n\u001b[0;32m      3\u001b[0m s\u001b[39m=\u001b[39m\u001b[39minput\u001b[39m()\n\u001b[0;32m      4\u001b[0m c\u001b[39m=\u001b[39m\u001b[39m0\u001b[39m\n",
      "\u001b[1;31mValueError\u001b[0m: invalid literal for int() with base 10: 'eshubcuefbv'"
     ]
    }
   ],
   "source": [
    "#266_A_stones\n",
    "x=int(input())\n",
    "s=input()\n",
    "c=0\n",
    "for i in range(1,x):\n",
    "    if(s[i-1]==s[i]):\n",
    "        c+=1\n",
    "print(c)"
   ]
  },
  {
   "cell_type": "code",
   "execution_count": null,
   "metadata": {},
   "outputs": [
    {
     "name": "stdout",
     "output_type": "stream",
     "text": [
      "VIP\n"
     ]
    }
   ],
   "source": [
    "#59_A_word\n",
    "s=input()\n",
    "u=0\n",
    "l=0\n",
    "for i in s:\n",
    "    if(65<=ord(i)<=90):\n",
    "        u+=1\n",
    "    else:\n",
    "        l+=1\n",
    "if(u>l):\n",
    "    print(s.upper())\n",
    "else:\n",
    "    print(s.lower())"
   ]
  },
  {
   "cell_type": "code",
   "execution_count": null,
   "metadata": {},
   "outputs": [
    {
     "name": "stdout",
     "output_type": "stream",
     "text": [
      "YES\n"
     ]
    }
   ],
   "source": [
    "#110_A_lucky no.\n",
    "n=input()\n",
    "c=0\n",
    "for i in range(len(n)):\n",
    "    if(n[i]=='4' or n[i]=='7'):\n",
    "        c+=1\n",
    "if(c==4 or c==7):\n",
    "    print(\"YES\")\n",
    "else:\n",
    "    print(\"NO\")"
   ]
  },
  {
   "cell_type": "code",
   "execution_count": 4,
   "metadata": {},
   "outputs": [
    {
     "name": "stdout",
     "output_type": "stream",
     "text": [
      "Friendship\n"
     ]
    }
   ],
   "source": [
    "#734A_anton/danik\n",
    "x=int(input())\n",
    "s=input()\n",
    "a=s.count('A')\n",
    "d=s.count('D')\n",
    "if(a>d):\n",
    "    print(\"Anton\")\n",
    "elif(a<d):\n",
    "    print(\"Danik\")\n",
    "else:\n",
    "    print(\"Friendship\")"
   ]
  },
  {
   "cell_type": "code",
   "execution_count": null,
   "metadata": {},
   "outputs": [],
   "source": []
  }
 ],
 "metadata": {
  "kernelspec": {
   "display_name": "Python 3",
   "language": "python",
   "name": "python3"
  },
  "language_info": {
   "codemirror_mode": {
    "name": "ipython",
    "version": 3
   },
   "file_extension": ".py",
   "mimetype": "text/x-python",
   "name": "python",
   "nbconvert_exporter": "python",
   "pygments_lexer": "ipython3",
   "version": "3.11.3"
  },
  "orig_nbformat": 4
 },
 "nbformat": 4,
 "nbformat_minor": 2
}
