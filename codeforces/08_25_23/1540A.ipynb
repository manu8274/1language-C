{
 "cells": [
  {
   "cell_type": "code",
   "execution_count": 18,
   "metadata": {},
   "outputs": [
    {
     "name": "stdout",
     "output_type": "stream",
     "text": [
      "YES\n",
      "acbabc\n",
      "YES\n",
      "aab\n",
      "YES\n",
      "zaza\n",
      "YES\n",
      "baa\n",
      "NO\n",
      "YES\n",
      "nautforajaroftuna\n"
     ]
    }
   ],
   "source": [
    "for i in range(int(input())):\n",
    "    s=input()\n",
    "    for i in range(0,len(s)+1):\n",
    "        x=s[0:i]+'a'+s[i:]\n",
    "        if(x!=x[::-1]):\n",
    "            print(\"YES\")\n",
    "            print(x)\n",
    "            break\n",
    "    else:\n",
    "        print(\"NO\")"
   ]
  },
  {
   "cell_type": "code",
   "execution_count": null,
   "metadata": {},
   "outputs": [],
   "source": []
  },
  {
   "cell_type": "code",
   "execution_count": null,
   "metadata": {},
   "outputs": [],
   "source": []
  }
 ],
 "metadata": {
  "kernelspec": {
   "display_name": "Python 3",
   "language": "python",
   "name": "python3"
  },
  "language_info": {
   "codemirror_mode": {
    "name": "ipython",
    "version": 3
   },
   "file_extension": ".py",
   "mimetype": "text/x-python",
   "name": "python",
   "nbconvert_exporter": "python",
   "pygments_lexer": "ipython3",
   "version": "3.11.4"
  },
  "orig_nbformat": 4
 },
 "nbformat": 4,
 "nbformat_minor": 2
}
