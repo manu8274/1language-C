{
 "cells": [
  {
   "cell_type": "code",
   "execution_count": 18,
   "metadata": {},
   "outputs": [
    {
     "name": "stdout",
     "output_type": "stream",
     "text": [
      "YES\n",
      "acbabc\n",
      "YES\n",
      "aab\n",
      "YES\n",
      "zaza\n",
      "YES\n",
      "baa\n",
      "NO\n",
      "YES\n",
      "nautforajaroftuna\n"
     ]
    }
   ],
   "source": [
    "for i in range(int(input())):\n",
    "    s=input()\n",
    "    for j in range(0,len(s)+1):\n",
    "        x=s[0:j]+'a'+s[j:]\n",
    "        if(x!=x[::-1]):\n",
    "            print(\"YES\")\n",
    "            print(x)\n",
    "            break\n",
    "    else:\n",
    "        print(\"NO\")"
   ]
  },
  {
   "cell_type": "code",
   "execution_count": 19,
   "metadata": {},
   "outputs": [
    {
     "ename": "TypeError",
     "evalue": "'list' object cannot be interpreted as an integer",
     "output_type": "error",
     "traceback": [
      "\u001b[1;31m---------------------------------------------------------------------------\u001b[0m",
      "\u001b[1;31mTypeError\u001b[0m                                 Traceback (most recent call last)",
      "Cell \u001b[1;32mIn[19], line 1\u001b[0m\n\u001b[1;32m----> 1\u001b[0m \u001b[39mfor\u001b[39;00m i \u001b[39min\u001b[39;00m \u001b[39mrange\u001b[39;49m(\u001b[39minput\u001b[39;49m()\u001b[39m.\u001b[39;49msplit()):\n\u001b[0;32m      2\u001b[0m     s\u001b[39m=\u001b[39m\u001b[39minput\u001b[39m()\n\u001b[0;32m      3\u001b[0m     x\u001b[39m=\u001b[39ms\u001b[39m+\u001b[39m\u001b[39m'\u001b[39m\u001b[39ma\u001b[39m\u001b[39m'\u001b[39m\n",
      "\u001b[1;31mTypeError\u001b[0m: 'list' object cannot be interpreted as an integer"
     ]
    }
   ],
   "source": [
    "for i in range(int(input())):\n",
    "    s=input()\n",
    "    x=s+'a'\n",
    "    if(x!=x[::-1]):\n",
    "        print(\"YES\")\n",
    "        print(x)\n",
    "    else:\n",
    "        y='a'+s\n",
    "        if(y!=y[::-1]):\n",
    "            print(\"YES\")\n",
    "            print(y)\n",
    "        else:\n",
    "            z=s[:3]+'a'+s[3:]\n",
    "            if(z!=z[::-1]):\n",
    "                print(\"YES\")\n",
    "                print(z)\n",
    "            else:\n",
    "                print(\"NO\")"
   ]
  },
  {
   "cell_type": "code",
   "execution_count": 21,
   "metadata": {},
   "outputs": [
    {
     "name": "stdout",
     "output_type": "stream",
     "text": [
      "caba\n"
     ]
    }
   ],
   "source": [
    "l='abac'\n",
    "print(l[::-1])"
   ]
  },
  {
   "cell_type": "code",
   "execution_count": null,
   "metadata": {},
   "outputs": [],
   "source": []
  }
 ],
 "metadata": {
  "kernelspec": {
   "display_name": "Python 3",
   "language": "python",
   "name": "python3"
  },
  "language_info": {
   "codemirror_mode": {
    "name": "ipython",
    "version": 3
   },
   "file_extension": ".py",
   "mimetype": "text/x-python",
   "name": "python",
   "nbconvert_exporter": "python",
   "pygments_lexer": "ipython3",
   "version": "3.11.4"
  },
  "orig_nbformat": 4
 },
 "nbformat": 4,
 "nbformat_minor": 2
}
