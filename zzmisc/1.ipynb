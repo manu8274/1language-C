{
 "cells": [
  {
   "cell_type": "code",
   "execution_count": null,
   "metadata": {},
   "outputs": [],
   "source": [
    "d = {1: 1, 2: 2}\n",
    "if d.keys(3):\n",
    "    print(\"TV\")"
   ]
  },
  {
   "cell_type": "code",
   "execution_count": null,
   "metadata": {},
   "outputs": [],
   "source": [
    "l=[1,2,5,4,2,1,23,4,5]\n",
    "l=set(l)\n",
    "for i in l:\n",
    "    print(i)"
   ]
  },
  {
   "cell_type": "code",
   "execution_count": null,
   "metadata": {},
   "outputs": [],
   "source": [
    "nums=[0,1,1]\n",
    "l=[]\n",
    "d={}\n",
    "for i in nums:\n",
    "    if i not in d:\n",
    "        d[i]=1\n",
    "    else:\n",
    "        d[i]+=1\n",
    "for i in nums:\n",
    "    if(i==0):\n",
    "        if(d[i]>2):\n",
    "            if([0,0,0] not in l):\n",
    "                l.append([0,0,0])\n",
    "    elif(i==1 and d[-1]>=1 and d[0]>=1):\n",
    "        if([-1,0,1]) not in l:\n",
    "            l.append([-1,0,1])\n",
    "    elif(i==-1 and d[1]>=1 and d[0]>=1):\n",
    "        if([-1,0,1]) not in l:\n",
    "            l.append([-1,0,1])\n",
    "    else:\n",
    "        if(d[0]>=1):\n",
    "            if(-i in d):\n",
    "                if([-i,0,i]):\n",
    "                    if([i,0,-i]not in l):\n",
    "                        l.append([-i,0,i])\n",
    "        if(i>1):\n",
    "            for j in range(1,i):\n",
    "                a=i-j\n",
    "                if(a==j):\n",
    "                    if(d[-a]>=2):\n",
    "                        if([i,-a,-j] not in l):\n",
    "                            if([i,-j,-a] not in l):\n",
    "                                l.append([i,-a,-j])\n",
    "                else:\n",
    "                    if(-a in d):\n",
    "                        if(-j in d):\n",
    "                            if([i,-a,-j] not in l):\n",
    "                                if([i,-j,-a] not in l):\n",
    "                                    l.append([i,-a,-j])\n",
    "        else:\n",
    "            for j in range(-1,i,-1):\n",
    "                a=i-j\n",
    "                if(a==j):\n",
    "                    if(-a in d and d[-a]>=2):\n",
    "                        if([i,-a,-j] not in l):\n",
    "                            if([i,-j,-a] not in l):\n",
    "                                l.append([i,-a,-j])\n",
    "                else:\n",
    "                    if(-a in d):\n",
    "                        if(-j in d):\n",
    "                            if([i,-a,-j] not in l):\n",
    "                                if([i,-j,-a] not in l):\n",
    "                                    l.append([i,-a,-j])\n",
    "print(l)"
   ]
  },
  {
   "cell_type": "code",
   "execution_count": null,
   "metadata": {},
   "outputs": [],
   "source": [
    "import math\n",
    "arr=[1,4,2,5,3]\n",
    "if(len(arr)<3):\n",
    "    print(sum(arr))\n",
    "if(len(arr)==3):\n",
    "    print(2*sum(arr))\n",
    "\n",
    "n=len(arr)\n",
    "mlar={}\n",
    "for i in range(1,n+1):\n",
    "    if(i%2!=0):\n",
    "        if(2*i -1 <n):\n",
    "            mlar[i]=i\n",
    "        else:\n",
    "            mlar[i]=n-i+1\n",
    "ts=0\n",
    "for i in range(math.ceil(n/2)):\n",
    "    t=0\n",
    "    if(n%2!=0 and i==math.ceil(n/2)-1):\n",
    "        for j in mlar:\n",
    "            t+=arr[i]*(min(i+1,mlar[j]))\n",
    "    else:\n",
    "        for j in mlar:\n",
    "            t+=(arr[i]+arr[-i-1])*(min(i+1,mlar[j]))\n",
    "    ts+=t\n",
    "print(ts)"
   ]
  },
  {
   "cell_type": "code",
   "execution_count": null,
   "metadata": {},
   "outputs": [],
   "source": [
    "print(math.ceil(5//2))"
   ]
  },
  {
   "cell_type": "code",
   "execution_count": null,
   "metadata": {},
   "outputs": [],
   "source": [
    "n=int(input())\n",
    "lst=[]\n",
    "for _ in range(n):\n",
    "    a,b=map(int,input().split())\n",
    "    lst.append([a,b])\n",
    "if(n==1):\n",
    "    print(min(lst[0][0],lst[0][1]) + 1)\n",
    "else:\n",
    "    x=0\n",
    "    if(lst[0][0]!=0):\n",
    "        x=min(lst[0][0]-0,lst[0][1]-0)\n",
    "    # if(lst[-1][0]-lst[0][0]==0):\n",
    "    #     print(abs(lst[-1][1]-lst[0][1])+1+x)\n",
    "    # elif(abs(lst[-1][1]-lst[0][1])==0):\n",
    "    #     print(abs(lst[-1][0]-lst[0][0])+1+x)\n",
    "    # else:\n",
    "    print(min(abs(lst[-1][0]-lst[0][0]),abs(lst[-1][1]-lst[0][1]))+1+x)"
   ]
  },
  {
   "cell_type": "code",
   "execution_count": null,
   "metadata": {},
   "outputs": [],
   "source": [
    "n=int(input())\n",
    "lst=[]\n",
    "for _ in range(n):\n",
    "    a,b=map(int,input().split())\n",
    "    lst.append([a,b])\n",
    "if(n==1):\n",
    "    print(min(lst[0][0],lst[0][1]) + 1)\n",
    "else:\n",
    "    c=1\n",
    "    for i in range(1,n):\n",
    "        x=min(lst[i][0]-lst[i-1][0],lst[i][1]-lst[i-1][1])\n",
    "        if(x==0):\n",
    "            x=max(lst[i][0]-lst[i-1][0],lst[i][1]-lst[i-1][1])\n",
    "        c+=x\n",
    "    if(lst[-1][0]==lst[-1][1] and lst[0][0]!=lst[-1][0]):\n",
    "        print(c+1)\n",
    "    else:\n",
    "        print(c)"
   ]
  },
  {
   "cell_type": "code",
   "execution_count": null,
   "metadata": {},
   "outputs": [],
   "source": [
    "a=\"1234\"\n",
    "z=int(a)\n",
    "while(z<100000):\n",
    "    z+=int(\"1\"*len(a))\n",
    "    if(z%10==9):\n",
    "        t=int(a[-1])+1\n",
    "        z=int(a)*10+t\n",
    "        a+=str(t)\n",
    "    print(z,end=\" \")\n",
    "print(z)"
   ]
  },
  {
   "cell_type": "code",
   "execution_count": null,
   "metadata": {},
   "outputs": [],
   "source": [
    "print(a+\"1\")"
   ]
  },
  {
   "cell_type": "code",
   "execution_count": null,
   "metadata": {},
   "outputs": [],
   "source": [
    "import math\n",
    "print(math.ceil(6/5))"
   ]
  },
  {
   "cell_type": "code",
   "execution_count": null,
   "metadata": {},
   "outputs": [],
   "source": [
    "l=[]\n",
    "l.append([2,3])\n",
    "print(l)"
   ]
  },
  {
   "cell_type": "code",
   "execution_count": null,
   "metadata": {},
   "outputs": [],
   "source": [
    "a=\"grjvbdd\"\n",
    "print(\"\".join(sorted(a)))"
   ]
  },
  {
   "cell_type": "code",
   "execution_count": null,
   "metadata": {},
   "outputs": [],
   "source": [
    "arr=[3,0,1,1,9,7]\n",
    "a,b,c=7,2,3\n",
    "l=len(arr)\n",
    "count=0\n",
    "for i in range(l):\n",
    "    for j in range(i+1,l):\n",
    "        for k in range(j+1,l):\n",
    "            if(abs(arr[i]-arr[j])<=a and abs(arr[j]-arr[k])<=b and abs(arr[i]-arr[k])<=c):\n",
    "                count+=1\n",
    "print(count)"
   ]
  },
  {
   "cell_type": "code",
   "execution_count": null,
   "metadata": {},
   "outputs": [],
   "source": [
    "print(1 ^ 3)"
   ]
  },
  {
   "cell_type": "code",
   "execution_count": null,
   "metadata": {},
   "outputs": [],
   "source": [
    "nums = [1,3]\n",
    "l=len(nums)\n",
    "xr=[0]*l\n",
    "sumxr=0\n",
    "for i in range(l):\n",
    "    sumxr+=nums[i]\n",
    "    for j in range(i+1):\n",
    "        xr[j]=xr[j]^nums[i]\n",
    "print(sumxr+sum(xr)-nums[-1])"
   ]
  },
  {
   "cell_type": "code",
   "execution_count": null,
   "metadata": {},
   "outputs": [],
   "source": [
    "print(3^3)"
   ]
  },
  {
   "cell_type": "code",
   "execution_count": null,
   "metadata": {},
   "outputs": [],
   "source": [
    "print(int(4**0.5)==4**0.5)"
   ]
  },
  {
   "cell_type": "code",
   "execution_count": null,
   "metadata": {},
   "outputs": [],
   "source": [
    "l=[\"3a\",\"5b\",\"4c\",\"10d\"]\n",
    "l.sort()\n",
    "print(l)"
   ]
  },
  {
   "cell_type": "code",
   "execution_count": null,
   "metadata": {},
   "outputs": [],
   "source": [
    "s=\"\"\n",
    "l=[]\n",
    "for i in set(s):\n",
    "    l.append([s.count(i),i])\n",
    "l.sort(reverse=True)\n",
    "t=\"\"\n",
    "for i in l:\n",
    "    t+=i[1]*(i[0])\n",
    "print(l)\n",
    "print(t)"
   ]
  },
  {
   "cell_type": "code",
   "execution_count": null,
   "metadata": {},
   "outputs": [],
   "source": [
    "t=(\"u\"*1124)+1135\n",
    "print(t)"
   ]
  },
  {
   "cell_type": "code",
   "execution_count": null,
   "metadata": {},
   "outputs": [],
   "source": [
    "a=[1,2,3,4,5]\n",
    "b=a.copy().sort()\n",
    "print(a==sorted(a))"
   ]
  },
  {
   "cell_type": "code",
   "execution_count": null,
   "metadata": {},
   "outputs": [],
   "source": [
    "a=[1,2,3,4,5]\n",
    "b=[1,2,3,4,5]\n",
    "print((set(a+b)))"
   ]
  },
  {
   "cell_type": "code",
   "execution_count": null,
   "metadata": {},
   "outputs": [],
   "source": [
    "n,m=634,262\n",
    "lst=list(map(int,input().split()))\n",
    "if(m>=lst.count(0)):\n",
    "    print(n)\n",
    "elif(m==0):\n",
    "        a=0\n",
    "        a1=0\n",
    "        for i in lst:\n",
    "            if(i==0):\n",
    "                a=max(a,a1)\n",
    "                a1=0\n",
    "            else:\n",
    "                a1+=1\n",
    "        print(max(a,a1))\n",
    "else:\n",
    "    l=[]\n",
    "    for i in range(n):\n",
    "        if(lst[i]==0):\n",
    "            l.append(i)\n",
    "    mx=0\n",
    "    for i in range(len(l)-m):\n",
    "        # print(i)\n",
    "        t=l[i+m]-l[i]+1\n",
    "        if(i+m+1<len(l)):\n",
    "            if(l[i+m+1]!=l[m+i]+1):\n",
    "                t+=l[m+i+1]-l[m+i]-1\n",
    "        mx=max(t,mx)\n",
    "    print (mx)"
   ]
  },
  {
   "cell_type": "code",
   "execution_count": null,
   "metadata": {},
   "outputs": [],
   "source": [
    "634 262\n",
    "1 1 1 1 0 1 1 1 0 0 0 1 1 0 0 1 0 0 1 1 1 0 0 0 1 0 1 1 0 1 0 0 0 0 0 1 0 0 1 1 1 1 1 0 0 0 1 0 0 1 1 0 0 0 1 1 1 0 1 0 1 0 1 1 1 1 0 0 1 0 0 1 0 0 1 0 0 0 0 0 1 0 1 1 1 1 1 0 0 1 0 0 0 0 0 1 0 0 0 0 0 1 1 0 0 0 1 0 0 0 0 0 0 0 0 0 1 1 0 1 0 1 1 0 0 0 0 1 0 1 1 1 1 0 1 1 1 1 1 0 0 0 0 1 1 0 0 0 0 0 0 0 1 0 0 1 1 1 1 1 0 0 0 0 0 0 0 1 0 1 1 1 1 1 0 0 1 1 0 1 0 0 0 0 0 0 1 0 0 0 0 0 0 0 1 1 1 1 1 0 1 1 0 0 0 0 1 0 0 1 0 1 0 1 1 1 0 1 0 0 1 1 1 1 0 0 0 0 0 1 0 0 1 0 0 0 0 1 1 1 1 1 1 0 0 1 0 1 0 1 1 1 1 0 1 1 0 0 0 1 0 1 1 0 1 0 0 1 0 1 1 1 1 0 0 0 0 1 0 0 1 0 1 1 0 0 0 1 1 1 1 1 1 0 0 0 1 1 0 1 1 0 0 0 1 1 0 1 1 1 1 1 1 1 0 1 1 1 1 0 1 1 0 1 0 1 1 0 0 0 0 1 0 0 1 0 0 1 1 1 0 1 1 1 1 1 1 0 1 1 1 1 0 1 1 0 1 1 0 1 0 0 0 0 1 0 1 0 0 0 0 0 1 0 1 0 0 1 0 0 1 0 1 1 1 1 1 1 1 1 0 0 1 0 1 1 0 0 1 1 1 0 0 0 1 0 0 1 1 0 0 0 1 0 0 0 0 0 1 1 0 0 0 1 0 0 0 1 0 1 1 1 0 1 1 0 1 0 1 0 0 0 0 0 0 0 0 0 0 0 1 1 0 0 1 0 1 0 0 0 0 1 1 0 1 0 1 0 0 1 0 0 1 0 0 0 1 1 1 1 1 0 0 0 1 0 0 0 1 0 1 0 1 0 1 0 0 1 1 0 1 1 1 1 0 1 1 1 0 1 1 1 1 1 0 1 1 0 0 0 0 1 1 1 1 0 0 0 1 1 1 1 1 1 1 0 0 1 1 0 0 0 1 0 0 1 0 1 0 1 0 0 0 0 1 0 1 1 1 0 0 1 1 0 0 1 1 1 1 0 0 0 1 1 1 0 0 1 0 0 1 1 1 1 0 0 1 1 0 0 1 0 0 1 0 0 1 0 0 0 0 1 0 0 0 0 0 0 1 1 1 1 1 1 0 0 1 1 1 1 1 0 1 1 0 1 1 1 1 0 0 1 0 1 \n"
   ]
  },
  {
   "cell_type": "code",
   "execution_count": null,
   "metadata": {},
   "outputs": [],
   "source": [
    "print(lst)"
   ]
  },
  {
   "cell_type": "code",
   "execution_count": null,
   "metadata": {},
   "outputs": [],
   "source": [
    "a=[3,2,1]\n",
    "t=0\n",
    "i=0\n",
    "while(a[i]==max(a)):\n",
    "    i+=1\n",
    "t=a[i]\n",
    "zmin=max(a)\n",
    "topop=0\n",
    "for j in range(i+1,len(a)):\n",
    "    if(a[j]-t>0 and a[j]-t<zmin):\n",
    "        zmin=a[j]-t\n",
    "        topop=a[j]\n",
    "a.remove(topop)\n",
    "a.insert(i,topop)\n",
    "print(a)"
   ]
  },
  {
   "cell_type": "code",
   "execution_count": null,
   "metadata": {},
   "outputs": [],
   "source": [
    "print(topop)"
   ]
  },
  {
   "cell_type": "code",
   "execution_count": null,
   "metadata": {},
   "outputs": [],
   "source": [
    "l=[5,4,3,2,1]\n",
    "l1=l[0:2]\n",
    "l1.sort()\n",
    "l[0:2]=l1\n",
    "print(l)"
   ]
  },
  {
   "cell_type": "code",
   "execution_count": null,
   "metadata": {},
   "outputs": [],
   "source": [
    "lst=[5,4,7,5,3,2]\n",
    "# lst=[1,2,3]\n",
    "n=len(lst)\n",
    "flag=False\n",
    "br=0\n",
    "for i in range(1,n):\n",
    "    if(lst[-i]>lst[-i-1]):\n",
    "        flag=True\n",
    "        amin=lst[-i-1]\n",
    "        x=-i\n",
    "        amin=lst[-i]-lst[-i-1]\n",
    "        for j in range(1,i+1):\n",
    "            if(lst[-j]>lst[-i-1]):\n",
    "                if(lst[-j]-lst[-i-1]<amin):\n",
    "                    amin=lst[-j]-lst[-i-1]\n",
    "                    x=-j\n",
    "                    print(x)\n",
    "        lst[x],lst[-i-1]=lst[-i-1],lst[x]\n",
    "        br=n-i-1\n",
    "        break\n",
    "if(flag==True):\n",
    "    l1=lst[br+1:]\n",
    "    l1.sort()\n",
    "    lst[br+1:]=l1\n",
    "if(flag==False):\n",
    "    lst=lst[::-1]\n",
    "print(lst)"
   ]
  },
  {
   "cell_type": "code",
   "execution_count": null,
   "metadata": {},
   "outputs": [],
   "source": [
    "print(2&7)"
   ]
  },
  {
   "cell_type": "code",
   "execution_count": null,
   "metadata": {},
   "outputs": [],
   "source": [
    "import math\n",
    "print(int(math.log(6,2)))\n",
    "print(int(math.log(7,2)))\n",
    "print(5&7)"
   ]
  },
  {
   "cell_type": "code",
   "execution_count": null,
   "metadata": {},
   "outputs": [],
   "source": [
    "left=5\n",
    "right=5\n",
    "s1=\"\"\n",
    "s2=\"\"\n",
    "l1=0\n",
    "l2=0\n",
    "while(left>0):\n",
    "    s1+=str(left%2)\n",
    "    left=left//2\n",
    "    l1+=1\n",
    "\n",
    "while(right>0):\n",
    "    s2+=str(right%2)\n",
    "    right=right//2\n",
    "    l2+=1\n",
    "\n",
    "while(l1<l2):\n",
    "    l1+=1\n",
    "    s1+=\"0\"\n",
    "s1=s1[::-1]\n",
    "s2=s2[::-1]\n",
    "t=\"\"\n",
    "for i in range(l2):\n",
    "    if(s1[i]==\"1\" and s2[i]==\"1\"):\n",
    "        t+=\"1\"\n",
    "    elif(s1[i]==\"0\" and s2[i]==\"0\"):\n",
    "        t+=\"0\"\n",
    "    else:\n",
    "        break\n",
    "print(len(t))\n",
    "t+=\"0\" * (l2-len(t))\n",
    "ans=0\n",
    "for i in range(1,l2+1):\n",
    "    if(t[-i]==\"1\"):\n",
    "        ans+=2**(i-1)\n",
    "print(ans)"
   ]
  },
  {
   "cell_type": "code",
   "execution_count": null,
   "metadata": {},
   "outputs": [],
   "source": [
    "print(s1,s2,t,l1,l2)"
   ]
  },
  {
   "cell_type": "code",
   "execution_count": null,
   "metadata": {},
   "outputs": [],
   "source": [
    "def sum(n):\n",
    "    if(n==1 or n==0):\n",
    "        return 1\n",
    "    else:\n",
    "        return n+sum(n-1)\n",
    "\n",
    "print(sum(5))"
   ]
  },
  {
   "cell_type": "code",
   "execution_count": null,
   "metadata": {},
   "outputs": [],
   "source": []
  },
  {
   "cell_type": "code",
   "execution_count": 2,
   "metadata": {},
   "outputs": [
    {
     "name": "stdout",
     "output_type": "stream",
     "text": [
      "[[0, 0, 0], [0, 0, 0]]\n"
     ]
    }
   ],
   "source": [
    "lst=[[0]*3]*2\n",
    "print(lst)"
   ]
  },
  {
   "cell_type": "code",
   "execution_count": 6,
   "metadata": {},
   "outputs": [
    {
     "name": "stdout",
     "output_type": "stream",
     "text": [
      "4\n"
     ]
    }
   ],
   "source": [
    "print(0^1^2^3^5^6^4^3)"
   ]
  },
  {
   "cell_type": "code",
   "execution_count": 9,
   "metadata": {},
   "outputs": [
    {
     "name": "stdout",
     "output_type": "stream",
     "text": [
      "0\n"
     ]
    }
   ],
   "source": [
    "print(2^3^1)"
   ]
  },
  {
   "cell_type": "code",
   "execution_count": null,
   "metadata": {},
   "outputs": [],
   "source": []
  }
 ],
 "metadata": {
  "kernelspec": {
   "display_name": "Python 3",
   "language": "python",
   "name": "python3"
  },
  "language_info": {
   "codemirror_mode": {
    "name": "ipython",
    "version": 3
   },
   "file_extension": ".py",
   "mimetype": "text/x-python",
   "name": "python",
   "nbconvert_exporter": "python",
   "pygments_lexer": "ipython3",
   "version": "3.10.4"
  }
 },
 "nbformat": 4,
 "nbformat_minor": 2
}
