{
 "cells": [
  {
   "cell_type": "code",
   "execution_count": 2,
   "metadata": {},
   "outputs": [
    {
     "name": "stdout",
     "output_type": "stream",
     "text": [
      "[4, 6, 7, 10]\n"
     ]
    }
   ],
   "source": [
    " #main\n",
    "n=int(input())\n",
    "arr=[]\n",
    "for i in range(n):\n",
    "    data=input().split()\n",
    "    func=data[0]\n",
    "    if func==\"insert\":\n",
    "        n,pos=int(data[1]),int(data[2])\n",
    "        arr.insert(pos,n)\n",
    "    elif func==\"print\":\n",
    "        print(arr)\n",
    "    elif func==\"append\":\n",
    "        n=int(data[1])\n",
    "        arr.append(n)\n",
    "    elif func==\"sort\":\n",
    "        n=int(data[1])\n",
    "        arr.sort()\n",
    "    elif func==\"remove\":\n",
    "        n=int(data[1])\n",
    "        arr.remove(n)\n",
    "    elif fun==\"pop\":\n",
    "        n=int(data[1])\n",
    "        arr.pop(n)\n",
    "    elif func==\"reverse\":\n",
    "        arr.reverse\n"
   ]
  },
  {
   "cell_type": "code",
   "execution_count": 5,
   "metadata": {},
   "outputs": [],
   "source": [
    "lst=[1,2,3,4,5,6,7,8]\n",
    "lst.insert(1,9)"
   ]
  },
  {
   "cell_type": "code",
   "execution_count": 6,
   "metadata": {},
   "outputs": [
    {
     "name": "stdout",
     "output_type": "stream",
     "text": [
      "[1, 9, 2, 3, 4, 5, 6, 7, 8]\n"
     ]
    }
   ],
   "source": [
    "print(lst)"
   ]
  },
  {
   "cell_type": "code",
   "execution_count": null,
   "metadata": {},
   "outputs": [],
   "source": []
  }
 ],
 "metadata": {
  "kernelspec": {
   "display_name": "Python 3",
   "language": "python",
   "name": "python3"
  },
  "language_info": {
   "codemirror_mode": {
    "name": "ipython",
    "version": 3
   },
   "file_extension": ".py",
   "mimetype": "text/x-python",
   "name": "python",
   "nbconvert_exporter": "python",
   "pygments_lexer": "ipython3",
   "version": "3.11.1 (tags/v3.11.1:a7a450f, Dec  6 2022, 19:58:39) [MSC v.1934 64 bit (AMD64)]"
  },
  "orig_nbformat": 4,
  "vscode": {
   "interpreter": {
    "hash": "69b88fa2945e4b6212a8e8979ab801e81706d1c8c28420e200b7254d8399e8f2"
   }
  }
 },
 "nbformat": 4,
 "nbformat_minor": 2
}
