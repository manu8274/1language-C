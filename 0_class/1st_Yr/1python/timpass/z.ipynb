{
 "cells": [
  {
   "cell_type": "code",
   "execution_count": 1,
   "id": "a25cabef",
   "metadata": {},
   "outputs": [
    {
     "name": "stdout",
     "output_type": "stream",
     "text": [
      "enter the number to find its factorial:5\n",
      "120\n"
     ]
    }
   ],
   "source": [
    "z=int(input(\"enter the number to find its factorial:\"))\n",
    "fct=1\n",
    "for i in range(z,0,-1):\n",
    "    fct=fct*i\n",
    "print(fct)"
   ]
  },
  {
   "cell_type": "code",
   "execution_count": 3,
   "id": "a71a39ed",
   "metadata": {},
   "outputs": [
    {
     "name": "stdout",
     "output_type": "stream",
     "text": [
      "enter the number of terms of fibonacci series:5\n",
      "0\n",
      "1\n",
      "1\n",
      "2\n",
      "3\n"
     ]
    }
   ],
   "source": [
    "z=int(input(\"enter the number of terms of fibonacci series:\"))\n",
    "a=0\n",
    "b=1\n",
    "c=0\n",
    "while c<z:\n",
    "    print(a)\n",
    "    d=a+b\n",
    "    a=b\n",
    "    b=d\n",
    "    c=c+1"
   ]
  },
  {
   "cell_type": "code",
   "execution_count": 1,
   "id": "5ef7acf1",
   "metadata": {},
   "outputs": [
    {
     "name": "stdout",
     "output_type": "stream",
     "text": [
      "enter the first number:9\n",
      "enter the first number:19\n",
      "11\n",
      "13\n",
      "17\n"
     ]
    }
   ],
   "source": [
    "n1=int(input(\"enter the first number:\"))\n",
    "n2=int(input(\"enter the first number:\"))\n",
    "z=()\n",
    "for i in range(n1+1,n2):\n",
    "    for a in range(2,i):\n",
    "        if i%a==0:\n",
    "            break\n",
    "    else:\n",
    "        print(i)"
   ]
  },
  {
   "cell_type": "code",
   "execution_count": 2,
   "id": "931229fb",
   "metadata": {},
   "outputs": [
    {
     "name": "stdout",
     "output_type": "stream",
     "text": [
      "enter the value of length:5\n",
      "enter the value of breadth:1\n",
      "the perimeter of rectangle is 24 and area is 5 .\n"
     ]
    }
   ],
   "source": [
    "l=int(input(\"enter the value of length:\"))\n",
    "b=int(input(\"enter the value of breadth:\"))\n",
    "per=4*(l+b)\n",
    "area=l*b\n",
    "print(\"the perimeter of rectangle is\",per,\"and area is\",area,\".\")"
   ]
  },
  {
   "cell_type": "code",
   "execution_count": null,
   "id": "07cf9730",
   "metadata": {},
   "outputs": [],
   "source": []
  }
 ],
 "metadata": {
  "kernelspec": {
   "display_name": "Python 3 (ipykernel)",
   "language": "python",
   "name": "python3"
  },
  "language_info": {
   "codemirror_mode": {
    "name": "ipython",
    "version": 3
   },
   "file_extension": ".py",
   "mimetype": "text/x-python",
   "name": "python",
   "nbconvert_exporter": "python",
   "pygments_lexer": "ipython3",
   "version": "3.9.12"
  }
 },
 "nbformat": 4,
 "nbformat_minor": 5
}
