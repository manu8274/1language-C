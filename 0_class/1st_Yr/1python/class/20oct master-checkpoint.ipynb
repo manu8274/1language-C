{
 "cells": [
  {
   "cell_type": "code",
   "execution_count": 5,
   "id": "f91d25ed",
   "metadata": {},
   "outputs": [
    {
     "name": "stdout",
     "output_type": "stream",
     "text": [
      "------------------------\n"
     ]
    }
   ],
   "source": [
    "def printline():\n",
    "    print(\"------------------------\")\n",
    "    \n",
    "printline()"
   ]
  },
  {
   "cell_type": "code",
   "execution_count": 6,
   "id": "db97f209",
   "metadata": {},
   "outputs": [
    {
     "name": "stdout",
     "output_type": "stream",
     "text": [
      "HLO Mr.manu\n"
     ]
    }
   ],
   "source": [
    "def greeting(name):\n",
    "    print(\"HLO Mr.\" +name)\n",
    "    \n",
    "greeting(\"manu\")"
   ]
  },
  {
   "cell_type": "code",
   "execution_count": 6,
   "id": "d40fb20d",
   "metadata": {},
   "outputs": [
    {
     "name": "stdout",
     "output_type": "stream",
     "text": [
      "120\n"
     ]
    }
   ],
   "source": [
    "def factorial(n):\n",
    "    if (n==1 or n==0):\n",
    "        return(1)\n",
    "    else:\n",
    "        return(n*factorial(n-1))\n",
    "\n",
    "print(factorial(5))"
   ]
  },
  {
   "cell_type": "code",
   "execution_count": 6,
   "id": "f3608c06",
   "metadata": {},
   "outputs": [
    {
     "name": "stdout",
     "output_type": "stream",
     "text": [
      "55\n"
     ]
    }
   ],
   "source": [
    "def sum(n):\n",
    "    if (n==1):\n",
    "        return (1)\n",
    "    else:\n",
    "        return(n+sum(n-1))\n",
    "\n",
    "\n",
    "print(sum(10))\n"
   ]
  },
  {
   "cell_type": "code",
   "execution_count": null,
   "id": "292a0948",
   "metadata": {},
   "outputs": [],
   "source": []
  }
 ],
 "metadata": {
  "kernelspec": {
   "display_name": "Python 3 (ipykernel)",
   "language": "python",
   "name": "python3"
  },
  "language_info": {
   "codemirror_mode": {
    "name": "ipython",
    "version": 3
   },
   "file_extension": ".py",
   "mimetype": "text/x-python",
   "name": "python",
   "nbconvert_exporter": "python",
   "pygments_lexer": "ipython3",
   "version": "3.9.12"
  }
 },
 "nbformat": 4,
 "nbformat_minor": 5
}
