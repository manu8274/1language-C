{
 "cells": [
  {
   "cell_type": "code",
   "execution_count": 73,
   "metadata": {},
   "outputs": [],
   "source": [
    "import pandas as pd"
   ]
  },
  {
   "cell_type": "code",
   "execution_count": 74,
   "metadata": {},
   "outputs": [
    {
     "name": "stdout",
     "output_type": "stream",
     "text": [
      "         date  temp  windspeed season\n",
      "0   1/12/2023  18.0        NaN   rain\n",
      "1   1/11/2023   NaN        NaN   snow\n",
      "2   1/10/2023  22.0      100.0  sunny\n",
      "3    1/9/2023  30.0       30.0    NaN\n",
      "4    1/8/2023   NaN       20.0    NaN\n",
      "5    1/7/2023   NaN        NaN  sunny\n",
      "6    1/6/2023  40.0       30.0    NaN\n",
      "7    1/5/2023  43.0        NaN    NaN\n",
      "8    1/4/2023   NaN        NaN   cold\n",
      "9    1/3/2023  25.0        5.0    NaN\n",
      "10   1/2/2023  19.0        6.0    hot\n",
      "11   1/1/2023  17.0       10.0    NaN\n"
     ]
    }
   ],
   "source": [
    "data=pd.read_csv('WEATHER.csv.xls')\n",
    "print(data)"
   ]
  },
  {
   "cell_type": "code",
   "execution_count": 75,
   "metadata": {},
   "outputs": [
    {
     "name": "stdout",
     "output_type": "stream",
     "text": [
      "    index       date  temp  windspeed season\n",
      "0       0  1/12/2023  18.0        NaN   rain\n",
      "1       1  1/11/2023   NaN        NaN   snow\n",
      "2       2  1/10/2023  22.0      100.0  sunny\n",
      "3       3   1/9/2023  30.0       30.0    NaN\n",
      "4       4   1/8/2023   NaN       20.0    NaN\n",
      "5       5   1/7/2023   NaN        NaN  sunny\n",
      "6       6   1/6/2023  40.0       30.0    NaN\n",
      "7       7   1/5/2023  43.0        NaN    NaN\n",
      "8       9   1/3/2023  25.0        5.0    NaN\n",
      "9      10   1/2/2023  19.0        6.0    hot\n",
      "10     11   1/1/2023  17.0       10.0    NaN\n"
     ]
    }
   ],
   "source": [
    "data=pd.read_csv('WEATHER.csv.xls')\n",
    "data.drop(8,inplace=True)#to remove a row fully , if we use for loop so there is no 8 index\n",
    "data.reset_index(inplace=True) # to make index continue fully , if we use inplcae=true to print the new index \n",
    "print(data)"
   ]
  },
  {
   "cell_type": "code",
   "execution_count": 76,
   "metadata": {},
   "outputs": [
    {
     "name": "stdout",
     "output_type": "stream",
     "text": [
      "         date  windspeed\n",
      "0   1/12/2023        NaN\n",
      "1   1/11/2023        NaN\n",
      "2   1/10/2023      100.0\n",
      "3    1/9/2023       30.0\n",
      "4    1/8/2023       20.0\n",
      "5    1/7/2023        NaN\n",
      "6    1/6/2023       30.0\n",
      "7    1/5/2023        NaN\n",
      "8    1/4/2023        NaN\n",
      "9    1/3/2023        5.0\n",
      "10   1/2/2023        6.0\n",
      "11   1/1/2023       10.0\n"
     ]
    }
   ],
   "source": [
    "data=pd.read_csv('WEATHER.csv.xls')\n",
    "#data.drop('index',axis=1)#how to drop a column,,,inplce of index value\n",
    "data1=data.drop({\"temp\",\"season\"},axis=1)\n",
    "print(data1)"
   ]
  },
  {
   "cell_type": "code",
   "execution_count": 77,
   "metadata": {},
   "outputs": [
    {
     "name": "stdout",
     "output_type": "stream",
     "text": [
      "           temp  windspeed season\n",
      "date                             \n",
      "1/12/2023  18.0        NaN   rain\n",
      "1/11/2023   NaN        NaN   snow\n",
      "1/10/2023  22.0      100.0  sunny\n",
      "1/9/2023   30.0       30.0    NaN\n",
      "1/8/2023    NaN       20.0    NaN\n",
      "1/7/2023    NaN        NaN  sunny\n",
      "1/6/2023   40.0       30.0    NaN\n",
      "1/5/2023   43.0        NaN    NaN\n",
      "1/4/2023    NaN        NaN   cold\n",
      "1/3/2023   25.0        5.0    NaN\n",
      "1/2/2023   19.0        6.0    hot\n",
      "1/1/2023   17.0       10.0    NaN\n"
     ]
    }
   ],
   "source": [
    "data=pd.read_csv('WEATHER.csv.xls')\n",
    "data=data.set_index([\"date\"])\n",
    "print(data)"
   ]
  },
  {
   "cell_type": "code",
   "execution_count": 93,
   "metadata": {},
   "outputs": [
    {
     "name": "stdout",
     "output_type": "stream",
     "text": [
      "         date  temp  windspeed season\n",
      "0   1/12/2023  18.0        NaN   rain\n",
      "2   1/10/2023  22.0      100.0  sunny\n",
      "3    1/9/2023  30.0       30.0    NaN\n",
      "6    1/6/2023  40.0       30.0    NaN\n",
      "7    1/5/2023  43.0        NaN    NaN\n",
      "9    1/3/2023  25.0        5.0    NaN\n",
      "10   1/2/2023  19.0        6.0    hot\n"
     ]
    }
   ],
   "source": [
    "data=pd.read_csv('WEATHER.csv.xls')\n",
    "print(data[data.temp>=18])"
   ]
  },
  {
   "cell_type": "code",
   "execution_count": 89,
   "metadata": {},
   "outputs": [
    {
     "name": "stdout",
     "output_type": "stream",
     "text": [
      "        date  temp  windspeed season\n",
      "2  1/10/2023  22.0      100.0  sunny\n",
      "5   1/7/2023   NaN        NaN  sunny\n"
     ]
    }
   ],
   "source": [
    "print(data[data.season==\"sunny\"])"
   ]
  },
  {
   "cell_type": "code",
   "execution_count": 91,
   "metadata": {},
   "outputs": [
    {
     "name": "stdout",
     "output_type": "stream",
     "text": [
      "       date  temp  windspeed season\n",
      "7  1/5/2023  43.0        NaN    NaN\n"
     ]
    }
   ],
   "source": [
    "print(data[data.temp==max(data.temp)])"
   ]
  },
  {
   "cell_type": "code",
   "execution_count": 99,
   "metadata": {},
   "outputs": [
    {
     "name": "stdout",
     "output_type": "stream",
     "text": [
      "11    10.0\n",
      "Name: windspeed, dtype: float64\n",
      "hlo\n"
     ]
    }
   ],
   "source": [
    "print(data[data.temp==min(data.temp)]['windspeed'])"
   ]
  },
  {
   "cell_type": "code",
   "execution_count": 121,
   "metadata": {},
   "outputs": [
    {
     "name": "stdout",
     "output_type": "stream",
     "text": [
      "        date  temp  windspeed season\n",
      "9   1/3/2023  25.0        5.0    NaN\n",
      "10  1/2/2023  19.0        6.0    hot\n"
     ]
    },
    {
     "name": "stderr",
     "output_type": "stream",
     "text": [
      "C:\\Users\\manu1\\AppData\\Local\\Temp\\ipykernel_5872\\3336321478.py:1: UserWarning: Boolean Series key will be reindexed to match DataFrame index.\n",
      "  print(data[data.temp>18][data.windspeed<20])\n"
     ]
    }
   ],
   "source": [
    "print(data[data.temp>18][data.windspeed<20])"
   ]
  },
  {
   "cell_type": "code",
   "execution_count": 129,
   "metadata": {},
   "outputs": [
    {
     "name": "stdout",
     "output_type": "stream",
     "text": [
      "        date  temp  windspeed season\n",
      "2  1/10/2023  22.0      100.0  sunny\n",
      "3   1/9/2023  30.0       30.0    NaN\n",
      "6   1/6/2023  40.0       30.0    NaN\n"
     ]
    }
   ],
   "source": [
    "data=pd.read_csv('WEATHER.csv.xls')\n",
    "print(data[(data['temp']>18)&(data['windspeed']>20)])"
   ]
  },
  {
   "cell_type": "code",
   "execution_count": null,
   "metadata": {},
   "outputs": [],
   "source": []
  }
 ],
 "metadata": {
  "kernelspec": {
   "display_name": "Python 3",
   "language": "python",
   "name": "python3"
  },
  "language_info": {
   "codemirror_mode": {
    "name": "ipython",
    "version": 3
   },
   "file_extension": ".py",
   "mimetype": "text/x-python",
   "name": "python",
   "nbconvert_exporter": "python",
   "pygments_lexer": "ipython3",
   "version": "3.10.4"
  }
 },
 "nbformat": 4,
 "nbformat_minor": 2
}
