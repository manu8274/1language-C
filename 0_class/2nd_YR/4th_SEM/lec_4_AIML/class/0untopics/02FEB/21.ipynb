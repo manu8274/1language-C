{
 "cells": [
  {
   "cell_type": "code",
   "execution_count": 1,
   "metadata": {},
   "outputs": [],
   "source": [
    "import numpy as np\n",
    "import pandas as pd\n",
    "import matplotlib.pyplot as plt\n",
    "import seaborn as sns"
   ]
  },
  {
   "cell_type": "code",
   "execution_count": 2,
   "metadata": {},
   "outputs": [],
   "source": [
    "import plotly.express as px"
   ]
  },
  {
   "cell_type": "code",
   "execution_count": 3,
   "metadata": {},
   "outputs": [
    {
     "data": {
      "application/vnd.plotly.v1+json": {
       "config": {
        "plotlyServerURL": "https://plot.ly"
       },
       "data": [
        {
         "hovertemplate": "year=%{x}<br>gdpPercap=%{y}<extra></extra>",
         "legendgroup": "",
         "line": {
          "color": "#636efa",
          "dash": "solid"
         },
         "marker": {
          "symbol": "circle"
         },
         "mode": "lines",
         "name": "",
         "orientation": "v",
         "showlegend": false,
         "type": "scatter",
         "x": [
          1952,
          1957,
          1962,
          1967,
          1972,
          1977,
          1982,
          1987,
          1992,
          1997,
          2002,
          2007
         ],
         "xaxis": "x",
         "y": [
          11367.16112,
          12489.95006,
          13462.48555,
          16076.58803,
          18970.57086,
          22090.88306,
          22898.79214,
          26626.51503,
          26342.88426,
          28954.92589,
          33328.96507,
          36319.23501
         ],
         "yaxis": "y"
        }
       ],
       "layout": {
        "legend": {
         "tracegroupgap": 0
        },
        "template": {
         "data": {
          "bar": [
           {
            "error_x": {
             "color": "#2a3f5f"
            },
            "error_y": {
             "color": "#2a3f5f"
            },
            "marker": {
             "line": {
              "color": "#E5ECF6",
              "width": 0.5
             },
             "pattern": {
              "fillmode": "overlay",
              "size": 10,
              "solidity": 0.2
             }
            },
            "type": "bar"
           }
          ],
          "barpolar": [
           {
            "marker": {
             "line": {
              "color": "#E5ECF6",
              "width": 0.5
             },
             "pattern": {
              "fillmode": "overlay",
              "size": 10,
              "solidity": 0.2
             }
            },
            "type": "barpolar"
           }
          ],
          "carpet": [
           {
            "aaxis": {
             "endlinecolor": "#2a3f5f",
             "gridcolor": "white",
             "linecolor": "white",
             "minorgridcolor": "white",
             "startlinecolor": "#2a3f5f"
            },
            "baxis": {
             "endlinecolor": "#2a3f5f",
             "gridcolor": "white",
             "linecolor": "white",
             "minorgridcolor": "white",
             "startlinecolor": "#2a3f5f"
            },
            "type": "carpet"
           }
          ],
          "choropleth": [
           {
            "colorbar": {
             "outlinewidth": 0,
             "ticks": ""
            },
            "type": "choropleth"
           }
          ],
          "contour": [
           {
            "colorbar": {
             "outlinewidth": 0,
             "ticks": ""
            },
            "colorscale": [
             [
              0,
              "#0d0887"
             ],
             [
              0.1111111111111111,
              "#46039f"
             ],
             [
              0.2222222222222222,
              "#7201a8"
             ],
             [
              0.3333333333333333,
              "#9c179e"
             ],
             [
              0.4444444444444444,
              "#bd3786"
             ],
             [
              0.5555555555555556,
              "#d8576b"
             ],
             [
              0.6666666666666666,
              "#ed7953"
             ],
             [
              0.7777777777777778,
              "#fb9f3a"
             ],
             [
              0.8888888888888888,
              "#fdca26"
             ],
             [
              1,
              "#f0f921"
             ]
            ],
            "type": "contour"
           }
          ],
          "contourcarpet": [
           {
            "colorbar": {
             "outlinewidth": 0,
             "ticks": ""
            },
            "type": "contourcarpet"
           }
          ],
          "heatmap": [
           {
            "colorbar": {
             "outlinewidth": 0,
             "ticks": ""
            },
            "colorscale": [
             [
              0,
              "#0d0887"
             ],
             [
              0.1111111111111111,
              "#46039f"
             ],
             [
              0.2222222222222222,
              "#7201a8"
             ],
             [
              0.3333333333333333,
              "#9c179e"
             ],
             [
              0.4444444444444444,
              "#bd3786"
             ],
             [
              0.5555555555555556,
              "#d8576b"
             ],
             [
              0.6666666666666666,
              "#ed7953"
             ],
             [
              0.7777777777777778,
              "#fb9f3a"
             ],
             [
              0.8888888888888888,
              "#fdca26"
             ],
             [
              1,
              "#f0f921"
             ]
            ],
            "type": "heatmap"
           }
          ],
          "heatmapgl": [
           {
            "colorbar": {
             "outlinewidth": 0,
             "ticks": ""
            },
            "colorscale": [
             [
              0,
              "#0d0887"
             ],
             [
              0.1111111111111111,
              "#46039f"
             ],
             [
              0.2222222222222222,
              "#7201a8"
             ],
             [
              0.3333333333333333,
              "#9c179e"
             ],
             [
              0.4444444444444444,
              "#bd3786"
             ],
             [
              0.5555555555555556,
              "#d8576b"
             ],
             [
              0.6666666666666666,
              "#ed7953"
             ],
             [
              0.7777777777777778,
              "#fb9f3a"
             ],
             [
              0.8888888888888888,
              "#fdca26"
             ],
             [
              1,
              "#f0f921"
             ]
            ],
            "type": "heatmapgl"
           }
          ],
          "histogram": [
           {
            "marker": {
             "pattern": {
              "fillmode": "overlay",
              "size": 10,
              "solidity": 0.2
             }
            },
            "type": "histogram"
           }
          ],
          "histogram2d": [
           {
            "colorbar": {
             "outlinewidth": 0,
             "ticks": ""
            },
            "colorscale": [
             [
              0,
              "#0d0887"
             ],
             [
              0.1111111111111111,
              "#46039f"
             ],
             [
              0.2222222222222222,
              "#7201a8"
             ],
             [
              0.3333333333333333,
              "#9c179e"
             ],
             [
              0.4444444444444444,
              "#bd3786"
             ],
             [
              0.5555555555555556,
              "#d8576b"
             ],
             [
              0.6666666666666666,
              "#ed7953"
             ],
             [
              0.7777777777777778,
              "#fb9f3a"
             ],
             [
              0.8888888888888888,
              "#fdca26"
             ],
             [
              1,
              "#f0f921"
             ]
            ],
            "type": "histogram2d"
           }
          ],
          "histogram2dcontour": [
           {
            "colorbar": {
             "outlinewidth": 0,
             "ticks": ""
            },
            "colorscale": [
             [
              0,
              "#0d0887"
             ],
             [
              0.1111111111111111,
              "#46039f"
             ],
             [
              0.2222222222222222,
              "#7201a8"
             ],
             [
              0.3333333333333333,
              "#9c179e"
             ],
             [
              0.4444444444444444,
              "#bd3786"
             ],
             [
              0.5555555555555556,
              "#d8576b"
             ],
             [
              0.6666666666666666,
              "#ed7953"
             ],
             [
              0.7777777777777778,
              "#fb9f3a"
             ],
             [
              0.8888888888888888,
              "#fdca26"
             ],
             [
              1,
              "#f0f921"
             ]
            ],
            "type": "histogram2dcontour"
           }
          ],
          "mesh3d": [
           {
            "colorbar": {
             "outlinewidth": 0,
             "ticks": ""
            },
            "type": "mesh3d"
           }
          ],
          "parcoords": [
           {
            "line": {
             "colorbar": {
              "outlinewidth": 0,
              "ticks": ""
             }
            },
            "type": "parcoords"
           }
          ],
          "pie": [
           {
            "automargin": true,
            "type": "pie"
           }
          ],
          "scatter": [
           {
            "fillpattern": {
             "fillmode": "overlay",
             "size": 10,
             "solidity": 0.2
            },
            "type": "scatter"
           }
          ],
          "scatter3d": [
           {
            "line": {
             "colorbar": {
              "outlinewidth": 0,
              "ticks": ""
             }
            },
            "marker": {
             "colorbar": {
              "outlinewidth": 0,
              "ticks": ""
             }
            },
            "type": "scatter3d"
           }
          ],
          "scattercarpet": [
           {
            "marker": {
             "colorbar": {
              "outlinewidth": 0,
              "ticks": ""
             }
            },
            "type": "scattercarpet"
           }
          ],
          "scattergeo": [
           {
            "marker": {
             "colorbar": {
              "outlinewidth": 0,
              "ticks": ""
             }
            },
            "type": "scattergeo"
           }
          ],
          "scattergl": [
           {
            "marker": {
             "colorbar": {
              "outlinewidth": 0,
              "ticks": ""
             }
            },
            "type": "scattergl"
           }
          ],
          "scattermapbox": [
           {
            "marker": {
             "colorbar": {
              "outlinewidth": 0,
              "ticks": ""
             }
            },
            "type": "scattermapbox"
           }
          ],
          "scatterpolar": [
           {
            "marker": {
             "colorbar": {
              "outlinewidth": 0,
              "ticks": ""
             }
            },
            "type": "scatterpolar"
           }
          ],
          "scatterpolargl": [
           {
            "marker": {
             "colorbar": {
              "outlinewidth": 0,
              "ticks": ""
             }
            },
            "type": "scatterpolargl"
           }
          ],
          "scatterternary": [
           {
            "marker": {
             "colorbar": {
              "outlinewidth": 0,
              "ticks": ""
             }
            },
            "type": "scatterternary"
           }
          ],
          "surface": [
           {
            "colorbar": {
             "outlinewidth": 0,
             "ticks": ""
            },
            "colorscale": [
             [
              0,
              "#0d0887"
             ],
             [
              0.1111111111111111,
              "#46039f"
             ],
             [
              0.2222222222222222,
              "#7201a8"
             ],
             [
              0.3333333333333333,
              "#9c179e"
             ],
             [
              0.4444444444444444,
              "#bd3786"
             ],
             [
              0.5555555555555556,
              "#d8576b"
             ],
             [
              0.6666666666666666,
              "#ed7953"
             ],
             [
              0.7777777777777778,
              "#fb9f3a"
             ],
             [
              0.8888888888888888,
              "#fdca26"
             ],
             [
              1,
              "#f0f921"
             ]
            ],
            "type": "surface"
           }
          ],
          "table": [
           {
            "cells": {
             "fill": {
              "color": "#EBF0F8"
             },
             "line": {
              "color": "white"
             }
            },
            "header": {
             "fill": {
              "color": "#C8D4E3"
             },
             "line": {
              "color": "white"
             }
            },
            "type": "table"
           }
          ]
         },
         "layout": {
          "annotationdefaults": {
           "arrowcolor": "#2a3f5f",
           "arrowhead": 0,
           "arrowwidth": 1
          },
          "autotypenumbers": "strict",
          "coloraxis": {
           "colorbar": {
            "outlinewidth": 0,
            "ticks": ""
           }
          },
          "colorscale": {
           "diverging": [
            [
             0,
             "#8e0152"
            ],
            [
             0.1,
             "#c51b7d"
            ],
            [
             0.2,
             "#de77ae"
            ],
            [
             0.3,
             "#f1b6da"
            ],
            [
             0.4,
             "#fde0ef"
            ],
            [
             0.5,
             "#f7f7f7"
            ],
            [
             0.6,
             "#e6f5d0"
            ],
            [
             0.7,
             "#b8e186"
            ],
            [
             0.8,
             "#7fbc41"
            ],
            [
             0.9,
             "#4d9221"
            ],
            [
             1,
             "#276419"
            ]
           ],
           "sequential": [
            [
             0,
             "#0d0887"
            ],
            [
             0.1111111111111111,
             "#46039f"
            ],
            [
             0.2222222222222222,
             "#7201a8"
            ],
            [
             0.3333333333333333,
             "#9c179e"
            ],
            [
             0.4444444444444444,
             "#bd3786"
            ],
            [
             0.5555555555555556,
             "#d8576b"
            ],
            [
             0.6666666666666666,
             "#ed7953"
            ],
            [
             0.7777777777777778,
             "#fb9f3a"
            ],
            [
             0.8888888888888888,
             "#fdca26"
            ],
            [
             1,
             "#f0f921"
            ]
           ],
           "sequentialminus": [
            [
             0,
             "#0d0887"
            ],
            [
             0.1111111111111111,
             "#46039f"
            ],
            [
             0.2222222222222222,
             "#7201a8"
            ],
            [
             0.3333333333333333,
             "#9c179e"
            ],
            [
             0.4444444444444444,
             "#bd3786"
            ],
            [
             0.5555555555555556,
             "#d8576b"
            ],
            [
             0.6666666666666666,
             "#ed7953"
            ],
            [
             0.7777777777777778,
             "#fb9f3a"
            ],
            [
             0.8888888888888888,
             "#fdca26"
            ],
            [
             1,
             "#f0f921"
            ]
           ]
          },
          "colorway": [
           "#636efa",
           "#EF553B",
           "#00cc96",
           "#ab63fa",
           "#FFA15A",
           "#19d3f3",
           "#FF6692",
           "#B6E880",
           "#FF97FF",
           "#FECB52"
          ],
          "font": {
           "color": "#2a3f5f"
          },
          "geo": {
           "bgcolor": "white",
           "lakecolor": "white",
           "landcolor": "#E5ECF6",
           "showlakes": true,
           "showland": true,
           "subunitcolor": "white"
          },
          "hoverlabel": {
           "align": "left"
          },
          "hovermode": "closest",
          "mapbox": {
           "style": "light"
          },
          "paper_bgcolor": "white",
          "plot_bgcolor": "#E5ECF6",
          "polar": {
           "angularaxis": {
            "gridcolor": "white",
            "linecolor": "white",
            "ticks": ""
           },
           "bgcolor": "#E5ECF6",
           "radialaxis": {
            "gridcolor": "white",
            "linecolor": "white",
            "ticks": ""
           }
          },
          "scene": {
           "xaxis": {
            "backgroundcolor": "#E5ECF6",
            "gridcolor": "white",
            "gridwidth": 2,
            "linecolor": "white",
            "showbackground": true,
            "ticks": "",
            "zerolinecolor": "white"
           },
           "yaxis": {
            "backgroundcolor": "#E5ECF6",
            "gridcolor": "white",
            "gridwidth": 2,
            "linecolor": "white",
            "showbackground": true,
            "ticks": "",
            "zerolinecolor": "white"
           },
           "zaxis": {
            "backgroundcolor": "#E5ECF6",
            "gridcolor": "white",
            "gridwidth": 2,
            "linecolor": "white",
            "showbackground": true,
            "ticks": "",
            "zerolinecolor": "white"
           }
          },
          "shapedefaults": {
           "line": {
            "color": "#2a3f5f"
           }
          },
          "ternary": {
           "aaxis": {
            "gridcolor": "white",
            "linecolor": "white",
            "ticks": ""
           },
           "baxis": {
            "gridcolor": "white",
            "linecolor": "white",
            "ticks": ""
           },
           "bgcolor": "#E5ECF6",
           "caxis": {
            "gridcolor": "white",
            "linecolor": "white",
            "ticks": ""
           }
          },
          "title": {
           "x": 0.05
          },
          "xaxis": {
           "automargin": true,
           "gridcolor": "white",
           "linecolor": "white",
           "ticks": "",
           "title": {
            "standoff": 15
           },
           "zerolinecolor": "white",
           "zerolinewidth": 2
          },
          "yaxis": {
           "automargin": true,
           "gridcolor": "white",
           "linecolor": "white",
           "ticks": "",
           "title": {
            "standoff": 15
           },
           "zerolinecolor": "white",
           "zerolinewidth": 2
          }
         }
        },
        "title": {
         "text": "GDP Per Capita Over Time"
        },
        "xaxis": {
         "anchor": "y",
         "domain": [
          0,
          1
         ],
         "title": {
          "text": "year"
         }
        },
        "yaxis": {
         "anchor": "x",
         "domain": [
          0,
          1
         ],
         "title": {
          "text": "gdpPercap"
         }
        }
       }
      }
     },
     "metadata": {},
     "output_type": "display_data"
    }
   ],
   "source": [
    "df=px.data.gapminder().query(\"country == 'Canada'\")\n",
    "fig=px.line(df,x='year',y='gdpPercap',title='GDP Per Capita Over Time')\n",
    "fig.show()\n"
   ]
  },
  {
   "cell_type": "code",
   "execution_count": 5,
   "metadata": {},
   "outputs": [
    {
     "data": {
      "application/vnd.plotly.v1+json": {
       "config": {
        "plotlyServerURL": "https://plot.ly"
       },
       "data": [
        {
         "alignmentgroup": "True",
         "hovertemplate": "sepal_width=%{x}<br>sepal_length=%{y}<extra></extra>",
         "legendgroup": "",
         "marker": {
          "color": "#636efa",
          "pattern": {
           "shape": ""
          }
         },
         "name": "",
         "offsetgroup": "",
         "orientation": "v",
         "showlegend": false,
         "textposition": "auto",
         "type": "bar",
         "x": [
          3.5,
          3,
          3.2,
          3.1,
          3.6,
          3.9,
          3.4,
          3.4,
          2.9,
          3.1,
          3.7,
          3.4,
          3,
          3,
          4,
          4.4,
          3.9,
          3.5,
          3.8,
          3.8,
          3.4,
          3.7,
          3.6,
          3.3,
          3.4,
          3,
          3.4,
          3.5,
          3.4,
          3.2,
          3.1,
          3.4,
          4.1,
          4.2,
          3.1,
          3.2,
          3.5,
          3.1,
          3,
          3.4,
          3.5,
          2.3,
          3.2,
          3.5,
          3.8,
          3,
          3.8,
          3.2,
          3.7,
          3.3,
          3.2,
          3.2,
          3.1,
          2.3,
          2.8,
          2.8,
          3.3,
          2.4,
          2.9,
          2.7,
          2,
          3,
          2.2,
          2.9,
          2.9,
          3.1,
          3,
          2.7,
          2.2,
          2.5,
          3.2,
          2.8,
          2.5,
          2.8,
          2.9,
          3,
          2.8,
          3,
          2.9,
          2.6,
          2.4,
          2.4,
          2.7,
          2.7,
          3,
          3.4,
          3.1,
          2.3,
          3,
          2.5,
          2.6,
          3,
          2.6,
          2.3,
          2.7,
          3,
          2.9,
          2.9,
          2.5,
          2.8,
          3.3,
          2.7,
          3,
          2.9,
          3,
          3,
          2.5,
          2.9,
          2.5,
          3.6,
          3.2,
          2.7,
          3,
          2.5,
          2.8,
          3.2,
          3,
          3.8,
          2.6,
          2.2,
          3.2,
          2.8,
          2.8,
          2.7,
          3.3,
          3.2,
          2.8,
          3,
          2.8,
          3,
          2.8,
          3.8,
          2.8,
          2.8,
          2.6,
          3,
          3.4,
          3.1,
          3,
          3.1,
          3.1,
          3.1,
          2.7,
          3.2,
          3.3,
          3,
          2.5,
          3,
          3.4,
          3
         ],
         "xaxis": "x",
         "y": [
          5.1,
          4.9,
          4.7,
          4.6,
          5,
          5.4,
          4.6,
          5,
          4.4,
          4.9,
          5.4,
          4.8,
          4.8,
          4.3,
          5.8,
          5.7,
          5.4,
          5.1,
          5.7,
          5.1,
          5.4,
          5.1,
          4.6,
          5.1,
          4.8,
          5,
          5,
          5.2,
          5.2,
          4.7,
          4.8,
          5.4,
          5.2,
          5.5,
          4.9,
          5,
          5.5,
          4.9,
          4.4,
          5.1,
          5,
          4.5,
          4.4,
          5,
          5.1,
          4.8,
          5.1,
          4.6,
          5.3,
          5,
          7,
          6.4,
          6.9,
          5.5,
          6.5,
          5.7,
          6.3,
          4.9,
          6.6,
          5.2,
          5,
          5.9,
          6,
          6.1,
          5.6,
          6.7,
          5.6,
          5.8,
          6.2,
          5.6,
          5.9,
          6.1,
          6.3,
          6.1,
          6.4,
          6.6,
          6.8,
          6.7,
          6,
          5.7,
          5.5,
          5.5,
          5.8,
          6,
          5.4,
          6,
          6.7,
          6.3,
          5.6,
          5.5,
          5.5,
          6.1,
          5.8,
          5,
          5.6,
          5.7,
          5.7,
          6.2,
          5.1,
          5.7,
          6.3,
          5.8,
          7.1,
          6.3,
          6.5,
          7.6,
          4.9,
          7.3,
          6.7,
          7.2,
          6.5,
          6.4,
          6.8,
          5.7,
          5.8,
          6.4,
          6.5,
          7.7,
          7.7,
          6,
          6.9,
          5.6,
          7.7,
          6.3,
          6.7,
          7.2,
          6.2,
          6.1,
          6.4,
          7.2,
          7.4,
          7.9,
          6.4,
          6.3,
          6.1,
          7.7,
          6.3,
          6.4,
          6,
          6.9,
          6.7,
          6.9,
          5.8,
          6.8,
          6.7,
          6.7,
          6.3,
          6.5,
          6.2,
          5.9
         ],
         "yaxis": "y"
        }
       ],
       "layout": {
        "barmode": "relative",
        "legend": {
         "tracegroupgap": 0
        },
        "margin": {
         "t": 60
        },
        "template": {
         "data": {
          "bar": [
           {
            "error_x": {
             "color": "#2a3f5f"
            },
            "error_y": {
             "color": "#2a3f5f"
            },
            "marker": {
             "line": {
              "color": "#E5ECF6",
              "width": 0.5
             },
             "pattern": {
              "fillmode": "overlay",
              "size": 10,
              "solidity": 0.2
             }
            },
            "type": "bar"
           }
          ],
          "barpolar": [
           {
            "marker": {
             "line": {
              "color": "#E5ECF6",
              "width": 0.5
             },
             "pattern": {
              "fillmode": "overlay",
              "size": 10,
              "solidity": 0.2
             }
            },
            "type": "barpolar"
           }
          ],
          "carpet": [
           {
            "aaxis": {
             "endlinecolor": "#2a3f5f",
             "gridcolor": "white",
             "linecolor": "white",
             "minorgridcolor": "white",
             "startlinecolor": "#2a3f5f"
            },
            "baxis": {
             "endlinecolor": "#2a3f5f",
             "gridcolor": "white",
             "linecolor": "white",
             "minorgridcolor": "white",
             "startlinecolor": "#2a3f5f"
            },
            "type": "carpet"
           }
          ],
          "choropleth": [
           {
            "colorbar": {
             "outlinewidth": 0,
             "ticks": ""
            },
            "type": "choropleth"
           }
          ],
          "contour": [
           {
            "colorbar": {
             "outlinewidth": 0,
             "ticks": ""
            },
            "colorscale": [
             [
              0,
              "#0d0887"
             ],
             [
              0.1111111111111111,
              "#46039f"
             ],
             [
              0.2222222222222222,
              "#7201a8"
             ],
             [
              0.3333333333333333,
              "#9c179e"
             ],
             [
              0.4444444444444444,
              "#bd3786"
             ],
             [
              0.5555555555555556,
              "#d8576b"
             ],
             [
              0.6666666666666666,
              "#ed7953"
             ],
             [
              0.7777777777777778,
              "#fb9f3a"
             ],
             [
              0.8888888888888888,
              "#fdca26"
             ],
             [
              1,
              "#f0f921"
             ]
            ],
            "type": "contour"
           }
          ],
          "contourcarpet": [
           {
            "colorbar": {
             "outlinewidth": 0,
             "ticks": ""
            },
            "type": "contourcarpet"
           }
          ],
          "heatmap": [
           {
            "colorbar": {
             "outlinewidth": 0,
             "ticks": ""
            },
            "colorscale": [
             [
              0,
              "#0d0887"
             ],
             [
              0.1111111111111111,
              "#46039f"
             ],
             [
              0.2222222222222222,
              "#7201a8"
             ],
             [
              0.3333333333333333,
              "#9c179e"
             ],
             [
              0.4444444444444444,
              "#bd3786"
             ],
             [
              0.5555555555555556,
              "#d8576b"
             ],
             [
              0.6666666666666666,
              "#ed7953"
             ],
             [
              0.7777777777777778,
              "#fb9f3a"
             ],
             [
              0.8888888888888888,
              "#fdca26"
             ],
             [
              1,
              "#f0f921"
             ]
            ],
            "type": "heatmap"
           }
          ],
          "heatmapgl": [
           {
            "colorbar": {
             "outlinewidth": 0,
             "ticks": ""
            },
            "colorscale": [
             [
              0,
              "#0d0887"
             ],
             [
              0.1111111111111111,
              "#46039f"
             ],
             [
              0.2222222222222222,
              "#7201a8"
             ],
             [
              0.3333333333333333,
              "#9c179e"
             ],
             [
              0.4444444444444444,
              "#bd3786"
             ],
             [
              0.5555555555555556,
              "#d8576b"
             ],
             [
              0.6666666666666666,
              "#ed7953"
             ],
             [
              0.7777777777777778,
              "#fb9f3a"
             ],
             [
              0.8888888888888888,
              "#fdca26"
             ],
             [
              1,
              "#f0f921"
             ]
            ],
            "type": "heatmapgl"
           }
          ],
          "histogram": [
           {
            "marker": {
             "pattern": {
              "fillmode": "overlay",
              "size": 10,
              "solidity": 0.2
             }
            },
            "type": "histogram"
           }
          ],
          "histogram2d": [
           {
            "colorbar": {
             "outlinewidth": 0,
             "ticks": ""
            },
            "colorscale": [
             [
              0,
              "#0d0887"
             ],
             [
              0.1111111111111111,
              "#46039f"
             ],
             [
              0.2222222222222222,
              "#7201a8"
             ],
             [
              0.3333333333333333,
              "#9c179e"
             ],
             [
              0.4444444444444444,
              "#bd3786"
             ],
             [
              0.5555555555555556,
              "#d8576b"
             ],
             [
              0.6666666666666666,
              "#ed7953"
             ],
             [
              0.7777777777777778,
              "#fb9f3a"
             ],
             [
              0.8888888888888888,
              "#fdca26"
             ],
             [
              1,
              "#f0f921"
             ]
            ],
            "type": "histogram2d"
           }
          ],
          "histogram2dcontour": [
           {
            "colorbar": {
             "outlinewidth": 0,
             "ticks": ""
            },
            "colorscale": [
             [
              0,
              "#0d0887"
             ],
             [
              0.1111111111111111,
              "#46039f"
             ],
             [
              0.2222222222222222,
              "#7201a8"
             ],
             [
              0.3333333333333333,
              "#9c179e"
             ],
             [
              0.4444444444444444,
              "#bd3786"
             ],
             [
              0.5555555555555556,
              "#d8576b"
             ],
             [
              0.6666666666666666,
              "#ed7953"
             ],
             [
              0.7777777777777778,
              "#fb9f3a"
             ],
             [
              0.8888888888888888,
              "#fdca26"
             ],
             [
              1,
              "#f0f921"
             ]
            ],
            "type": "histogram2dcontour"
           }
          ],
          "mesh3d": [
           {
            "colorbar": {
             "outlinewidth": 0,
             "ticks": ""
            },
            "type": "mesh3d"
           }
          ],
          "parcoords": [
           {
            "line": {
             "colorbar": {
              "outlinewidth": 0,
              "ticks": ""
             }
            },
            "type": "parcoords"
           }
          ],
          "pie": [
           {
            "automargin": true,
            "type": "pie"
           }
          ],
          "scatter": [
           {
            "fillpattern": {
             "fillmode": "overlay",
             "size": 10,
             "solidity": 0.2
            },
            "type": "scatter"
           }
          ],
          "scatter3d": [
           {
            "line": {
             "colorbar": {
              "outlinewidth": 0,
              "ticks": ""
             }
            },
            "marker": {
             "colorbar": {
              "outlinewidth": 0,
              "ticks": ""
             }
            },
            "type": "scatter3d"
           }
          ],
          "scattercarpet": [
           {
            "marker": {
             "colorbar": {
              "outlinewidth": 0,
              "ticks": ""
             }
            },
            "type": "scattercarpet"
           }
          ],
          "scattergeo": [
           {
            "marker": {
             "colorbar": {
              "outlinewidth": 0,
              "ticks": ""
             }
            },
            "type": "scattergeo"
           }
          ],
          "scattergl": [
           {
            "marker": {
             "colorbar": {
              "outlinewidth": 0,
              "ticks": ""
             }
            },
            "type": "scattergl"
           }
          ],
          "scattermapbox": [
           {
            "marker": {
             "colorbar": {
              "outlinewidth": 0,
              "ticks": ""
             }
            },
            "type": "scattermapbox"
           }
          ],
          "scatterpolar": [
           {
            "marker": {
             "colorbar": {
              "outlinewidth": 0,
              "ticks": ""
             }
            },
            "type": "scatterpolar"
           }
          ],
          "scatterpolargl": [
           {
            "marker": {
             "colorbar": {
              "outlinewidth": 0,
              "ticks": ""
             }
            },
            "type": "scatterpolargl"
           }
          ],
          "scatterternary": [
           {
            "marker": {
             "colorbar": {
              "outlinewidth": 0,
              "ticks": ""
             }
            },
            "type": "scatterternary"
           }
          ],
          "surface": [
           {
            "colorbar": {
             "outlinewidth": 0,
             "ticks": ""
            },
            "colorscale": [
             [
              0,
              "#0d0887"
             ],
             [
              0.1111111111111111,
              "#46039f"
             ],
             [
              0.2222222222222222,
              "#7201a8"
             ],
             [
              0.3333333333333333,
              "#9c179e"
             ],
             [
              0.4444444444444444,
              "#bd3786"
             ],
             [
              0.5555555555555556,
              "#d8576b"
             ],
             [
              0.6666666666666666,
              "#ed7953"
             ],
             [
              0.7777777777777778,
              "#fb9f3a"
             ],
             [
              0.8888888888888888,
              "#fdca26"
             ],
             [
              1,
              "#f0f921"
             ]
            ],
            "type": "surface"
           }
          ],
          "table": [
           {
            "cells": {
             "fill": {
              "color": "#EBF0F8"
             },
             "line": {
              "color": "white"
             }
            },
            "header": {
             "fill": {
              "color": "#C8D4E3"
             },
             "line": {
              "color": "white"
             }
            },
            "type": "table"
           }
          ]
         },
         "layout": {
          "annotationdefaults": {
           "arrowcolor": "#2a3f5f",
           "arrowhead": 0,
           "arrowwidth": 1
          },
          "autotypenumbers": "strict",
          "coloraxis": {
           "colorbar": {
            "outlinewidth": 0,
            "ticks": ""
           }
          },
          "colorscale": {
           "diverging": [
            [
             0,
             "#8e0152"
            ],
            [
             0.1,
             "#c51b7d"
            ],
            [
             0.2,
             "#de77ae"
            ],
            [
             0.3,
             "#f1b6da"
            ],
            [
             0.4,
             "#fde0ef"
            ],
            [
             0.5,
             "#f7f7f7"
            ],
            [
             0.6,
             "#e6f5d0"
            ],
            [
             0.7,
             "#b8e186"
            ],
            [
             0.8,
             "#7fbc41"
            ],
            [
             0.9,
             "#4d9221"
            ],
            [
             1,
             "#276419"
            ]
           ],
           "sequential": [
            [
             0,
             "#0d0887"
            ],
            [
             0.1111111111111111,
             "#46039f"
            ],
            [
             0.2222222222222222,
             "#7201a8"
            ],
            [
             0.3333333333333333,
             "#9c179e"
            ],
            [
             0.4444444444444444,
             "#bd3786"
            ],
            [
             0.5555555555555556,
             "#d8576b"
            ],
            [
             0.6666666666666666,
             "#ed7953"
            ],
            [
             0.7777777777777778,
             "#fb9f3a"
            ],
            [
             0.8888888888888888,
             "#fdca26"
            ],
            [
             1,
             "#f0f921"
            ]
           ],
           "sequentialminus": [
            [
             0,
             "#0d0887"
            ],
            [
             0.1111111111111111,
             "#46039f"
            ],
            [
             0.2222222222222222,
             "#7201a8"
            ],
            [
             0.3333333333333333,
             "#9c179e"
            ],
            [
             0.4444444444444444,
             "#bd3786"
            ],
            [
             0.5555555555555556,
             "#d8576b"
            ],
            [
             0.6666666666666666,
             "#ed7953"
            ],
            [
             0.7777777777777778,
             "#fb9f3a"
            ],
            [
             0.8888888888888888,
             "#fdca26"
            ],
            [
             1,
             "#f0f921"
            ]
           ]
          },
          "colorway": [
           "#636efa",
           "#EF553B",
           "#00cc96",
           "#ab63fa",
           "#FFA15A",
           "#19d3f3",
           "#FF6692",
           "#B6E880",
           "#FF97FF",
           "#FECB52"
          ],
          "font": {
           "color": "#2a3f5f"
          },
          "geo": {
           "bgcolor": "white",
           "lakecolor": "white",
           "landcolor": "#E5ECF6",
           "showlakes": true,
           "showland": true,
           "subunitcolor": "white"
          },
          "hoverlabel": {
           "align": "left"
          },
          "hovermode": "closest",
          "mapbox": {
           "style": "light"
          },
          "paper_bgcolor": "white",
          "plot_bgcolor": "#E5ECF6",
          "polar": {
           "angularaxis": {
            "gridcolor": "white",
            "linecolor": "white",
            "ticks": ""
           },
           "bgcolor": "#E5ECF6",
           "radialaxis": {
            "gridcolor": "white",
            "linecolor": "white",
            "ticks": ""
           }
          },
          "scene": {
           "xaxis": {
            "backgroundcolor": "#E5ECF6",
            "gridcolor": "white",
            "gridwidth": 2,
            "linecolor": "white",
            "showbackground": true,
            "ticks": "",
            "zerolinecolor": "white"
           },
           "yaxis": {
            "backgroundcolor": "#E5ECF6",
            "gridcolor": "white",
            "gridwidth": 2,
            "linecolor": "white",
            "showbackground": true,
            "ticks": "",
            "zerolinecolor": "white"
           },
           "zaxis": {
            "backgroundcolor": "#E5ECF6",
            "gridcolor": "white",
            "gridwidth": 2,
            "linecolor": "white",
            "showbackground": true,
            "ticks": "",
            "zerolinecolor": "white"
           }
          },
          "shapedefaults": {
           "line": {
            "color": "#2a3f5f"
           }
          },
          "ternary": {
           "aaxis": {
            "gridcolor": "white",
            "linecolor": "white",
            "ticks": ""
           },
           "baxis": {
            "gridcolor": "white",
            "linecolor": "white",
            "ticks": ""
           },
           "bgcolor": "#E5ECF6",
           "caxis": {
            "gridcolor": "white",
            "linecolor": "white",
            "ticks": ""
           }
          },
          "title": {
           "x": 0.05
          },
          "xaxis": {
           "automargin": true,
           "gridcolor": "white",
           "linecolor": "white",
           "ticks": "",
           "title": {
            "standoff": 15
           },
           "zerolinecolor": "white",
           "zerolinewidth": 2
          },
          "yaxis": {
           "automargin": true,
           "gridcolor": "white",
           "linecolor": "white",
           "ticks": "",
           "title": {
            "standoff": 15
           },
           "zerolinecolor": "white",
           "zerolinewidth": 2
          }
         }
        },
        "xaxis": {
         "anchor": "y",
         "domain": [
          0,
          1
         ],
         "title": {
          "text": "sepal_width"
         }
        },
        "yaxis": {
         "anchor": "x",
         "domain": [
          0,
          1
         ],
         "title": {
          "text": "sepal_length"
         }
        }
       }
      }
     },
     "metadata": {},
     "output_type": "display_data"
    }
   ],
   "source": [
    "df=px.data.iris()\n",
    "fig=px.bar(df,x=\"sepal_width\",y=\"sepal_length\")\n",
    "fig.show()"
   ]
  },
  {
   "cell_type": "code",
   "execution_count": 7,
   "metadata": {},
   "outputs": [
    {
     "data": {
      "application/vnd.plotly.v1+json": {
       "config": {
        "plotlyServerURL": "https://plot.ly"
       },
       "data": [
        {
         "hovertemplate": "species=%{x}<br>petal_width=%{y}<br>petal_length=%{marker.size}<extra></extra>",
         "legendgroup": "setosa",
         "marker": {
          "color": "#636efa",
          "size": [
           1.4,
           1.4,
           1.3,
           1.5,
           1.4,
           1.7,
           1.4,
           1.5,
           1.4,
           1.5,
           1.5,
           1.6,
           1.4,
           1.1,
           1.2,
           1.5,
           1.3,
           1.4,
           1.7,
           1.5,
           1.7,
           1.5,
           1,
           1.7,
           1.9,
           1.6,
           1.6,
           1.5,
           1.4,
           1.6,
           1.6,
           1.5,
           1.5,
           1.4,
           1.5,
           1.2,
           1.3,
           1.5,
           1.3,
           1.5,
           1.3,
           1.3,
           1.3,
           1.6,
           1.9,
           1.4,
           1.6,
           1.4,
           1.5,
           1.4
          ],
          "sizemode": "area",
          "sizeref": 0.01725,
          "symbol": "circle"
         },
         "mode": "markers",
         "name": "setosa",
         "orientation": "v",
         "showlegend": true,
         "type": "scatter",
         "x": [
          "setosa",
          "setosa",
          "setosa",
          "setosa",
          "setosa",
          "setosa",
          "setosa",
          "setosa",
          "setosa",
          "setosa",
          "setosa",
          "setosa",
          "setosa",
          "setosa",
          "setosa",
          "setosa",
          "setosa",
          "setosa",
          "setosa",
          "setosa",
          "setosa",
          "setosa",
          "setosa",
          "setosa",
          "setosa",
          "setosa",
          "setosa",
          "setosa",
          "setosa",
          "setosa",
          "setosa",
          "setosa",
          "setosa",
          "setosa",
          "setosa",
          "setosa",
          "setosa",
          "setosa",
          "setosa",
          "setosa",
          "setosa",
          "setosa",
          "setosa",
          "setosa",
          "setosa",
          "setosa",
          "setosa",
          "setosa",
          "setosa",
          "setosa"
         ],
         "xaxis": "x",
         "y": [
          0.2,
          0.2,
          0.2,
          0.2,
          0.2,
          0.4,
          0.3,
          0.2,
          0.2,
          0.1,
          0.2,
          0.2,
          0.1,
          0.1,
          0.2,
          0.4,
          0.4,
          0.3,
          0.3,
          0.3,
          0.2,
          0.4,
          0.2,
          0.5,
          0.2,
          0.2,
          0.4,
          0.2,
          0.2,
          0.2,
          0.2,
          0.4,
          0.1,
          0.2,
          0.1,
          0.2,
          0.2,
          0.1,
          0.2,
          0.2,
          0.3,
          0.3,
          0.2,
          0.6,
          0.4,
          0.3,
          0.2,
          0.2,
          0.2,
          0.2
         ],
         "yaxis": "y"
        },
        {
         "hovertemplate": "species=%{x}<br>petal_width=%{y}<br>petal_length=%{marker.size}<extra></extra>",
         "legendgroup": "versicolor",
         "marker": {
          "color": "#EF553B",
          "size": [
           4.7,
           4.5,
           4.9,
           4,
           4.6,
           4.5,
           4.7,
           3.3,
           4.6,
           3.9,
           3.5,
           4.2,
           4,
           4.7,
           3.6,
           4.4,
           4.5,
           4.1,
           4.5,
           3.9,
           4.8,
           4,
           4.9,
           4.7,
           4.3,
           4.4,
           4.8,
           5,
           4.5,
           3.5,
           3.8,
           3.7,
           3.9,
           5.1,
           4.5,
           4.5,
           4.7,
           4.4,
           4.1,
           4,
           4.4,
           4.6,
           4,
           3.3,
           4.2,
           4.2,
           4.2,
           4.3,
           3,
           4.1
          ],
          "sizemode": "area",
          "sizeref": 0.01725,
          "symbol": "circle"
         },
         "mode": "markers",
         "name": "versicolor",
         "orientation": "v",
         "showlegend": true,
         "type": "scatter",
         "x": [
          "versicolor",
          "versicolor",
          "versicolor",
          "versicolor",
          "versicolor",
          "versicolor",
          "versicolor",
          "versicolor",
          "versicolor",
          "versicolor",
          "versicolor",
          "versicolor",
          "versicolor",
          "versicolor",
          "versicolor",
          "versicolor",
          "versicolor",
          "versicolor",
          "versicolor",
          "versicolor",
          "versicolor",
          "versicolor",
          "versicolor",
          "versicolor",
          "versicolor",
          "versicolor",
          "versicolor",
          "versicolor",
          "versicolor",
          "versicolor",
          "versicolor",
          "versicolor",
          "versicolor",
          "versicolor",
          "versicolor",
          "versicolor",
          "versicolor",
          "versicolor",
          "versicolor",
          "versicolor",
          "versicolor",
          "versicolor",
          "versicolor",
          "versicolor",
          "versicolor",
          "versicolor",
          "versicolor",
          "versicolor",
          "versicolor",
          "versicolor"
         ],
         "xaxis": "x",
         "y": [
          1.4,
          1.5,
          1.5,
          1.3,
          1.5,
          1.3,
          1.6,
          1,
          1.3,
          1.4,
          1,
          1.5,
          1,
          1.4,
          1.3,
          1.4,
          1.5,
          1,
          1.5,
          1.1,
          1.8,
          1.3,
          1.5,
          1.2,
          1.3,
          1.4,
          1.4,
          1.7,
          1.5,
          1,
          1.1,
          1,
          1.2,
          1.6,
          1.5,
          1.6,
          1.5,
          1.3,
          1.3,
          1.3,
          1.2,
          1.4,
          1.2,
          1,
          1.3,
          1.2,
          1.3,
          1.3,
          1.1,
          1.3
         ],
         "yaxis": "y"
        },
        {
         "hovertemplate": "species=%{x}<br>petal_width=%{y}<br>petal_length=%{marker.size}<extra></extra>",
         "legendgroup": "virginica",
         "marker": {
          "color": "#00cc96",
          "size": [
           6,
           5.1,
           5.9,
           5.6,
           5.8,
           6.6,
           4.5,
           6.3,
           5.8,
           6.1,
           5.1,
           5.3,
           5.5,
           5,
           5.1,
           5.3,
           5.5,
           6.7,
           6.9,
           5,
           5.7,
           4.9,
           6.7,
           4.9,
           5.7,
           6,
           4.8,
           4.9,
           5.6,
           5.8,
           6.1,
           6.4,
           5.6,
           5.1,
           5.6,
           6.1,
           5.6,
           5.5,
           4.8,
           5.4,
           5.6,
           5.1,
           5.1,
           5.9,
           5.7,
           5.2,
           5,
           5.2,
           5.4,
           5.1
          ],
          "sizemode": "area",
          "sizeref": 0.01725,
          "symbol": "circle"
         },
         "mode": "markers",
         "name": "virginica",
         "orientation": "v",
         "showlegend": true,
         "type": "scatter",
         "x": [
          "virginica",
          "virginica",
          "virginica",
          "virginica",
          "virginica",
          "virginica",
          "virginica",
          "virginica",
          "virginica",
          "virginica",
          "virginica",
          "virginica",
          "virginica",
          "virginica",
          "virginica",
          "virginica",
          "virginica",
          "virginica",
          "virginica",
          "virginica",
          "virginica",
          "virginica",
          "virginica",
          "virginica",
          "virginica",
          "virginica",
          "virginica",
          "virginica",
          "virginica",
          "virginica",
          "virginica",
          "virginica",
          "virginica",
          "virginica",
          "virginica",
          "virginica",
          "virginica",
          "virginica",
          "virginica",
          "virginica",
          "virginica",
          "virginica",
          "virginica",
          "virginica",
          "virginica",
          "virginica",
          "virginica",
          "virginica",
          "virginica",
          "virginica"
         ],
         "xaxis": "x",
         "y": [
          2.5,
          1.9,
          2.1,
          1.8,
          2.2,
          2.1,
          1.7,
          1.8,
          1.8,
          2.5,
          2,
          1.9,
          2.1,
          2,
          2.4,
          2.3,
          1.8,
          2.2,
          2.3,
          1.5,
          2.3,
          2,
          2,
          1.8,
          2.1,
          1.8,
          1.8,
          1.8,
          2.1,
          1.6,
          1.9,
          2,
          2.2,
          1.5,
          1.4,
          2.3,
          2.4,
          1.8,
          1.8,
          2.1,
          2.4,
          2.3,
          1.9,
          2.3,
          2.5,
          2.3,
          1.9,
          2,
          2.3,
          1.8
         ],
         "yaxis": "y"
        }
       ],
       "layout": {
        "legend": {
         "itemsizing": "constant",
         "title": {
          "text": "species"
         },
         "tracegroupgap": 0
        },
        "margin": {
         "t": 60
        },
        "template": {
         "data": {
          "bar": [
           {
            "error_x": {
             "color": "#2a3f5f"
            },
            "error_y": {
             "color": "#2a3f5f"
            },
            "marker": {
             "line": {
              "color": "#E5ECF6",
              "width": 0.5
             },
             "pattern": {
              "fillmode": "overlay",
              "size": 10,
              "solidity": 0.2
             }
            },
            "type": "bar"
           }
          ],
          "barpolar": [
           {
            "marker": {
             "line": {
              "color": "#E5ECF6",
              "width": 0.5
             },
             "pattern": {
              "fillmode": "overlay",
              "size": 10,
              "solidity": 0.2
             }
            },
            "type": "barpolar"
           }
          ],
          "carpet": [
           {
            "aaxis": {
             "endlinecolor": "#2a3f5f",
             "gridcolor": "white",
             "linecolor": "white",
             "minorgridcolor": "white",
             "startlinecolor": "#2a3f5f"
            },
            "baxis": {
             "endlinecolor": "#2a3f5f",
             "gridcolor": "white",
             "linecolor": "white",
             "minorgridcolor": "white",
             "startlinecolor": "#2a3f5f"
            },
            "type": "carpet"
           }
          ],
          "choropleth": [
           {
            "colorbar": {
             "outlinewidth": 0,
             "ticks": ""
            },
            "type": "choropleth"
           }
          ],
          "contour": [
           {
            "colorbar": {
             "outlinewidth": 0,
             "ticks": ""
            },
            "colorscale": [
             [
              0,
              "#0d0887"
             ],
             [
              0.1111111111111111,
              "#46039f"
             ],
             [
              0.2222222222222222,
              "#7201a8"
             ],
             [
              0.3333333333333333,
              "#9c179e"
             ],
             [
              0.4444444444444444,
              "#bd3786"
             ],
             [
              0.5555555555555556,
              "#d8576b"
             ],
             [
              0.6666666666666666,
              "#ed7953"
             ],
             [
              0.7777777777777778,
              "#fb9f3a"
             ],
             [
              0.8888888888888888,
              "#fdca26"
             ],
             [
              1,
              "#f0f921"
             ]
            ],
            "type": "contour"
           }
          ],
          "contourcarpet": [
           {
            "colorbar": {
             "outlinewidth": 0,
             "ticks": ""
            },
            "type": "contourcarpet"
           }
          ],
          "heatmap": [
           {
            "colorbar": {
             "outlinewidth": 0,
             "ticks": ""
            },
            "colorscale": [
             [
              0,
              "#0d0887"
             ],
             [
              0.1111111111111111,
              "#46039f"
             ],
             [
              0.2222222222222222,
              "#7201a8"
             ],
             [
              0.3333333333333333,
              "#9c179e"
             ],
             [
              0.4444444444444444,
              "#bd3786"
             ],
             [
              0.5555555555555556,
              "#d8576b"
             ],
             [
              0.6666666666666666,
              "#ed7953"
             ],
             [
              0.7777777777777778,
              "#fb9f3a"
             ],
             [
              0.8888888888888888,
              "#fdca26"
             ],
             [
              1,
              "#f0f921"
             ]
            ],
            "type": "heatmap"
           }
          ],
          "heatmapgl": [
           {
            "colorbar": {
             "outlinewidth": 0,
             "ticks": ""
            },
            "colorscale": [
             [
              0,
              "#0d0887"
             ],
             [
              0.1111111111111111,
              "#46039f"
             ],
             [
              0.2222222222222222,
              "#7201a8"
             ],
             [
              0.3333333333333333,
              "#9c179e"
             ],
             [
              0.4444444444444444,
              "#bd3786"
             ],
             [
              0.5555555555555556,
              "#d8576b"
             ],
             [
              0.6666666666666666,
              "#ed7953"
             ],
             [
              0.7777777777777778,
              "#fb9f3a"
             ],
             [
              0.8888888888888888,
              "#fdca26"
             ],
             [
              1,
              "#f0f921"
             ]
            ],
            "type": "heatmapgl"
           }
          ],
          "histogram": [
           {
            "marker": {
             "pattern": {
              "fillmode": "overlay",
              "size": 10,
              "solidity": 0.2
             }
            },
            "type": "histogram"
           }
          ],
          "histogram2d": [
           {
            "colorbar": {
             "outlinewidth": 0,
             "ticks": ""
            },
            "colorscale": [
             [
              0,
              "#0d0887"
             ],
             [
              0.1111111111111111,
              "#46039f"
             ],
             [
              0.2222222222222222,
              "#7201a8"
             ],
             [
              0.3333333333333333,
              "#9c179e"
             ],
             [
              0.4444444444444444,
              "#bd3786"
             ],
             [
              0.5555555555555556,
              "#d8576b"
             ],
             [
              0.6666666666666666,
              "#ed7953"
             ],
             [
              0.7777777777777778,
              "#fb9f3a"
             ],
             [
              0.8888888888888888,
              "#fdca26"
             ],
             [
              1,
              "#f0f921"
             ]
            ],
            "type": "histogram2d"
           }
          ],
          "histogram2dcontour": [
           {
            "colorbar": {
             "outlinewidth": 0,
             "ticks": ""
            },
            "colorscale": [
             [
              0,
              "#0d0887"
             ],
             [
              0.1111111111111111,
              "#46039f"
             ],
             [
              0.2222222222222222,
              "#7201a8"
             ],
             [
              0.3333333333333333,
              "#9c179e"
             ],
             [
              0.4444444444444444,
              "#bd3786"
             ],
             [
              0.5555555555555556,
              "#d8576b"
             ],
             [
              0.6666666666666666,
              "#ed7953"
             ],
             [
              0.7777777777777778,
              "#fb9f3a"
             ],
             [
              0.8888888888888888,
              "#fdca26"
             ],
             [
              1,
              "#f0f921"
             ]
            ],
            "type": "histogram2dcontour"
           }
          ],
          "mesh3d": [
           {
            "colorbar": {
             "outlinewidth": 0,
             "ticks": ""
            },
            "type": "mesh3d"
           }
          ],
          "parcoords": [
           {
            "line": {
             "colorbar": {
              "outlinewidth": 0,
              "ticks": ""
             }
            },
            "type": "parcoords"
           }
          ],
          "pie": [
           {
            "automargin": true,
            "type": "pie"
           }
          ],
          "scatter": [
           {
            "fillpattern": {
             "fillmode": "overlay",
             "size": 10,
             "solidity": 0.2
            },
            "type": "scatter"
           }
          ],
          "scatter3d": [
           {
            "line": {
             "colorbar": {
              "outlinewidth": 0,
              "ticks": ""
             }
            },
            "marker": {
             "colorbar": {
              "outlinewidth": 0,
              "ticks": ""
             }
            },
            "type": "scatter3d"
           }
          ],
          "scattercarpet": [
           {
            "marker": {
             "colorbar": {
              "outlinewidth": 0,
              "ticks": ""
             }
            },
            "type": "scattercarpet"
           }
          ],
          "scattergeo": [
           {
            "marker": {
             "colorbar": {
              "outlinewidth": 0,
              "ticks": ""
             }
            },
            "type": "scattergeo"
           }
          ],
          "scattergl": [
           {
            "marker": {
             "colorbar": {
              "outlinewidth": 0,
              "ticks": ""
             }
            },
            "type": "scattergl"
           }
          ],
          "scattermapbox": [
           {
            "marker": {
             "colorbar": {
              "outlinewidth": 0,
              "ticks": ""
             }
            },
            "type": "scattermapbox"
           }
          ],
          "scatterpolar": [
           {
            "marker": {
             "colorbar": {
              "outlinewidth": 0,
              "ticks": ""
             }
            },
            "type": "scatterpolar"
           }
          ],
          "scatterpolargl": [
           {
            "marker": {
             "colorbar": {
              "outlinewidth": 0,
              "ticks": ""
             }
            },
            "type": "scatterpolargl"
           }
          ],
          "scatterternary": [
           {
            "marker": {
             "colorbar": {
              "outlinewidth": 0,
              "ticks": ""
             }
            },
            "type": "scatterternary"
           }
          ],
          "surface": [
           {
            "colorbar": {
             "outlinewidth": 0,
             "ticks": ""
            },
            "colorscale": [
             [
              0,
              "#0d0887"
             ],
             [
              0.1111111111111111,
              "#46039f"
             ],
             [
              0.2222222222222222,
              "#7201a8"
             ],
             [
              0.3333333333333333,
              "#9c179e"
             ],
             [
              0.4444444444444444,
              "#bd3786"
             ],
             [
              0.5555555555555556,
              "#d8576b"
             ],
             [
              0.6666666666666666,
              "#ed7953"
             ],
             [
              0.7777777777777778,
              "#fb9f3a"
             ],
             [
              0.8888888888888888,
              "#fdca26"
             ],
             [
              1,
              "#f0f921"
             ]
            ],
            "type": "surface"
           }
          ],
          "table": [
           {
            "cells": {
             "fill": {
              "color": "#EBF0F8"
             },
             "line": {
              "color": "white"
             }
            },
            "header": {
             "fill": {
              "color": "#C8D4E3"
             },
             "line": {
              "color": "white"
             }
            },
            "type": "table"
           }
          ]
         },
         "layout": {
          "annotationdefaults": {
           "arrowcolor": "#2a3f5f",
           "arrowhead": 0,
           "arrowwidth": 1
          },
          "autotypenumbers": "strict",
          "coloraxis": {
           "colorbar": {
            "outlinewidth": 0,
            "ticks": ""
           }
          },
          "colorscale": {
           "diverging": [
            [
             0,
             "#8e0152"
            ],
            [
             0.1,
             "#c51b7d"
            ],
            [
             0.2,
             "#de77ae"
            ],
            [
             0.3,
             "#f1b6da"
            ],
            [
             0.4,
             "#fde0ef"
            ],
            [
             0.5,
             "#f7f7f7"
            ],
            [
             0.6,
             "#e6f5d0"
            ],
            [
             0.7,
             "#b8e186"
            ],
            [
             0.8,
             "#7fbc41"
            ],
            [
             0.9,
             "#4d9221"
            ],
            [
             1,
             "#276419"
            ]
           ],
           "sequential": [
            [
             0,
             "#0d0887"
            ],
            [
             0.1111111111111111,
             "#46039f"
            ],
            [
             0.2222222222222222,
             "#7201a8"
            ],
            [
             0.3333333333333333,
             "#9c179e"
            ],
            [
             0.4444444444444444,
             "#bd3786"
            ],
            [
             0.5555555555555556,
             "#d8576b"
            ],
            [
             0.6666666666666666,
             "#ed7953"
            ],
            [
             0.7777777777777778,
             "#fb9f3a"
            ],
            [
             0.8888888888888888,
             "#fdca26"
            ],
            [
             1,
             "#f0f921"
            ]
           ],
           "sequentialminus": [
            [
             0,
             "#0d0887"
            ],
            [
             0.1111111111111111,
             "#46039f"
            ],
            [
             0.2222222222222222,
             "#7201a8"
            ],
            [
             0.3333333333333333,
             "#9c179e"
            ],
            [
             0.4444444444444444,
             "#bd3786"
            ],
            [
             0.5555555555555556,
             "#d8576b"
            ],
            [
             0.6666666666666666,
             "#ed7953"
            ],
            [
             0.7777777777777778,
             "#fb9f3a"
            ],
            [
             0.8888888888888888,
             "#fdca26"
            ],
            [
             1,
             "#f0f921"
            ]
           ]
          },
          "colorway": [
           "#636efa",
           "#EF553B",
           "#00cc96",
           "#ab63fa",
           "#FFA15A",
           "#19d3f3",
           "#FF6692",
           "#B6E880",
           "#FF97FF",
           "#FECB52"
          ],
          "font": {
           "color": "#2a3f5f"
          },
          "geo": {
           "bgcolor": "white",
           "lakecolor": "white",
           "landcolor": "#E5ECF6",
           "showlakes": true,
           "showland": true,
           "subunitcolor": "white"
          },
          "hoverlabel": {
           "align": "left"
          },
          "hovermode": "closest",
          "mapbox": {
           "style": "light"
          },
          "paper_bgcolor": "white",
          "plot_bgcolor": "#E5ECF6",
          "polar": {
           "angularaxis": {
            "gridcolor": "white",
            "linecolor": "white",
            "ticks": ""
           },
           "bgcolor": "#E5ECF6",
           "radialaxis": {
            "gridcolor": "white",
            "linecolor": "white",
            "ticks": ""
           }
          },
          "scene": {
           "xaxis": {
            "backgroundcolor": "#E5ECF6",
            "gridcolor": "white",
            "gridwidth": 2,
            "linecolor": "white",
            "showbackground": true,
            "ticks": "",
            "zerolinecolor": "white"
           },
           "yaxis": {
            "backgroundcolor": "#E5ECF6",
            "gridcolor": "white",
            "gridwidth": 2,
            "linecolor": "white",
            "showbackground": true,
            "ticks": "",
            "zerolinecolor": "white"
           },
           "zaxis": {
            "backgroundcolor": "#E5ECF6",
            "gridcolor": "white",
            "gridwidth": 2,
            "linecolor": "white",
            "showbackground": true,
            "ticks": "",
            "zerolinecolor": "white"
           }
          },
          "shapedefaults": {
           "line": {
            "color": "#2a3f5f"
           }
          },
          "ternary": {
           "aaxis": {
            "gridcolor": "white",
            "linecolor": "white",
            "ticks": ""
           },
           "baxis": {
            "gridcolor": "white",
            "linecolor": "white",
            "ticks": ""
           },
           "bgcolor": "#E5ECF6",
           "caxis": {
            "gridcolor": "white",
            "linecolor": "white",
            "ticks": ""
           }
          },
          "title": {
           "x": 0.05
          },
          "xaxis": {
           "automargin": true,
           "gridcolor": "white",
           "linecolor": "white",
           "ticks": "",
           "title": {
            "standoff": 15
           },
           "zerolinecolor": "white",
           "zerolinewidth": 2
          },
          "yaxis": {
           "automargin": true,
           "gridcolor": "white",
           "linecolor": "white",
           "ticks": "",
           "title": {
            "standoff": 15
           },
           "zerolinecolor": "white",
           "zerolinewidth": 2
          }
         }
        },
        "xaxis": {
         "anchor": "y",
         "categoryarray": [
          "setosa",
          "versicolor",
          "virginica"
         ],
         "categoryorder": "array",
         "domain": [
          0,
          1
         ],
         "title": {
          "text": "species"
         }
        },
        "yaxis": {
         "anchor": "x",
         "domain": [
          0,
          1
         ],
         "title": {
          "text": "petal_width"
         }
        }
       }
      }
     },
     "metadata": {},
     "output_type": "display_data"
    }
   ],
   "source": [
    "df=px.data.iris()\n",
    "fig=px.scatter(df,x='species',y='petal_width',size=\"petal_length\",color='species')\n",
    "fig.show()"
   ]
  },
  {
   "cell_type": "code",
   "execution_count": 9,
   "metadata": {},
   "outputs": [
    {
     "data": {
      "application/vnd.plotly.v1+json": {
       "config": {
        "plotlyServerURL": "https://plot.ly"
       },
       "data": [
        {
         "alignmentgroup": "True",
         "bingroup": "x",
         "histfunc": "sum",
         "hovertemplate": "sepal_length=%{x}<br>sum of petal_width=%{y}<extra></extra>",
         "legendgroup": "",
         "marker": {
          "color": "#636efa",
          "pattern": {
           "shape": ""
          }
         },
         "name": "",
         "offsetgroup": "",
         "orientation": "v",
         "showlegend": false,
         "type": "histogram",
         "x": [
          5.1,
          4.9,
          4.7,
          4.6,
          5,
          5.4,
          4.6,
          5,
          4.4,
          4.9,
          5.4,
          4.8,
          4.8,
          4.3,
          5.8,
          5.7,
          5.4,
          5.1,
          5.7,
          5.1,
          5.4,
          5.1,
          4.6,
          5.1,
          4.8,
          5,
          5,
          5.2,
          5.2,
          4.7,
          4.8,
          5.4,
          5.2,
          5.5,
          4.9,
          5,
          5.5,
          4.9,
          4.4,
          5.1,
          5,
          4.5,
          4.4,
          5,
          5.1,
          4.8,
          5.1,
          4.6,
          5.3,
          5,
          7,
          6.4,
          6.9,
          5.5,
          6.5,
          5.7,
          6.3,
          4.9,
          6.6,
          5.2,
          5,
          5.9,
          6,
          6.1,
          5.6,
          6.7,
          5.6,
          5.8,
          6.2,
          5.6,
          5.9,
          6.1,
          6.3,
          6.1,
          6.4,
          6.6,
          6.8,
          6.7,
          6,
          5.7,
          5.5,
          5.5,
          5.8,
          6,
          5.4,
          6,
          6.7,
          6.3,
          5.6,
          5.5,
          5.5,
          6.1,
          5.8,
          5,
          5.6,
          5.7,
          5.7,
          6.2,
          5.1,
          5.7,
          6.3,
          5.8,
          7.1,
          6.3,
          6.5,
          7.6,
          4.9,
          7.3,
          6.7,
          7.2,
          6.5,
          6.4,
          6.8,
          5.7,
          5.8,
          6.4,
          6.5,
          7.7,
          7.7,
          6,
          6.9,
          5.6,
          7.7,
          6.3,
          6.7,
          7.2,
          6.2,
          6.1,
          6.4,
          7.2,
          7.4,
          7.9,
          6.4,
          6.3,
          6.1,
          7.7,
          6.3,
          6.4,
          6,
          6.9,
          6.7,
          6.9,
          5.8,
          6.8,
          6.7,
          6.7,
          6.3,
          6.5,
          6.2,
          5.9
         ],
         "xaxis": "x",
         "y": [
          0.2,
          0.2,
          0.2,
          0.2,
          0.2,
          0.4,
          0.3,
          0.2,
          0.2,
          0.1,
          0.2,
          0.2,
          0.1,
          0.1,
          0.2,
          0.4,
          0.4,
          0.3,
          0.3,
          0.3,
          0.2,
          0.4,
          0.2,
          0.5,
          0.2,
          0.2,
          0.4,
          0.2,
          0.2,
          0.2,
          0.2,
          0.4,
          0.1,
          0.2,
          0.1,
          0.2,
          0.2,
          0.1,
          0.2,
          0.2,
          0.3,
          0.3,
          0.2,
          0.6,
          0.4,
          0.3,
          0.2,
          0.2,
          0.2,
          0.2,
          1.4,
          1.5,
          1.5,
          1.3,
          1.5,
          1.3,
          1.6,
          1,
          1.3,
          1.4,
          1,
          1.5,
          1,
          1.4,
          1.3,
          1.4,
          1.5,
          1,
          1.5,
          1.1,
          1.8,
          1.3,
          1.5,
          1.2,
          1.3,
          1.4,
          1.4,
          1.7,
          1.5,
          1,
          1.1,
          1,
          1.2,
          1.6,
          1.5,
          1.6,
          1.5,
          1.3,
          1.3,
          1.3,
          1.2,
          1.4,
          1.2,
          1,
          1.3,
          1.2,
          1.3,
          1.3,
          1.1,
          1.3,
          2.5,
          1.9,
          2.1,
          1.8,
          2.2,
          2.1,
          1.7,
          1.8,
          1.8,
          2.5,
          2,
          1.9,
          2.1,
          2,
          2.4,
          2.3,
          1.8,
          2.2,
          2.3,
          1.5,
          2.3,
          2,
          2,
          1.8,
          2.1,
          1.8,
          1.8,
          1.8,
          2.1,
          1.6,
          1.9,
          2,
          2.2,
          1.5,
          1.4,
          2.3,
          2.4,
          1.8,
          1.8,
          2.1,
          2.4,
          2.3,
          1.9,
          2.3,
          2.5,
          2.3,
          1.9,
          2,
          2.3,
          1.8
         ],
         "yaxis": "y"
        }
       ],
       "layout": {
        "barmode": "relative",
        "legend": {
         "tracegroupgap": 0
        },
        "margin": {
         "t": 60
        },
        "template": {
         "data": {
          "bar": [
           {
            "error_x": {
             "color": "#2a3f5f"
            },
            "error_y": {
             "color": "#2a3f5f"
            },
            "marker": {
             "line": {
              "color": "#E5ECF6",
              "width": 0.5
             },
             "pattern": {
              "fillmode": "overlay",
              "size": 10,
              "solidity": 0.2
             }
            },
            "type": "bar"
           }
          ],
          "barpolar": [
           {
            "marker": {
             "line": {
              "color": "#E5ECF6",
              "width": 0.5
             },
             "pattern": {
              "fillmode": "overlay",
              "size": 10,
              "solidity": 0.2
             }
            },
            "type": "barpolar"
           }
          ],
          "carpet": [
           {
            "aaxis": {
             "endlinecolor": "#2a3f5f",
             "gridcolor": "white",
             "linecolor": "white",
             "minorgridcolor": "white",
             "startlinecolor": "#2a3f5f"
            },
            "baxis": {
             "endlinecolor": "#2a3f5f",
             "gridcolor": "white",
             "linecolor": "white",
             "minorgridcolor": "white",
             "startlinecolor": "#2a3f5f"
            },
            "type": "carpet"
           }
          ],
          "choropleth": [
           {
            "colorbar": {
             "outlinewidth": 0,
             "ticks": ""
            },
            "type": "choropleth"
           }
          ],
          "contour": [
           {
            "colorbar": {
             "outlinewidth": 0,
             "ticks": ""
            },
            "colorscale": [
             [
              0,
              "#0d0887"
             ],
             [
              0.1111111111111111,
              "#46039f"
             ],
             [
              0.2222222222222222,
              "#7201a8"
             ],
             [
              0.3333333333333333,
              "#9c179e"
             ],
             [
              0.4444444444444444,
              "#bd3786"
             ],
             [
              0.5555555555555556,
              "#d8576b"
             ],
             [
              0.6666666666666666,
              "#ed7953"
             ],
             [
              0.7777777777777778,
              "#fb9f3a"
             ],
             [
              0.8888888888888888,
              "#fdca26"
             ],
             [
              1,
              "#f0f921"
             ]
            ],
            "type": "contour"
           }
          ],
          "contourcarpet": [
           {
            "colorbar": {
             "outlinewidth": 0,
             "ticks": ""
            },
            "type": "contourcarpet"
           }
          ],
          "heatmap": [
           {
            "colorbar": {
             "outlinewidth": 0,
             "ticks": ""
            },
            "colorscale": [
             [
              0,
              "#0d0887"
             ],
             [
              0.1111111111111111,
              "#46039f"
             ],
             [
              0.2222222222222222,
              "#7201a8"
             ],
             [
              0.3333333333333333,
              "#9c179e"
             ],
             [
              0.4444444444444444,
              "#bd3786"
             ],
             [
              0.5555555555555556,
              "#d8576b"
             ],
             [
              0.6666666666666666,
              "#ed7953"
             ],
             [
              0.7777777777777778,
              "#fb9f3a"
             ],
             [
              0.8888888888888888,
              "#fdca26"
             ],
             [
              1,
              "#f0f921"
             ]
            ],
            "type": "heatmap"
           }
          ],
          "heatmapgl": [
           {
            "colorbar": {
             "outlinewidth": 0,
             "ticks": ""
            },
            "colorscale": [
             [
              0,
              "#0d0887"
             ],
             [
              0.1111111111111111,
              "#46039f"
             ],
             [
              0.2222222222222222,
              "#7201a8"
             ],
             [
              0.3333333333333333,
              "#9c179e"
             ],
             [
              0.4444444444444444,
              "#bd3786"
             ],
             [
              0.5555555555555556,
              "#d8576b"
             ],
             [
              0.6666666666666666,
              "#ed7953"
             ],
             [
              0.7777777777777778,
              "#fb9f3a"
             ],
             [
              0.8888888888888888,
              "#fdca26"
             ],
             [
              1,
              "#f0f921"
             ]
            ],
            "type": "heatmapgl"
           }
          ],
          "histogram": [
           {
            "marker": {
             "pattern": {
              "fillmode": "overlay",
              "size": 10,
              "solidity": 0.2
             }
            },
            "type": "histogram"
           }
          ],
          "histogram2d": [
           {
            "colorbar": {
             "outlinewidth": 0,
             "ticks": ""
            },
            "colorscale": [
             [
              0,
              "#0d0887"
             ],
             [
              0.1111111111111111,
              "#46039f"
             ],
             [
              0.2222222222222222,
              "#7201a8"
             ],
             [
              0.3333333333333333,
              "#9c179e"
             ],
             [
              0.4444444444444444,
              "#bd3786"
             ],
             [
              0.5555555555555556,
              "#d8576b"
             ],
             [
              0.6666666666666666,
              "#ed7953"
             ],
             [
              0.7777777777777778,
              "#fb9f3a"
             ],
             [
              0.8888888888888888,
              "#fdca26"
             ],
             [
              1,
              "#f0f921"
             ]
            ],
            "type": "histogram2d"
           }
          ],
          "histogram2dcontour": [
           {
            "colorbar": {
             "outlinewidth": 0,
             "ticks": ""
            },
            "colorscale": [
             [
              0,
              "#0d0887"
             ],
             [
              0.1111111111111111,
              "#46039f"
             ],
             [
              0.2222222222222222,
              "#7201a8"
             ],
             [
              0.3333333333333333,
              "#9c179e"
             ],
             [
              0.4444444444444444,
              "#bd3786"
             ],
             [
              0.5555555555555556,
              "#d8576b"
             ],
             [
              0.6666666666666666,
              "#ed7953"
             ],
             [
              0.7777777777777778,
              "#fb9f3a"
             ],
             [
              0.8888888888888888,
              "#fdca26"
             ],
             [
              1,
              "#f0f921"
             ]
            ],
            "type": "histogram2dcontour"
           }
          ],
          "mesh3d": [
           {
            "colorbar": {
             "outlinewidth": 0,
             "ticks": ""
            },
            "type": "mesh3d"
           }
          ],
          "parcoords": [
           {
            "line": {
             "colorbar": {
              "outlinewidth": 0,
              "ticks": ""
             }
            },
            "type": "parcoords"
           }
          ],
          "pie": [
           {
            "automargin": true,
            "type": "pie"
           }
          ],
          "scatter": [
           {
            "fillpattern": {
             "fillmode": "overlay",
             "size": 10,
             "solidity": 0.2
            },
            "type": "scatter"
           }
          ],
          "scatter3d": [
           {
            "line": {
             "colorbar": {
              "outlinewidth": 0,
              "ticks": ""
             }
            },
            "marker": {
             "colorbar": {
              "outlinewidth": 0,
              "ticks": ""
             }
            },
            "type": "scatter3d"
           }
          ],
          "scattercarpet": [
           {
            "marker": {
             "colorbar": {
              "outlinewidth": 0,
              "ticks": ""
             }
            },
            "type": "scattercarpet"
           }
          ],
          "scattergeo": [
           {
            "marker": {
             "colorbar": {
              "outlinewidth": 0,
              "ticks": ""
             }
            },
            "type": "scattergeo"
           }
          ],
          "scattergl": [
           {
            "marker": {
             "colorbar": {
              "outlinewidth": 0,
              "ticks": ""
             }
            },
            "type": "scattergl"
           }
          ],
          "scattermapbox": [
           {
            "marker": {
             "colorbar": {
              "outlinewidth": 0,
              "ticks": ""
             }
            },
            "type": "scattermapbox"
           }
          ],
          "scatterpolar": [
           {
            "marker": {
             "colorbar": {
              "outlinewidth": 0,
              "ticks": ""
             }
            },
            "type": "scatterpolar"
           }
          ],
          "scatterpolargl": [
           {
            "marker": {
             "colorbar": {
              "outlinewidth": 0,
              "ticks": ""
             }
            },
            "type": "scatterpolargl"
           }
          ],
          "scatterternary": [
           {
            "marker": {
             "colorbar": {
              "outlinewidth": 0,
              "ticks": ""
             }
            },
            "type": "scatterternary"
           }
          ],
          "surface": [
           {
            "colorbar": {
             "outlinewidth": 0,
             "ticks": ""
            },
            "colorscale": [
             [
              0,
              "#0d0887"
             ],
             [
              0.1111111111111111,
              "#46039f"
             ],
             [
              0.2222222222222222,
              "#7201a8"
             ],
             [
              0.3333333333333333,
              "#9c179e"
             ],
             [
              0.4444444444444444,
              "#bd3786"
             ],
             [
              0.5555555555555556,
              "#d8576b"
             ],
             [
              0.6666666666666666,
              "#ed7953"
             ],
             [
              0.7777777777777778,
              "#fb9f3a"
             ],
             [
              0.8888888888888888,
              "#fdca26"
             ],
             [
              1,
              "#f0f921"
             ]
            ],
            "type": "surface"
           }
          ],
          "table": [
           {
            "cells": {
             "fill": {
              "color": "#EBF0F8"
             },
             "line": {
              "color": "white"
             }
            },
            "header": {
             "fill": {
              "color": "#C8D4E3"
             },
             "line": {
              "color": "white"
             }
            },
            "type": "table"
           }
          ]
         },
         "layout": {
          "annotationdefaults": {
           "arrowcolor": "#2a3f5f",
           "arrowhead": 0,
           "arrowwidth": 1
          },
          "autotypenumbers": "strict",
          "coloraxis": {
           "colorbar": {
            "outlinewidth": 0,
            "ticks": ""
           }
          },
          "colorscale": {
           "diverging": [
            [
             0,
             "#8e0152"
            ],
            [
             0.1,
             "#c51b7d"
            ],
            [
             0.2,
             "#de77ae"
            ],
            [
             0.3,
             "#f1b6da"
            ],
            [
             0.4,
             "#fde0ef"
            ],
            [
             0.5,
             "#f7f7f7"
            ],
            [
             0.6,
             "#e6f5d0"
            ],
            [
             0.7,
             "#b8e186"
            ],
            [
             0.8,
             "#7fbc41"
            ],
            [
             0.9,
             "#4d9221"
            ],
            [
             1,
             "#276419"
            ]
           ],
           "sequential": [
            [
             0,
             "#0d0887"
            ],
            [
             0.1111111111111111,
             "#46039f"
            ],
            [
             0.2222222222222222,
             "#7201a8"
            ],
            [
             0.3333333333333333,
             "#9c179e"
            ],
            [
             0.4444444444444444,
             "#bd3786"
            ],
            [
             0.5555555555555556,
             "#d8576b"
            ],
            [
             0.6666666666666666,
             "#ed7953"
            ],
            [
             0.7777777777777778,
             "#fb9f3a"
            ],
            [
             0.8888888888888888,
             "#fdca26"
            ],
            [
             1,
             "#f0f921"
            ]
           ],
           "sequentialminus": [
            [
             0,
             "#0d0887"
            ],
            [
             0.1111111111111111,
             "#46039f"
            ],
            [
             0.2222222222222222,
             "#7201a8"
            ],
            [
             0.3333333333333333,
             "#9c179e"
            ],
            [
             0.4444444444444444,
             "#bd3786"
            ],
            [
             0.5555555555555556,
             "#d8576b"
            ],
            [
             0.6666666666666666,
             "#ed7953"
            ],
            [
             0.7777777777777778,
             "#fb9f3a"
            ],
            [
             0.8888888888888888,
             "#fdca26"
            ],
            [
             1,
             "#f0f921"
            ]
           ]
          },
          "colorway": [
           "#636efa",
           "#EF553B",
           "#00cc96",
           "#ab63fa",
           "#FFA15A",
           "#19d3f3",
           "#FF6692",
           "#B6E880",
           "#FF97FF",
           "#FECB52"
          ],
          "font": {
           "color": "#2a3f5f"
          },
          "geo": {
           "bgcolor": "white",
           "lakecolor": "white",
           "landcolor": "#E5ECF6",
           "showlakes": true,
           "showland": true,
           "subunitcolor": "white"
          },
          "hoverlabel": {
           "align": "left"
          },
          "hovermode": "closest",
          "mapbox": {
           "style": "light"
          },
          "paper_bgcolor": "white",
          "plot_bgcolor": "#E5ECF6",
          "polar": {
           "angularaxis": {
            "gridcolor": "white",
            "linecolor": "white",
            "ticks": ""
           },
           "bgcolor": "#E5ECF6",
           "radialaxis": {
            "gridcolor": "white",
            "linecolor": "white",
            "ticks": ""
           }
          },
          "scene": {
           "xaxis": {
            "backgroundcolor": "#E5ECF6",
            "gridcolor": "white",
            "gridwidth": 2,
            "linecolor": "white",
            "showbackground": true,
            "ticks": "",
            "zerolinecolor": "white"
           },
           "yaxis": {
            "backgroundcolor": "#E5ECF6",
            "gridcolor": "white",
            "gridwidth": 2,
            "linecolor": "white",
            "showbackground": true,
            "ticks": "",
            "zerolinecolor": "white"
           },
           "zaxis": {
            "backgroundcolor": "#E5ECF6",
            "gridcolor": "white",
            "gridwidth": 2,
            "linecolor": "white",
            "showbackground": true,
            "ticks": "",
            "zerolinecolor": "white"
           }
          },
          "shapedefaults": {
           "line": {
            "color": "#2a3f5f"
           }
          },
          "ternary": {
           "aaxis": {
            "gridcolor": "white",
            "linecolor": "white",
            "ticks": ""
           },
           "baxis": {
            "gridcolor": "white",
            "linecolor": "white",
            "ticks": ""
           },
           "bgcolor": "#E5ECF6",
           "caxis": {
            "gridcolor": "white",
            "linecolor": "white",
            "ticks": ""
           }
          },
          "title": {
           "x": 0.05
          },
          "xaxis": {
           "automargin": true,
           "gridcolor": "white",
           "linecolor": "white",
           "ticks": "",
           "title": {
            "standoff": 15
           },
           "zerolinecolor": "white",
           "zerolinewidth": 2
          },
          "yaxis": {
           "automargin": true,
           "gridcolor": "white",
           "linecolor": "white",
           "ticks": "",
           "title": {
            "standoff": 15
           },
           "zerolinecolor": "white",
           "zerolinewidth": 2
          }
         }
        },
        "xaxis": {
         "anchor": "y",
         "domain": [
          0,
          1
         ],
         "title": {
          "text": "sepal_length"
         }
        },
        "yaxis": {
         "anchor": "x",
         "domain": [
          0,
          1
         ],
         "title": {
          "text": "sum of petal_width"
         }
        }
       }
      }
     },
     "metadata": {},
     "output_type": "display_data"
    }
   ],
   "source": [
    "fig=px.histogram(df,x=\"sepal_length\",y=\"petal_width\")\n",
    "fig.show()"
   ]
  },
  {
   "cell_type": "code",
   "execution_count": 11,
   "metadata": {},
   "outputs": [
    {
     "name": "stdout",
     "output_type": "stream",
     "text": [
      "     sepal_length  sepal_width  petal_length  petal_width     species  species_id\n",
      "0             5.1          3.5           1.4          0.2      setosa           1\n",
      "1             4.9          3.0           1.4          0.2      setosa           1\n",
      "2             4.7          3.2           1.3          0.2      setosa           1\n",
      "3             4.6          3.1           1.5          0.2      setosa           1\n",
      "4             5.0          3.6           1.4          0.2      setosa           1\n",
      "5             5.4          3.9           1.7          0.4      setosa           1\n",
      "6             4.6          3.4           1.4          0.3      setosa           1\n",
      "7             5.0          3.4           1.5          0.2      setosa           1\n",
      "8             4.4          2.9           1.4          0.2      setosa           1\n",
      "9             4.9          3.1           1.5          0.1      setosa           1\n",
      "10            5.4          3.7           1.5          0.2      setosa           1\n",
      "11            4.8          3.4           1.6          0.2      setosa           1\n",
      "12            4.8          3.0           1.4          0.1      setosa           1\n",
      "13            4.3          3.0           1.1          0.1      setosa           1\n",
      "14            5.8          4.0           1.2          0.2      setosa           1\n",
      "15            5.7          4.4           1.5          0.4      setosa           1\n",
      "16            5.4          3.9           1.3          0.4      setosa           1\n",
      "17            5.1          3.5           1.4          0.3      setosa           1\n",
      "18            5.7          3.8           1.7          0.3      setosa           1\n",
      "19            5.1          3.8           1.5          0.3      setosa           1\n",
      "20            5.4          3.4           1.7          0.2      setosa           1\n",
      "21            5.1          3.7           1.5          0.4      setosa           1\n",
      "22            4.6          3.6           1.0          0.2      setosa           1\n",
      "23            5.1          3.3           1.7          0.5      setosa           1\n",
      "24            4.8          3.4           1.9          0.2      setosa           1\n",
      "25            5.0          3.0           1.6          0.2      setosa           1\n",
      "26            5.0          3.4           1.6          0.4      setosa           1\n",
      "27            5.2          3.5           1.5          0.2      setosa           1\n",
      "28            5.2          3.4           1.4          0.2      setosa           1\n",
      "29            4.7          3.2           1.6          0.2      setosa           1\n",
      "30            4.8          3.1           1.6          0.2      setosa           1\n",
      "31            5.4          3.4           1.5          0.4      setosa           1\n",
      "32            5.2          4.1           1.5          0.1      setosa           1\n",
      "33            5.5          4.2           1.4          0.2      setosa           1\n",
      "34            4.9          3.1           1.5          0.1      setosa           1\n",
      "35            5.0          3.2           1.2          0.2      setosa           1\n",
      "36            5.5          3.5           1.3          0.2      setosa           1\n",
      "37            4.9          3.1           1.5          0.1      setosa           1\n",
      "38            4.4          3.0           1.3          0.2      setosa           1\n",
      "39            5.1          3.4           1.5          0.2      setosa           1\n",
      "40            5.0          3.5           1.3          0.3      setosa           1\n",
      "41            4.5          2.3           1.3          0.3      setosa           1\n",
      "42            4.4          3.2           1.3          0.2      setosa           1\n",
      "43            5.0          3.5           1.6          0.6      setosa           1\n",
      "44            5.1          3.8           1.9          0.4      setosa           1\n",
      "45            4.8          3.0           1.4          0.3      setosa           1\n",
      "46            5.1          3.8           1.6          0.2      setosa           1\n",
      "47            4.6          3.2           1.4          0.2      setosa           1\n",
      "48            5.3          3.7           1.5          0.2      setosa           1\n",
      "49            5.0          3.3           1.4          0.2      setosa           1\n",
      "50            7.0          3.2           4.7          1.4  versicolor           2\n",
      "51            6.4          3.2           4.5          1.5  versicolor           2\n",
      "52            6.9          3.1           4.9          1.5  versicolor           2\n",
      "53            5.5          2.3           4.0          1.3  versicolor           2\n",
      "54            6.5          2.8           4.6          1.5  versicolor           2\n",
      "55            5.7          2.8           4.5          1.3  versicolor           2\n",
      "56            6.3          3.3           4.7          1.6  versicolor           2\n",
      "57            4.9          2.4           3.3          1.0  versicolor           2\n",
      "58            6.6          2.9           4.6          1.3  versicolor           2\n",
      "59            5.2          2.7           3.9          1.4  versicolor           2\n",
      "60            5.0          2.0           3.5          1.0  versicolor           2\n",
      "61            5.9          3.0           4.2          1.5  versicolor           2\n",
      "62            6.0          2.2           4.0          1.0  versicolor           2\n",
      "63            6.1          2.9           4.7          1.4  versicolor           2\n",
      "64            5.6          2.9           3.6          1.3  versicolor           2\n",
      "65            6.7          3.1           4.4          1.4  versicolor           2\n",
      "66            5.6          3.0           4.5          1.5  versicolor           2\n",
      "67            5.8          2.7           4.1          1.0  versicolor           2\n",
      "68            6.2          2.2           4.5          1.5  versicolor           2\n",
      "69            5.6          2.5           3.9          1.1  versicolor           2\n",
      "70            5.9          3.2           4.8          1.8  versicolor           2\n",
      "71            6.1          2.8           4.0          1.3  versicolor           2\n",
      "72            6.3          2.5           4.9          1.5  versicolor           2\n",
      "73            6.1          2.8           4.7          1.2  versicolor           2\n",
      "74            6.4          2.9           4.3          1.3  versicolor           2\n",
      "75            6.6          3.0           4.4          1.4  versicolor           2\n",
      "76            6.8          2.8           4.8          1.4  versicolor           2\n",
      "77            6.7          3.0           5.0          1.7  versicolor           2\n",
      "78            6.0          2.9           4.5          1.5  versicolor           2\n",
      "79            5.7          2.6           3.5          1.0  versicolor           2\n",
      "80            5.5          2.4           3.8          1.1  versicolor           2\n",
      "81            5.5          2.4           3.7          1.0  versicolor           2\n",
      "82            5.8          2.7           3.9          1.2  versicolor           2\n",
      "83            6.0          2.7           5.1          1.6  versicolor           2\n",
      "84            5.4          3.0           4.5          1.5  versicolor           2\n",
      "85            6.0          3.4           4.5          1.6  versicolor           2\n",
      "86            6.7          3.1           4.7          1.5  versicolor           2\n",
      "87            6.3          2.3           4.4          1.3  versicolor           2\n",
      "88            5.6          3.0           4.1          1.3  versicolor           2\n",
      "89            5.5          2.5           4.0          1.3  versicolor           2\n",
      "90            5.5          2.6           4.4          1.2  versicolor           2\n",
      "91            6.1          3.0           4.6          1.4  versicolor           2\n",
      "92            5.8          2.6           4.0          1.2  versicolor           2\n",
      "93            5.0          2.3           3.3          1.0  versicolor           2\n",
      "94            5.6          2.7           4.2          1.3  versicolor           2\n",
      "95            5.7          3.0           4.2          1.2  versicolor           2\n",
      "96            5.7          2.9           4.2          1.3  versicolor           2\n",
      "97            6.2          2.9           4.3          1.3  versicolor           2\n",
      "98            5.1          2.5           3.0          1.1  versicolor           2\n",
      "99            5.7          2.8           4.1          1.3  versicolor           2\n",
      "100           6.3          3.3           6.0          2.5   virginica           3\n",
      "101           5.8          2.7           5.1          1.9   virginica           3\n",
      "102           7.1          3.0           5.9          2.1   virginica           3\n",
      "103           6.3          2.9           5.6          1.8   virginica           3\n",
      "104           6.5          3.0           5.8          2.2   virginica           3\n",
      "105           7.6          3.0           6.6          2.1   virginica           3\n",
      "106           4.9          2.5           4.5          1.7   virginica           3\n",
      "107           7.3          2.9           6.3          1.8   virginica           3\n",
      "108           6.7          2.5           5.8          1.8   virginica           3\n",
      "109           7.2          3.6           6.1          2.5   virginica           3\n",
      "110           6.5          3.2           5.1          2.0   virginica           3\n",
      "111           6.4          2.7           5.3          1.9   virginica           3\n",
      "112           6.8          3.0           5.5          2.1   virginica           3\n",
      "113           5.7          2.5           5.0          2.0   virginica           3\n",
      "114           5.8          2.8           5.1          2.4   virginica           3\n",
      "115           6.4          3.2           5.3          2.3   virginica           3\n",
      "116           6.5          3.0           5.5          1.8   virginica           3\n",
      "117           7.7          3.8           6.7          2.2   virginica           3\n",
      "118           7.7          2.6           6.9          2.3   virginica           3\n",
      "119           6.0          2.2           5.0          1.5   virginica           3\n",
      "120           6.9          3.2           5.7          2.3   virginica           3\n",
      "121           5.6          2.8           4.9          2.0   virginica           3\n",
      "122           7.7          2.8           6.7          2.0   virginica           3\n",
      "123           6.3          2.7           4.9          1.8   virginica           3\n",
      "124           6.7          3.3           5.7          2.1   virginica           3\n",
      "125           7.2          3.2           6.0          1.8   virginica           3\n",
      "126           6.2          2.8           4.8          1.8   virginica           3\n",
      "127           6.1          3.0           4.9          1.8   virginica           3\n",
      "128           6.4          2.8           5.6          2.1   virginica           3\n",
      "129           7.2          3.0           5.8          1.6   virginica           3\n",
      "130           7.4          2.8           6.1          1.9   virginica           3\n",
      "131           7.9          3.8           6.4          2.0   virginica           3\n",
      "132           6.4          2.8           5.6          2.2   virginica           3\n",
      "133           6.3          2.8           5.1          1.5   virginica           3\n",
      "134           6.1          2.6           5.6          1.4   virginica           3\n",
      "135           7.7          3.0           6.1          2.3   virginica           3\n",
      "136           6.3          3.4           5.6          2.4   virginica           3\n",
      "137           6.4          3.1           5.5          1.8   virginica           3\n",
      "138           6.0          3.0           4.8          1.8   virginica           3\n",
      "139           6.9          3.1           5.4          2.1   virginica           3\n",
      "140           6.7          3.1           5.6          2.4   virginica           3\n",
      "141           6.9          3.1           5.1          2.3   virginica           3\n",
      "142           5.8          2.7           5.1          1.9   virginica           3\n",
      "143           6.8          3.2           5.9          2.3   virginica           3\n",
      "144           6.7          3.3           5.7          2.5   virginica           3\n",
      "145           6.7          3.0           5.2          2.3   virginica           3\n",
      "146           6.3          2.5           5.0          1.9   virginica           3\n",
      "147           6.5          3.0           5.2          2.0   virginica           3\n",
      "148           6.2          3.4           5.4          2.3   virginica           3\n",
      "149           5.9          3.0           5.1          1.8   virginica           3\n"
     ]
    }
   ],
   "source": [
    "print(df.to_string())"
   ]
  },
  {
   "cell_type": "code",
   "execution_count": 12,
   "metadata": {},
   "outputs": [
    {
     "data": {
      "application/vnd.plotly.v1+json": {
       "config": {
        "plotlyServerURL": "https://plot.ly"
       },
       "data": [
        {
         "hovertemplate": "sex=%{x}<br>day=%{y}<br>time=%{z}<extra></extra>",
         "legendgroup": "Female",
         "line": {
          "color": "#636efa",
          "dash": "solid"
         },
         "marker": {
          "symbol": "circle"
         },
         "mode": "lines",
         "name": "Female",
         "scene": "scene",
         "showlegend": true,
         "type": "scatter3d",
         "x": [
          "Female",
          "Female",
          "Female",
          "Female",
          "Female",
          "Female",
          "Female",
          "Female",
          "Female",
          "Female",
          "Female",
          "Female",
          "Female",
          "Female",
          "Female",
          "Female",
          "Female",
          "Female",
          "Female",
          "Female",
          "Female",
          "Female",
          "Female",
          "Female",
          "Female",
          "Female",
          "Female",
          "Female",
          "Female",
          "Female",
          "Female",
          "Female",
          "Female",
          "Female",
          "Female",
          "Female",
          "Female",
          "Female",
          "Female",
          "Female",
          "Female",
          "Female",
          "Female",
          "Female",
          "Female",
          "Female",
          "Female",
          "Female",
          "Female",
          "Female",
          "Female",
          "Female",
          "Female",
          "Female",
          "Female",
          "Female",
          "Female",
          "Female",
          "Female",
          "Female",
          "Female",
          "Female",
          "Female",
          "Female",
          "Female",
          "Female",
          "Female",
          "Female",
          "Female",
          "Female",
          "Female",
          "Female",
          "Female",
          "Female",
          "Female",
          "Female",
          "Female",
          "Female",
          "Female",
          "Female",
          "Female",
          "Female",
          "Female",
          "Female",
          "Female",
          "Female",
          "Female"
         ],
         "y": [
          "Sun",
          "Sun",
          "Sun",
          "Sun",
          "Sun",
          "Sun",
          "Sat",
          "Sat",
          "Sat",
          "Sat",
          "Sat",
          "Sat",
          "Sun",
          "Sun",
          "Sat",
          "Sat",
          "Sat",
          "Sat",
          "Sat",
          "Sat",
          "Sat",
          "Thur",
          "Thur",
          "Fri",
          "Fri",
          "Fri",
          "Fri",
          "Fri",
          "Sat",
          "Sat",
          "Sat",
          "Sat",
          "Sat",
          "Sun",
          "Sun",
          "Thur",
          "Thur",
          "Thur",
          "Thur",
          "Thur",
          "Thur",
          "Thur",
          "Thur",
          "Thur",
          "Thur",
          "Thur",
          "Thur",
          "Thur",
          "Thur",
          "Thur",
          "Thur",
          "Thur",
          "Thur",
          "Thur",
          "Thur",
          "Thur",
          "Thur",
          "Sun",
          "Sun",
          "Sun",
          "Sun",
          "Sun",
          "Sat",
          "Sat",
          "Sun",
          "Sun",
          "Sun",
          "Thur",
          "Thur",
          "Thur",
          "Thur",
          "Thur",
          "Thur",
          "Thur",
          "Sat",
          "Sat",
          "Sat",
          "Sat",
          "Sat",
          "Fri",
          "Fri",
          "Fri",
          "Fri",
          "Sat",
          "Sat",
          "Sat",
          "Thur"
         ],
         "z": [
          "Dinner",
          "Dinner",
          "Dinner",
          "Dinner",
          "Dinner",
          "Dinner",
          "Dinner",
          "Dinner",
          "Dinner",
          "Dinner",
          "Dinner",
          "Dinner",
          "Dinner",
          "Dinner",
          "Dinner",
          "Dinner",
          "Dinner",
          "Dinner",
          "Dinner",
          "Dinner",
          "Dinner",
          "Lunch",
          "Lunch",
          "Dinner",
          "Dinner",
          "Dinner",
          "Dinner",
          "Dinner",
          "Dinner",
          "Dinner",
          "Dinner",
          "Dinner",
          "Dinner",
          "Dinner",
          "Dinner",
          "Lunch",
          "Lunch",
          "Lunch",
          "Lunch",
          "Lunch",
          "Lunch",
          "Lunch",
          "Lunch",
          "Lunch",
          "Lunch",
          "Lunch",
          "Lunch",
          "Lunch",
          "Lunch",
          "Lunch",
          "Lunch",
          "Lunch",
          "Lunch",
          "Lunch",
          "Lunch",
          "Lunch",
          "Lunch",
          "Dinner",
          "Dinner",
          "Dinner",
          "Dinner",
          "Dinner",
          "Dinner",
          "Dinner",
          "Dinner",
          "Dinner",
          "Dinner",
          "Lunch",
          "Lunch",
          "Lunch",
          "Lunch",
          "Lunch",
          "Lunch",
          "Lunch",
          "Dinner",
          "Dinner",
          "Dinner",
          "Dinner",
          "Dinner",
          "Lunch",
          "Lunch",
          "Lunch",
          "Lunch",
          "Dinner",
          "Dinner",
          "Dinner",
          "Dinner"
         ]
        },
        {
         "hovertemplate": "sex=%{x}<br>day=%{y}<br>time=%{z}<extra></extra>",
         "legendgroup": "Male",
         "line": {
          "color": "#EF553B",
          "dash": "solid"
         },
         "marker": {
          "symbol": "circle"
         },
         "mode": "lines",
         "name": "Male",
         "scene": "scene",
         "showlegend": true,
         "type": "scatter3d",
         "x": [
          "Male",
          "Male",
          "Male",
          "Male",
          "Male",
          "Male",
          "Male",
          "Male",
          "Male",
          "Male",
          "Male",
          "Male",
          "Male",
          "Male",
          "Male",
          "Male",
          "Male",
          "Male",
          "Male",
          "Male",
          "Male",
          "Male",
          "Male",
          "Male",
          "Male",
          "Male",
          "Male",
          "Male",
          "Male",
          "Male",
          "Male",
          "Male",
          "Male",
          "Male",
          "Male",
          "Male",
          "Male",
          "Male",
          "Male",
          "Male",
          "Male",
          "Male",
          "Male",
          "Male",
          "Male",
          "Male",
          "Male",
          "Male",
          "Male",
          "Male",
          "Male",
          "Male",
          "Male",
          "Male",
          "Male",
          "Male",
          "Male",
          "Male",
          "Male",
          "Male",
          "Male",
          "Male",
          "Male",
          "Male",
          "Male",
          "Male",
          "Male",
          "Male",
          "Male",
          "Male",
          "Male",
          "Male",
          "Male",
          "Male",
          "Male",
          "Male",
          "Male",
          "Male",
          "Male",
          "Male",
          "Male",
          "Male",
          "Male",
          "Male",
          "Male",
          "Male",
          "Male",
          "Male",
          "Male",
          "Male",
          "Male",
          "Male",
          "Male",
          "Male",
          "Male",
          "Male",
          "Male",
          "Male",
          "Male",
          "Male",
          "Male",
          "Male",
          "Male",
          "Male",
          "Male",
          "Male",
          "Male",
          "Male",
          "Male",
          "Male",
          "Male",
          "Male",
          "Male",
          "Male",
          "Male",
          "Male",
          "Male",
          "Male",
          "Male",
          "Male",
          "Male",
          "Male",
          "Male",
          "Male",
          "Male",
          "Male",
          "Male",
          "Male",
          "Male",
          "Male",
          "Male",
          "Male",
          "Male",
          "Male",
          "Male",
          "Male",
          "Male",
          "Male",
          "Male",
          "Male",
          "Male",
          "Male",
          "Male",
          "Male",
          "Male",
          "Male",
          "Male",
          "Male",
          "Male",
          "Male",
          "Male",
          "Male",
          "Male",
          "Male",
          "Male",
          "Male",
          "Male"
         ],
         "y": [
          "Sun",
          "Sun",
          "Sun",
          "Sun",
          "Sun",
          "Sun",
          "Sun",
          "Sun",
          "Sun",
          "Sun",
          "Sun",
          "Sun",
          "Sun",
          "Sat",
          "Sat",
          "Sat",
          "Sat",
          "Sat",
          "Sat",
          "Sat",
          "Sat",
          "Sat",
          "Sat",
          "Sat",
          "Sat",
          "Sat",
          "Sat",
          "Sat",
          "Sat",
          "Sun",
          "Sun",
          "Sun",
          "Sun",
          "Sun",
          "Sun",
          "Sun",
          "Sun",
          "Sun",
          "Sun",
          "Sun",
          "Sun",
          "Sun",
          "Sat",
          "Sat",
          "Sat",
          "Sat",
          "Sat",
          "Sat",
          "Sat",
          "Sat",
          "Sat",
          "Sat",
          "Sat",
          "Sat",
          "Sat",
          "Sat",
          "Thur",
          "Thur",
          "Thur",
          "Thur",
          "Thur",
          "Thur",
          "Thur",
          "Thur",
          "Thur",
          "Thur",
          "Thur",
          "Fri",
          "Fri",
          "Fri",
          "Fri",
          "Fri",
          "Fri",
          "Fri",
          "Sat",
          "Sat",
          "Sat",
          "Sat",
          "Sat",
          "Sun",
          "Sun",
          "Sun",
          "Thur",
          "Thur",
          "Thur",
          "Thur",
          "Thur",
          "Thur",
          "Thur",
          "Thur",
          "Thur",
          "Thur",
          "Thur",
          "Sun",
          "Sun",
          "Sun",
          "Sun",
          "Sun",
          "Sun",
          "Sun",
          "Sun",
          "Sun",
          "Sun",
          "Sun",
          "Sun",
          "Sun",
          "Sat",
          "Sat",
          "Sun",
          "Sun",
          "Sun",
          "Sun",
          "Sun",
          "Sun",
          "Sun",
          "Sun",
          "Sun",
          "Sun",
          "Sun",
          "Sun",
          "Sun",
          "Sun",
          "Sun",
          "Sun",
          "Thur",
          "Thur",
          "Thur",
          "Thur",
          "Thur",
          "Thur",
          "Thur",
          "Thur",
          "Sat",
          "Sat",
          "Sat",
          "Sat",
          "Sat",
          "Sat",
          "Sat",
          "Sat",
          "Sat",
          "Fri",
          "Fri",
          "Fri",
          "Sat",
          "Sat",
          "Sat",
          "Sat",
          "Sat",
          "Sat",
          "Sat",
          "Sat",
          "Sat",
          "Sat",
          "Sat",
          "Sat",
          "Sat"
         ],
         "z": [
          "Dinner",
          "Dinner",
          "Dinner",
          "Dinner",
          "Dinner",
          "Dinner",
          "Dinner",
          "Dinner",
          "Dinner",
          "Dinner",
          "Dinner",
          "Dinner",
          "Dinner",
          "Dinner",
          "Dinner",
          "Dinner",
          "Dinner",
          "Dinner",
          "Dinner",
          "Dinner",
          "Dinner",
          "Dinner",
          "Dinner",
          "Dinner",
          "Dinner",
          "Dinner",
          "Dinner",
          "Dinner",
          "Dinner",
          "Dinner",
          "Dinner",
          "Dinner",
          "Dinner",
          "Dinner",
          "Dinner",
          "Dinner",
          "Dinner",
          "Dinner",
          "Dinner",
          "Dinner",
          "Dinner",
          "Dinner",
          "Dinner",
          "Dinner",
          "Dinner",
          "Dinner",
          "Dinner",
          "Dinner",
          "Dinner",
          "Dinner",
          "Dinner",
          "Dinner",
          "Dinner",
          "Dinner",
          "Dinner",
          "Dinner",
          "Lunch",
          "Lunch",
          "Lunch",
          "Lunch",
          "Lunch",
          "Lunch",
          "Lunch",
          "Lunch",
          "Lunch",
          "Lunch",
          "Lunch",
          "Dinner",
          "Dinner",
          "Dinner",
          "Dinner",
          "Dinner",
          "Dinner",
          "Dinner",
          "Dinner",
          "Dinner",
          "Dinner",
          "Dinner",
          "Dinner",
          "Dinner",
          "Dinner",
          "Dinner",
          "Lunch",
          "Lunch",
          "Lunch",
          "Lunch",
          "Lunch",
          "Lunch",
          "Lunch",
          "Lunch",
          "Lunch",
          "Lunch",
          "Lunch",
          "Dinner",
          "Dinner",
          "Dinner",
          "Dinner",
          "Dinner",
          "Dinner",
          "Dinner",
          "Dinner",
          "Dinner",
          "Dinner",
          "Dinner",
          "Dinner",
          "Dinner",
          "Dinner",
          "Dinner",
          "Dinner",
          "Dinner",
          "Dinner",
          "Dinner",
          "Dinner",
          "Dinner",
          "Dinner",
          "Dinner",
          "Dinner",
          "Dinner",
          "Dinner",
          "Dinner",
          "Dinner",
          "Dinner",
          "Dinner",
          "Dinner",
          "Lunch",
          "Lunch",
          "Lunch",
          "Lunch",
          "Lunch",
          "Lunch",
          "Lunch",
          "Lunch",
          "Dinner",
          "Dinner",
          "Dinner",
          "Dinner",
          "Dinner",
          "Dinner",
          "Dinner",
          "Dinner",
          "Dinner",
          "Lunch",
          "Lunch",
          "Lunch",
          "Dinner",
          "Dinner",
          "Dinner",
          "Dinner",
          "Dinner",
          "Dinner",
          "Dinner",
          "Dinner",
          "Dinner",
          "Dinner",
          "Dinner",
          "Dinner",
          "Dinner"
         ]
        }
       ],
       "layout": {
        "legend": {
         "title": {
          "text": "sex"
         },
         "tracegroupgap": 0
        },
        "margin": {
         "t": 60
        },
        "scene": {
         "domain": {
          "x": [
           0,
           1
          ],
          "y": [
           0,
           1
          ]
         },
         "xaxis": {
          "categoryarray": [
           "Female",
           "Male"
          ],
          "categoryorder": "array",
          "title": {
           "text": "sex"
          }
         },
         "yaxis": {
          "title": {
           "text": "day"
          }
         },
         "zaxis": {
          "title": {
           "text": "time"
          }
         }
        },
        "template": {
         "data": {
          "bar": [
           {
            "error_x": {
             "color": "#2a3f5f"
            },
            "error_y": {
             "color": "#2a3f5f"
            },
            "marker": {
             "line": {
              "color": "#E5ECF6",
              "width": 0.5
             },
             "pattern": {
              "fillmode": "overlay",
              "size": 10,
              "solidity": 0.2
             }
            },
            "type": "bar"
           }
          ],
          "barpolar": [
           {
            "marker": {
             "line": {
              "color": "#E5ECF6",
              "width": 0.5
             },
             "pattern": {
              "fillmode": "overlay",
              "size": 10,
              "solidity": 0.2
             }
            },
            "type": "barpolar"
           }
          ],
          "carpet": [
           {
            "aaxis": {
             "endlinecolor": "#2a3f5f",
             "gridcolor": "white",
             "linecolor": "white",
             "minorgridcolor": "white",
             "startlinecolor": "#2a3f5f"
            },
            "baxis": {
             "endlinecolor": "#2a3f5f",
             "gridcolor": "white",
             "linecolor": "white",
             "minorgridcolor": "white",
             "startlinecolor": "#2a3f5f"
            },
            "type": "carpet"
           }
          ],
          "choropleth": [
           {
            "colorbar": {
             "outlinewidth": 0,
             "ticks": ""
            },
            "type": "choropleth"
           }
          ],
          "contour": [
           {
            "colorbar": {
             "outlinewidth": 0,
             "ticks": ""
            },
            "colorscale": [
             [
              0,
              "#0d0887"
             ],
             [
              0.1111111111111111,
              "#46039f"
             ],
             [
              0.2222222222222222,
              "#7201a8"
             ],
             [
              0.3333333333333333,
              "#9c179e"
             ],
             [
              0.4444444444444444,
              "#bd3786"
             ],
             [
              0.5555555555555556,
              "#d8576b"
             ],
             [
              0.6666666666666666,
              "#ed7953"
             ],
             [
              0.7777777777777778,
              "#fb9f3a"
             ],
             [
              0.8888888888888888,
              "#fdca26"
             ],
             [
              1,
              "#f0f921"
             ]
            ],
            "type": "contour"
           }
          ],
          "contourcarpet": [
           {
            "colorbar": {
             "outlinewidth": 0,
             "ticks": ""
            },
            "type": "contourcarpet"
           }
          ],
          "heatmap": [
           {
            "colorbar": {
             "outlinewidth": 0,
             "ticks": ""
            },
            "colorscale": [
             [
              0,
              "#0d0887"
             ],
             [
              0.1111111111111111,
              "#46039f"
             ],
             [
              0.2222222222222222,
              "#7201a8"
             ],
             [
              0.3333333333333333,
              "#9c179e"
             ],
             [
              0.4444444444444444,
              "#bd3786"
             ],
             [
              0.5555555555555556,
              "#d8576b"
             ],
             [
              0.6666666666666666,
              "#ed7953"
             ],
             [
              0.7777777777777778,
              "#fb9f3a"
             ],
             [
              0.8888888888888888,
              "#fdca26"
             ],
             [
              1,
              "#f0f921"
             ]
            ],
            "type": "heatmap"
           }
          ],
          "heatmapgl": [
           {
            "colorbar": {
             "outlinewidth": 0,
             "ticks": ""
            },
            "colorscale": [
             [
              0,
              "#0d0887"
             ],
             [
              0.1111111111111111,
              "#46039f"
             ],
             [
              0.2222222222222222,
              "#7201a8"
             ],
             [
              0.3333333333333333,
              "#9c179e"
             ],
             [
              0.4444444444444444,
              "#bd3786"
             ],
             [
              0.5555555555555556,
              "#d8576b"
             ],
             [
              0.6666666666666666,
              "#ed7953"
             ],
             [
              0.7777777777777778,
              "#fb9f3a"
             ],
             [
              0.8888888888888888,
              "#fdca26"
             ],
             [
              1,
              "#f0f921"
             ]
            ],
            "type": "heatmapgl"
           }
          ],
          "histogram": [
           {
            "marker": {
             "pattern": {
              "fillmode": "overlay",
              "size": 10,
              "solidity": 0.2
             }
            },
            "type": "histogram"
           }
          ],
          "histogram2d": [
           {
            "colorbar": {
             "outlinewidth": 0,
             "ticks": ""
            },
            "colorscale": [
             [
              0,
              "#0d0887"
             ],
             [
              0.1111111111111111,
              "#46039f"
             ],
             [
              0.2222222222222222,
              "#7201a8"
             ],
             [
              0.3333333333333333,
              "#9c179e"
             ],
             [
              0.4444444444444444,
              "#bd3786"
             ],
             [
              0.5555555555555556,
              "#d8576b"
             ],
             [
              0.6666666666666666,
              "#ed7953"
             ],
             [
              0.7777777777777778,
              "#fb9f3a"
             ],
             [
              0.8888888888888888,
              "#fdca26"
             ],
             [
              1,
              "#f0f921"
             ]
            ],
            "type": "histogram2d"
           }
          ],
          "histogram2dcontour": [
           {
            "colorbar": {
             "outlinewidth": 0,
             "ticks": ""
            },
            "colorscale": [
             [
              0,
              "#0d0887"
             ],
             [
              0.1111111111111111,
              "#46039f"
             ],
             [
              0.2222222222222222,
              "#7201a8"
             ],
             [
              0.3333333333333333,
              "#9c179e"
             ],
             [
              0.4444444444444444,
              "#bd3786"
             ],
             [
              0.5555555555555556,
              "#d8576b"
             ],
             [
              0.6666666666666666,
              "#ed7953"
             ],
             [
              0.7777777777777778,
              "#fb9f3a"
             ],
             [
              0.8888888888888888,
              "#fdca26"
             ],
             [
              1,
              "#f0f921"
             ]
            ],
            "type": "histogram2dcontour"
           }
          ],
          "mesh3d": [
           {
            "colorbar": {
             "outlinewidth": 0,
             "ticks": ""
            },
            "type": "mesh3d"
           }
          ],
          "parcoords": [
           {
            "line": {
             "colorbar": {
              "outlinewidth": 0,
              "ticks": ""
             }
            },
            "type": "parcoords"
           }
          ],
          "pie": [
           {
            "automargin": true,
            "type": "pie"
           }
          ],
          "scatter": [
           {
            "fillpattern": {
             "fillmode": "overlay",
             "size": 10,
             "solidity": 0.2
            },
            "type": "scatter"
           }
          ],
          "scatter3d": [
           {
            "line": {
             "colorbar": {
              "outlinewidth": 0,
              "ticks": ""
             }
            },
            "marker": {
             "colorbar": {
              "outlinewidth": 0,
              "ticks": ""
             }
            },
            "type": "scatter3d"
           }
          ],
          "scattercarpet": [
           {
            "marker": {
             "colorbar": {
              "outlinewidth": 0,
              "ticks": ""
             }
            },
            "type": "scattercarpet"
           }
          ],
          "scattergeo": [
           {
            "marker": {
             "colorbar": {
              "outlinewidth": 0,
              "ticks": ""
             }
            },
            "type": "scattergeo"
           }
          ],
          "scattergl": [
           {
            "marker": {
             "colorbar": {
              "outlinewidth": 0,
              "ticks": ""
             }
            },
            "type": "scattergl"
           }
          ],
          "scattermapbox": [
           {
            "marker": {
             "colorbar": {
              "outlinewidth": 0,
              "ticks": ""
             }
            },
            "type": "scattermapbox"
           }
          ],
          "scatterpolar": [
           {
            "marker": {
             "colorbar": {
              "outlinewidth": 0,
              "ticks": ""
             }
            },
            "type": "scatterpolar"
           }
          ],
          "scatterpolargl": [
           {
            "marker": {
             "colorbar": {
              "outlinewidth": 0,
              "ticks": ""
             }
            },
            "type": "scatterpolargl"
           }
          ],
          "scatterternary": [
           {
            "marker": {
             "colorbar": {
              "outlinewidth": 0,
              "ticks": ""
             }
            },
            "type": "scatterternary"
           }
          ],
          "surface": [
           {
            "colorbar": {
             "outlinewidth": 0,
             "ticks": ""
            },
            "colorscale": [
             [
              0,
              "#0d0887"
             ],
             [
              0.1111111111111111,
              "#46039f"
             ],
             [
              0.2222222222222222,
              "#7201a8"
             ],
             [
              0.3333333333333333,
              "#9c179e"
             ],
             [
              0.4444444444444444,
              "#bd3786"
             ],
             [
              0.5555555555555556,
              "#d8576b"
             ],
             [
              0.6666666666666666,
              "#ed7953"
             ],
             [
              0.7777777777777778,
              "#fb9f3a"
             ],
             [
              0.8888888888888888,
              "#fdca26"
             ],
             [
              1,
              "#f0f921"
             ]
            ],
            "type": "surface"
           }
          ],
          "table": [
           {
            "cells": {
             "fill": {
              "color": "#EBF0F8"
             },
             "line": {
              "color": "white"
             }
            },
            "header": {
             "fill": {
              "color": "#C8D4E3"
             },
             "line": {
              "color": "white"
             }
            },
            "type": "table"
           }
          ]
         },
         "layout": {
          "annotationdefaults": {
           "arrowcolor": "#2a3f5f",
           "arrowhead": 0,
           "arrowwidth": 1
          },
          "autotypenumbers": "strict",
          "coloraxis": {
           "colorbar": {
            "outlinewidth": 0,
            "ticks": ""
           }
          },
          "colorscale": {
           "diverging": [
            [
             0,
             "#8e0152"
            ],
            [
             0.1,
             "#c51b7d"
            ],
            [
             0.2,
             "#de77ae"
            ],
            [
             0.3,
             "#f1b6da"
            ],
            [
             0.4,
             "#fde0ef"
            ],
            [
             0.5,
             "#f7f7f7"
            ],
            [
             0.6,
             "#e6f5d0"
            ],
            [
             0.7,
             "#b8e186"
            ],
            [
             0.8,
             "#7fbc41"
            ],
            [
             0.9,
             "#4d9221"
            ],
            [
             1,
             "#276419"
            ]
           ],
           "sequential": [
            [
             0,
             "#0d0887"
            ],
            [
             0.1111111111111111,
             "#46039f"
            ],
            [
             0.2222222222222222,
             "#7201a8"
            ],
            [
             0.3333333333333333,
             "#9c179e"
            ],
            [
             0.4444444444444444,
             "#bd3786"
            ],
            [
             0.5555555555555556,
             "#d8576b"
            ],
            [
             0.6666666666666666,
             "#ed7953"
            ],
            [
             0.7777777777777778,
             "#fb9f3a"
            ],
            [
             0.8888888888888888,
             "#fdca26"
            ],
            [
             1,
             "#f0f921"
            ]
           ],
           "sequentialminus": [
            [
             0,
             "#0d0887"
            ],
            [
             0.1111111111111111,
             "#46039f"
            ],
            [
             0.2222222222222222,
             "#7201a8"
            ],
            [
             0.3333333333333333,
             "#9c179e"
            ],
            [
             0.4444444444444444,
             "#bd3786"
            ],
            [
             0.5555555555555556,
             "#d8576b"
            ],
            [
             0.6666666666666666,
             "#ed7953"
            ],
            [
             0.7777777777777778,
             "#fb9f3a"
            ],
            [
             0.8888888888888888,
             "#fdca26"
            ],
            [
             1,
             "#f0f921"
            ]
           ]
          },
          "colorway": [
           "#636efa",
           "#EF553B",
           "#00cc96",
           "#ab63fa",
           "#FFA15A",
           "#19d3f3",
           "#FF6692",
           "#B6E880",
           "#FF97FF",
           "#FECB52"
          ],
          "font": {
           "color": "#2a3f5f"
          },
          "geo": {
           "bgcolor": "white",
           "lakecolor": "white",
           "landcolor": "#E5ECF6",
           "showlakes": true,
           "showland": true,
           "subunitcolor": "white"
          },
          "hoverlabel": {
           "align": "left"
          },
          "hovermode": "closest",
          "mapbox": {
           "style": "light"
          },
          "paper_bgcolor": "white",
          "plot_bgcolor": "#E5ECF6",
          "polar": {
           "angularaxis": {
            "gridcolor": "white",
            "linecolor": "white",
            "ticks": ""
           },
           "bgcolor": "#E5ECF6",
           "radialaxis": {
            "gridcolor": "white",
            "linecolor": "white",
            "ticks": ""
           }
          },
          "scene": {
           "xaxis": {
            "backgroundcolor": "#E5ECF6",
            "gridcolor": "white",
            "gridwidth": 2,
            "linecolor": "white",
            "showbackground": true,
            "ticks": "",
            "zerolinecolor": "white"
           },
           "yaxis": {
            "backgroundcolor": "#E5ECF6",
            "gridcolor": "white",
            "gridwidth": 2,
            "linecolor": "white",
            "showbackground": true,
            "ticks": "",
            "zerolinecolor": "white"
           },
           "zaxis": {
            "backgroundcolor": "#E5ECF6",
            "gridcolor": "white",
            "gridwidth": 2,
            "linecolor": "white",
            "showbackground": true,
            "ticks": "",
            "zerolinecolor": "white"
           }
          },
          "shapedefaults": {
           "line": {
            "color": "#2a3f5f"
           }
          },
          "ternary": {
           "aaxis": {
            "gridcolor": "white",
            "linecolor": "white",
            "ticks": ""
           },
           "baxis": {
            "gridcolor": "white",
            "linecolor": "white",
            "ticks": ""
           },
           "bgcolor": "#E5ECF6",
           "caxis": {
            "gridcolor": "white",
            "linecolor": "white",
            "ticks": ""
           }
          },
          "title": {
           "x": 0.05
          },
          "xaxis": {
           "automargin": true,
           "gridcolor": "white",
           "linecolor": "white",
           "ticks": "",
           "title": {
            "standoff": 15
           },
           "zerolinecolor": "white",
           "zerolinewidth": 2
          },
          "yaxis": {
           "automargin": true,
           "gridcolor": "white",
           "linecolor": "white",
           "ticks": "",
           "title": {
            "standoff": 15
           },
           "zerolinecolor": "white",
           "zerolinewidth": 2
          }
         }
        }
       }
      }
     },
     "metadata": {},
     "output_type": "display_data"
    }
   ],
   "source": [
    "data=px.data.tips()\n",
    "fg=px.line_3d(data,x=\"sex\",y=\"day\",z=\"time\",color=\"sex\")\n",
    "fg.show()"
   ]
  },
  {
   "cell_type": "code",
   "execution_count": 14,
   "metadata": {},
   "outputs": [
    {
     "data": {
      "application/vnd.plotly.v1+json": {
       "config": {
        "plotlyServerURL": "https://plot.ly"
       },
       "data": [
        {
         "hovertemplate": "species=setosa<br>sepal_width=%{y}<br>petal_width=%{z}<br>petal_length=%{marker.size}<extra></extra>",
         "legendgroup": "setosa",
         "marker": {
          "color": "#636efa",
          "size": [
           1.4,
           1.4,
           1.3,
           1.5,
           1.4,
           1.7,
           1.4,
           1.5,
           1.4,
           1.5,
           1.5,
           1.6,
           1.4,
           1.1,
           1.2,
           1.5,
           1.3,
           1.4,
           1.7,
           1.5,
           1.7,
           1.5,
           1,
           1.7,
           1.9,
           1.6,
           1.6,
           1.5,
           1.4,
           1.6,
           1.6,
           1.5,
           1.5,
           1.4,
           1.5,
           1.2,
           1.3,
           1.5,
           1.3,
           1.5,
           1.3,
           1.3,
           1.3,
           1.6,
           1.9,
           1.4,
           1.6,
           1.4,
           1.5,
           1.4
          ],
          "sizemode": "area",
          "sizeref": 0.01725,
          "symbol": "circle"
         },
         "mode": "markers",
         "name": "setosa",
         "scene": "scene",
         "showlegend": true,
         "type": "scatter3d",
         "x": [
          3.5,
          3,
          3.2,
          3.1,
          3.6,
          3.9,
          3.4,
          3.4,
          2.9,
          3.1,
          3.7,
          3.4,
          3,
          3,
          4,
          4.4,
          3.9,
          3.5,
          3.8,
          3.8,
          3.4,
          3.7,
          3.6,
          3.3,
          3.4,
          3,
          3.4,
          3.5,
          3.4,
          3.2,
          3.1,
          3.4,
          4.1,
          4.2,
          3.1,
          3.2,
          3.5,
          3.1,
          3,
          3.4,
          3.5,
          2.3,
          3.2,
          3.5,
          3.8,
          3,
          3.8,
          3.2,
          3.7,
          3.3
         ],
         "y": [
          3.5,
          3,
          3.2,
          3.1,
          3.6,
          3.9,
          3.4,
          3.4,
          2.9,
          3.1,
          3.7,
          3.4,
          3,
          3,
          4,
          4.4,
          3.9,
          3.5,
          3.8,
          3.8,
          3.4,
          3.7,
          3.6,
          3.3,
          3.4,
          3,
          3.4,
          3.5,
          3.4,
          3.2,
          3.1,
          3.4,
          4.1,
          4.2,
          3.1,
          3.2,
          3.5,
          3.1,
          3,
          3.4,
          3.5,
          2.3,
          3.2,
          3.5,
          3.8,
          3,
          3.8,
          3.2,
          3.7,
          3.3
         ],
         "z": [
          0.2,
          0.2,
          0.2,
          0.2,
          0.2,
          0.4,
          0.3,
          0.2,
          0.2,
          0.1,
          0.2,
          0.2,
          0.1,
          0.1,
          0.2,
          0.4,
          0.4,
          0.3,
          0.3,
          0.3,
          0.2,
          0.4,
          0.2,
          0.5,
          0.2,
          0.2,
          0.4,
          0.2,
          0.2,
          0.2,
          0.2,
          0.4,
          0.1,
          0.2,
          0.1,
          0.2,
          0.2,
          0.1,
          0.2,
          0.2,
          0.3,
          0.3,
          0.2,
          0.6,
          0.4,
          0.3,
          0.2,
          0.2,
          0.2,
          0.2
         ]
        },
        {
         "hovertemplate": "species=versicolor<br>sepal_width=%{y}<br>petal_width=%{z}<br>petal_length=%{marker.size}<extra></extra>",
         "legendgroup": "versicolor",
         "marker": {
          "color": "#EF553B",
          "size": [
           4.7,
           4.5,
           4.9,
           4,
           4.6,
           4.5,
           4.7,
           3.3,
           4.6,
           3.9,
           3.5,
           4.2,
           4,
           4.7,
           3.6,
           4.4,
           4.5,
           4.1,
           4.5,
           3.9,
           4.8,
           4,
           4.9,
           4.7,
           4.3,
           4.4,
           4.8,
           5,
           4.5,
           3.5,
           3.8,
           3.7,
           3.9,
           5.1,
           4.5,
           4.5,
           4.7,
           4.4,
           4.1,
           4,
           4.4,
           4.6,
           4,
           3.3,
           4.2,
           4.2,
           4.2,
           4.3,
           3,
           4.1
          ],
          "sizemode": "area",
          "sizeref": 0.01725,
          "symbol": "circle"
         },
         "mode": "markers",
         "name": "versicolor",
         "scene": "scene",
         "showlegend": true,
         "type": "scatter3d",
         "x": [
          3.2,
          3.2,
          3.1,
          2.3,
          2.8,
          2.8,
          3.3,
          2.4,
          2.9,
          2.7,
          2,
          3,
          2.2,
          2.9,
          2.9,
          3.1,
          3,
          2.7,
          2.2,
          2.5,
          3.2,
          2.8,
          2.5,
          2.8,
          2.9,
          3,
          2.8,
          3,
          2.9,
          2.6,
          2.4,
          2.4,
          2.7,
          2.7,
          3,
          3.4,
          3.1,
          2.3,
          3,
          2.5,
          2.6,
          3,
          2.6,
          2.3,
          2.7,
          3,
          2.9,
          2.9,
          2.5,
          2.8
         ],
         "y": [
          3.2,
          3.2,
          3.1,
          2.3,
          2.8,
          2.8,
          3.3,
          2.4,
          2.9,
          2.7,
          2,
          3,
          2.2,
          2.9,
          2.9,
          3.1,
          3,
          2.7,
          2.2,
          2.5,
          3.2,
          2.8,
          2.5,
          2.8,
          2.9,
          3,
          2.8,
          3,
          2.9,
          2.6,
          2.4,
          2.4,
          2.7,
          2.7,
          3,
          3.4,
          3.1,
          2.3,
          3,
          2.5,
          2.6,
          3,
          2.6,
          2.3,
          2.7,
          3,
          2.9,
          2.9,
          2.5,
          2.8
         ],
         "z": [
          1.4,
          1.5,
          1.5,
          1.3,
          1.5,
          1.3,
          1.6,
          1,
          1.3,
          1.4,
          1,
          1.5,
          1,
          1.4,
          1.3,
          1.4,
          1.5,
          1,
          1.5,
          1.1,
          1.8,
          1.3,
          1.5,
          1.2,
          1.3,
          1.4,
          1.4,
          1.7,
          1.5,
          1,
          1.1,
          1,
          1.2,
          1.6,
          1.5,
          1.6,
          1.5,
          1.3,
          1.3,
          1.3,
          1.2,
          1.4,
          1.2,
          1,
          1.3,
          1.2,
          1.3,
          1.3,
          1.1,
          1.3
         ]
        },
        {
         "hovertemplate": "species=virginica<br>sepal_width=%{y}<br>petal_width=%{z}<br>petal_length=%{marker.size}<extra></extra>",
         "legendgroup": "virginica",
         "marker": {
          "color": "#00cc96",
          "size": [
           6,
           5.1,
           5.9,
           5.6,
           5.8,
           6.6,
           4.5,
           6.3,
           5.8,
           6.1,
           5.1,
           5.3,
           5.5,
           5,
           5.1,
           5.3,
           5.5,
           6.7,
           6.9,
           5,
           5.7,
           4.9,
           6.7,
           4.9,
           5.7,
           6,
           4.8,
           4.9,
           5.6,
           5.8,
           6.1,
           6.4,
           5.6,
           5.1,
           5.6,
           6.1,
           5.6,
           5.5,
           4.8,
           5.4,
           5.6,
           5.1,
           5.1,
           5.9,
           5.7,
           5.2,
           5,
           5.2,
           5.4,
           5.1
          ],
          "sizemode": "area",
          "sizeref": 0.01725,
          "symbol": "circle"
         },
         "mode": "markers",
         "name": "virginica",
         "scene": "scene",
         "showlegend": true,
         "type": "scatter3d",
         "x": [
          3.3,
          2.7,
          3,
          2.9,
          3,
          3,
          2.5,
          2.9,
          2.5,
          3.6,
          3.2,
          2.7,
          3,
          2.5,
          2.8,
          3.2,
          3,
          3.8,
          2.6,
          2.2,
          3.2,
          2.8,
          2.8,
          2.7,
          3.3,
          3.2,
          2.8,
          3,
          2.8,
          3,
          2.8,
          3.8,
          2.8,
          2.8,
          2.6,
          3,
          3.4,
          3.1,
          3,
          3.1,
          3.1,
          3.1,
          2.7,
          3.2,
          3.3,
          3,
          2.5,
          3,
          3.4,
          3
         ],
         "y": [
          3.3,
          2.7,
          3,
          2.9,
          3,
          3,
          2.5,
          2.9,
          2.5,
          3.6,
          3.2,
          2.7,
          3,
          2.5,
          2.8,
          3.2,
          3,
          3.8,
          2.6,
          2.2,
          3.2,
          2.8,
          2.8,
          2.7,
          3.3,
          3.2,
          2.8,
          3,
          2.8,
          3,
          2.8,
          3.8,
          2.8,
          2.8,
          2.6,
          3,
          3.4,
          3.1,
          3,
          3.1,
          3.1,
          3.1,
          2.7,
          3.2,
          3.3,
          3,
          2.5,
          3,
          3.4,
          3
         ],
         "z": [
          2.5,
          1.9,
          2.1,
          1.8,
          2.2,
          2.1,
          1.7,
          1.8,
          1.8,
          2.5,
          2,
          1.9,
          2.1,
          2,
          2.4,
          2.3,
          1.8,
          2.2,
          2.3,
          1.5,
          2.3,
          2,
          2,
          1.8,
          2.1,
          1.8,
          1.8,
          1.8,
          2.1,
          1.6,
          1.9,
          2,
          2.2,
          1.5,
          1.4,
          2.3,
          2.4,
          1.8,
          1.8,
          2.1,
          2.4,
          2.3,
          1.9,
          2.3,
          2.5,
          2.3,
          1.9,
          2,
          2.3,
          1.8
         ]
        }
       ],
       "layout": {
        "legend": {
         "itemsizing": "constant",
         "title": {
          "text": "species"
         },
         "tracegroupgap": 0
        },
        "margin": {
         "t": 60
        },
        "scene": {
         "domain": {
          "x": [
           0,
           1
          ],
          "y": [
           0,
           1
          ]
         },
         "xaxis": {
          "title": {
           "text": "sepal_width"
          }
         },
         "yaxis": {
          "title": {
           "text": "sepal_width"
          }
         },
         "zaxis": {
          "title": {
           "text": "petal_width"
          }
         }
        },
        "template": {
         "data": {
          "bar": [
           {
            "error_x": {
             "color": "#2a3f5f"
            },
            "error_y": {
             "color": "#2a3f5f"
            },
            "marker": {
             "line": {
              "color": "#E5ECF6",
              "width": 0.5
             },
             "pattern": {
              "fillmode": "overlay",
              "size": 10,
              "solidity": 0.2
             }
            },
            "type": "bar"
           }
          ],
          "barpolar": [
           {
            "marker": {
             "line": {
              "color": "#E5ECF6",
              "width": 0.5
             },
             "pattern": {
              "fillmode": "overlay",
              "size": 10,
              "solidity": 0.2
             }
            },
            "type": "barpolar"
           }
          ],
          "carpet": [
           {
            "aaxis": {
             "endlinecolor": "#2a3f5f",
             "gridcolor": "white",
             "linecolor": "white",
             "minorgridcolor": "white",
             "startlinecolor": "#2a3f5f"
            },
            "baxis": {
             "endlinecolor": "#2a3f5f",
             "gridcolor": "white",
             "linecolor": "white",
             "minorgridcolor": "white",
             "startlinecolor": "#2a3f5f"
            },
            "type": "carpet"
           }
          ],
          "choropleth": [
           {
            "colorbar": {
             "outlinewidth": 0,
             "ticks": ""
            },
            "type": "choropleth"
           }
          ],
          "contour": [
           {
            "colorbar": {
             "outlinewidth": 0,
             "ticks": ""
            },
            "colorscale": [
             [
              0,
              "#0d0887"
             ],
             [
              0.1111111111111111,
              "#46039f"
             ],
             [
              0.2222222222222222,
              "#7201a8"
             ],
             [
              0.3333333333333333,
              "#9c179e"
             ],
             [
              0.4444444444444444,
              "#bd3786"
             ],
             [
              0.5555555555555556,
              "#d8576b"
             ],
             [
              0.6666666666666666,
              "#ed7953"
             ],
             [
              0.7777777777777778,
              "#fb9f3a"
             ],
             [
              0.8888888888888888,
              "#fdca26"
             ],
             [
              1,
              "#f0f921"
             ]
            ],
            "type": "contour"
           }
          ],
          "contourcarpet": [
           {
            "colorbar": {
             "outlinewidth": 0,
             "ticks": ""
            },
            "type": "contourcarpet"
           }
          ],
          "heatmap": [
           {
            "colorbar": {
             "outlinewidth": 0,
             "ticks": ""
            },
            "colorscale": [
             [
              0,
              "#0d0887"
             ],
             [
              0.1111111111111111,
              "#46039f"
             ],
             [
              0.2222222222222222,
              "#7201a8"
             ],
             [
              0.3333333333333333,
              "#9c179e"
             ],
             [
              0.4444444444444444,
              "#bd3786"
             ],
             [
              0.5555555555555556,
              "#d8576b"
             ],
             [
              0.6666666666666666,
              "#ed7953"
             ],
             [
              0.7777777777777778,
              "#fb9f3a"
             ],
             [
              0.8888888888888888,
              "#fdca26"
             ],
             [
              1,
              "#f0f921"
             ]
            ],
            "type": "heatmap"
           }
          ],
          "heatmapgl": [
           {
            "colorbar": {
             "outlinewidth": 0,
             "ticks": ""
            },
            "colorscale": [
             [
              0,
              "#0d0887"
             ],
             [
              0.1111111111111111,
              "#46039f"
             ],
             [
              0.2222222222222222,
              "#7201a8"
             ],
             [
              0.3333333333333333,
              "#9c179e"
             ],
             [
              0.4444444444444444,
              "#bd3786"
             ],
             [
              0.5555555555555556,
              "#d8576b"
             ],
             [
              0.6666666666666666,
              "#ed7953"
             ],
             [
              0.7777777777777778,
              "#fb9f3a"
             ],
             [
              0.8888888888888888,
              "#fdca26"
             ],
             [
              1,
              "#f0f921"
             ]
            ],
            "type": "heatmapgl"
           }
          ],
          "histogram": [
           {
            "marker": {
             "pattern": {
              "fillmode": "overlay",
              "size": 10,
              "solidity": 0.2
             }
            },
            "type": "histogram"
           }
          ],
          "histogram2d": [
           {
            "colorbar": {
             "outlinewidth": 0,
             "ticks": ""
            },
            "colorscale": [
             [
              0,
              "#0d0887"
             ],
             [
              0.1111111111111111,
              "#46039f"
             ],
             [
              0.2222222222222222,
              "#7201a8"
             ],
             [
              0.3333333333333333,
              "#9c179e"
             ],
             [
              0.4444444444444444,
              "#bd3786"
             ],
             [
              0.5555555555555556,
              "#d8576b"
             ],
             [
              0.6666666666666666,
              "#ed7953"
             ],
             [
              0.7777777777777778,
              "#fb9f3a"
             ],
             [
              0.8888888888888888,
              "#fdca26"
             ],
             [
              1,
              "#f0f921"
             ]
            ],
            "type": "histogram2d"
           }
          ],
          "histogram2dcontour": [
           {
            "colorbar": {
             "outlinewidth": 0,
             "ticks": ""
            },
            "colorscale": [
             [
              0,
              "#0d0887"
             ],
             [
              0.1111111111111111,
              "#46039f"
             ],
             [
              0.2222222222222222,
              "#7201a8"
             ],
             [
              0.3333333333333333,
              "#9c179e"
             ],
             [
              0.4444444444444444,
              "#bd3786"
             ],
             [
              0.5555555555555556,
              "#d8576b"
             ],
             [
              0.6666666666666666,
              "#ed7953"
             ],
             [
              0.7777777777777778,
              "#fb9f3a"
             ],
             [
              0.8888888888888888,
              "#fdca26"
             ],
             [
              1,
              "#f0f921"
             ]
            ],
            "type": "histogram2dcontour"
           }
          ],
          "mesh3d": [
           {
            "colorbar": {
             "outlinewidth": 0,
             "ticks": ""
            },
            "type": "mesh3d"
           }
          ],
          "parcoords": [
           {
            "line": {
             "colorbar": {
              "outlinewidth": 0,
              "ticks": ""
             }
            },
            "type": "parcoords"
           }
          ],
          "pie": [
           {
            "automargin": true,
            "type": "pie"
           }
          ],
          "scatter": [
           {
            "fillpattern": {
             "fillmode": "overlay",
             "size": 10,
             "solidity": 0.2
            },
            "type": "scatter"
           }
          ],
          "scatter3d": [
           {
            "line": {
             "colorbar": {
              "outlinewidth": 0,
              "ticks": ""
             }
            },
            "marker": {
             "colorbar": {
              "outlinewidth": 0,
              "ticks": ""
             }
            },
            "type": "scatter3d"
           }
          ],
          "scattercarpet": [
           {
            "marker": {
             "colorbar": {
              "outlinewidth": 0,
              "ticks": ""
             }
            },
            "type": "scattercarpet"
           }
          ],
          "scattergeo": [
           {
            "marker": {
             "colorbar": {
              "outlinewidth": 0,
              "ticks": ""
             }
            },
            "type": "scattergeo"
           }
          ],
          "scattergl": [
           {
            "marker": {
             "colorbar": {
              "outlinewidth": 0,
              "ticks": ""
             }
            },
            "type": "scattergl"
           }
          ],
          "scattermapbox": [
           {
            "marker": {
             "colorbar": {
              "outlinewidth": 0,
              "ticks": ""
             }
            },
            "type": "scattermapbox"
           }
          ],
          "scatterpolar": [
           {
            "marker": {
             "colorbar": {
              "outlinewidth": 0,
              "ticks": ""
             }
            },
            "type": "scatterpolar"
           }
          ],
          "scatterpolargl": [
           {
            "marker": {
             "colorbar": {
              "outlinewidth": 0,
              "ticks": ""
             }
            },
            "type": "scatterpolargl"
           }
          ],
          "scatterternary": [
           {
            "marker": {
             "colorbar": {
              "outlinewidth": 0,
              "ticks": ""
             }
            },
            "type": "scatterternary"
           }
          ],
          "surface": [
           {
            "colorbar": {
             "outlinewidth": 0,
             "ticks": ""
            },
            "colorscale": [
             [
              0,
              "#0d0887"
             ],
             [
              0.1111111111111111,
              "#46039f"
             ],
             [
              0.2222222222222222,
              "#7201a8"
             ],
             [
              0.3333333333333333,
              "#9c179e"
             ],
             [
              0.4444444444444444,
              "#bd3786"
             ],
             [
              0.5555555555555556,
              "#d8576b"
             ],
             [
              0.6666666666666666,
              "#ed7953"
             ],
             [
              0.7777777777777778,
              "#fb9f3a"
             ],
             [
              0.8888888888888888,
              "#fdca26"
             ],
             [
              1,
              "#f0f921"
             ]
            ],
            "type": "surface"
           }
          ],
          "table": [
           {
            "cells": {
             "fill": {
              "color": "#EBF0F8"
             },
             "line": {
              "color": "white"
             }
            },
            "header": {
             "fill": {
              "color": "#C8D4E3"
             },
             "line": {
              "color": "white"
             }
            },
            "type": "table"
           }
          ]
         },
         "layout": {
          "annotationdefaults": {
           "arrowcolor": "#2a3f5f",
           "arrowhead": 0,
           "arrowwidth": 1
          },
          "autotypenumbers": "strict",
          "coloraxis": {
           "colorbar": {
            "outlinewidth": 0,
            "ticks": ""
           }
          },
          "colorscale": {
           "diverging": [
            [
             0,
             "#8e0152"
            ],
            [
             0.1,
             "#c51b7d"
            ],
            [
             0.2,
             "#de77ae"
            ],
            [
             0.3,
             "#f1b6da"
            ],
            [
             0.4,
             "#fde0ef"
            ],
            [
             0.5,
             "#f7f7f7"
            ],
            [
             0.6,
             "#e6f5d0"
            ],
            [
             0.7,
             "#b8e186"
            ],
            [
             0.8,
             "#7fbc41"
            ],
            [
             0.9,
             "#4d9221"
            ],
            [
             1,
             "#276419"
            ]
           ],
           "sequential": [
            [
             0,
             "#0d0887"
            ],
            [
             0.1111111111111111,
             "#46039f"
            ],
            [
             0.2222222222222222,
             "#7201a8"
            ],
            [
             0.3333333333333333,
             "#9c179e"
            ],
            [
             0.4444444444444444,
             "#bd3786"
            ],
            [
             0.5555555555555556,
             "#d8576b"
            ],
            [
             0.6666666666666666,
             "#ed7953"
            ],
            [
             0.7777777777777778,
             "#fb9f3a"
            ],
            [
             0.8888888888888888,
             "#fdca26"
            ],
            [
             1,
             "#f0f921"
            ]
           ],
           "sequentialminus": [
            [
             0,
             "#0d0887"
            ],
            [
             0.1111111111111111,
             "#46039f"
            ],
            [
             0.2222222222222222,
             "#7201a8"
            ],
            [
             0.3333333333333333,
             "#9c179e"
            ],
            [
             0.4444444444444444,
             "#bd3786"
            ],
            [
             0.5555555555555556,
             "#d8576b"
            ],
            [
             0.6666666666666666,
             "#ed7953"
            ],
            [
             0.7777777777777778,
             "#fb9f3a"
            ],
            [
             0.8888888888888888,
             "#fdca26"
            ],
            [
             1,
             "#f0f921"
            ]
           ]
          },
          "colorway": [
           "#636efa",
           "#EF553B",
           "#00cc96",
           "#ab63fa",
           "#FFA15A",
           "#19d3f3",
           "#FF6692",
           "#B6E880",
           "#FF97FF",
           "#FECB52"
          ],
          "font": {
           "color": "#2a3f5f"
          },
          "geo": {
           "bgcolor": "white",
           "lakecolor": "white",
           "landcolor": "#E5ECF6",
           "showlakes": true,
           "showland": true,
           "subunitcolor": "white"
          },
          "hoverlabel": {
           "align": "left"
          },
          "hovermode": "closest",
          "mapbox": {
           "style": "light"
          },
          "paper_bgcolor": "white",
          "plot_bgcolor": "#E5ECF6",
          "polar": {
           "angularaxis": {
            "gridcolor": "white",
            "linecolor": "white",
            "ticks": ""
           },
           "bgcolor": "#E5ECF6",
           "radialaxis": {
            "gridcolor": "white",
            "linecolor": "white",
            "ticks": ""
           }
          },
          "scene": {
           "xaxis": {
            "backgroundcolor": "#E5ECF6",
            "gridcolor": "white",
            "gridwidth": 2,
            "linecolor": "white",
            "showbackground": true,
            "ticks": "",
            "zerolinecolor": "white"
           },
           "yaxis": {
            "backgroundcolor": "#E5ECF6",
            "gridcolor": "white",
            "gridwidth": 2,
            "linecolor": "white",
            "showbackground": true,
            "ticks": "",
            "zerolinecolor": "white"
           },
           "zaxis": {
            "backgroundcolor": "#E5ECF6",
            "gridcolor": "white",
            "gridwidth": 2,
            "linecolor": "white",
            "showbackground": true,
            "ticks": "",
            "zerolinecolor": "white"
           }
          },
          "shapedefaults": {
           "line": {
            "color": "#2a3f5f"
           }
          },
          "ternary": {
           "aaxis": {
            "gridcolor": "white",
            "linecolor": "white",
            "ticks": ""
           },
           "baxis": {
            "gridcolor": "white",
            "linecolor": "white",
            "ticks": ""
           },
           "bgcolor": "#E5ECF6",
           "caxis": {
            "gridcolor": "white",
            "linecolor": "white",
            "ticks": ""
           }
          },
          "title": {
           "x": 0.05
          },
          "xaxis": {
           "automargin": true,
           "gridcolor": "white",
           "linecolor": "white",
           "ticks": "",
           "title": {
            "standoff": 15
           },
           "zerolinecolor": "white",
           "zerolinewidth": 2
          },
          "yaxis": {
           "automargin": true,
           "gridcolor": "white",
           "linecolor": "white",
           "ticks": "",
           "title": {
            "standoff": 15
           },
           "zerolinecolor": "white",
           "zerolinewidth": 2
          }
         }
        }
       }
      }
     },
     "metadata": {},
     "output_type": "display_data"
    }
   ],
   "source": [
    "df=px.data.iris()\n",
    "fig=px.scatter_3d(df,x='sepal_width',y='sepal_width',z=\"petal_width\",size=\"petal_length\",color='species')\n",
    "fig.show()"
   ]
  },
  {
   "cell_type": "code",
   "execution_count": 19,
   "metadata": {},
   "outputs": [
    {
     "data": {
      "application/vnd.plotly.v1+json": {
       "config": {
        "plotlyServerURL": "https://plot.ly"
       },
       "data": [
        {
         "type": "surface",
         "x": [
          [
           -2,
           -2,
           -2,
           -2,
           -2,
           -2,
           -2,
           -2,
           -2,
           -2,
           -2,
           -2,
           -2,
           -2,
           -2,
           -2,
           -2,
           -2,
           -2,
           -2,
           -2,
           -2,
           -2,
           -2,
           -2,
           -2,
           -2,
           -2,
           -2,
           -2
          ],
          [
           -1.8620689655172413,
           -1.8620689655172413,
           -1.8620689655172413,
           -1.8620689655172413,
           -1.8620689655172413,
           -1.8620689655172413,
           -1.8620689655172413,
           -1.8620689655172413,
           -1.8620689655172413,
           -1.8620689655172413,
           -1.8620689655172413,
           -1.8620689655172413,
           -1.8620689655172413,
           -1.8620689655172413,
           -1.8620689655172413,
           -1.8620689655172413,
           -1.8620689655172413,
           -1.8620689655172413,
           -1.8620689655172413,
           -1.8620689655172413,
           -1.8620689655172413,
           -1.8620689655172413,
           -1.8620689655172413,
           -1.8620689655172413,
           -1.8620689655172413,
           -1.8620689655172413,
           -1.8620689655172413,
           -1.8620689655172413,
           -1.8620689655172413,
           -1.8620689655172413
          ],
          [
           -1.7241379310344827,
           -1.7241379310344827,
           -1.7241379310344827,
           -1.7241379310344827,
           -1.7241379310344827,
           -1.7241379310344827,
           -1.7241379310344827,
           -1.7241379310344827,
           -1.7241379310344827,
           -1.7241379310344827,
           -1.7241379310344827,
           -1.7241379310344827,
           -1.7241379310344827,
           -1.7241379310344827,
           -1.7241379310344827,
           -1.7241379310344827,
           -1.7241379310344827,
           -1.7241379310344827,
           -1.7241379310344827,
           -1.7241379310344827,
           -1.7241379310344827,
           -1.7241379310344827,
           -1.7241379310344827,
           -1.7241379310344827,
           -1.7241379310344827,
           -1.7241379310344827,
           -1.7241379310344827,
           -1.7241379310344827,
           -1.7241379310344827,
           -1.7241379310344827
          ],
          [
           -1.5862068965517242,
           -1.5862068965517242,
           -1.5862068965517242,
           -1.5862068965517242,
           -1.5862068965517242,
           -1.5862068965517242,
           -1.5862068965517242,
           -1.5862068965517242,
           -1.5862068965517242,
           -1.5862068965517242,
           -1.5862068965517242,
           -1.5862068965517242,
           -1.5862068965517242,
           -1.5862068965517242,
           -1.5862068965517242,
           -1.5862068965517242,
           -1.5862068965517242,
           -1.5862068965517242,
           -1.5862068965517242,
           -1.5862068965517242,
           -1.5862068965517242,
           -1.5862068965517242,
           -1.5862068965517242,
           -1.5862068965517242,
           -1.5862068965517242,
           -1.5862068965517242,
           -1.5862068965517242,
           -1.5862068965517242,
           -1.5862068965517242,
           -1.5862068965517242
          ],
          [
           -1.4482758620689655,
           -1.4482758620689655,
           -1.4482758620689655,
           -1.4482758620689655,
           -1.4482758620689655,
           -1.4482758620689655,
           -1.4482758620689655,
           -1.4482758620689655,
           -1.4482758620689655,
           -1.4482758620689655,
           -1.4482758620689655,
           -1.4482758620689655,
           -1.4482758620689655,
           -1.4482758620689655,
           -1.4482758620689655,
           -1.4482758620689655,
           -1.4482758620689655,
           -1.4482758620689655,
           -1.4482758620689655,
           -1.4482758620689655,
           -1.4482758620689655,
           -1.4482758620689655,
           -1.4482758620689655,
           -1.4482758620689655,
           -1.4482758620689655,
           -1.4482758620689655,
           -1.4482758620689655,
           -1.4482758620689655,
           -1.4482758620689655,
           -1.4482758620689655
          ],
          [
           -1.3103448275862069,
           -1.3103448275862069,
           -1.3103448275862069,
           -1.3103448275862069,
           -1.3103448275862069,
           -1.3103448275862069,
           -1.3103448275862069,
           -1.3103448275862069,
           -1.3103448275862069,
           -1.3103448275862069,
           -1.3103448275862069,
           -1.3103448275862069,
           -1.3103448275862069,
           -1.3103448275862069,
           -1.3103448275862069,
           -1.3103448275862069,
           -1.3103448275862069,
           -1.3103448275862069,
           -1.3103448275862069,
           -1.3103448275862069,
           -1.3103448275862069,
           -1.3103448275862069,
           -1.3103448275862069,
           -1.3103448275862069,
           -1.3103448275862069,
           -1.3103448275862069,
           -1.3103448275862069,
           -1.3103448275862069,
           -1.3103448275862069,
           -1.3103448275862069
          ],
          [
           -1.1724137931034484,
           -1.1724137931034484,
           -1.1724137931034484,
           -1.1724137931034484,
           -1.1724137931034484,
           -1.1724137931034484,
           -1.1724137931034484,
           -1.1724137931034484,
           -1.1724137931034484,
           -1.1724137931034484,
           -1.1724137931034484,
           -1.1724137931034484,
           -1.1724137931034484,
           -1.1724137931034484,
           -1.1724137931034484,
           -1.1724137931034484,
           -1.1724137931034484,
           -1.1724137931034484,
           -1.1724137931034484,
           -1.1724137931034484,
           -1.1724137931034484,
           -1.1724137931034484,
           -1.1724137931034484,
           -1.1724137931034484,
           -1.1724137931034484,
           -1.1724137931034484,
           -1.1724137931034484,
           -1.1724137931034484,
           -1.1724137931034484,
           -1.1724137931034484
          ],
          [
           -1.0344827586206897,
           -1.0344827586206897,
           -1.0344827586206897,
           -1.0344827586206897,
           -1.0344827586206897,
           -1.0344827586206897,
           -1.0344827586206897,
           -1.0344827586206897,
           -1.0344827586206897,
           -1.0344827586206897,
           -1.0344827586206897,
           -1.0344827586206897,
           -1.0344827586206897,
           -1.0344827586206897,
           -1.0344827586206897,
           -1.0344827586206897,
           -1.0344827586206897,
           -1.0344827586206897,
           -1.0344827586206897,
           -1.0344827586206897,
           -1.0344827586206897,
           -1.0344827586206897,
           -1.0344827586206897,
           -1.0344827586206897,
           -1.0344827586206897,
           -1.0344827586206897,
           -1.0344827586206897,
           -1.0344827586206897,
           -1.0344827586206897,
           -1.0344827586206897
          ],
          [
           -0.896551724137931,
           -0.896551724137931,
           -0.896551724137931,
           -0.896551724137931,
           -0.896551724137931,
           -0.896551724137931,
           -0.896551724137931,
           -0.896551724137931,
           -0.896551724137931,
           -0.896551724137931,
           -0.896551724137931,
           -0.896551724137931,
           -0.896551724137931,
           -0.896551724137931,
           -0.896551724137931,
           -0.896551724137931,
           -0.896551724137931,
           -0.896551724137931,
           -0.896551724137931,
           -0.896551724137931,
           -0.896551724137931,
           -0.896551724137931,
           -0.896551724137931,
           -0.896551724137931,
           -0.896551724137931,
           -0.896551724137931,
           -0.896551724137931,
           -0.896551724137931,
           -0.896551724137931,
           -0.896551724137931
          ],
          [
           -0.7586206896551724,
           -0.7586206896551724,
           -0.7586206896551724,
           -0.7586206896551724,
           -0.7586206896551724,
           -0.7586206896551724,
           -0.7586206896551724,
           -0.7586206896551724,
           -0.7586206896551724,
           -0.7586206896551724,
           -0.7586206896551724,
           -0.7586206896551724,
           -0.7586206896551724,
           -0.7586206896551724,
           -0.7586206896551724,
           -0.7586206896551724,
           -0.7586206896551724,
           -0.7586206896551724,
           -0.7586206896551724,
           -0.7586206896551724,
           -0.7586206896551724,
           -0.7586206896551724,
           -0.7586206896551724,
           -0.7586206896551724,
           -0.7586206896551724,
           -0.7586206896551724,
           -0.7586206896551724,
           -0.7586206896551724,
           -0.7586206896551724,
           -0.7586206896551724
          ],
          [
           -0.6206896551724137,
           -0.6206896551724137,
           -0.6206896551724137,
           -0.6206896551724137,
           -0.6206896551724137,
           -0.6206896551724137,
           -0.6206896551724137,
           -0.6206896551724137,
           -0.6206896551724137,
           -0.6206896551724137,
           -0.6206896551724137,
           -0.6206896551724137,
           -0.6206896551724137,
           -0.6206896551724137,
           -0.6206896551724137,
           -0.6206896551724137,
           -0.6206896551724137,
           -0.6206896551724137,
           -0.6206896551724137,
           -0.6206896551724137,
           -0.6206896551724137,
           -0.6206896551724137,
           -0.6206896551724137,
           -0.6206896551724137,
           -0.6206896551724137,
           -0.6206896551724137,
           -0.6206896551724137,
           -0.6206896551724137,
           -0.6206896551724137,
           -0.6206896551724137
          ],
          [
           -0.48275862068965525,
           -0.48275862068965525,
           -0.48275862068965525,
           -0.48275862068965525,
           -0.48275862068965525,
           -0.48275862068965525,
           -0.48275862068965525,
           -0.48275862068965525,
           -0.48275862068965525,
           -0.48275862068965525,
           -0.48275862068965525,
           -0.48275862068965525,
           -0.48275862068965525,
           -0.48275862068965525,
           -0.48275862068965525,
           -0.48275862068965525,
           -0.48275862068965525,
           -0.48275862068965525,
           -0.48275862068965525,
           -0.48275862068965525,
           -0.48275862068965525,
           -0.48275862068965525,
           -0.48275862068965525,
           -0.48275862068965525,
           -0.48275862068965525,
           -0.48275862068965525,
           -0.48275862068965525,
           -0.48275862068965525,
           -0.48275862068965525,
           -0.48275862068965525
          ],
          [
           -0.3448275862068966,
           -0.3448275862068966,
           -0.3448275862068966,
           -0.3448275862068966,
           -0.3448275862068966,
           -0.3448275862068966,
           -0.3448275862068966,
           -0.3448275862068966,
           -0.3448275862068966,
           -0.3448275862068966,
           -0.3448275862068966,
           -0.3448275862068966,
           -0.3448275862068966,
           -0.3448275862068966,
           -0.3448275862068966,
           -0.3448275862068966,
           -0.3448275862068966,
           -0.3448275862068966,
           -0.3448275862068966,
           -0.3448275862068966,
           -0.3448275862068966,
           -0.3448275862068966,
           -0.3448275862068966,
           -0.3448275862068966,
           -0.3448275862068966,
           -0.3448275862068966,
           -0.3448275862068966,
           -0.3448275862068966,
           -0.3448275862068966,
           -0.3448275862068966
          ],
          [
           -0.2068965517241379,
           -0.2068965517241379,
           -0.2068965517241379,
           -0.2068965517241379,
           -0.2068965517241379,
           -0.2068965517241379,
           -0.2068965517241379,
           -0.2068965517241379,
           -0.2068965517241379,
           -0.2068965517241379,
           -0.2068965517241379,
           -0.2068965517241379,
           -0.2068965517241379,
           -0.2068965517241379,
           -0.2068965517241379,
           -0.2068965517241379,
           -0.2068965517241379,
           -0.2068965517241379,
           -0.2068965517241379,
           -0.2068965517241379,
           -0.2068965517241379,
           -0.2068965517241379,
           -0.2068965517241379,
           -0.2068965517241379,
           -0.2068965517241379,
           -0.2068965517241379,
           -0.2068965517241379,
           -0.2068965517241379,
           -0.2068965517241379,
           -0.2068965517241379
          ],
          [
           -0.06896551724137945,
           -0.06896551724137945,
           -0.06896551724137945,
           -0.06896551724137945,
           -0.06896551724137945,
           -0.06896551724137945,
           -0.06896551724137945,
           -0.06896551724137945,
           -0.06896551724137945,
           -0.06896551724137945,
           -0.06896551724137945,
           -0.06896551724137945,
           -0.06896551724137945,
           -0.06896551724137945,
           -0.06896551724137945,
           -0.06896551724137945,
           -0.06896551724137945,
           -0.06896551724137945,
           -0.06896551724137945,
           -0.06896551724137945,
           -0.06896551724137945,
           -0.06896551724137945,
           -0.06896551724137945,
           -0.06896551724137945,
           -0.06896551724137945,
           -0.06896551724137945,
           -0.06896551724137945,
           -0.06896551724137945,
           -0.06896551724137945,
           -0.06896551724137945
          ],
          [
           0.06896551724137945,
           0.06896551724137945,
           0.06896551724137945,
           0.06896551724137945,
           0.06896551724137945,
           0.06896551724137945,
           0.06896551724137945,
           0.06896551724137945,
           0.06896551724137945,
           0.06896551724137945,
           0.06896551724137945,
           0.06896551724137945,
           0.06896551724137945,
           0.06896551724137945,
           0.06896551724137945,
           0.06896551724137945,
           0.06896551724137945,
           0.06896551724137945,
           0.06896551724137945,
           0.06896551724137945,
           0.06896551724137945,
           0.06896551724137945,
           0.06896551724137945,
           0.06896551724137945,
           0.06896551724137945,
           0.06896551724137945,
           0.06896551724137945,
           0.06896551724137945,
           0.06896551724137945,
           0.06896551724137945
          ],
          [
           0.2068965517241379,
           0.2068965517241379,
           0.2068965517241379,
           0.2068965517241379,
           0.2068965517241379,
           0.2068965517241379,
           0.2068965517241379,
           0.2068965517241379,
           0.2068965517241379,
           0.2068965517241379,
           0.2068965517241379,
           0.2068965517241379,
           0.2068965517241379,
           0.2068965517241379,
           0.2068965517241379,
           0.2068965517241379,
           0.2068965517241379,
           0.2068965517241379,
           0.2068965517241379,
           0.2068965517241379,
           0.2068965517241379,
           0.2068965517241379,
           0.2068965517241379,
           0.2068965517241379,
           0.2068965517241379,
           0.2068965517241379,
           0.2068965517241379,
           0.2068965517241379,
           0.2068965517241379,
           0.2068965517241379
          ],
          [
           0.34482758620689635,
           0.34482758620689635,
           0.34482758620689635,
           0.34482758620689635,
           0.34482758620689635,
           0.34482758620689635,
           0.34482758620689635,
           0.34482758620689635,
           0.34482758620689635,
           0.34482758620689635,
           0.34482758620689635,
           0.34482758620689635,
           0.34482758620689635,
           0.34482758620689635,
           0.34482758620689635,
           0.34482758620689635,
           0.34482758620689635,
           0.34482758620689635,
           0.34482758620689635,
           0.34482758620689635,
           0.34482758620689635,
           0.34482758620689635,
           0.34482758620689635,
           0.34482758620689635,
           0.34482758620689635,
           0.34482758620689635,
           0.34482758620689635,
           0.34482758620689635,
           0.34482758620689635,
           0.34482758620689635
          ],
          [
           0.48275862068965525,
           0.48275862068965525,
           0.48275862068965525,
           0.48275862068965525,
           0.48275862068965525,
           0.48275862068965525,
           0.48275862068965525,
           0.48275862068965525,
           0.48275862068965525,
           0.48275862068965525,
           0.48275862068965525,
           0.48275862068965525,
           0.48275862068965525,
           0.48275862068965525,
           0.48275862068965525,
           0.48275862068965525,
           0.48275862068965525,
           0.48275862068965525,
           0.48275862068965525,
           0.48275862068965525,
           0.48275862068965525,
           0.48275862068965525,
           0.48275862068965525,
           0.48275862068965525,
           0.48275862068965525,
           0.48275862068965525,
           0.48275862068965525,
           0.48275862068965525,
           0.48275862068965525,
           0.48275862068965525
          ],
          [
           0.6206896551724137,
           0.6206896551724137,
           0.6206896551724137,
           0.6206896551724137,
           0.6206896551724137,
           0.6206896551724137,
           0.6206896551724137,
           0.6206896551724137,
           0.6206896551724137,
           0.6206896551724137,
           0.6206896551724137,
           0.6206896551724137,
           0.6206896551724137,
           0.6206896551724137,
           0.6206896551724137,
           0.6206896551724137,
           0.6206896551724137,
           0.6206896551724137,
           0.6206896551724137,
           0.6206896551724137,
           0.6206896551724137,
           0.6206896551724137,
           0.6206896551724137,
           0.6206896551724137,
           0.6206896551724137,
           0.6206896551724137,
           0.6206896551724137,
           0.6206896551724137,
           0.6206896551724137,
           0.6206896551724137
          ],
          [
           0.7586206896551726,
           0.7586206896551726,
           0.7586206896551726,
           0.7586206896551726,
           0.7586206896551726,
           0.7586206896551726,
           0.7586206896551726,
           0.7586206896551726,
           0.7586206896551726,
           0.7586206896551726,
           0.7586206896551726,
           0.7586206896551726,
           0.7586206896551726,
           0.7586206896551726,
           0.7586206896551726,
           0.7586206896551726,
           0.7586206896551726,
           0.7586206896551726,
           0.7586206896551726,
           0.7586206896551726,
           0.7586206896551726,
           0.7586206896551726,
           0.7586206896551726,
           0.7586206896551726,
           0.7586206896551726,
           0.7586206896551726,
           0.7586206896551726,
           0.7586206896551726,
           0.7586206896551726,
           0.7586206896551726
          ],
          [
           0.896551724137931,
           0.896551724137931,
           0.896551724137931,
           0.896551724137931,
           0.896551724137931,
           0.896551724137931,
           0.896551724137931,
           0.896551724137931,
           0.896551724137931,
           0.896551724137931,
           0.896551724137931,
           0.896551724137931,
           0.896551724137931,
           0.896551724137931,
           0.896551724137931,
           0.896551724137931,
           0.896551724137931,
           0.896551724137931,
           0.896551724137931,
           0.896551724137931,
           0.896551724137931,
           0.896551724137931,
           0.896551724137931,
           0.896551724137931,
           0.896551724137931,
           0.896551724137931,
           0.896551724137931,
           0.896551724137931,
           0.896551724137931,
           0.896551724137931
          ],
          [
           1.0344827586206895,
           1.0344827586206895,
           1.0344827586206895,
           1.0344827586206895,
           1.0344827586206895,
           1.0344827586206895,
           1.0344827586206895,
           1.0344827586206895,
           1.0344827586206895,
           1.0344827586206895,
           1.0344827586206895,
           1.0344827586206895,
           1.0344827586206895,
           1.0344827586206895,
           1.0344827586206895,
           1.0344827586206895,
           1.0344827586206895,
           1.0344827586206895,
           1.0344827586206895,
           1.0344827586206895,
           1.0344827586206895,
           1.0344827586206895,
           1.0344827586206895,
           1.0344827586206895,
           1.0344827586206895,
           1.0344827586206895,
           1.0344827586206895,
           1.0344827586206895,
           1.0344827586206895,
           1.0344827586206895
          ],
          [
           1.1724137931034484,
           1.1724137931034484,
           1.1724137931034484,
           1.1724137931034484,
           1.1724137931034484,
           1.1724137931034484,
           1.1724137931034484,
           1.1724137931034484,
           1.1724137931034484,
           1.1724137931034484,
           1.1724137931034484,
           1.1724137931034484,
           1.1724137931034484,
           1.1724137931034484,
           1.1724137931034484,
           1.1724137931034484,
           1.1724137931034484,
           1.1724137931034484,
           1.1724137931034484,
           1.1724137931034484,
           1.1724137931034484,
           1.1724137931034484,
           1.1724137931034484,
           1.1724137931034484,
           1.1724137931034484,
           1.1724137931034484,
           1.1724137931034484,
           1.1724137931034484,
           1.1724137931034484,
           1.1724137931034484
          ],
          [
           1.3103448275862069,
           1.3103448275862069,
           1.3103448275862069,
           1.3103448275862069,
           1.3103448275862069,
           1.3103448275862069,
           1.3103448275862069,
           1.3103448275862069,
           1.3103448275862069,
           1.3103448275862069,
           1.3103448275862069,
           1.3103448275862069,
           1.3103448275862069,
           1.3103448275862069,
           1.3103448275862069,
           1.3103448275862069,
           1.3103448275862069,
           1.3103448275862069,
           1.3103448275862069,
           1.3103448275862069,
           1.3103448275862069,
           1.3103448275862069,
           1.3103448275862069,
           1.3103448275862069,
           1.3103448275862069,
           1.3103448275862069,
           1.3103448275862069,
           1.3103448275862069,
           1.3103448275862069,
           1.3103448275862069
          ],
          [
           1.4482758620689653,
           1.4482758620689653,
           1.4482758620689653,
           1.4482758620689653,
           1.4482758620689653,
           1.4482758620689653,
           1.4482758620689653,
           1.4482758620689653,
           1.4482758620689653,
           1.4482758620689653,
           1.4482758620689653,
           1.4482758620689653,
           1.4482758620689653,
           1.4482758620689653,
           1.4482758620689653,
           1.4482758620689653,
           1.4482758620689653,
           1.4482758620689653,
           1.4482758620689653,
           1.4482758620689653,
           1.4482758620689653,
           1.4482758620689653,
           1.4482758620689653,
           1.4482758620689653,
           1.4482758620689653,
           1.4482758620689653,
           1.4482758620689653,
           1.4482758620689653,
           1.4482758620689653,
           1.4482758620689653
          ],
          [
           1.5862068965517242,
           1.5862068965517242,
           1.5862068965517242,
           1.5862068965517242,
           1.5862068965517242,
           1.5862068965517242,
           1.5862068965517242,
           1.5862068965517242,
           1.5862068965517242,
           1.5862068965517242,
           1.5862068965517242,
           1.5862068965517242,
           1.5862068965517242,
           1.5862068965517242,
           1.5862068965517242,
           1.5862068965517242,
           1.5862068965517242,
           1.5862068965517242,
           1.5862068965517242,
           1.5862068965517242,
           1.5862068965517242,
           1.5862068965517242,
           1.5862068965517242,
           1.5862068965517242,
           1.5862068965517242,
           1.5862068965517242,
           1.5862068965517242,
           1.5862068965517242,
           1.5862068965517242,
           1.5862068965517242
          ],
          [
           1.7241379310344827,
           1.7241379310344827,
           1.7241379310344827,
           1.7241379310344827,
           1.7241379310344827,
           1.7241379310344827,
           1.7241379310344827,
           1.7241379310344827,
           1.7241379310344827,
           1.7241379310344827,
           1.7241379310344827,
           1.7241379310344827,
           1.7241379310344827,
           1.7241379310344827,
           1.7241379310344827,
           1.7241379310344827,
           1.7241379310344827,
           1.7241379310344827,
           1.7241379310344827,
           1.7241379310344827,
           1.7241379310344827,
           1.7241379310344827,
           1.7241379310344827,
           1.7241379310344827,
           1.7241379310344827,
           1.7241379310344827,
           1.7241379310344827,
           1.7241379310344827,
           1.7241379310344827,
           1.7241379310344827
          ],
          [
           1.862068965517241,
           1.862068965517241,
           1.862068965517241,
           1.862068965517241,
           1.862068965517241,
           1.862068965517241,
           1.862068965517241,
           1.862068965517241,
           1.862068965517241,
           1.862068965517241,
           1.862068965517241,
           1.862068965517241,
           1.862068965517241,
           1.862068965517241,
           1.862068965517241,
           1.862068965517241,
           1.862068965517241,
           1.862068965517241,
           1.862068965517241,
           1.862068965517241,
           1.862068965517241,
           1.862068965517241,
           1.862068965517241,
           1.862068965517241,
           1.862068965517241,
           1.862068965517241,
           1.862068965517241,
           1.862068965517241,
           1.862068965517241,
           1.862068965517241
          ],
          [
           2,
           2,
           2,
           2,
           2,
           2,
           2,
           2,
           2,
           2,
           2,
           2,
           2,
           2,
           2,
           2,
           2,
           2,
           2,
           2,
           2,
           2,
           2,
           2,
           2,
           2,
           2,
           2,
           2,
           2
          ]
         ],
         "y": [
          [
           -2,
           -1.8620689655172413,
           -1.7241379310344827,
           -1.5862068965517242,
           -1.4482758620689655,
           -1.3103448275862069,
           -1.1724137931034484,
           -1.0344827586206897,
           -0.896551724137931,
           -0.7586206896551724,
           -0.6206896551724137,
           -0.48275862068965525,
           -0.3448275862068966,
           -0.2068965517241379,
           -0.06896551724137945,
           0.06896551724137945,
           0.2068965517241379,
           0.34482758620689635,
           0.48275862068965525,
           0.6206896551724137,
           0.7586206896551726,
           0.896551724137931,
           1.0344827586206895,
           1.1724137931034484,
           1.3103448275862069,
           1.4482758620689653,
           1.5862068965517242,
           1.7241379310344827,
           1.862068965517241,
           2
          ],
          [
           -2,
           -1.8620689655172413,
           -1.7241379310344827,
           -1.5862068965517242,
           -1.4482758620689655,
           -1.3103448275862069,
           -1.1724137931034484,
           -1.0344827586206897,
           -0.896551724137931,
           -0.7586206896551724,
           -0.6206896551724137,
           -0.48275862068965525,
           -0.3448275862068966,
           -0.2068965517241379,
           -0.06896551724137945,
           0.06896551724137945,
           0.2068965517241379,
           0.34482758620689635,
           0.48275862068965525,
           0.6206896551724137,
           0.7586206896551726,
           0.896551724137931,
           1.0344827586206895,
           1.1724137931034484,
           1.3103448275862069,
           1.4482758620689653,
           1.5862068965517242,
           1.7241379310344827,
           1.862068965517241,
           2
          ],
          [
           -2,
           -1.8620689655172413,
           -1.7241379310344827,
           -1.5862068965517242,
           -1.4482758620689655,
           -1.3103448275862069,
           -1.1724137931034484,
           -1.0344827586206897,
           -0.896551724137931,
           -0.7586206896551724,
           -0.6206896551724137,
           -0.48275862068965525,
           -0.3448275862068966,
           -0.2068965517241379,
           -0.06896551724137945,
           0.06896551724137945,
           0.2068965517241379,
           0.34482758620689635,
           0.48275862068965525,
           0.6206896551724137,
           0.7586206896551726,
           0.896551724137931,
           1.0344827586206895,
           1.1724137931034484,
           1.3103448275862069,
           1.4482758620689653,
           1.5862068965517242,
           1.7241379310344827,
           1.862068965517241,
           2
          ],
          [
           -2,
           -1.8620689655172413,
           -1.7241379310344827,
           -1.5862068965517242,
           -1.4482758620689655,
           -1.3103448275862069,
           -1.1724137931034484,
           -1.0344827586206897,
           -0.896551724137931,
           -0.7586206896551724,
           -0.6206896551724137,
           -0.48275862068965525,
           -0.3448275862068966,
           -0.2068965517241379,
           -0.06896551724137945,
           0.06896551724137945,
           0.2068965517241379,
           0.34482758620689635,
           0.48275862068965525,
           0.6206896551724137,
           0.7586206896551726,
           0.896551724137931,
           1.0344827586206895,
           1.1724137931034484,
           1.3103448275862069,
           1.4482758620689653,
           1.5862068965517242,
           1.7241379310344827,
           1.862068965517241,
           2
          ],
          [
           -2,
           -1.8620689655172413,
           -1.7241379310344827,
           -1.5862068965517242,
           -1.4482758620689655,
           -1.3103448275862069,
           -1.1724137931034484,
           -1.0344827586206897,
           -0.896551724137931,
           -0.7586206896551724,
           -0.6206896551724137,
           -0.48275862068965525,
           -0.3448275862068966,
           -0.2068965517241379,
           -0.06896551724137945,
           0.06896551724137945,
           0.2068965517241379,
           0.34482758620689635,
           0.48275862068965525,
           0.6206896551724137,
           0.7586206896551726,
           0.896551724137931,
           1.0344827586206895,
           1.1724137931034484,
           1.3103448275862069,
           1.4482758620689653,
           1.5862068965517242,
           1.7241379310344827,
           1.862068965517241,
           2
          ],
          [
           -2,
           -1.8620689655172413,
           -1.7241379310344827,
           -1.5862068965517242,
           -1.4482758620689655,
           -1.3103448275862069,
           -1.1724137931034484,
           -1.0344827586206897,
           -0.896551724137931,
           -0.7586206896551724,
           -0.6206896551724137,
           -0.48275862068965525,
           -0.3448275862068966,
           -0.2068965517241379,
           -0.06896551724137945,
           0.06896551724137945,
           0.2068965517241379,
           0.34482758620689635,
           0.48275862068965525,
           0.6206896551724137,
           0.7586206896551726,
           0.896551724137931,
           1.0344827586206895,
           1.1724137931034484,
           1.3103448275862069,
           1.4482758620689653,
           1.5862068965517242,
           1.7241379310344827,
           1.862068965517241,
           2
          ],
          [
           -2,
           -1.8620689655172413,
           -1.7241379310344827,
           -1.5862068965517242,
           -1.4482758620689655,
           -1.3103448275862069,
           -1.1724137931034484,
           -1.0344827586206897,
           -0.896551724137931,
           -0.7586206896551724,
           -0.6206896551724137,
           -0.48275862068965525,
           -0.3448275862068966,
           -0.2068965517241379,
           -0.06896551724137945,
           0.06896551724137945,
           0.2068965517241379,
           0.34482758620689635,
           0.48275862068965525,
           0.6206896551724137,
           0.7586206896551726,
           0.896551724137931,
           1.0344827586206895,
           1.1724137931034484,
           1.3103448275862069,
           1.4482758620689653,
           1.5862068965517242,
           1.7241379310344827,
           1.862068965517241,
           2
          ],
          [
           -2,
           -1.8620689655172413,
           -1.7241379310344827,
           -1.5862068965517242,
           -1.4482758620689655,
           -1.3103448275862069,
           -1.1724137931034484,
           -1.0344827586206897,
           -0.896551724137931,
           -0.7586206896551724,
           -0.6206896551724137,
           -0.48275862068965525,
           -0.3448275862068966,
           -0.2068965517241379,
           -0.06896551724137945,
           0.06896551724137945,
           0.2068965517241379,
           0.34482758620689635,
           0.48275862068965525,
           0.6206896551724137,
           0.7586206896551726,
           0.896551724137931,
           1.0344827586206895,
           1.1724137931034484,
           1.3103448275862069,
           1.4482758620689653,
           1.5862068965517242,
           1.7241379310344827,
           1.862068965517241,
           2
          ],
          [
           -2,
           -1.8620689655172413,
           -1.7241379310344827,
           -1.5862068965517242,
           -1.4482758620689655,
           -1.3103448275862069,
           -1.1724137931034484,
           -1.0344827586206897,
           -0.896551724137931,
           -0.7586206896551724,
           -0.6206896551724137,
           -0.48275862068965525,
           -0.3448275862068966,
           -0.2068965517241379,
           -0.06896551724137945,
           0.06896551724137945,
           0.2068965517241379,
           0.34482758620689635,
           0.48275862068965525,
           0.6206896551724137,
           0.7586206896551726,
           0.896551724137931,
           1.0344827586206895,
           1.1724137931034484,
           1.3103448275862069,
           1.4482758620689653,
           1.5862068965517242,
           1.7241379310344827,
           1.862068965517241,
           2
          ],
          [
           -2,
           -1.8620689655172413,
           -1.7241379310344827,
           -1.5862068965517242,
           -1.4482758620689655,
           -1.3103448275862069,
           -1.1724137931034484,
           -1.0344827586206897,
           -0.896551724137931,
           -0.7586206896551724,
           -0.6206896551724137,
           -0.48275862068965525,
           -0.3448275862068966,
           -0.2068965517241379,
           -0.06896551724137945,
           0.06896551724137945,
           0.2068965517241379,
           0.34482758620689635,
           0.48275862068965525,
           0.6206896551724137,
           0.7586206896551726,
           0.896551724137931,
           1.0344827586206895,
           1.1724137931034484,
           1.3103448275862069,
           1.4482758620689653,
           1.5862068965517242,
           1.7241379310344827,
           1.862068965517241,
           2
          ],
          [
           -2,
           -1.8620689655172413,
           -1.7241379310344827,
           -1.5862068965517242,
           -1.4482758620689655,
           -1.3103448275862069,
           -1.1724137931034484,
           -1.0344827586206897,
           -0.896551724137931,
           -0.7586206896551724,
           -0.6206896551724137,
           -0.48275862068965525,
           -0.3448275862068966,
           -0.2068965517241379,
           -0.06896551724137945,
           0.06896551724137945,
           0.2068965517241379,
           0.34482758620689635,
           0.48275862068965525,
           0.6206896551724137,
           0.7586206896551726,
           0.896551724137931,
           1.0344827586206895,
           1.1724137931034484,
           1.3103448275862069,
           1.4482758620689653,
           1.5862068965517242,
           1.7241379310344827,
           1.862068965517241,
           2
          ],
          [
           -2,
           -1.8620689655172413,
           -1.7241379310344827,
           -1.5862068965517242,
           -1.4482758620689655,
           -1.3103448275862069,
           -1.1724137931034484,
           -1.0344827586206897,
           -0.896551724137931,
           -0.7586206896551724,
           -0.6206896551724137,
           -0.48275862068965525,
           -0.3448275862068966,
           -0.2068965517241379,
           -0.06896551724137945,
           0.06896551724137945,
           0.2068965517241379,
           0.34482758620689635,
           0.48275862068965525,
           0.6206896551724137,
           0.7586206896551726,
           0.896551724137931,
           1.0344827586206895,
           1.1724137931034484,
           1.3103448275862069,
           1.4482758620689653,
           1.5862068965517242,
           1.7241379310344827,
           1.862068965517241,
           2
          ],
          [
           -2,
           -1.8620689655172413,
           -1.7241379310344827,
           -1.5862068965517242,
           -1.4482758620689655,
           -1.3103448275862069,
           -1.1724137931034484,
           -1.0344827586206897,
           -0.896551724137931,
           -0.7586206896551724,
           -0.6206896551724137,
           -0.48275862068965525,
           -0.3448275862068966,
           -0.2068965517241379,
           -0.06896551724137945,
           0.06896551724137945,
           0.2068965517241379,
           0.34482758620689635,
           0.48275862068965525,
           0.6206896551724137,
           0.7586206896551726,
           0.896551724137931,
           1.0344827586206895,
           1.1724137931034484,
           1.3103448275862069,
           1.4482758620689653,
           1.5862068965517242,
           1.7241379310344827,
           1.862068965517241,
           2
          ],
          [
           -2,
           -1.8620689655172413,
           -1.7241379310344827,
           -1.5862068965517242,
           -1.4482758620689655,
           -1.3103448275862069,
           -1.1724137931034484,
           -1.0344827586206897,
           -0.896551724137931,
           -0.7586206896551724,
           -0.6206896551724137,
           -0.48275862068965525,
           -0.3448275862068966,
           -0.2068965517241379,
           -0.06896551724137945,
           0.06896551724137945,
           0.2068965517241379,
           0.34482758620689635,
           0.48275862068965525,
           0.6206896551724137,
           0.7586206896551726,
           0.896551724137931,
           1.0344827586206895,
           1.1724137931034484,
           1.3103448275862069,
           1.4482758620689653,
           1.5862068965517242,
           1.7241379310344827,
           1.862068965517241,
           2
          ],
          [
           -2,
           -1.8620689655172413,
           -1.7241379310344827,
           -1.5862068965517242,
           -1.4482758620689655,
           -1.3103448275862069,
           -1.1724137931034484,
           -1.0344827586206897,
           -0.896551724137931,
           -0.7586206896551724,
           -0.6206896551724137,
           -0.48275862068965525,
           -0.3448275862068966,
           -0.2068965517241379,
           -0.06896551724137945,
           0.06896551724137945,
           0.2068965517241379,
           0.34482758620689635,
           0.48275862068965525,
           0.6206896551724137,
           0.7586206896551726,
           0.896551724137931,
           1.0344827586206895,
           1.1724137931034484,
           1.3103448275862069,
           1.4482758620689653,
           1.5862068965517242,
           1.7241379310344827,
           1.862068965517241,
           2
          ],
          [
           -2,
           -1.8620689655172413,
           -1.7241379310344827,
           -1.5862068965517242,
           -1.4482758620689655,
           -1.3103448275862069,
           -1.1724137931034484,
           -1.0344827586206897,
           -0.896551724137931,
           -0.7586206896551724,
           -0.6206896551724137,
           -0.48275862068965525,
           -0.3448275862068966,
           -0.2068965517241379,
           -0.06896551724137945,
           0.06896551724137945,
           0.2068965517241379,
           0.34482758620689635,
           0.48275862068965525,
           0.6206896551724137,
           0.7586206896551726,
           0.896551724137931,
           1.0344827586206895,
           1.1724137931034484,
           1.3103448275862069,
           1.4482758620689653,
           1.5862068965517242,
           1.7241379310344827,
           1.862068965517241,
           2
          ],
          [
           -2,
           -1.8620689655172413,
           -1.7241379310344827,
           -1.5862068965517242,
           -1.4482758620689655,
           -1.3103448275862069,
           -1.1724137931034484,
           -1.0344827586206897,
           -0.896551724137931,
           -0.7586206896551724,
           -0.6206896551724137,
           -0.48275862068965525,
           -0.3448275862068966,
           -0.2068965517241379,
           -0.06896551724137945,
           0.06896551724137945,
           0.2068965517241379,
           0.34482758620689635,
           0.48275862068965525,
           0.6206896551724137,
           0.7586206896551726,
           0.896551724137931,
           1.0344827586206895,
           1.1724137931034484,
           1.3103448275862069,
           1.4482758620689653,
           1.5862068965517242,
           1.7241379310344827,
           1.862068965517241,
           2
          ],
          [
           -2,
           -1.8620689655172413,
           -1.7241379310344827,
           -1.5862068965517242,
           -1.4482758620689655,
           -1.3103448275862069,
           -1.1724137931034484,
           -1.0344827586206897,
           -0.896551724137931,
           -0.7586206896551724,
           -0.6206896551724137,
           -0.48275862068965525,
           -0.3448275862068966,
           -0.2068965517241379,
           -0.06896551724137945,
           0.06896551724137945,
           0.2068965517241379,
           0.34482758620689635,
           0.48275862068965525,
           0.6206896551724137,
           0.7586206896551726,
           0.896551724137931,
           1.0344827586206895,
           1.1724137931034484,
           1.3103448275862069,
           1.4482758620689653,
           1.5862068965517242,
           1.7241379310344827,
           1.862068965517241,
           2
          ],
          [
           -2,
           -1.8620689655172413,
           -1.7241379310344827,
           -1.5862068965517242,
           -1.4482758620689655,
           -1.3103448275862069,
           -1.1724137931034484,
           -1.0344827586206897,
           -0.896551724137931,
           -0.7586206896551724,
           -0.6206896551724137,
           -0.48275862068965525,
           -0.3448275862068966,
           -0.2068965517241379,
           -0.06896551724137945,
           0.06896551724137945,
           0.2068965517241379,
           0.34482758620689635,
           0.48275862068965525,
           0.6206896551724137,
           0.7586206896551726,
           0.896551724137931,
           1.0344827586206895,
           1.1724137931034484,
           1.3103448275862069,
           1.4482758620689653,
           1.5862068965517242,
           1.7241379310344827,
           1.862068965517241,
           2
          ],
          [
           -2,
           -1.8620689655172413,
           -1.7241379310344827,
           -1.5862068965517242,
           -1.4482758620689655,
           -1.3103448275862069,
           -1.1724137931034484,
           -1.0344827586206897,
           -0.896551724137931,
           -0.7586206896551724,
           -0.6206896551724137,
           -0.48275862068965525,
           -0.3448275862068966,
           -0.2068965517241379,
           -0.06896551724137945,
           0.06896551724137945,
           0.2068965517241379,
           0.34482758620689635,
           0.48275862068965525,
           0.6206896551724137,
           0.7586206896551726,
           0.896551724137931,
           1.0344827586206895,
           1.1724137931034484,
           1.3103448275862069,
           1.4482758620689653,
           1.5862068965517242,
           1.7241379310344827,
           1.862068965517241,
           2
          ],
          [
           -2,
           -1.8620689655172413,
           -1.7241379310344827,
           -1.5862068965517242,
           -1.4482758620689655,
           -1.3103448275862069,
           -1.1724137931034484,
           -1.0344827586206897,
           -0.896551724137931,
           -0.7586206896551724,
           -0.6206896551724137,
           -0.48275862068965525,
           -0.3448275862068966,
           -0.2068965517241379,
           -0.06896551724137945,
           0.06896551724137945,
           0.2068965517241379,
           0.34482758620689635,
           0.48275862068965525,
           0.6206896551724137,
           0.7586206896551726,
           0.896551724137931,
           1.0344827586206895,
           1.1724137931034484,
           1.3103448275862069,
           1.4482758620689653,
           1.5862068965517242,
           1.7241379310344827,
           1.862068965517241,
           2
          ],
          [
           -2,
           -1.8620689655172413,
           -1.7241379310344827,
           -1.5862068965517242,
           -1.4482758620689655,
           -1.3103448275862069,
           -1.1724137931034484,
           -1.0344827586206897,
           -0.896551724137931,
           -0.7586206896551724,
           -0.6206896551724137,
           -0.48275862068965525,
           -0.3448275862068966,
           -0.2068965517241379,
           -0.06896551724137945,
           0.06896551724137945,
           0.2068965517241379,
           0.34482758620689635,
           0.48275862068965525,
           0.6206896551724137,
           0.7586206896551726,
           0.896551724137931,
           1.0344827586206895,
           1.1724137931034484,
           1.3103448275862069,
           1.4482758620689653,
           1.5862068965517242,
           1.7241379310344827,
           1.862068965517241,
           2
          ],
          [
           -2,
           -1.8620689655172413,
           -1.7241379310344827,
           -1.5862068965517242,
           -1.4482758620689655,
           -1.3103448275862069,
           -1.1724137931034484,
           -1.0344827586206897,
           -0.896551724137931,
           -0.7586206896551724,
           -0.6206896551724137,
           -0.48275862068965525,
           -0.3448275862068966,
           -0.2068965517241379,
           -0.06896551724137945,
           0.06896551724137945,
           0.2068965517241379,
           0.34482758620689635,
           0.48275862068965525,
           0.6206896551724137,
           0.7586206896551726,
           0.896551724137931,
           1.0344827586206895,
           1.1724137931034484,
           1.3103448275862069,
           1.4482758620689653,
           1.5862068965517242,
           1.7241379310344827,
           1.862068965517241,
           2
          ],
          [
           -2,
           -1.8620689655172413,
           -1.7241379310344827,
           -1.5862068965517242,
           -1.4482758620689655,
           -1.3103448275862069,
           -1.1724137931034484,
           -1.0344827586206897,
           -0.896551724137931,
           -0.7586206896551724,
           -0.6206896551724137,
           -0.48275862068965525,
           -0.3448275862068966,
           -0.2068965517241379,
           -0.06896551724137945,
           0.06896551724137945,
           0.2068965517241379,
           0.34482758620689635,
           0.48275862068965525,
           0.6206896551724137,
           0.7586206896551726,
           0.896551724137931,
           1.0344827586206895,
           1.1724137931034484,
           1.3103448275862069,
           1.4482758620689653,
           1.5862068965517242,
           1.7241379310344827,
           1.862068965517241,
           2
          ],
          [
           -2,
           -1.8620689655172413,
           -1.7241379310344827,
           -1.5862068965517242,
           -1.4482758620689655,
           -1.3103448275862069,
           -1.1724137931034484,
           -1.0344827586206897,
           -0.896551724137931,
           -0.7586206896551724,
           -0.6206896551724137,
           -0.48275862068965525,
           -0.3448275862068966,
           -0.2068965517241379,
           -0.06896551724137945,
           0.06896551724137945,
           0.2068965517241379,
           0.34482758620689635,
           0.48275862068965525,
           0.6206896551724137,
           0.7586206896551726,
           0.896551724137931,
           1.0344827586206895,
           1.1724137931034484,
           1.3103448275862069,
           1.4482758620689653,
           1.5862068965517242,
           1.7241379310344827,
           1.862068965517241,
           2
          ],
          [
           -2,
           -1.8620689655172413,
           -1.7241379310344827,
           -1.5862068965517242,
           -1.4482758620689655,
           -1.3103448275862069,
           -1.1724137931034484,
           -1.0344827586206897,
           -0.896551724137931,
           -0.7586206896551724,
           -0.6206896551724137,
           -0.48275862068965525,
           -0.3448275862068966,
           -0.2068965517241379,
           -0.06896551724137945,
           0.06896551724137945,
           0.2068965517241379,
           0.34482758620689635,
           0.48275862068965525,
           0.6206896551724137,
           0.7586206896551726,
           0.896551724137931,
           1.0344827586206895,
           1.1724137931034484,
           1.3103448275862069,
           1.4482758620689653,
           1.5862068965517242,
           1.7241379310344827,
           1.862068965517241,
           2
          ],
          [
           -2,
           -1.8620689655172413,
           -1.7241379310344827,
           -1.5862068965517242,
           -1.4482758620689655,
           -1.3103448275862069,
           -1.1724137931034484,
           -1.0344827586206897,
           -0.896551724137931,
           -0.7586206896551724,
           -0.6206896551724137,
           -0.48275862068965525,
           -0.3448275862068966,
           -0.2068965517241379,
           -0.06896551724137945,
           0.06896551724137945,
           0.2068965517241379,
           0.34482758620689635,
           0.48275862068965525,
           0.6206896551724137,
           0.7586206896551726,
           0.896551724137931,
           1.0344827586206895,
           1.1724137931034484,
           1.3103448275862069,
           1.4482758620689653,
           1.5862068965517242,
           1.7241379310344827,
           1.862068965517241,
           2
          ],
          [
           -2,
           -1.8620689655172413,
           -1.7241379310344827,
           -1.5862068965517242,
           -1.4482758620689655,
           -1.3103448275862069,
           -1.1724137931034484,
           -1.0344827586206897,
           -0.896551724137931,
           -0.7586206896551724,
           -0.6206896551724137,
           -0.48275862068965525,
           -0.3448275862068966,
           -0.2068965517241379,
           -0.06896551724137945,
           0.06896551724137945,
           0.2068965517241379,
           0.34482758620689635,
           0.48275862068965525,
           0.6206896551724137,
           0.7586206896551726,
           0.896551724137931,
           1.0344827586206895,
           1.1724137931034484,
           1.3103448275862069,
           1.4482758620689653,
           1.5862068965517242,
           1.7241379310344827,
           1.862068965517241,
           2
          ],
          [
           -2,
           -1.8620689655172413,
           -1.7241379310344827,
           -1.5862068965517242,
           -1.4482758620689655,
           -1.3103448275862069,
           -1.1724137931034484,
           -1.0344827586206897,
           -0.896551724137931,
           -0.7586206896551724,
           -0.6206896551724137,
           -0.48275862068965525,
           -0.3448275862068966,
           -0.2068965517241379,
           -0.06896551724137945,
           0.06896551724137945,
           0.2068965517241379,
           0.34482758620689635,
           0.48275862068965525,
           0.6206896551724137,
           0.7586206896551726,
           0.896551724137931,
           1.0344827586206895,
           1.1724137931034484,
           1.3103448275862069,
           1.4482758620689653,
           1.5862068965517242,
           1.7241379310344827,
           1.862068965517241,
           2
          ],
          [
           -2,
           -1.8620689655172413,
           -1.7241379310344827,
           -1.5862068965517242,
           -1.4482758620689655,
           -1.3103448275862069,
           -1.1724137931034484,
           -1.0344827586206897,
           -0.896551724137931,
           -0.7586206896551724,
           -0.6206896551724137,
           -0.48275862068965525,
           -0.3448275862068966,
           -0.2068965517241379,
           -0.06896551724137945,
           0.06896551724137945,
           0.2068965517241379,
           0.34482758620689635,
           0.48275862068965525,
           0.6206896551724137,
           0.7586206896551726,
           0.896551724137931,
           1.0344827586206895,
           1.1724137931034484,
           1.3103448275862069,
           1.4482758620689653,
           1.5862068965517242,
           1.7241379310344827,
           1.862068965517241,
           2
          ]
         ],
         "z": [
          [
           -0.14550003380861354,
           0.3771163698374025,
           0.7715856262749327,
           0.9730087800748581,
           0.9828105087509209,
           0.8439552885475596,
           0.6148258430286724,
           0.3501821854376338,
           0.0912887413038582,
           -0.13645656222622704,
           -0.32132971166758456,
           -0.46118753113235134,
           -0.5592517392712635,
           -0.6206589204628736,
           -0.6500367048930533,
           -0.6500367048930533,
           -0.6206589204628736,
           -0.5592517392712635,
           -0.46118753113235134,
           -0.32132971166758456,
           -0.13645656222622704,
           0.0912887413038582,
           0.35018218543763296,
           0.6148258430286724,
           0.8439552885475596,
           0.9828105087509206,
           0.9730087800748581,
           0.7715856262749327,
           0.3771163698374025,
           -0.14550003380861354
          ],
          [
           0.3771163698374025,
           0.7952258400285502,
           0.9877371784944078,
           0.9553860769123755,
           0.7528719566348799,
           0.45459318051713765,
           0.1291045847107738,
           -0.17404272198184442,
           -0.4271000498005775,
           -0.6206589204628736,
           -0.757733268991495,
           -0.8479109755643824,
           -0.9027766503908669,
           -0.9328635462039776,
           -0.9458917490178871,
           -0.9458917490178871,
           -0.9328635462039776,
           -0.9027766503908669,
           -0.8479109755643824,
           -0.757733268991495,
           -0.620658920462873,
           -0.4271000498005775,
           -0.1740427219818453,
           0.1291045847107738,
           0.45459318051713765,
           0.7528719566348794,
           0.9553860769123755,
           0.9877371784944078,
           0.7952258400285508,
           0.3771163698374025
          ],
          [
           0.7715856262749327,
           0.9877371784944078,
           0.9434588440390105,
           0.7006548934506924,
           0.35018218543763296,
           -0.022731849784232684,
           -0.3571204880458734,
           -0.6206589204628736,
           -0.8051523933753714,
           -0.9184849083778888,
           -0.9766950836349867,
           -0.9979453477917158,
           -0.9987485113050988,
           -0.9920555393030482,
           -0.9865519251227948,
           -0.9865519251227948,
           -0.9920555393030482,
           -0.9987485113050988,
           -0.9979453477917158,
           -0.9766950836349867,
           -0.9184849083778888,
           -0.8051523933753714,
           -0.6206589204628736,
           -0.3571204880458734,
           -0.022731849784232684,
           0.35018218543763296,
           0.7006548934506924,
           0.9434588440390105,
           0.987737178494408,
           0.7715856262749327
          ],
          [
           0.9730087800748581,
           0.9553860769123755,
           0.7006548934506924,
           0.31429663941102653,
           -0.09867286477067207,
           -0.46118753113235134,
           -0.7323607673335443,
           -0.9027766503908666,
           -0.984152888590357,
           -0.9987485113050988,
           -0.9712702646711981,
           -0.9239616475809372,
           -0.8743826337224939,
           -0.8349611446231123,
           -0.8134226212963586,
           -0.8134226212963586,
           -0.8349611446231123,
           -0.8743826337224939,
           -0.9239616475809372,
           -0.9712702646711981,
           -0.9987485113050988,
           -0.984152888590357,
           -0.9027766503908669,
           -0.7323607673335443,
           -0.46118753113235134,
           -0.09867286477067294,
           0.31429663941102653,
           0.7006548934506924,
           0.9553860769123753,
           0.9730087800748581
          ],
          [
           0.9828105087509209,
           0.7528719566348799,
           0.35018218543763296,
           -0.09867286477067207,
           -0.49460738664494,
           -0.782008858308403,
           -0.9458917490178869,
           -0.9996603298046648,
           -0.9712702646711981,
           -0.8922085320286857,
           -0.7907065684241876,
           -0.6887493001173617,
           -0.6016879421052983,
           -0.5392218349497397,
           -0.5067949902998576,
           -0.5067949902998576,
           -0.5392218349497397,
           -0.6016879421052983,
           -0.6887493001173617,
           -0.7907065684241876,
           -0.8922085320286859,
           -0.9712702646711981,
           -0.9996603298046648,
           -0.9458917490178869,
           -0.782008858308403,
           -0.49460738664494075,
           -0.09867286477067207,
           0.35018218543763296,
           0.7528719566348794,
           0.9828105087509209
          ],
          [
           0.8439552885475596,
           0.45459318051713765,
           -0.022731849784232684,
           -0.46118753113235134,
           -0.782008858308403,
           -0.9575506568895692,
           -0.9987485113050988,
           -0.9378428982768381,
           -0.8134226212963582,
           -0.660671240210799,
           -0.5067949902998572,
           -0.37023606016878224,
           -0.26201861588431247,
           -0.18788998092341608,
           -0.15039072704493123,
           -0.15039072704493123,
           -0.18788998092341608,
           -0.26201861588431224,
           -0.37023606016878224,
           -0.5067949902998572,
           -0.6606712402107994,
           -0.8134226212963582,
           -0.9378428982768378,
           -0.9987485113050988,
           -0.9575506568895692,
           -0.7820088583084035,
           -0.46118753113235134,
           -0.022731849784232684,
           0.4545931805171369,
           0.8439552885475596
          ],
          [
           0.6148258430286724,
           0.1291045847107738,
           -0.3571204880458734,
           -0.7323607673335443,
           -0.9458917490178869,
           -0.9987485113050988,
           -0.9239616475809374,
           -0.766845870294192,
           -0.5708680895034488,
           -0.37023606016878247,
           -0.18788998092341652,
           -0.036805346618823016,
           0.0772590936387566,
           0.15283470200647742,
           0.19031792651104276,
           0.19031792651104276,
           0.15283470200647742,
           0.07725909363875683,
           -0.036805346618823016,
           -0.18788998092341652,
           -0.37023606016878263,
           -0.5708680895034488,
           -0.7668458702941918,
           -0.9239616475809374,
           -0.9987485113050988,
           -0.9458917490178872,
           -0.7323607673335443,
           -0.3571204880458734,
           0.1291045847107729,
           0.6148258430286724
          ],
          [
           0.3501821854376338,
           -0.17404272198184442,
           -0.6206589204628736,
           -0.9027766503908666,
           -0.9996603298046648,
           -0.9378428982768381,
           -0.766845870294192,
           -0.5392218349497397,
           -0.2985406866270032,
           -0.07479369187759254,
           0.11513023042509656,
           0.26440398676476456,
           0.37253177888744077,
           0.4420076219074999,
           0.47581068280211636,
           0.47581068280211636,
           0.4420076219074999,
           0.372531778887441,
           0.26440398676476456,
           0.11513023042509656,
           -0.07479369187759276,
           -0.2985406866270032,
           -0.5392218349497394,
           -0.766845870294192,
           -0.9378428982768381,
           -0.9996603298046648,
           -0.9027766503908666,
           -0.6206589204628736,
           -0.17404272198184617,
           0.3501821854376338
          ],
          [
           0.0912887413038582,
           -0.4271000498005775,
           -0.8051523933753714,
           -0.984152888590357,
           -0.9712702646711981,
           -0.8134226212963582,
           -0.5708680895034488,
           -0.2985406866270032,
           -0.036805346618822794,
           0.19031792651104298,
           0.372531778887441,
           0.5089249490623624,
           0.6036610106004938,
           0.6625253075413651,
           0.6905397968085247,
           0.6905397968085247,
           0.6625253075413651,
           0.6036610106004938,
           0.5089249490623624,
           0.372531778887441,
           0.19031792651104276,
           -0.036805346618822794,
           -0.29854068662700284,
           -0.5708680895034488,
           -0.8134226212963582,
           -0.9712702646711979,
           -0.984152888590357,
           -0.8051523933753714,
           -0.4271000498005783,
           0.0912887413038582
          ],
          [
           -0.13645656222622704,
           -0.6206589204628736,
           -0.9184849083778888,
           -0.9987485113050988,
           -0.8922085320286857,
           -0.660671240210799,
           -0.37023606016878247,
           -0.07479369187759254,
           0.19031792651104298,
           0.40756470047732835,
           0.5728964162550121,
           0.6905397968085248,
           0.7684304900063436,
           0.8148583542246781,
           0.8363192618840865,
           0.8363192618840865,
           0.8148583542246781,
           0.7684304900063438,
           0.6905397968085248,
           0.5728964162550121,
           0.40756470047732796,
           0.19031792651104298,
           -0.07479369187759209,
           -0.37023606016878247,
           -0.660671240210799,
           -0.8922085320286853,
           -0.9987485113050988,
           -0.9184849083778888,
           -0.6206589204628743,
           -0.13645656222622704
          ],
          [
           -0.32132971166758456,
           -0.757733268991495,
           -0.9766950836349867,
           -0.9712702646711981,
           -0.7907065684241876,
           -0.5067949902998572,
           -0.18788998092341652,
           0.11513023042509656,
           0.372531778887441,
           0.5728964162550121,
           0.717554644571085,
           0.8148583542246781,
           0.8755797367265107,
           0.9097720079076683,
           0.9249045391211184,
           0.9249045391211184,
           0.9097720079076683,
           0.8755797367265107,
           0.8148583542246781,
           0.717554644571085,
           0.5728964162550118,
           0.372531778887441,
           0.115130230425097,
           -0.18788998092341652,
           -0.5067949902998572,
           -0.7907065684241871,
           -0.9712702646711981,
           -0.9766950836349867,
           -0.7577332689914955,
           -0.32132971166758456
          ],
          [
           -0.46118753113235134,
           -0.8479109755643824,
           -0.9979453477917158,
           -0.9239616475809372,
           -0.6887493001173617,
           -0.37023606016878224,
           -0.036805346618823016,
           0.26440398676476456,
           0.5089249490623624,
           0.6905397968085248,
           0.8148583542246781,
           0.893322469531082,
           0.9386981569665462,
           0.9621907478508727,
           0.971855712467654,
           0.971855712467654,
           0.9621907478508727,
           0.9386981569665462,
           0.893322469531082,
           0.8148583542246781,
           0.6905397968085246,
           0.5089249490623624,
           0.264403986764765,
           -0.036805346618823016,
           -0.37023606016878224,
           -0.688749300117361,
           -0.9239616475809372,
           -0.9979453477917158,
           -0.847910975564383,
           -0.46118753113235134
          ],
          [
           -0.5592517392712635,
           -0.9027766503908669,
           -0.9987485113050988,
           -0.8743826337224939,
           -0.6016879421052983,
           -0.26201861588431247,
           0.0772590936387566,
           0.37253177888744077,
           0.6036610106004938,
           0.7684304900063436,
           0.8755797367265107,
           0.9386981569665462,
           0.971855712467654,
           0.9869530441642548,
           0.9923635559948296,
           0.9923635559948296,
           0.9869530441642548,
           0.971855712467654,
           0.9386981569665462,
           0.8755797367265107,
           0.7684304900063434,
           0.6036610106004938,
           0.3725317788874412,
           0.0772590936387566,
           -0.26201861588431247,
           -0.6016879421052976,
           -0.8743826337224939,
           -0.9987485113050988,
           -0.9027766503908672,
           -0.5592517392712635
          ],
          [
           -0.6206589204628736,
           -0.9328635462039776,
           -0.9920555393030482,
           -0.8349611446231123,
           -0.5392218349497397,
           -0.18788998092341608,
           0.15283470200647742,
           0.4420076219074999,
           0.6625253075413651,
           0.8148583542246781,
           0.9097720079076683,
           0.9621907478508727,
           0.9869530441642548,
           0.9963374992122566,
           0.9988691210437116,
           0.9988691210437116,
           0.9963374992122566,
           0.9869530441642549,
           0.9621907478508727,
           0.9097720079076683,
           0.814858354224678,
           0.6625253075413651,
           0.4420076219075003,
           0.15283470200647742,
           -0.18788998092341608,
           -0.5392218349497391,
           -0.8349611446231123,
           -0.9920555393030482,
           -0.9328635462039779,
           -0.6206589204628736
          ],
          [
           -0.6500367048930533,
           -0.9458917490178871,
           -0.9865519251227948,
           -0.8134226212963586,
           -0.5067949902998576,
           -0.15039072704493123,
           0.19031792651104276,
           0.47581068280211636,
           0.6905397968085247,
           0.8363192618840865,
           0.9249045391211184,
           0.971855712467654,
           0.9923635559948296,
           0.9988691210437116,
           0.9999547566544258,
           0.9999547566544258,
           0.9988691210437116,
           0.9923635559948296,
           0.971855712467654,
           0.9249045391211184,
           0.8363192618840862,
           0.6905397968085247,
           0.47581068280211675,
           0.19031792651104276,
           -0.15039072704493123,
           -0.5067949902998569,
           -0.8134226212963586,
           -0.9865519251227948,
           -0.9458917490178873,
           -0.6500367048930533
          ],
          [
           -0.6500367048930533,
           -0.9458917490178871,
           -0.9865519251227948,
           -0.8134226212963586,
           -0.5067949902998576,
           -0.15039072704493123,
           0.19031792651104276,
           0.47581068280211636,
           0.6905397968085247,
           0.8363192618840865,
           0.9249045391211184,
           0.971855712467654,
           0.9923635559948296,
           0.9988691210437116,
           0.9999547566544258,
           0.9999547566544258,
           0.9988691210437116,
           0.9923635559948296,
           0.971855712467654,
           0.9249045391211184,
           0.8363192618840862,
           0.6905397968085247,
           0.47581068280211675,
           0.19031792651104276,
           -0.15039072704493123,
           -0.5067949902998569,
           -0.8134226212963586,
           -0.9865519251227948,
           -0.9458917490178873,
           -0.6500367048930533
          ],
          [
           -0.6206589204628736,
           -0.9328635462039776,
           -0.9920555393030482,
           -0.8349611446231123,
           -0.5392218349497397,
           -0.18788998092341608,
           0.15283470200647742,
           0.4420076219074999,
           0.6625253075413651,
           0.8148583542246781,
           0.9097720079076683,
           0.9621907478508727,
           0.9869530441642548,
           0.9963374992122566,
           0.9988691210437116,
           0.9988691210437116,
           0.9963374992122566,
           0.9869530441642549,
           0.9621907478508727,
           0.9097720079076683,
           0.814858354224678,
           0.6625253075413651,
           0.4420076219075003,
           0.15283470200647742,
           -0.18788998092341608,
           -0.5392218349497391,
           -0.8349611446231123,
           -0.9920555393030482,
           -0.9328635462039779,
           -0.6206589204628736
          ],
          [
           -0.5592517392712635,
           -0.9027766503908669,
           -0.9987485113050988,
           -0.8743826337224939,
           -0.6016879421052983,
           -0.26201861588431224,
           0.07725909363875683,
           0.372531778887441,
           0.6036610106004938,
           0.7684304900063438,
           0.8755797367265107,
           0.9386981569665462,
           0.971855712467654,
           0.9869530441642549,
           0.9923635559948296,
           0.9923635559948296,
           0.9869530441642549,
           0.971855712467654,
           0.9386981569665462,
           0.8755797367265107,
           0.7684304900063436,
           0.6036610106004938,
           0.37253177888744143,
           0.07725909363875683,
           -0.26201861588431224,
           -0.6016879421052976,
           -0.8743826337224939,
           -0.9987485113050988,
           -0.9027766503908672,
           -0.5592517392712635
          ],
          [
           -0.46118753113235134,
           -0.8479109755643824,
           -0.9979453477917158,
           -0.9239616475809372,
           -0.6887493001173617,
           -0.37023606016878224,
           -0.036805346618823016,
           0.26440398676476456,
           0.5089249490623624,
           0.6905397968085248,
           0.8148583542246781,
           0.893322469531082,
           0.9386981569665462,
           0.9621907478508727,
           0.971855712467654,
           0.971855712467654,
           0.9621907478508727,
           0.9386981569665462,
           0.893322469531082,
           0.8148583542246781,
           0.6905397968085246,
           0.5089249490623624,
           0.264403986764765,
           -0.036805346618823016,
           -0.37023606016878224,
           -0.688749300117361,
           -0.9239616475809372,
           -0.9979453477917158,
           -0.847910975564383,
           -0.46118753113235134
          ],
          [
           -0.32132971166758456,
           -0.757733268991495,
           -0.9766950836349867,
           -0.9712702646711981,
           -0.7907065684241876,
           -0.5067949902998572,
           -0.18788998092341652,
           0.11513023042509656,
           0.372531778887441,
           0.5728964162550121,
           0.717554644571085,
           0.8148583542246781,
           0.8755797367265107,
           0.9097720079076683,
           0.9249045391211184,
           0.9249045391211184,
           0.9097720079076683,
           0.8755797367265107,
           0.8148583542246781,
           0.717554644571085,
           0.5728964162550118,
           0.372531778887441,
           0.115130230425097,
           -0.18788998092341652,
           -0.5067949902998572,
           -0.7907065684241871,
           -0.9712702646711981,
           -0.9766950836349867,
           -0.7577332689914955,
           -0.32132971166758456
          ],
          [
           -0.13645656222622704,
           -0.620658920462873,
           -0.9184849083778888,
           -0.9987485113050988,
           -0.8922085320286859,
           -0.6606712402107994,
           -0.37023606016878263,
           -0.07479369187759276,
           0.19031792651104276,
           0.40756470047732796,
           0.5728964162550118,
           0.6905397968085246,
           0.7684304900063434,
           0.814858354224678,
           0.8363192618840862,
           0.8363192618840862,
           0.814858354224678,
           0.7684304900063436,
           0.6905397968085246,
           0.5728964162550118,
           0.40756470047732773,
           0.19031792651104276,
           -0.07479369187759231,
           -0.37023606016878263,
           -0.6606712402107994,
           -0.8922085320286854,
           -0.9987485113050988,
           -0.9184849083778888,
           -0.6206589204628736,
           -0.13645656222622704
          ],
          [
           0.0912887413038582,
           -0.4271000498005775,
           -0.8051523933753714,
           -0.984152888590357,
           -0.9712702646711981,
           -0.8134226212963582,
           -0.5708680895034488,
           -0.2985406866270032,
           -0.036805346618822794,
           0.19031792651104298,
           0.372531778887441,
           0.5089249490623624,
           0.6036610106004938,
           0.6625253075413651,
           0.6905397968085247,
           0.6905397968085247,
           0.6625253075413651,
           0.6036610106004938,
           0.5089249490623624,
           0.372531778887441,
           0.19031792651104276,
           -0.036805346618822794,
           -0.29854068662700284,
           -0.5708680895034488,
           -0.8134226212963582,
           -0.9712702646711979,
           -0.984152888590357,
           -0.8051523933753714,
           -0.4271000498005783,
           0.0912887413038582
          ],
          [
           0.35018218543763296,
           -0.1740427219818453,
           -0.6206589204628736,
           -0.9027766503908669,
           -0.9996603298046648,
           -0.9378428982768378,
           -0.7668458702941918,
           -0.5392218349497394,
           -0.29854068662700284,
           -0.07479369187759209,
           0.115130230425097,
           0.264403986764765,
           0.3725317788874412,
           0.4420076219075003,
           0.47581068280211675,
           0.47581068280211675,
           0.4420076219075003,
           0.37253177888744143,
           0.264403986764765,
           0.115130230425097,
           -0.07479369187759231,
           -0.29854068662700284,
           -0.5392218349497391,
           -0.7668458702941918,
           -0.9378428982768378,
           -0.9996603298046648,
           -0.9027766503908669,
           -0.6206589204628736,
           -0.17404272198184617,
           0.35018218543763296
          ],
          [
           0.6148258430286724,
           0.1291045847107738,
           -0.3571204880458734,
           -0.7323607673335443,
           -0.9458917490178869,
           -0.9987485113050988,
           -0.9239616475809374,
           -0.766845870294192,
           -0.5708680895034488,
           -0.37023606016878247,
           -0.18788998092341652,
           -0.036805346618823016,
           0.0772590936387566,
           0.15283470200647742,
           0.19031792651104276,
           0.19031792651104276,
           0.15283470200647742,
           0.07725909363875683,
           -0.036805346618823016,
           -0.18788998092341652,
           -0.37023606016878263,
           -0.5708680895034488,
           -0.7668458702941918,
           -0.9239616475809374,
           -0.9987485113050988,
           -0.9458917490178872,
           -0.7323607673335443,
           -0.3571204880458734,
           0.1291045847107729,
           0.6148258430286724
          ],
          [
           0.8439552885475596,
           0.45459318051713765,
           -0.022731849784232684,
           -0.46118753113235134,
           -0.782008858308403,
           -0.9575506568895692,
           -0.9987485113050988,
           -0.9378428982768381,
           -0.8134226212963582,
           -0.660671240210799,
           -0.5067949902998572,
           -0.37023606016878224,
           -0.26201861588431247,
           -0.18788998092341608,
           -0.15039072704493123,
           -0.15039072704493123,
           -0.18788998092341608,
           -0.26201861588431224,
           -0.37023606016878224,
           -0.5067949902998572,
           -0.6606712402107994,
           -0.8134226212963582,
           -0.9378428982768378,
           -0.9987485113050988,
           -0.9575506568895692,
           -0.7820088583084035,
           -0.46118753113235134,
           -0.022731849784232684,
           0.4545931805171369,
           0.8439552885475596
          ],
          [
           0.9828105087509206,
           0.7528719566348794,
           0.35018218543763296,
           -0.09867286477067294,
           -0.49460738664494075,
           -0.7820088583084035,
           -0.9458917490178872,
           -0.9996603298046648,
           -0.9712702646711979,
           -0.8922085320286853,
           -0.7907065684241871,
           -0.688749300117361,
           -0.6016879421052976,
           -0.5392218349497391,
           -0.5067949902998569,
           -0.5067949902998569,
           -0.5392218349497391,
           -0.6016879421052976,
           -0.688749300117361,
           -0.7907065684241871,
           -0.8922085320286854,
           -0.9712702646711979,
           -0.9996603298046648,
           -0.9458917490178872,
           -0.7820088583084035,
           -0.4946073866449415,
           -0.09867286477067294,
           0.35018218543763296,
           0.7528719566348788,
           0.9828105087509206
          ],
          [
           0.9730087800748581,
           0.9553860769123755,
           0.7006548934506924,
           0.31429663941102653,
           -0.09867286477067207,
           -0.46118753113235134,
           -0.7323607673335443,
           -0.9027766503908666,
           -0.984152888590357,
           -0.9987485113050988,
           -0.9712702646711981,
           -0.9239616475809372,
           -0.8743826337224939,
           -0.8349611446231123,
           -0.8134226212963586,
           -0.8134226212963586,
           -0.8349611446231123,
           -0.8743826337224939,
           -0.9239616475809372,
           -0.9712702646711981,
           -0.9987485113050988,
           -0.984152888590357,
           -0.9027766503908669,
           -0.7323607673335443,
           -0.46118753113235134,
           -0.09867286477067294,
           0.31429663941102653,
           0.7006548934506924,
           0.9553860769123753,
           0.9730087800748581
          ],
          [
           0.7715856262749327,
           0.9877371784944078,
           0.9434588440390105,
           0.7006548934506924,
           0.35018218543763296,
           -0.022731849784232684,
           -0.3571204880458734,
           -0.6206589204628736,
           -0.8051523933753714,
           -0.9184849083778888,
           -0.9766950836349867,
           -0.9979453477917158,
           -0.9987485113050988,
           -0.9920555393030482,
           -0.9865519251227948,
           -0.9865519251227948,
           -0.9920555393030482,
           -0.9987485113050988,
           -0.9979453477917158,
           -0.9766950836349867,
           -0.9184849083778888,
           -0.8051523933753714,
           -0.6206589204628736,
           -0.3571204880458734,
           -0.022731849784232684,
           0.35018218543763296,
           0.7006548934506924,
           0.9434588440390105,
           0.987737178494408,
           0.7715856262749327
          ],
          [
           0.3771163698374025,
           0.7952258400285508,
           0.987737178494408,
           0.9553860769123753,
           0.7528719566348794,
           0.4545931805171369,
           0.1291045847107729,
           -0.17404272198184617,
           -0.4271000498005783,
           -0.6206589204628743,
           -0.7577332689914955,
           -0.847910975564383,
           -0.9027766503908672,
           -0.9328635462039779,
           -0.9458917490178873,
           -0.9458917490178873,
           -0.9328635462039779,
           -0.9027766503908672,
           -0.847910975564383,
           -0.7577332689914955,
           -0.6206589204628736,
           -0.4271000498005783,
           -0.17404272198184617,
           0.1291045847107729,
           0.4545931805171369,
           0.7528719566348788,
           0.9553860769123753,
           0.987737178494408,
           0.7952258400285513,
           0.3771163698374025
          ],
          [
           -0.14550003380861354,
           0.3771163698374025,
           0.7715856262749327,
           0.9730087800748581,
           0.9828105087509209,
           0.8439552885475596,
           0.6148258430286724,
           0.3501821854376338,
           0.0912887413038582,
           -0.13645656222622704,
           -0.32132971166758456,
           -0.46118753113235134,
           -0.5592517392712635,
           -0.6206589204628736,
           -0.6500367048930533,
           -0.6500367048930533,
           -0.6206589204628736,
           -0.5592517392712635,
           -0.46118753113235134,
           -0.32132971166758456,
           -0.13645656222622704,
           0.0912887413038582,
           0.35018218543763296,
           0.6148258430286724,
           0.8439552885475596,
           0.9828105087509206,
           0.9730087800748581,
           0.7715856262749327,
           0.3771163698374025,
           -0.14550003380861354
          ]
         ]
        }
       ],
       "layout": {
        "template": {
         "data": {
          "bar": [
           {
            "error_x": {
             "color": "#2a3f5f"
            },
            "error_y": {
             "color": "#2a3f5f"
            },
            "marker": {
             "line": {
              "color": "#E5ECF6",
              "width": 0.5
             },
             "pattern": {
              "fillmode": "overlay",
              "size": 10,
              "solidity": 0.2
             }
            },
            "type": "bar"
           }
          ],
          "barpolar": [
           {
            "marker": {
             "line": {
              "color": "#E5ECF6",
              "width": 0.5
             },
             "pattern": {
              "fillmode": "overlay",
              "size": 10,
              "solidity": 0.2
             }
            },
            "type": "barpolar"
           }
          ],
          "carpet": [
           {
            "aaxis": {
             "endlinecolor": "#2a3f5f",
             "gridcolor": "white",
             "linecolor": "white",
             "minorgridcolor": "white",
             "startlinecolor": "#2a3f5f"
            },
            "baxis": {
             "endlinecolor": "#2a3f5f",
             "gridcolor": "white",
             "linecolor": "white",
             "minorgridcolor": "white",
             "startlinecolor": "#2a3f5f"
            },
            "type": "carpet"
           }
          ],
          "choropleth": [
           {
            "colorbar": {
             "outlinewidth": 0,
             "ticks": ""
            },
            "type": "choropleth"
           }
          ],
          "contour": [
           {
            "colorbar": {
             "outlinewidth": 0,
             "ticks": ""
            },
            "colorscale": [
             [
              0,
              "#0d0887"
             ],
             [
              0.1111111111111111,
              "#46039f"
             ],
             [
              0.2222222222222222,
              "#7201a8"
             ],
             [
              0.3333333333333333,
              "#9c179e"
             ],
             [
              0.4444444444444444,
              "#bd3786"
             ],
             [
              0.5555555555555556,
              "#d8576b"
             ],
             [
              0.6666666666666666,
              "#ed7953"
             ],
             [
              0.7777777777777778,
              "#fb9f3a"
             ],
             [
              0.8888888888888888,
              "#fdca26"
             ],
             [
              1,
              "#f0f921"
             ]
            ],
            "type": "contour"
           }
          ],
          "contourcarpet": [
           {
            "colorbar": {
             "outlinewidth": 0,
             "ticks": ""
            },
            "type": "contourcarpet"
           }
          ],
          "heatmap": [
           {
            "colorbar": {
             "outlinewidth": 0,
             "ticks": ""
            },
            "colorscale": [
             [
              0,
              "#0d0887"
             ],
             [
              0.1111111111111111,
              "#46039f"
             ],
             [
              0.2222222222222222,
              "#7201a8"
             ],
             [
              0.3333333333333333,
              "#9c179e"
             ],
             [
              0.4444444444444444,
              "#bd3786"
             ],
             [
              0.5555555555555556,
              "#d8576b"
             ],
             [
              0.6666666666666666,
              "#ed7953"
             ],
             [
              0.7777777777777778,
              "#fb9f3a"
             ],
             [
              0.8888888888888888,
              "#fdca26"
             ],
             [
              1,
              "#f0f921"
             ]
            ],
            "type": "heatmap"
           }
          ],
          "heatmapgl": [
           {
            "colorbar": {
             "outlinewidth": 0,
             "ticks": ""
            },
            "colorscale": [
             [
              0,
              "#0d0887"
             ],
             [
              0.1111111111111111,
              "#46039f"
             ],
             [
              0.2222222222222222,
              "#7201a8"
             ],
             [
              0.3333333333333333,
              "#9c179e"
             ],
             [
              0.4444444444444444,
              "#bd3786"
             ],
             [
              0.5555555555555556,
              "#d8576b"
             ],
             [
              0.6666666666666666,
              "#ed7953"
             ],
             [
              0.7777777777777778,
              "#fb9f3a"
             ],
             [
              0.8888888888888888,
              "#fdca26"
             ],
             [
              1,
              "#f0f921"
             ]
            ],
            "type": "heatmapgl"
           }
          ],
          "histogram": [
           {
            "marker": {
             "pattern": {
              "fillmode": "overlay",
              "size": 10,
              "solidity": 0.2
             }
            },
            "type": "histogram"
           }
          ],
          "histogram2d": [
           {
            "colorbar": {
             "outlinewidth": 0,
             "ticks": ""
            },
            "colorscale": [
             [
              0,
              "#0d0887"
             ],
             [
              0.1111111111111111,
              "#46039f"
             ],
             [
              0.2222222222222222,
              "#7201a8"
             ],
             [
              0.3333333333333333,
              "#9c179e"
             ],
             [
              0.4444444444444444,
              "#bd3786"
             ],
             [
              0.5555555555555556,
              "#d8576b"
             ],
             [
              0.6666666666666666,
              "#ed7953"
             ],
             [
              0.7777777777777778,
              "#fb9f3a"
             ],
             [
              0.8888888888888888,
              "#fdca26"
             ],
             [
              1,
              "#f0f921"
             ]
            ],
            "type": "histogram2d"
           }
          ],
          "histogram2dcontour": [
           {
            "colorbar": {
             "outlinewidth": 0,
             "ticks": ""
            },
            "colorscale": [
             [
              0,
              "#0d0887"
             ],
             [
              0.1111111111111111,
              "#46039f"
             ],
             [
              0.2222222222222222,
              "#7201a8"
             ],
             [
              0.3333333333333333,
              "#9c179e"
             ],
             [
              0.4444444444444444,
              "#bd3786"
             ],
             [
              0.5555555555555556,
              "#d8576b"
             ],
             [
              0.6666666666666666,
              "#ed7953"
             ],
             [
              0.7777777777777778,
              "#fb9f3a"
             ],
             [
              0.8888888888888888,
              "#fdca26"
             ],
             [
              1,
              "#f0f921"
             ]
            ],
            "type": "histogram2dcontour"
           }
          ],
          "mesh3d": [
           {
            "colorbar": {
             "outlinewidth": 0,
             "ticks": ""
            },
            "type": "mesh3d"
           }
          ],
          "parcoords": [
           {
            "line": {
             "colorbar": {
              "outlinewidth": 0,
              "ticks": ""
             }
            },
            "type": "parcoords"
           }
          ],
          "pie": [
           {
            "automargin": true,
            "type": "pie"
           }
          ],
          "scatter": [
           {
            "fillpattern": {
             "fillmode": "overlay",
             "size": 10,
             "solidity": 0.2
            },
            "type": "scatter"
           }
          ],
          "scatter3d": [
           {
            "line": {
             "colorbar": {
              "outlinewidth": 0,
              "ticks": ""
             }
            },
            "marker": {
             "colorbar": {
              "outlinewidth": 0,
              "ticks": ""
             }
            },
            "type": "scatter3d"
           }
          ],
          "scattercarpet": [
           {
            "marker": {
             "colorbar": {
              "outlinewidth": 0,
              "ticks": ""
             }
            },
            "type": "scattercarpet"
           }
          ],
          "scattergeo": [
           {
            "marker": {
             "colorbar": {
              "outlinewidth": 0,
              "ticks": ""
             }
            },
            "type": "scattergeo"
           }
          ],
          "scattergl": [
           {
            "marker": {
             "colorbar": {
              "outlinewidth": 0,
              "ticks": ""
             }
            },
            "type": "scattergl"
           }
          ],
          "scattermapbox": [
           {
            "marker": {
             "colorbar": {
              "outlinewidth": 0,
              "ticks": ""
             }
            },
            "type": "scattermapbox"
           }
          ],
          "scatterpolar": [
           {
            "marker": {
             "colorbar": {
              "outlinewidth": 0,
              "ticks": ""
             }
            },
            "type": "scatterpolar"
           }
          ],
          "scatterpolargl": [
           {
            "marker": {
             "colorbar": {
              "outlinewidth": 0,
              "ticks": ""
             }
            },
            "type": "scatterpolargl"
           }
          ],
          "scatterternary": [
           {
            "marker": {
             "colorbar": {
              "outlinewidth": 0,
              "ticks": ""
             }
            },
            "type": "scatterternary"
           }
          ],
          "surface": [
           {
            "colorbar": {
             "outlinewidth": 0,
             "ticks": ""
            },
            "colorscale": [
             [
              0,
              "#0d0887"
             ],
             [
              0.1111111111111111,
              "#46039f"
             ],
             [
              0.2222222222222222,
              "#7201a8"
             ],
             [
              0.3333333333333333,
              "#9c179e"
             ],
             [
              0.4444444444444444,
              "#bd3786"
             ],
             [
              0.5555555555555556,
              "#d8576b"
             ],
             [
              0.6666666666666666,
              "#ed7953"
             ],
             [
              0.7777777777777778,
              "#fb9f3a"
             ],
             [
              0.8888888888888888,
              "#fdca26"
             ],
             [
              1,
              "#f0f921"
             ]
            ],
            "type": "surface"
           }
          ],
          "table": [
           {
            "cells": {
             "fill": {
              "color": "#EBF0F8"
             },
             "line": {
              "color": "white"
             }
            },
            "header": {
             "fill": {
              "color": "#C8D4E3"
             },
             "line": {
              "color": "white"
             }
            },
            "type": "table"
           }
          ]
         },
         "layout": {
          "annotationdefaults": {
           "arrowcolor": "#2a3f5f",
           "arrowhead": 0,
           "arrowwidth": 1
          },
          "autotypenumbers": "strict",
          "coloraxis": {
           "colorbar": {
            "outlinewidth": 0,
            "ticks": ""
           }
          },
          "colorscale": {
           "diverging": [
            [
             0,
             "#8e0152"
            ],
            [
             0.1,
             "#c51b7d"
            ],
            [
             0.2,
             "#de77ae"
            ],
            [
             0.3,
             "#f1b6da"
            ],
            [
             0.4,
             "#fde0ef"
            ],
            [
             0.5,
             "#f7f7f7"
            ],
            [
             0.6,
             "#e6f5d0"
            ],
            [
             0.7,
             "#b8e186"
            ],
            [
             0.8,
             "#7fbc41"
            ],
            [
             0.9,
             "#4d9221"
            ],
            [
             1,
             "#276419"
            ]
           ],
           "sequential": [
            [
             0,
             "#0d0887"
            ],
            [
             0.1111111111111111,
             "#46039f"
            ],
            [
             0.2222222222222222,
             "#7201a8"
            ],
            [
             0.3333333333333333,
             "#9c179e"
            ],
            [
             0.4444444444444444,
             "#bd3786"
            ],
            [
             0.5555555555555556,
             "#d8576b"
            ],
            [
             0.6666666666666666,
             "#ed7953"
            ],
            [
             0.7777777777777778,
             "#fb9f3a"
            ],
            [
             0.8888888888888888,
             "#fdca26"
            ],
            [
             1,
             "#f0f921"
            ]
           ],
           "sequentialminus": [
            [
             0,
             "#0d0887"
            ],
            [
             0.1111111111111111,
             "#46039f"
            ],
            [
             0.2222222222222222,
             "#7201a8"
            ],
            [
             0.3333333333333333,
             "#9c179e"
            ],
            [
             0.4444444444444444,
             "#bd3786"
            ],
            [
             0.5555555555555556,
             "#d8576b"
            ],
            [
             0.6666666666666666,
             "#ed7953"
            ],
            [
             0.7777777777777778,
             "#fb9f3a"
            ],
            [
             0.8888888888888888,
             "#fdca26"
            ],
            [
             1,
             "#f0f921"
            ]
           ]
          },
          "colorway": [
           "#636efa",
           "#EF553B",
           "#00cc96",
           "#ab63fa",
           "#FFA15A",
           "#19d3f3",
           "#FF6692",
           "#B6E880",
           "#FF97FF",
           "#FECB52"
          ],
          "font": {
           "color": "#2a3f5f"
          },
          "geo": {
           "bgcolor": "white",
           "lakecolor": "white",
           "landcolor": "#E5ECF6",
           "showlakes": true,
           "showland": true,
           "subunitcolor": "white"
          },
          "hoverlabel": {
           "align": "left"
          },
          "hovermode": "closest",
          "mapbox": {
           "style": "light"
          },
          "paper_bgcolor": "white",
          "plot_bgcolor": "#E5ECF6",
          "polar": {
           "angularaxis": {
            "gridcolor": "white",
            "linecolor": "white",
            "ticks": ""
           },
           "bgcolor": "#E5ECF6",
           "radialaxis": {
            "gridcolor": "white",
            "linecolor": "white",
            "ticks": ""
           }
          },
          "scene": {
           "xaxis": {
            "backgroundcolor": "#E5ECF6",
            "gridcolor": "white",
            "gridwidth": 2,
            "linecolor": "white",
            "showbackground": true,
            "ticks": "",
            "zerolinecolor": "white"
           },
           "yaxis": {
            "backgroundcolor": "#E5ECF6",
            "gridcolor": "white",
            "gridwidth": 2,
            "linecolor": "white",
            "showbackground": true,
            "ticks": "",
            "zerolinecolor": "white"
           },
           "zaxis": {
            "backgroundcolor": "#E5ECF6",
            "gridcolor": "white",
            "gridwidth": 2,
            "linecolor": "white",
            "showbackground": true,
            "ticks": "",
            "zerolinecolor": "white"
           }
          },
          "shapedefaults": {
           "line": {
            "color": "#2a3f5f"
           }
          },
          "ternary": {
           "aaxis": {
            "gridcolor": "white",
            "linecolor": "white",
            "ticks": ""
           },
           "baxis": {
            "gridcolor": "white",
            "linecolor": "white",
            "ticks": ""
           },
           "bgcolor": "#E5ECF6",
           "caxis": {
            "gridcolor": "white",
            "linecolor": "white",
            "ticks": ""
           }
          },
          "title": {
           "x": 0.05
          },
          "xaxis": {
           "automargin": true,
           "gridcolor": "white",
           "linecolor": "white",
           "ticks": "",
           "title": {
            "standoff": 15
           },
           "zerolinecolor": "white",
           "zerolinewidth": 2
          },
          "yaxis": {
           "automargin": true,
           "gridcolor": "white",
           "linecolor": "white",
           "ticks": "",
           "title": {
            "standoff": 15
           },
           "zerolinecolor": "white",
           "zerolinewidth": 2
          }
         }
        }
       }
      }
     },
     "metadata": {},
     "output_type": "display_data"
    }
   ],
   "source": [
    "import plotly.graph_objects as go\n",
    "x=np.outer(np.linspace(-2,2,30),np.ones(30))\n",
    "y=x.copy().T\n",
    "z=np.cos(x**2 + y**2)\n",
    "\n",
    "fg=go.Figure(data=[go.Surface(x=x,y=y,z=z)])\n",
    "fg.show()"
   ]
  },
  {
   "cell_type": "code",
   "execution_count": null,
   "metadata": {},
   "outputs": [],
   "source": []
  }
 ],
 "metadata": {
  "kernelspec": {
   "display_name": "Python 3",
   "language": "python",
   "name": "python3"
  },
  "language_info": {
   "codemirror_mode": {
    "name": "ipython",
    "version": 3
   },
   "file_extension": ".py",
   "mimetype": "text/x-python",
   "name": "python",
   "nbconvert_exporter": "python",
   "pygments_lexer": "ipython3",
   "version": "3.10.4"
  }
 },
 "nbformat": 4,
 "nbformat_minor": 2
}
