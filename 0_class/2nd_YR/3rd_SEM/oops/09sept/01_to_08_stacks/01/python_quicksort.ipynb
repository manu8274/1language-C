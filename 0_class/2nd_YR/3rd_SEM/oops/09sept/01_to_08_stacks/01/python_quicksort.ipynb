{
 "cells": [
  {
   "cell_type": "code",
   "execution_count": 4,
   "metadata": {},
   "outputs": [
    {
     "name": "stdout",
     "output_type": "stream",
     "text": [
      "1 2 3 4 5\n"
     ]
    }
   ],
   "source": [
    "def part(lst,l,r):\n",
    "    fav=lst[r]\n",
    "    i=l-1\n",
    "    for j in range(l,r):\n",
    "        if(lst[j]<=fav):\n",
    "            i+=1\n",
    "            lst[i],lst[j]=lst[j],lst[i]\n",
    "    lst[i+1],lst[r]=lst[r],lst[i+1]\n",
    "    return 1+i\n",
    "\n",
    "def qs(lst,l,r):\n",
    "    if(l<r):\n",
    "        pi=part(lst,l,r)\n",
    "\n",
    "        qs(lst,l,pi-1)\n",
    "\n",
    "        qs(lst,pi+1,r)\n",
    "\n",
    "lst=list(map(int,input().split()))\n",
    "n=len(lst)\n",
    "qs(lst,0,n-1)\n",
    "print(*(lst[0:]))"
   ]
  },
  {
   "cell_type": "code",
   "execution_count": null,
   "metadata": {},
   "outputs": [],
   "source": []
  }
 ],
 "metadata": {
  "kernelspec": {
   "display_name": "Python 3",
   "language": "python",
   "name": "python3"
  },
  "language_info": {
   "codemirror_mode": {
    "name": "ipython",
    "version": 3
   },
   "file_extension": ".py",
   "mimetype": "text/x-python",
   "name": "python",
   "nbconvert_exporter": "python",
   "pygments_lexer": "ipython3",
   "version": "3.11.5"
  },
  "orig_nbformat": 4
 },
 "nbformat": 4,
 "nbformat_minor": 2
}
