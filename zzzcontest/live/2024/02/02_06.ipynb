{
 "cells": [
  {
   "cell_type": "code",
   "execution_count": 2,
   "metadata": {},
   "outputs": [
    {
     "name": "stdout",
     "output_type": "stream",
     "text": [
      "4\n"
     ]
    }
   ],
   "source": [
    "for _ in range(int(input())):\n",
    "    n=int(input())\n",
    "    s=input()\n",
    "    start=-1\n",
    "    end=-1\n",
    "    if(s.count('B')<=1):\n",
    "        print(s.count('B'))\n",
    "    else:\n",
    "        for i in range(n):\n",
    "            if(s[i]=='B'):\n",
    "                if(start==-1):\n",
    "                    start=i\n",
    "                else:\n",
    "                    end=i\n",
    "        print(end-start+1)"
   ]
  },
  {
   "cell_type": "code",
   "execution_count": 8,
   "metadata": {},
   "outputs": [
    {
     "name": "stdout",
     "output_type": "stream",
     "text": [
      "abcadaeabca\n"
     ]
    }
   ],
   "source": [
    "for _ in range(int(input())):\n",
    "    n=int(input())\n",
    "    lst=list(map(int,input().split()))\n",
    "    d={chr(k):-1 for k in range(97,123)}\n",
    "    s=\"\"\n",
    "    for i in lst:\n",
    "        for j in d:\n",
    "            if(d[j]==i-1):\n",
    "                s+=j\n",
    "                d[j]+=1\n",
    "                break\n",
    "    print(s)"
   ]
  },
  {
   "cell_type": "code",
   "execution_count": null,
   "metadata": {},
   "outputs": [],
   "source": [
    "for _ in range(int(input())):\n",
    "    n,m,k=map(int,input().split())\n",
    "    lst1=list(map(int,input().split()))\n",
    "    lst2=list(map(int,input().split()))\n",
    "    flag=True\n",
    "    l1,l2=0,0\n",
    "    for i in range(1,k+1):\n",
    "        if(i not in lst1 and i in lst2):\n",
    "            l2+=1\n",
    "        elif(i not in lst2 and i in lst1):\n",
    "            l1+=1\n",
    "    if(l1==k//2 and l2==k//2):\n",
    "        print(\"YES\")\n",
    "    else:\n",
    "        print(\"NO\")"
   ]
  },
  {
   "cell_type": "code",
   "execution_count": 14,
   "metadata": {},
   "outputs": [
    {
     "name": "stdout",
     "output_type": "stream",
     "text": [
      "1 2\n",
      "1 2\n",
      "2 3\n",
      "2 3\n"
     ]
    }
   ],
   "source": [
    "for _ in range(int(input())):\n",
    "    n=int(input())\n",
    "    lst=list(map(int,input().split()))\n",
    "    q=int(input())\n",
    "    for i in range(q):\n",
    "        l,r=map(int,input().split())\n",
    "        sum1=0\n",
    "        c=0\n",
    "        flag=True\n",
    "        r1,r2=0,0\n",
    "        if(r!=n):\n",
    "            r=r+1\n",
    "        for j in range(l,r):\n",
    "            sum1+=lst[j]\n",
    "            c=1\n",
    "            if(sum1//c!=lst[j]):\n",
    "                r1,r2=j-1,j\n",
    "                flag=False\n",
    "                break\n",
    "        if(flag==True):\n",
    "            print(-1,-1)\n",
    "        else:\n",
    "            print(r1,r2)"
   ]
  },
  {
   "cell_type": "code",
   "execution_count": null,
   "metadata": {},
   "outputs": [],
   "source": []
  }
 ],
 "metadata": {
  "kernelspec": {
   "display_name": "Python 3",
   "language": "python",
   "name": "python3"
  },
  "language_info": {
   "codemirror_mode": {
    "name": "ipython",
    "version": 3
   },
   "file_extension": ".py",
   "mimetype": "text/x-python",
   "name": "python",
   "nbconvert_exporter": "python",
   "pygments_lexer": "ipython3",
   "version": "3.10.4"
  }
 },
 "nbformat": 4,
 "nbformat_minor": 2
}
