{
 "cells": [
  {
   "cell_type": "code",
   "execution_count": null,
   "metadata": {},
   "outputs": [],
   "source": [
    "def fun1(n,lst):\n",
    "    if (n==1):\n",
    "        return lst[0]\n",
    "    pos=0\n",
    "    neg=0\n",
    "    c=0\n",
    "    for i in range(0,n):\n",
    "        if(lst[i]>0):\n",
    "            pos+=(i+1)*lst[i]\n",
    "            c+=1\n",
    "        else:\n",
    "            neg+=1\n",
    "    if(c==n):\n",
    "        return(pos)\n",
    "    elif(neg==n):\n",
    "        return sum(lst)\n",
    "    else:\n",
    "        \n",
    "\n",
    "for _ in range(int(input())):\n",
    "    n=int(input())\n",
    "    lst=list(map(int,input().split()))\n",
    "    print(fun1(n,lst))"
   ]
  }
 ],
 "metadata": {
  "language_info": {
   "name": "python"
  }
 },
 "nbformat": 4,
 "nbformat_minor": 2
}
