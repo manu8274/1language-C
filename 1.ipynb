{
 "cells": [
  {
   "cell_type": "code",
   "execution_count": 12,
   "metadata": {},
   "outputs": [
    {
     "name": "stdout",
     "output_type": "stream",
     "text": [
      "{1, 2, 3, 4, 5, 6, 8, 9}\n",
      "3\n"
     ]
    }
   ],
   "source": [
    "import random\n",
    "s=set([1,2,4,5,3,9,8,6])\n",
    "print(s)\n",
    "s.add(2)\n",
    "# print(s[random.randint(1,len(s))])\n",
    "print(random.choice(list(s)))"
   ]
  },
  {
   "cell_type": "code",
   "execution_count": 3,
   "metadata": {},
   "outputs": [
    {
     "name": "stdout",
     "output_type": "stream",
     "text": [
      "[[-2, 0, 2]]\n"
     ]
    }
   ],
   "source": [
    "nums=[-2,0,1,1,2]\n",
    "l=[]\n",
    "for i in nums:\n",
    "    if(i==0):\n",
    "        if(nums.count(0)>=3):\n",
    "            if([0,0,0] not in l):\n",
    "                l.append([0,0,0])\n",
    "    else:\n",
    "        if(-i in nums and 0 in nums):\n",
    "            if([i,0,-i] not in l and [i,-i,0] not in l and [0,i,-i] not in l and [0,-i,i] not in l and [-i,0,i] not in l and [-i,i,0] not in l):\n",
    "                l.append([i,0,-i])\n",
    "        else:\n",
    "            if(i%2==0):\n",
    "                if(nums.count(-i//2)>=2):\n",
    "                    if([i,-i//2,-i//2] not in l and [-i//2,i,-i//2]not in l and [-i//2,-i//2,i] not in l):\n",
    "                        l.append([i,-i//2,-i//2])\n",
    "            else:\n",
    "                a=i//2\n",
    "                b=i//2 +1\n",
    "                if(-a in nums and -b in nums):\n",
    "                    if([i,-b,-a] not in l and [i,-a,-b] not in l and [-a,-b,i] not in l and [-a,i,-b] not in l and [-b,-a,i] not in l and [-b,i,-a] not in l):\n",
    "                        l.append([i,-b,-a])\n",
    "print( l)"
   ]
  },
  {
   "cell_type": "code",
   "execution_count": null,
   "metadata": {},
   "outputs": [],
   "source": []
  }
 ],
 "metadata": {
  "kernelspec": {
   "display_name": "Python 3",
   "language": "python",
   "name": "python3"
  },
  "language_info": {
   "codemirror_mode": {
    "name": "ipython",
    "version": 3
   },
   "file_extension": ".py",
   "mimetype": "text/x-python",
   "name": "python",
   "nbconvert_exporter": "python",
   "pygments_lexer": "ipython3",
   "version": "3.10.4"
  }
 },
 "nbformat": 4,
 "nbformat_minor": 2
}
