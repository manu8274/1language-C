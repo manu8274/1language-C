{
 "cells": [
  {
   "cell_type": "code",
   "execution_count": 2,
   "metadata": {},
   "outputs": [
    {
     "ename": "TypeError",
     "evalue": "dict.keys() takes no arguments (1 given)",
     "output_type": "error",
     "traceback": [
      "\u001b[1;31m---------------------------------------------------------------------------\u001b[0m",
      "\u001b[1;31mTypeError\u001b[0m                                 Traceback (most recent call last)",
      "Cell \u001b[1;32mIn[2], line 2\u001b[0m\n\u001b[0;32m      1\u001b[0m d \u001b[38;5;241m=\u001b[39m {\u001b[38;5;241m1\u001b[39m: \u001b[38;5;241m1\u001b[39m, \u001b[38;5;241m2\u001b[39m: \u001b[38;5;241m2\u001b[39m}\n\u001b[1;32m----> 2\u001b[0m \u001b[38;5;28;01mif\u001b[39;00m \u001b[43md\u001b[49m\u001b[38;5;241;43m.\u001b[39;49m\u001b[43mkeys\u001b[49m\u001b[43m(\u001b[49m\u001b[38;5;241;43m3\u001b[39;49m\u001b[43m)\u001b[49m:\n\u001b[0;32m      3\u001b[0m     \u001b[38;5;28mprint\u001b[39m(\u001b[38;5;124m\"\u001b[39m\u001b[38;5;124mTV\u001b[39m\u001b[38;5;124m\"\u001b[39m)\n",
      "\u001b[1;31mTypeError\u001b[0m: dict.keys() takes no arguments (1 given)"
     ]
    }
   ],
   "source": [
    "d = {1: 1, 2: 2}\n",
    "if d.keys(3):\n",
    "    print(\"TV\")"
   ]
  },
  {
   "cell_type": "code",
   "execution_count": 5,
   "metadata": {},
   "outputs": [
    {
     "ename": "KeyError",
     "evalue": "-1",
     "output_type": "error",
     "traceback": [
      "\u001b[1;31m---------------------------------------------------------------------------\u001b[0m",
      "\u001b[1;31mKeyError\u001b[0m                                  Traceback (most recent call last)",
      "Cell \u001b[1;32mIn[5], line 14\u001b[0m\n\u001b[0;32m     12\u001b[0m         \u001b[38;5;28;01mif\u001b[39;00m([\u001b[38;5;241m0\u001b[39m,\u001b[38;5;241m0\u001b[39m,\u001b[38;5;241m0\u001b[39m] \u001b[38;5;129;01mnot\u001b[39;00m \u001b[38;5;129;01min\u001b[39;00m l):\n\u001b[0;32m     13\u001b[0m             l\u001b[38;5;241m.\u001b[39mappend([\u001b[38;5;241m0\u001b[39m,\u001b[38;5;241m0\u001b[39m,\u001b[38;5;241m0\u001b[39m])\n\u001b[1;32m---> 14\u001b[0m \u001b[38;5;28;01melif\u001b[39;00m(i\u001b[38;5;241m==\u001b[39m\u001b[38;5;241m1\u001b[39m \u001b[38;5;129;01mand\u001b[39;00m \u001b[43md\u001b[49m\u001b[43m[\u001b[49m\u001b[38;5;241;43m-\u001b[39;49m\u001b[38;5;241;43m1\u001b[39;49m\u001b[43m]\u001b[49m\u001b[38;5;241m>\u001b[39m\u001b[38;5;241m=\u001b[39m\u001b[38;5;241m1\u001b[39m \u001b[38;5;129;01mand\u001b[39;00m d[\u001b[38;5;241m0\u001b[39m]\u001b[38;5;241m>\u001b[39m\u001b[38;5;241m=\u001b[39m\u001b[38;5;241m1\u001b[39m):\n\u001b[0;32m     15\u001b[0m     \u001b[38;5;28;01mif\u001b[39;00m([\u001b[38;5;241m-\u001b[39m\u001b[38;5;241m1\u001b[39m,\u001b[38;5;241m0\u001b[39m,\u001b[38;5;241m1\u001b[39m]) \u001b[38;5;129;01mnot\u001b[39;00m \u001b[38;5;129;01min\u001b[39;00m l:\n\u001b[0;32m     16\u001b[0m         l\u001b[38;5;241m.\u001b[39mappend([\u001b[38;5;241m-\u001b[39m\u001b[38;5;241m1\u001b[39m,\u001b[38;5;241m0\u001b[39m,\u001b[38;5;241m1\u001b[39m])\n",
      "\u001b[1;31mKeyError\u001b[0m: -1"
     ]
    }
   ],
   "source": [
    "nums=[0,1,1]\n",
    "l=[]\n",
    "d={}\n",
    "for i in nums:\n",
    "    if i not in d:\n",
    "        d[i]=1\n",
    "    else:\n",
    "        d[i]+=1\n",
    "for i in nums:\n",
    "    if(i==0):\n",
    "        if(d[i]>2):\n",
    "            if([0,0,0] not in l):\n",
    "                l.append([0,0,0])\n",
    "    elif(i==1 and d[-1]>=1 and d[0]>=1):\n",
    "        if([-1,0,1]) not in l:\n",
    "            l.append([-1,0,1])\n",
    "    elif(i==-1 and d[1]>=1 and d[0]>=1):\n",
    "        if([-1,0,1]) not in l:\n",
    "            l.append([-1,0,1])\n",
    "    else:\n",
    "        if(d[0]>=1):\n",
    "            if(-i in d):\n",
    "                if([-i,0,i]):\n",
    "                    if([i,0,-i]not in l):\n",
    "                        l.append([-i,0,i])\n",
    "        if(i>1):\n",
    "            for j in range(1,i):\n",
    "                a=i-j\n",
    "                if(a==j):\n",
    "                    if(d[-a]>=2):\n",
    "                        if([i,-a,-j] not in l):\n",
    "                            if([i,-j,-a] not in l):\n",
    "                                l.append([i,-a,-j])\n",
    "                else:\n",
    "                    if(-a in d):\n",
    "                        if(-j in d):\n",
    "                            if([i,-a,-j] not in l):\n",
    "                                if([i,-j,-a] not in l):\n",
    "                                    l.append([i,-a,-j])\n",
    "        else:\n",
    "            for j in range(-1,i,-1):\n",
    "                a=i-j\n",
    "                if(a==j):\n",
    "                    if(-a in d and d[-a]>=2):\n",
    "                        if([i,-a,-j] not in l):\n",
    "                            if([i,-j,-a] not in l):\n",
    "                                l.append([i,-a,-j])\n",
    "                else:\n",
    "                    if(-a in d):\n",
    "                        if(-j in d):\n",
    "                            if([i,-a,-j] not in l):\n",
    "                                if([i,-j,-a] not in l):\n",
    "                                    l.append([i,-a,-j])\n",
    "print(l)"
   ]
  }
 ],
 "metadata": {
  "kernelspec": {
   "display_name": "Python 3",
   "language": "python",
   "name": "python3"
  },
  "language_info": {
   "codemirror_mode": {
    "name": "ipython",
    "version": 3
   },
   "file_extension": ".py",
   "mimetype": "text/x-python",
   "name": "python",
   "nbconvert_exporter": "python",
   "pygments_lexer": "ipython3",
   "version": "3.10.4"
  }
 },
 "nbformat": 4,
 "nbformat_minor": 2
}
