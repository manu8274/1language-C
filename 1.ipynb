{
 "cells": [
  {
   "cell_type": "code",
   "execution_count": 1,
   "metadata": {},
   "outputs": [
    {
     "ename": "KeyboardInterrupt",
     "evalue": "",
     "output_type": "error",
     "traceback": [
      "\u001b[1;31m---------------------------------------------------------------------------\u001b[0m",
      "\u001b[1;31mKeyboardInterrupt\u001b[0m                         Traceback (most recent call last)",
      "\u001b[1;32mc:\\Users\\manu1\\Desktop\\1language-C\\1language-C\\1.ipynb Cell 1\u001b[0m line \u001b[0;36m8\n\u001b[0;32m      <a href='vscode-notebook-cell:/c%3A/Users/manu1/Desktop/1language-C/1language-C/1.ipynb#W0sZmlsZQ%3D%3D?line=5'>6</a>\u001b[0m     x\u001b[39m=\u001b[39mx\u001b[39m*\u001b[39m\u001b[39m10\u001b[39m \u001b[39m+\u001b[39m random\u001b[39m.\u001b[39mrandint(\u001b[39m1\u001b[39m,\u001b[39m9\u001b[39m)\n\u001b[0;32m      <a href='vscode-notebook-cell:/c%3A/Users/manu1/Desktop/1language-C/1language-C/1.ipynb#W0sZmlsZQ%3D%3D?line=6'>7</a>\u001b[0m pg\u001b[39m.\u001b[39mwrite(\u001b[39m\"\u001b[39m\u001b[39mhello \u001b[39m\u001b[39m\\n\u001b[39;00m\u001b[39myour otp is \u001b[39m\u001b[39m\"\u001b[39m\u001b[39m+\u001b[39m\u001b[39mstr\u001b[39m(x))\n\u001b[1;32m----> <a href='vscode-notebook-cell:/c%3A/Users/manu1/Desktop/1language-C/1language-C/1.ipynb#W0sZmlsZQ%3D%3D?line=7'>8</a>\u001b[0m pg\u001b[39m.\u001b[39;49mpress(\u001b[39m\"\u001b[39;49m\u001b[39menter\u001b[39;49m\u001b[39m\"\u001b[39;49m)\n",
      "File \u001b[1;32m~\\AppData\\Local\\Packages\\PythonSoftwareFoundation.Python.3.11_qbz5n2kfra8p0\\LocalCache\\local-packages\\Python311\\site-packages\\pyautogui\\__init__.py:595\u001b[0m, in \u001b[0;36m_genericPyAutoGUIChecks.<locals>.wrapper\u001b[1;34m(*args, **kwargs)\u001b[0m\n\u001b[0;32m    593\u001b[0m failSafeCheck()\n\u001b[0;32m    594\u001b[0m returnVal \u001b[39m=\u001b[39m wrappedFunction(\u001b[39m*\u001b[39margs, \u001b[39m*\u001b[39m\u001b[39m*\u001b[39mkwargs)\n\u001b[1;32m--> 595\u001b[0m _handlePause(kwargs\u001b[39m.\u001b[39;49mget(\u001b[39m\"\u001b[39;49m\u001b[39m_pause\u001b[39;49m\u001b[39m\"\u001b[39;49m, \u001b[39mTrue\u001b[39;49;00m))\n\u001b[0;32m    596\u001b[0m \u001b[39mreturn\u001b[39;00m returnVal\n",
      "File \u001b[1;32m~\\AppData\\Local\\Packages\\PythonSoftwareFoundation.Python.3.11_qbz5n2kfra8p0\\LocalCache\\local-packages\\Python311\\site-packages\\pyautogui\\__init__.py:639\u001b[0m, in \u001b[0;36m_handlePause\u001b[1;34m(_pause)\u001b[0m\n\u001b[0;32m    637\u001b[0m \u001b[39mif\u001b[39;00m _pause:\n\u001b[0;32m    638\u001b[0m     \u001b[39massert\u001b[39;00m \u001b[39misinstance\u001b[39m(PAUSE, \u001b[39mint\u001b[39m) \u001b[39mor\u001b[39;00m \u001b[39misinstance\u001b[39m(PAUSE, \u001b[39mfloat\u001b[39m)\n\u001b[1;32m--> 639\u001b[0m     time\u001b[39m.\u001b[39msleep(PAUSE)\n",
      "\u001b[1;31mKeyboardInterrupt\u001b[0m: "
     ]
    }
   ],
   "source": [
    "import pyautogui as pg\n",
    "import random\n",
    "for i in range(100):\n",
    "    x=0\n",
    "    for i in range(4):\n",
    "        x=x*10 + random.randint(1,9)\n",
    "    pg.write(\"hello \\nyour otp is \"+str(x))\n",
    "    pg.press(\"enter\")"
   ]
  },
  {
   "cell_type": "code",
   "execution_count": 2,
   "metadata": {},
   "outputs": [
    {
     "name": "stdout",
     "output_type": "stream",
     "text": [
      "1243\n"
     ]
    }
   ],
   "source": [
    "n=1234\n",
    "s=str(n)\n",
    "r=s\n",
    "flag=True\n",
    "while(len(s)>0 and flag):\n",
    "    if s.index(max(s))==0:\n",
    "        s=s[i+1:]\n",
    "        print(s)\n",
    "    else:\n",
    "        flag=False\n",
    "if(flag):\n",
    "    print (-1)\n",
    "else:\n",
    "    x=list(r)\n",
    "    x.reverse()\n",
    "    for i in range(len(x)-1):\n",
    "        if(x[i] > x[i+1]):\n",
    "            x[i],x[i+1]=x[i+1],x[i]\n",
    "            break\n",
    "    x.reverse()\n",
    "    d=int(''.join(x))\n",
    "    print(d)"
   ]
  },
  {
   "cell_type": "code",
   "execution_count": 11,
   "metadata": {},
   "outputs": [
    {
     "name": "stdout",
     "output_type": "stream",
     "text": [
      "312\n"
     ]
    }
   ],
   "source": [
    "n=230421\n",
    "# ans=230421 ki jagah 230412\n",
    "s=str(n)\n",
    "r=sorted(s)\n",
    "r=''.join(r)\n",
    "r=r[::-1]\n",
    "if(s==r):\n",
    "    print(-1)\n",
    "else:\n",
    "    t=''\n",
    "    x=''\n",
    "    for i in range(1,len(s)):\n",
    "        if(s[-i]>s[-i-1]):\n",
    "            t=s[:-i-1]\n",
    "            x=s[-i-1:]\n",
    "            break\n",
    "    x=sorted(x)\n",
    "    t+=x[-1]\n",
    "    for i in range(len(x)-1):\n",
    "        t+=x[i]\n",
    "    print(t)"
   ]
  },
  {
   "cell_type": "code",
   "execution_count": 33,
   "metadata": {},
   "outputs": [
    {
     "name": "stdout",
     "output_type": "stream",
     "text": [
      "2147483647\n"
     ]
    }
   ],
   "source": [
    "n=2147483476\n",
    "# ans=312 ki jagah 213\n",
    "s=str(n)\n",
    "r=sorted(s)\n",
    "r=''.join(r)\n",
    "r=r[::-1]\n",
    "if(s==r):\n",
    "    print(-1)\n",
    "else:\n",
    "    t=''\n",
    "    x=''\n",
    "    f=0\n",
    "    for i in range(1,len(s)):\n",
    "        if(s[-i]>s[-i-1]):\n",
    "            t=s[:-i-1]\n",
    "            x=s[-i-1:]\n",
    "            f=-i-1\n",
    "            break\n",
    "    x=sorted(x)\n",
    "    for i in x:\n",
    "        if(s[f]<i):\n",
    "            t+=i\n",
    "            x.remove(i)\n",
    "            break\n",
    "    for i in x:\n",
    "        t+=i\n",
    "    t=int(t)\n",
    "    if(t>pow(2,31)-1):\n",
    "        print (-1)\n",
    "    else:\n",
    "        print(t)"
   ]
  },
  {
   "cell_type": "code",
   "execution_count": 24,
   "metadata": {},
   "outputs": [
    {
     "name": "stdout",
     "output_type": "stream",
     "text": [
      "True\n"
     ]
    }
   ],
   "source": [
    "t='123'\n",
    "y='123'\n",
    "print(t[-1]>y[-2])"
   ]
  },
  {
   "cell_type": "code",
   "execution_count": null,
   "metadata": {},
   "outputs": [],
   "source": []
  }
 ],
 "metadata": {
  "kernelspec": {
   "display_name": "Python 3",
   "language": "python",
   "name": "python3"
  },
  "language_info": {
   "codemirror_mode": {
    "name": "ipython",
    "version": 3
   },
   "file_extension": ".py",
   "mimetype": "text/x-python",
   "name": "python",
   "nbconvert_exporter": "python",
   "pygments_lexer": "ipython3",
   "version": "3.11.6"
  },
  "orig_nbformat": 4
 },
 "nbformat": 4,
 "nbformat_minor": 2
}
