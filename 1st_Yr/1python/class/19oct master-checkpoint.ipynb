{
 "cells": [
  {
   "cell_type": "code",
   "execution_count": 3,
   "id": "d6b3d85c",
   "metadata": {},
   "outputs": [
    {
     "name": "stdout",
     "output_type": "stream",
     "text": [
      "hello How are you\n"
     ]
    }
   ],
   "source": [
    "def greeting():\n",
    "    print(\"hello How are you\")\n",
    "    \n",
    "\n",
    "greeting()"
   ]
  },
  {
   "cell_type": "code",
   "execution_count": 6,
   "id": "a1cc70b3",
   "metadata": {},
   "outputs": [
    {
     "name": "stdout",
     "output_type": "stream",
     "text": [
      "hello abc How are you\n"
     ]
    }
   ],
   "source": [
    "def greeting(name):\n",
    "    print(\"hello {} How are you\".format(name))\n",
    "    \n",
    "\n",
    "greeting(\"abc\")"
   ]
  },
  {
   "cell_type": "code",
   "execution_count": 12,
   "id": "f71be411",
   "metadata": {},
   "outputs": [
    {
     "name": "stdout",
     "output_type": "stream",
     "text": [
      "5040 362880\n"
     ]
    }
   ],
   "source": [
    "def factorial(n):\n",
    "    fact=1\n",
    "    for i in range(1,n+1):\n",
    "        fact=fact*i\n",
    "    return(fact)\n",
    "\n",
    "x=factorial(7)\n",
    "y=factorial(9)\n",
    "print(x,y)"
   ]
  },
  {
   "cell_type": "code",
   "execution_count": 13,
   "id": "92109011",
   "metadata": {},
   "outputs": [
    {
     "data": {
      "text/plain": [
       "10"
      ]
     },
     "execution_count": 13,
     "metadata": {},
     "output_type": "execute_result"
    }
   ],
   "source": [
    "def count(n):\n",
    "    c=0\n",
    "    while (n>0):\n",
    "        n=n//10\n",
    "        c+=1\n",
    "    return(c)\n",
    "\n",
    "count(1564378567)"
   ]
  },
  {
   "cell_type": "code",
   "execution_count": 14,
   "id": "d45a79c3",
   "metadata": {},
   "outputs": [],
   "source": [
    "def sumofdigit(n):\n",
    "    s=0\n",
    "    while (n>0):\n",
    "        s=s+n%10\n",
    "        n=n//10\n",
    "    return(s)"
   ]
  },
  {
   "cell_type": "code",
   "execution_count": 15,
   "id": "796ed489",
   "metadata": {},
   "outputs": [
    {
     "data": {
      "text/plain": [
       "6"
      ]
     },
     "execution_count": 15,
     "metadata": {},
     "output_type": "execute_result"
    }
   ],
   "source": [
    "sumofdigit(123)"
   ]
  },
  {
   "cell_type": "code",
   "execution_count": 17,
   "id": "6f63a9ce",
   "metadata": {},
   "outputs": [
    {
     "data": {
      "text/plain": [
       "209"
      ]
     },
     "execution_count": 17,
     "metadata": {},
     "output_type": "execute_result"
    }
   ],
   "source": [
    "sumofdigit(458276987665438796129873567565098252234)"
   ]
  },
  {
   "cell_type": "code",
   "execution_count": 24,
   "id": "267fdcb9",
   "metadata": {},
   "outputs": [
    {
     "name": "stdout",
     "output_type": "stream",
     "text": [
      "9\n",
      "6\n"
     ]
    }
   ],
   "source": [
    "def add(a,b):\n",
    "    return(a+b)\n",
    "\n",
    "#main\n",
    "print(add(4,5))\n",
    "print(add(2,4))"
   ]
  },
  {
   "cell_type": "code",
   "execution_count": 23,
   "id": "0bd6a482",
   "metadata": {},
   "outputs": [
    {
     "data": {
      "text/plain": [
       "12"
      ]
     },
     "execution_count": 23,
     "metadata": {},
     "output_type": "execute_result"
    }
   ],
   "source": [
    "add(5,add(3,4))"
   ]
  },
  {
   "cell_type": "code",
   "execution_count": 26,
   "id": "a236c277",
   "metadata": {},
   "outputs": [
    {
     "data": {
      "text/plain": [
       "35"
      ]
     },
     "execution_count": 26,
     "metadata": {},
     "output_type": "execute_result"
    }
   ],
   "source": [
    "add(add(5,add(9,6)),add(add(5,4),6))"
   ]
  },
  {
   "cell_type": "code",
   "execution_count": 31,
   "id": "91902f37",
   "metadata": {},
   "outputs": [
    {
     "name": "stdout",
     "output_type": "stream",
     "text": [
      "Roll No.        = 22\n",
      "Name of Student = manu\n",
      "University Name = chitkara\n"
     ]
    }
   ],
   "source": [
    "def printinfo(roll,name,uni):\n",
    "    print(\"Roll No.        = \"+str(roll))\n",
    "    print(\"Name of Student = \"+name)\n",
    "    print(\"University Name = \"+uni)\n",
    "    \n",
    "printinfo(22,\"manu\",\"chitkara\")"
   ]
  },
  {
   "cell_type": "code",
   "execution_count": 41,
   "id": "0c4ac552",
   "metadata": {},
   "outputs": [
    {
     "name": "stdout",
     "output_type": "stream",
     "text": [
      "Roll No.        = 22\n",
      "Name of Student = a\n",
      "University Name = ab\n"
     ]
    }
   ],
   "source": [
    "def printinfo(roll,name,uni):\n",
    "    print(\"Roll No.        = \"+str(roll))\n",
    "    print(\"Name of Student = \"+str(name))\n",
    "    print(\"University Name = \"+str(uni))\n",
    "    \n",
    "printinfo(22,chr(97),chr(97)+chr(98))"
   ]
  },
  {
   "cell_type": "code",
   "execution_count": 48,
   "id": "0c1c91c4",
   "metadata": {},
   "outputs": [
    {
     "name": "stdout",
     "output_type": "stream",
     "text": [
      "24\n"
     ]
    }
   ],
   "source": [
    "def addthree(a=199,b=10,c=19):\n",
    "    print(a+b+c)\n",
    "    \n",
    "addthree(2,3)"
   ]
  },
  {
   "cell_type": "code",
   "execution_count": 53,
   "id": "e3bcfdb5",
   "metadata": {},
   "outputs": [
    {
     "name": "stdout",
     "output_type": "stream",
     "text": [
      "I am Manu.I am your host\n",
      "Hello Mr.Ram,Welcome to Chitkatra\n",
      "Hello Mr.Raman,Welcome to Chitkatra\n",
      "Hello Mr.Raj,Welcome to Chitkatra\n",
      "Hello Mr.Manav,Welcome to Chitkatra\n",
      "Hello Mr.Rahul,Welcome to Chitkatra\n"
     ]
    }
   ],
   "source": [
    "def greet(host,uni,*guest):\n",
    "    print(\"I am {}.I am your host\".format(host))\n",
    "    for i in guest:\n",
    "        print(\"Hello Mr.{},Welcome to {}\".format(i,uni))\n",
    "        \n",
    "        \n",
    "greet(\"Manu\",\"Chitkatra\",\"Ram\",\"Raman\",\"Raj\",\"Manav\",\"Rahul\")"
   ]
  },
  {
   "cell_type": "code",
   "execution_count": null,
   "id": "79054c7c",
   "metadata": {},
   "outputs": [],
   "source": []
  }
 ],
 "metadata": {
  "kernelspec": {
   "display_name": "Python 3 (ipykernel)",
   "language": "python",
   "name": "python3"
  },
  "language_info": {
   "codemirror_mode": {
    "name": "ipython",
    "version": 3
   },
   "file_extension": ".py",
   "mimetype": "text/x-python",
   "name": "python",
   "nbconvert_exporter": "python",
   "pygments_lexer": "ipython3",
   "version": "3.9.12"
  }
 },
 "nbformat": 4,
 "nbformat_minor": 5
}
