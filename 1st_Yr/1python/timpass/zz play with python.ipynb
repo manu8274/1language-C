{
 "cells": [
  {
   "cell_type": "code",
   "execution_count": 5,
   "id": "c96cbba2",
   "metadata": {},
   "outputs": [
    {
     "name": "stdout",
     "output_type": "stream",
     "text": [
      "hlo\n",
      "Enter\n",
      "hlo\n",
      "Enter\n",
      "hlo\n",
      "Enter\n",
      "hlo\n",
      "Enter\n",
      "hlo\n",
      "Enter\n",
      "hlo\n",
      "Enter\n",
      "hlo\n",
      "Enter\n",
      "hlo\n",
      "Enter\n",
      "hlo\n",
      "Enter\n",
      "hlo\n",
      "Enter\n"
     ]
    }
   ],
   "source": [
    "for i in range (0,10):\n",
    "    print(\"hlo\")\n",
    "    print(\"Enter\")"
   ]
  },
  {
   "cell_type": "code",
   "execution_count": 6,
   "id": "a137094c",
   "metadata": {},
   "outputs": [
    {
     "name": "stdout",
     "output_type": "stream",
     "text": [
      "500\n",
      "Amount to pay: 3500\n"
     ]
    }
   ],
   "source": [
    "n=int(input())\n",
    "if (n>200):\n",
    "    amount=(n-200)*10+500\n",
    "elif (n>100):\n",
    "    amount=(n-100)*5\n",
    "elif (0<n<100):\n",
    "    print(\"No charge\")\n",
    "else:\n",
    "    quit()\n",
    "print(\"Amount to pay:\",amount)\n",
    "#Manasvi Group J"
   ]
  },
  {
   "cell_type": "code",
   "execution_count": 1,
   "id": "63916d02",
   "metadata": {},
   "outputs": [
    {
     "name": "stdout",
     "output_type": "stream",
     "text": [
      "Think of a number>0 \n",
      "Multiply the number by 5\n",
      "Add 5 to the product \n",
      "Multiply the sum by 2\n",
      "Add 2 to the product\n",
      "The number you thought is: 1\n"
     ]
    }
   ],
   "source": [
    "import time\n",
    "print(\"Think of a number>0 \")\n",
    "time.sleep(1)\n",
    "print(\"Multiply the number by 5\")\n",
    "time.sleep(2)\n",
    "print(\"Add 5 to the product \")\n",
    "time.sleep(2)\n",
    "print(\"Multiply the sum by 2\")\n",
    "time.sleep(2)\n",
    "print(\"Add 2 to the product\")\n",
    "time.sleep(1)\n",
    "z=int(input(\"Enter your answer\"))\n",
    "a=z//10\n",
    "n=a-1\n",
    "print(\"The number you thought is:\",n)"
   ]
  },
  {
   "cell_type": "code",
   "execution_count": null,
   "id": "5b32e70e",
   "metadata": {},
   "outputs": [
    {
     "name": "stdout",
     "output_type": "stream",
     "text": [
      "Your password is your name@123\n",
      "Enter your name:manu\n",
      "Enter your passwrd:manu@123\n",
      "Hello welcome to gk troubles\n",
      "Q1) Who is the president of current India?\n",
      "                a)Mr.Rajeev Ghandhi\n",
      "                b)Mrs.Droupadi Murmu\n",
      "                c)Mr.Narendra Modi\n",
      "                d)Mrs.Sonia Ghandhi\n"
     ]
    }
   ],
   "source": [
    "import time\n",
    "print(\"Your password is your name@123\")\n",
    "time.sleep(1)\n",
    "name=input(\"Enter your name:\")\n",
    "password=input(\"Enter your passwrd:\")\n",
    "score=0\n",
    "question=0\n",
    "cq=0\n",
    "wq=0\n",
    "while (password==name+\"@123\"):\n",
    "    time.sleep(1)\n",
    "    print('''Hello welcome to gk troubles''')\n",
    "    time.sleep(1)\n",
    "    print('''Q1) Who is the president of current India?\n",
    "                a)Mr.Rajeev Ghandhi\n",
    "                b)Mrs.Droupadi Murmu\n",
    "                c)Mr.Narendra Modi\n",
    "                d)Mrs.Sonia Ghandhi''')\n",
    "    ans1=input(\"Enter your answer:\")\n",
    "    if ans1==\"b\":\n",
    "        print(\"correct answer\")\n",
    "        score=score + 2\n",
    "        question+=1\n",
    "        cq+=1\n",
    "    else:\n",
    "        print(\"wrong answer\")\n",
    "        question+=1\n",
    "        wq+=1\n",
    "        break\n",
    "        \n",
    "    time.sleep(1)\n",
    "    print('''Q2)Who is the vice president of current India?\n",
    "                a)Mr.Rajeev Ghandhi\n",
    "                b)Mr.Venkaiah Naidu\n",
    "                c)Mr.Jagdeep Dhankhar\n",
    "                d)Mr.Rahul Ghandhi''')\n",
    "    ans2=input(\"Enter your answer:\")\n",
    "    if ans2==\"c\":\n",
    "        print(\"correct answer\")\n",
    "        score=score+2\n",
    "        question+=1\n",
    "        cq+=1\n",
    "    else:\n",
    "        print(\"wrong answer\")\n",
    "        question+=1\n",
    "        wq+=1\n",
    "        break\n",
    "        \n",
    "    time.sleep(1)\n",
    "    print('''Q3)Who is the foreign minister of current India?\n",
    "                a)Mr.Subrahmanyam Jaishankar\n",
    "                b)Ms.Hina Rabbani Khar\n",
    "                c)Mr.Anil vij\n",
    "                d)Mr. Rajnath Singh ''')\n",
    "    ans3=input(\"Enter your answer:\")\n",
    "    if ans3==\"a\":\n",
    "        print(\"correct answer\")\n",
    "        score=score+2\n",
    "        question+=1\n",
    "        cq+=1\n",
    "    else:\n",
    "        print(\"wrong answer\")\n",
    "        question+=1\n",
    "        wq+=1\n",
    "        break\n",
    "        \n",
    "    time.sleep(1)\n",
    "    print('''Q4)Who is the defence minister of current India?\n",
    "                a)Mr.Manohar Parrikar\n",
    "                b)Ms.Hina Rabbani Khar\n",
    "                c)Ms.Nirmala Sitharaman\n",
    "                d)Mr. Rajnath Singh ''')\n",
    "    ans4=input(\"Enter your answer:\")\n",
    "    if ans4==\"d\":\n",
    "        print(\"correct answer\")\n",
    "        score=score+2\n",
    "        question+=1\n",
    "        cq+=1\n",
    "    else:\n",
    "        print(\"wrong answer\")\n",
    "        question+=1\n",
    "        wq+=1\n",
    "        break\n",
    "        \n",
    "    print('''Q5)Who is the health minister of current India?\n",
    "                a)Dr.Bharati Pravin Pawar \n",
    "                b)Dr.Anil Vij\n",
    "                c)Dr.Mansukh Mandaviya\n",
    "                d)Dr.Harsh Vardhan ''')\n",
    "    ans5=input(\"Enter your answer:\")\n",
    "    if ans5==\"a\":\n",
    "        print(\"correct answer\")\n",
    "        score=score+2\n",
    "        question+=1\n",
    "        cq+=1\n",
    "    else:\n",
    "        print(\"wrong answer\")\n",
    "        question+=1\n",
    "        wq+=1\n",
    "        break\n",
    "        \n",
    "else:\n",
    "    print(\"pls try again\")\n",
    "print(\"Total question attempted:\",question)\n",
    "print(\"number of correct answer:\",cq)\n",
    "print(\"number of wrong answer\",wq)\n",
    "print(\"total score:\",score)"
   ]
  },
  {
   "cell_type": "code",
   "execution_count": 22,
   "id": "2e8f2970",
   "metadata": {},
   "outputs": [
    {
     "name": "stdout",
     "output_type": "stream",
     "text": [
      "         * * * * * * * \n",
      "         * * *   * * *\n",
      "         * *       * *\n",
      "         *           *\n",
      "         * *       * *\n",
      "         * * *   * * *\n",
      "         * * * * * * *\n",
      "* * * * * * * * * * "
     ]
    }
   ],
   "source": [
    "print('''         * * * * * * * \n",
    "         * * *   * * *\n",
    "         * *       * *\n",
    "         *           *\n",
    "         * *       * *\n",
    "         * * *   * * *\n",
    "         * * * * * * *''')\n",
    "n=7\n",
    "if (n%2!=0):\n",
    "    for i in range(0,7):\n",
    "       "
   ]
  },
  {
   "cell_type": "code",
   "execution_count": null,
   "id": "48651176",
   "metadata": {},
   "outputs": [],
   "source": []
  }
 ],
 "metadata": {
  "kernelspec": {
   "display_name": "Python 3 (ipykernel)",
   "language": "python",
   "name": "python3"
  },
  "language_info": {
   "codemirror_mode": {
    "name": "ipython",
    "version": 3
   },
   "file_extension": ".py",
   "mimetype": "text/x-python",
   "name": "python",
   "nbconvert_exporter": "python",
   "pygments_lexer": "ipython3",
   "version": "3.11.5"
  }
 },
 "nbformat": 4,
 "nbformat_minor": 5
}
